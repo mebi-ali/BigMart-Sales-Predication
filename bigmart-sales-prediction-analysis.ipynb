{
 "cells": [
  {
   "cell_type": "markdown",
   "id": "d0ebd668",
   "metadata": {
    "papermill": {
     "duration": 0.008036,
     "end_time": "2022-11-30T13:35:55.309055",
     "exception": false,
     "start_time": "2022-11-30T13:35:55.301019",
     "status": "completed"
    },
    "tags": []
   },
   "source": [
    "# BigMart Sales Prediction\n",
    "\n",
    "### Problem Statement\n",
    "#### The data scientists at BigMart have collected 2013 sales data for 1559 products across 10 stores in different cities. Also, certain attributes of each product and store have been defined. The aim of this data science project is to build a predictive model and find out the sales of each product at a particular store.\n",
    "\n",
    "### Statement Analysis\n",
    "####  Supervised Machine Learning Problem\n",
    "####  The Target Value is **Sales**\n",
    "\n",
    "### Goal\n",
    "#### Using this model, BigMart will try to understand the properties of products and stores which play a key role in increasing sales.\n"
   ]
  },
  {
   "cell_type": "markdown",
   "id": "830eb1fe",
   "metadata": {
    "papermill": {
     "duration": 0.006938,
     "end_time": "2022-11-30T13:35:55.323300",
     "exception": false,
     "start_time": "2022-11-30T13:35:55.316362",
     "status": "completed"
    },
    "tags": []
   },
   "source": [
    "# Hypothesis Generation Using Product, Store and City\n",
    "1. **City Type:** Stores located in urban should have higher Sales.\n",
    "2. **Store Location:** Store located in popular market place shoud have higher Sales\n",
    "3. **Populted City:** City with high population should have higher Sales.\n",
    "4. **Store Size**: Stores with large size should have higher Sales.\n",
    "5. **Staff**: Stores with more staff should have higher Sales.\n",
    "6. **Branded Products**: Branded Products will have higher Sales. \n",
    "7. **Product Visbility**: Products with large space should have higher Sales.\n",
    "8. **Product Frequency**: More frequnct products will have high Sales.\n",
    "9. **Utilities**: Daily Basic Products should have higher Sales.\n",
    "10. **Promotional Offers**: Promo Products should have higher Sales."
   ]
  },
  {
   "cell_type": "markdown",
   "id": "a497707c",
   "metadata": {
    "papermill": {
     "duration": 0.006891,
     "end_time": "2022-11-30T13:35:55.337411",
     "exception": false,
     "start_time": "2022-11-30T13:35:55.330520",
     "status": "completed"
    },
    "tags": []
   },
   "source": [
    "This dataset is named BigMart Sales. The dataset contains a set of 8,523 records under 12 attributes:\n",
    "\n",
    "Column Name and their                          Description\n",
    "* **Item_Identifier:**                Unique product ID\n",
    "* **Item_Weight\t:**                    Weight of product\n",
    "* **Item_Fat_Content\t:**   Checks the Concentration of fat in the product\n",
    "* **Item_Visibility\t:**   The % of total display area of all similar products in a store\n",
    "* **Item_Type:**    Category\n",
    "* **Item_MRP\t :**          Maximum Retail Price for a Product\n",
    "* **Outlet_Identifier\t:**   Store ID\n",
    "* **Outlet_Establishment_Year\t:**The year in which store was established\n",
    "* **Outlet_Size\t:**The size of the store (Area Size Category)\n",
    "* **Outlet_Location_Type\t:**In Terms of city Tiers (Size)\n",
    "* **Outlet_Type\t:**Grocery store or a type of supermarket\n",
    "* **Item_Outlet_Sales\t:** Sales of the product In the Specific outlet"
   ]
  },
  {
   "cell_type": "code",
   "execution_count": 1,
   "id": "826098fb",
   "metadata": {
    "execution": {
     "iopub.execute_input": "2022-11-30T13:35:55.353925Z",
     "iopub.status.busy": "2022-11-30T13:35:55.353246Z",
     "iopub.status.idle": "2022-11-30T13:35:56.342942Z",
     "shell.execute_reply": "2022-11-30T13:35:56.341977Z"
    },
    "papermill": {
     "duration": 1.001173,
     "end_time": "2022-11-30T13:35:56.345762",
     "exception": false,
     "start_time": "2022-11-30T13:35:55.344589",
     "status": "completed"
    },
    "tags": []
   },
   "outputs": [
    {
     "name": "stdout",
     "output_type": "stream",
     "text": [
      "/kaggle/input/bigmart-sales-data/Train.csv\n",
      "/kaggle/input/bigmart-sales-data/Test.csv\n"
     ]
    }
   ],
   "source": [
    "# This Python 3 environment comes with many helpful analytics libraries installed\n",
    "# It is defined by the kaggle/python Docker image: https://github.com/kaggle/docker-python\n",
    "# For example, here's several helpful packages to load\n",
    "\n",
    "import numpy as np # linear algebra\n",
    "import pandas as pd # data processing, CSV file I/O (e.g. pd.read_csv)\n",
    "import matplotlib.pyplot as plt\n",
    "import seaborn as sns\n",
    "%matplotlib inline\n",
    "\n",
    "# Input data files are available in the read-only \"../input/\" directory\n",
    "# For example, running this (by clicking run or pressing Shift+Enter) will list all files under the input directory\n",
    "\n",
    "import os\n",
    "for dirname, _, filenames in os.walk('/kaggle/input'):\n",
    "    for filename in filenames:\n",
    "        print(os.path.join(dirname, filename))\n",
    "\n",
    "# You can write up to 20GB to the current directory (/kaggle/working/) that gets preserved as output when you create a version using \"Save & Run All\" \n",
    "# You can also write temporary files to /kaggle/temp/, but they won't be saved outside of the current session"
   ]
  },
  {
   "cell_type": "code",
   "execution_count": 2,
   "id": "5b6a872f",
   "metadata": {
    "execution": {
     "iopub.execute_input": "2022-11-30T13:35:56.363556Z",
     "iopub.status.busy": "2022-11-30T13:35:56.362720Z",
     "iopub.status.idle": "2022-11-30T13:35:56.367301Z",
     "shell.execute_reply": "2022-11-30T13:35:56.366331Z"
    },
    "papermill": {
     "duration": 0.015298,
     "end_time": "2022-11-30T13:35:56.369108",
     "exception": false,
     "start_time": "2022-11-30T13:35:56.353810",
     "status": "completed"
    },
    "tags": []
   },
   "outputs": [],
   "source": [
    "#path for the training set\n",
    "train_path = \"/kaggle/input/bigmart-sales-data/Train.csv\"\n",
    "#path for the testing set\n",
    "test_path = \"/kaggle/input/bigmart-sales-data/Test.csv\""
   ]
  },
  {
   "cell_type": "code",
   "execution_count": 3,
   "id": "39e29149",
   "metadata": {
    "execution": {
     "iopub.execute_input": "2022-11-30T13:35:56.386771Z",
     "iopub.status.busy": "2022-11-30T13:35:56.386423Z",
     "iopub.status.idle": "2022-11-30T13:35:56.444481Z",
     "shell.execute_reply": "2022-11-30T13:35:56.443101Z"
    },
    "papermill": {
     "duration": 0.069435,
     "end_time": "2022-11-30T13:35:56.447135",
     "exception": false,
     "start_time": "2022-11-30T13:35:56.377700",
     "status": "completed"
    },
    "tags": []
   },
   "outputs": [
    {
     "data": {
      "text/html": [
       "<div>\n",
       "<style scoped>\n",
       "    .dataframe tbody tr th:only-of-type {\n",
       "        vertical-align: middle;\n",
       "    }\n",
       "\n",
       "    .dataframe tbody tr th {\n",
       "        vertical-align: top;\n",
       "    }\n",
       "\n",
       "    .dataframe thead th {\n",
       "        text-align: right;\n",
       "    }\n",
       "</style>\n",
       "<table border=\"1\" class=\"dataframe\">\n",
       "  <thead>\n",
       "    <tr style=\"text-align: right;\">\n",
       "      <th></th>\n",
       "      <th>Item_Identifier</th>\n",
       "      <th>Item_Weight</th>\n",
       "      <th>Item_Fat_Content</th>\n",
       "      <th>Item_Visibility</th>\n",
       "      <th>Item_Type</th>\n",
       "      <th>Item_MRP</th>\n",
       "      <th>Outlet_Identifier</th>\n",
       "      <th>Outlet_Establishment_Year</th>\n",
       "      <th>Outlet_Size</th>\n",
       "      <th>Outlet_Location_Type</th>\n",
       "      <th>Outlet_Type</th>\n",
       "      <th>Item_Outlet_Sales</th>\n",
       "    </tr>\n",
       "  </thead>\n",
       "  <tbody>\n",
       "    <tr>\n",
       "      <th>0</th>\n",
       "      <td>FDA15</td>\n",
       "      <td>9.30</td>\n",
       "      <td>Low Fat</td>\n",
       "      <td>0.016047</td>\n",
       "      <td>Dairy</td>\n",
       "      <td>249.8092</td>\n",
       "      <td>OUT049</td>\n",
       "      <td>1999</td>\n",
       "      <td>Medium</td>\n",
       "      <td>Tier 1</td>\n",
       "      <td>Supermarket Type1</td>\n",
       "      <td>3735.1380</td>\n",
       "    </tr>\n",
       "    <tr>\n",
       "      <th>1</th>\n",
       "      <td>DRC01</td>\n",
       "      <td>5.92</td>\n",
       "      <td>Regular</td>\n",
       "      <td>0.019278</td>\n",
       "      <td>Soft Drinks</td>\n",
       "      <td>48.2692</td>\n",
       "      <td>OUT018</td>\n",
       "      <td>2009</td>\n",
       "      <td>Medium</td>\n",
       "      <td>Tier 3</td>\n",
       "      <td>Supermarket Type2</td>\n",
       "      <td>443.4228</td>\n",
       "    </tr>\n",
       "    <tr>\n",
       "      <th>2</th>\n",
       "      <td>FDN15</td>\n",
       "      <td>17.50</td>\n",
       "      <td>Low Fat</td>\n",
       "      <td>0.016760</td>\n",
       "      <td>Meat</td>\n",
       "      <td>141.6180</td>\n",
       "      <td>OUT049</td>\n",
       "      <td>1999</td>\n",
       "      <td>Medium</td>\n",
       "      <td>Tier 1</td>\n",
       "      <td>Supermarket Type1</td>\n",
       "      <td>2097.2700</td>\n",
       "    </tr>\n",
       "    <tr>\n",
       "      <th>3</th>\n",
       "      <td>FDX07</td>\n",
       "      <td>19.20</td>\n",
       "      <td>Regular</td>\n",
       "      <td>0.000000</td>\n",
       "      <td>Fruits and Vegetables</td>\n",
       "      <td>182.0950</td>\n",
       "      <td>OUT010</td>\n",
       "      <td>1998</td>\n",
       "      <td>NaN</td>\n",
       "      <td>Tier 3</td>\n",
       "      <td>Grocery Store</td>\n",
       "      <td>732.3800</td>\n",
       "    </tr>\n",
       "    <tr>\n",
       "      <th>4</th>\n",
       "      <td>NCD19</td>\n",
       "      <td>8.93</td>\n",
       "      <td>Low Fat</td>\n",
       "      <td>0.000000</td>\n",
       "      <td>Household</td>\n",
       "      <td>53.8614</td>\n",
       "      <td>OUT013</td>\n",
       "      <td>1987</td>\n",
       "      <td>High</td>\n",
       "      <td>Tier 3</td>\n",
       "      <td>Supermarket Type1</td>\n",
       "      <td>994.7052</td>\n",
       "    </tr>\n",
       "  </tbody>\n",
       "</table>\n",
       "</div>"
      ],
      "text/plain": [
       "  Item_Identifier  Item_Weight Item_Fat_Content  Item_Visibility  \\\n",
       "0           FDA15         9.30          Low Fat         0.016047   \n",
       "1           DRC01         5.92          Regular         0.019278   \n",
       "2           FDN15        17.50          Low Fat         0.016760   \n",
       "3           FDX07        19.20          Regular         0.000000   \n",
       "4           NCD19         8.93          Low Fat         0.000000   \n",
       "\n",
       "               Item_Type  Item_MRP Outlet_Identifier  \\\n",
       "0                  Dairy  249.8092            OUT049   \n",
       "1            Soft Drinks   48.2692            OUT018   \n",
       "2                   Meat  141.6180            OUT049   \n",
       "3  Fruits and Vegetables  182.0950            OUT010   \n",
       "4              Household   53.8614            OUT013   \n",
       "\n",
       "   Outlet_Establishment_Year Outlet_Size Outlet_Location_Type  \\\n",
       "0                       1999      Medium               Tier 1   \n",
       "1                       2009      Medium               Tier 3   \n",
       "2                       1999      Medium               Tier 1   \n",
       "3                       1998         NaN               Tier 3   \n",
       "4                       1987        High               Tier 3   \n",
       "\n",
       "         Outlet_Type  Item_Outlet_Sales  \n",
       "0  Supermarket Type1          3735.1380  \n",
       "1  Supermarket Type2           443.4228  \n",
       "2  Supermarket Type1          2097.2700  \n",
       "3      Grocery Store           732.3800  \n",
       "4  Supermarket Type1           994.7052  "
      ]
     },
     "execution_count": 3,
     "metadata": {},
     "output_type": "execute_result"
    }
   ],
   "source": [
    "# Reading Dataset Train.csv\n",
    "train_df = pd.read_csv(train_path)\n",
    "train_df.head()"
   ]
  },
  {
   "cell_type": "code",
   "execution_count": 4,
   "id": "626622db",
   "metadata": {
    "execution": {
     "iopub.execute_input": "2022-11-30T13:35:56.464149Z",
     "iopub.status.busy": "2022-11-30T13:35:56.463708Z",
     "iopub.status.idle": "2022-11-30T13:35:56.500582Z",
     "shell.execute_reply": "2022-11-30T13:35:56.498959Z"
    },
    "papermill": {
     "duration": 0.048262,
     "end_time": "2022-11-30T13:35:56.503182",
     "exception": false,
     "start_time": "2022-11-30T13:35:56.454920",
     "status": "completed"
    },
    "tags": []
   },
   "outputs": [
    {
     "data": {
      "text/html": [
       "<div>\n",
       "<style scoped>\n",
       "    .dataframe tbody tr th:only-of-type {\n",
       "        vertical-align: middle;\n",
       "    }\n",
       "\n",
       "    .dataframe tbody tr th {\n",
       "        vertical-align: top;\n",
       "    }\n",
       "\n",
       "    .dataframe thead th {\n",
       "        text-align: right;\n",
       "    }\n",
       "</style>\n",
       "<table border=\"1\" class=\"dataframe\">\n",
       "  <thead>\n",
       "    <tr style=\"text-align: right;\">\n",
       "      <th></th>\n",
       "      <th>Item_Identifier</th>\n",
       "      <th>Item_Weight</th>\n",
       "      <th>Item_Fat_Content</th>\n",
       "      <th>Item_Visibility</th>\n",
       "      <th>Item_Type</th>\n",
       "      <th>Item_MRP</th>\n",
       "      <th>Outlet_Identifier</th>\n",
       "      <th>Outlet_Establishment_Year</th>\n",
       "      <th>Outlet_Size</th>\n",
       "      <th>Outlet_Location_Type</th>\n",
       "      <th>Outlet_Type</th>\n",
       "    </tr>\n",
       "  </thead>\n",
       "  <tbody>\n",
       "    <tr>\n",
       "      <th>0</th>\n",
       "      <td>FDW58</td>\n",
       "      <td>20.750</td>\n",
       "      <td>Low Fat</td>\n",
       "      <td>0.007565</td>\n",
       "      <td>Snack Foods</td>\n",
       "      <td>107.8622</td>\n",
       "      <td>OUT049</td>\n",
       "      <td>1999</td>\n",
       "      <td>Medium</td>\n",
       "      <td>Tier 1</td>\n",
       "      <td>Supermarket Type1</td>\n",
       "    </tr>\n",
       "    <tr>\n",
       "      <th>1</th>\n",
       "      <td>FDW14</td>\n",
       "      <td>8.300</td>\n",
       "      <td>reg</td>\n",
       "      <td>0.038428</td>\n",
       "      <td>Dairy</td>\n",
       "      <td>87.3198</td>\n",
       "      <td>OUT017</td>\n",
       "      <td>2007</td>\n",
       "      <td>NaN</td>\n",
       "      <td>Tier 2</td>\n",
       "      <td>Supermarket Type1</td>\n",
       "    </tr>\n",
       "    <tr>\n",
       "      <th>2</th>\n",
       "      <td>NCN55</td>\n",
       "      <td>14.600</td>\n",
       "      <td>Low Fat</td>\n",
       "      <td>0.099575</td>\n",
       "      <td>Others</td>\n",
       "      <td>241.7538</td>\n",
       "      <td>OUT010</td>\n",
       "      <td>1998</td>\n",
       "      <td>NaN</td>\n",
       "      <td>Tier 3</td>\n",
       "      <td>Grocery Store</td>\n",
       "    </tr>\n",
       "    <tr>\n",
       "      <th>3</th>\n",
       "      <td>FDQ58</td>\n",
       "      <td>7.315</td>\n",
       "      <td>Low Fat</td>\n",
       "      <td>0.015388</td>\n",
       "      <td>Snack Foods</td>\n",
       "      <td>155.0340</td>\n",
       "      <td>OUT017</td>\n",
       "      <td>2007</td>\n",
       "      <td>NaN</td>\n",
       "      <td>Tier 2</td>\n",
       "      <td>Supermarket Type1</td>\n",
       "    </tr>\n",
       "    <tr>\n",
       "      <th>4</th>\n",
       "      <td>FDY38</td>\n",
       "      <td>NaN</td>\n",
       "      <td>Regular</td>\n",
       "      <td>0.118599</td>\n",
       "      <td>Dairy</td>\n",
       "      <td>234.2300</td>\n",
       "      <td>OUT027</td>\n",
       "      <td>1985</td>\n",
       "      <td>Medium</td>\n",
       "      <td>Tier 3</td>\n",
       "      <td>Supermarket Type3</td>\n",
       "    </tr>\n",
       "  </tbody>\n",
       "</table>\n",
       "</div>"
      ],
      "text/plain": [
       "  Item_Identifier  Item_Weight Item_Fat_Content  Item_Visibility    Item_Type  \\\n",
       "0           FDW58       20.750          Low Fat         0.007565  Snack Foods   \n",
       "1           FDW14        8.300              reg         0.038428        Dairy   \n",
       "2           NCN55       14.600          Low Fat         0.099575       Others   \n",
       "3           FDQ58        7.315          Low Fat         0.015388  Snack Foods   \n",
       "4           FDY38          NaN          Regular         0.118599        Dairy   \n",
       "\n",
       "   Item_MRP Outlet_Identifier  Outlet_Establishment_Year Outlet_Size  \\\n",
       "0  107.8622            OUT049                       1999      Medium   \n",
       "1   87.3198            OUT017                       2007         NaN   \n",
       "2  241.7538            OUT010                       1998         NaN   \n",
       "3  155.0340            OUT017                       2007         NaN   \n",
       "4  234.2300            OUT027                       1985      Medium   \n",
       "\n",
       "  Outlet_Location_Type        Outlet_Type  \n",
       "0               Tier 1  Supermarket Type1  \n",
       "1               Tier 2  Supermarket Type1  \n",
       "2               Tier 3      Grocery Store  \n",
       "3               Tier 2  Supermarket Type1  \n",
       "4               Tier 3  Supermarket Type3  "
      ]
     },
     "execution_count": 4,
     "metadata": {},
     "output_type": "execute_result"
    }
   ],
   "source": [
    "# Reading Dataset Test.csv\n",
    "test_df = pd.read_csv(test_path)\n",
    "test_df.head()"
   ]
  },
  {
   "cell_type": "code",
   "execution_count": 5,
   "id": "013b7a7a",
   "metadata": {
    "execution": {
     "iopub.execute_input": "2022-11-30T13:35:56.520726Z",
     "iopub.status.busy": "2022-11-30T13:35:56.520335Z",
     "iopub.status.idle": "2022-11-30T13:35:56.526257Z",
     "shell.execute_reply": "2022-11-30T13:35:56.525110Z"
    },
    "papermill": {
     "duration": 0.017319,
     "end_time": "2022-11-30T13:35:56.528598",
     "exception": false,
     "start_time": "2022-11-30T13:35:56.511279",
     "status": "completed"
    },
    "tags": []
   },
   "outputs": [
    {
     "name": "stdout",
     "output_type": "stream",
     "text": [
      "Training Dataset (row, col): (8523, 12) \n",
      "\n",
      "Testing Dataset (row, col): (5681, 11)\n"
     ]
    }
   ],
   "source": [
    "# Rows and columns\n",
    "print(f'Training Dataset (row, col): {train_df.shape} \\n\\nTesting Dataset (row, col): {test_df.shape}')"
   ]
  },
  {
   "cell_type": "markdown",
   "id": "f738412a",
   "metadata": {
    "papermill": {
     "duration": 0.007976,
     "end_time": "2022-11-30T13:35:56.544764",
     "exception": false,
     "start_time": "2022-11-30T13:35:56.536788",
     "status": "completed"
    },
    "tags": []
   },
   "source": [
    "# Preprocessing\n",
    "\n",
    "## Lets Combine Both DataSets since both are Similiar    "
   ]
  },
  {
   "cell_type": "code",
   "execution_count": 6,
   "id": "a98dd0c0",
   "metadata": {
    "execution": {
     "iopub.execute_input": "2022-11-30T13:35:56.562886Z",
     "iopub.status.busy": "2022-11-30T13:35:56.562465Z",
     "iopub.status.idle": "2022-11-30T13:35:56.578720Z",
     "shell.execute_reply": "2022-11-30T13:35:56.577978Z"
    },
    "papermill": {
     "duration": 0.027944,
     "end_time": "2022-11-30T13:35:56.580784",
     "exception": false,
     "start_time": "2022-11-30T13:35:56.552840",
     "status": "completed"
    },
    "tags": []
   },
   "outputs": [],
   "source": [
    "# Lets combine both datasets\n",
    "test_df['Item_Outlet_Sales'] = np.nan\n",
    "combined = pd.concat([train_df, test_df])"
   ]
  },
  {
   "cell_type": "code",
   "execution_count": 7,
   "id": "dc014716",
   "metadata": {
    "execution": {
     "iopub.execute_input": "2022-11-30T13:35:56.598439Z",
     "iopub.status.busy": "2022-11-30T13:35:56.598083Z",
     "iopub.status.idle": "2022-11-30T13:35:56.624204Z",
     "shell.execute_reply": "2022-11-30T13:35:56.622511Z"
    },
    "papermill": {
     "duration": 0.038976,
     "end_time": "2022-11-30T13:35:56.627863",
     "exception": false,
     "start_time": "2022-11-30T13:35:56.588887",
     "status": "completed"
    },
    "tags": []
   },
   "outputs": [
    {
     "name": "stdout",
     "output_type": "stream",
     "text": [
      "<class 'pandas.core.frame.DataFrame'>\n",
      "Int64Index: 14204 entries, 0 to 5680\n",
      "Data columns (total 12 columns):\n",
      " #   Column                     Non-Null Count  Dtype  \n",
      "---  ------                     --------------  -----  \n",
      " 0   Item_Identifier            14204 non-null  object \n",
      " 1   Item_Weight                11765 non-null  float64\n",
      " 2   Item_Fat_Content           14204 non-null  object \n",
      " 3   Item_Visibility            14204 non-null  float64\n",
      " 4   Item_Type                  14204 non-null  object \n",
      " 5   Item_MRP                   14204 non-null  float64\n",
      " 6   Outlet_Identifier          14204 non-null  object \n",
      " 7   Outlet_Establishment_Year  14204 non-null  int64  \n",
      " 8   Outlet_Size                10188 non-null  object \n",
      " 9   Outlet_Location_Type       14204 non-null  object \n",
      " 10  Outlet_Type                14204 non-null  object \n",
      " 11  Item_Outlet_Sales          8523 non-null   float64\n",
      "dtypes: float64(4), int64(1), object(7)\n",
      "memory usage: 1.4+ MB\n"
     ]
    }
   ],
   "source": [
    "combined.info(verbose=True, show_counts=True)"
   ]
  },
  {
   "cell_type": "code",
   "execution_count": 8,
   "id": "9e22d964",
   "metadata": {
    "execution": {
     "iopub.execute_input": "2022-11-30T13:35:56.645748Z",
     "iopub.status.busy": "2022-11-30T13:35:56.645393Z",
     "iopub.status.idle": "2022-11-30T13:35:56.701719Z",
     "shell.execute_reply": "2022-11-30T13:35:56.700811Z"
    },
    "papermill": {
     "duration": 0.068054,
     "end_time": "2022-11-30T13:35:56.704148",
     "exception": false,
     "start_time": "2022-11-30T13:35:56.636094",
     "status": "completed"
    },
    "tags": []
   },
   "outputs": [
    {
     "data": {
      "text/html": [
       "<div>\n",
       "<style scoped>\n",
       "    .dataframe tbody tr th:only-of-type {\n",
       "        vertical-align: middle;\n",
       "    }\n",
       "\n",
       "    .dataframe tbody tr th {\n",
       "        vertical-align: top;\n",
       "    }\n",
       "\n",
       "    .dataframe thead th {\n",
       "        text-align: right;\n",
       "    }\n",
       "</style>\n",
       "<table border=\"1\" class=\"dataframe\">\n",
       "  <thead>\n",
       "    <tr style=\"text-align: right;\">\n",
       "      <th></th>\n",
       "      <th>Item_Identifier</th>\n",
       "      <th>Item_Weight</th>\n",
       "      <th>Item_Fat_Content</th>\n",
       "      <th>Item_Visibility</th>\n",
       "      <th>Item_Type</th>\n",
       "      <th>Item_MRP</th>\n",
       "      <th>Outlet_Identifier</th>\n",
       "      <th>Outlet_Establishment_Year</th>\n",
       "      <th>Outlet_Size</th>\n",
       "      <th>Outlet_Location_Type</th>\n",
       "      <th>Outlet_Type</th>\n",
       "      <th>Item_Outlet_Sales</th>\n",
       "    </tr>\n",
       "  </thead>\n",
       "  <tbody>\n",
       "    <tr>\n",
       "      <th>count</th>\n",
       "      <td>14204</td>\n",
       "      <td>11765.000000</td>\n",
       "      <td>14204</td>\n",
       "      <td>14204.000000</td>\n",
       "      <td>14204</td>\n",
       "      <td>14204.000000</td>\n",
       "      <td>14204</td>\n",
       "      <td>14204.000000</td>\n",
       "      <td>10188</td>\n",
       "      <td>14204</td>\n",
       "      <td>14204</td>\n",
       "      <td>8523.000000</td>\n",
       "    </tr>\n",
       "    <tr>\n",
       "      <th>unique</th>\n",
       "      <td>1559</td>\n",
       "      <td>NaN</td>\n",
       "      <td>5</td>\n",
       "      <td>NaN</td>\n",
       "      <td>16</td>\n",
       "      <td>NaN</td>\n",
       "      <td>10</td>\n",
       "      <td>NaN</td>\n",
       "      <td>3</td>\n",
       "      <td>3</td>\n",
       "      <td>4</td>\n",
       "      <td>NaN</td>\n",
       "    </tr>\n",
       "    <tr>\n",
       "      <th>top</th>\n",
       "      <td>FDU15</td>\n",
       "      <td>NaN</td>\n",
       "      <td>Low Fat</td>\n",
       "      <td>NaN</td>\n",
       "      <td>Fruits and Vegetables</td>\n",
       "      <td>NaN</td>\n",
       "      <td>OUT027</td>\n",
       "      <td>NaN</td>\n",
       "      <td>Medium</td>\n",
       "      <td>Tier 3</td>\n",
       "      <td>Supermarket Type1</td>\n",
       "      <td>NaN</td>\n",
       "    </tr>\n",
       "    <tr>\n",
       "      <th>freq</th>\n",
       "      <td>10</td>\n",
       "      <td>NaN</td>\n",
       "      <td>8485</td>\n",
       "      <td>NaN</td>\n",
       "      <td>2013</td>\n",
       "      <td>NaN</td>\n",
       "      <td>1559</td>\n",
       "      <td>NaN</td>\n",
       "      <td>4655</td>\n",
       "      <td>5583</td>\n",
       "      <td>9294</td>\n",
       "      <td>NaN</td>\n",
       "    </tr>\n",
       "    <tr>\n",
       "      <th>mean</th>\n",
       "      <td>NaN</td>\n",
       "      <td>12.792854</td>\n",
       "      <td>NaN</td>\n",
       "      <td>0.065953</td>\n",
       "      <td>NaN</td>\n",
       "      <td>141.004977</td>\n",
       "      <td>NaN</td>\n",
       "      <td>1997.830681</td>\n",
       "      <td>NaN</td>\n",
       "      <td>NaN</td>\n",
       "      <td>NaN</td>\n",
       "      <td>2181.288914</td>\n",
       "    </tr>\n",
       "    <tr>\n",
       "      <th>std</th>\n",
       "      <td>NaN</td>\n",
       "      <td>4.652502</td>\n",
       "      <td>NaN</td>\n",
       "      <td>0.051459</td>\n",
       "      <td>NaN</td>\n",
       "      <td>62.086938</td>\n",
       "      <td>NaN</td>\n",
       "      <td>8.371664</td>\n",
       "      <td>NaN</td>\n",
       "      <td>NaN</td>\n",
       "      <td>NaN</td>\n",
       "      <td>1706.499616</td>\n",
       "    </tr>\n",
       "    <tr>\n",
       "      <th>min</th>\n",
       "      <td>NaN</td>\n",
       "      <td>4.555000</td>\n",
       "      <td>NaN</td>\n",
       "      <td>0.000000</td>\n",
       "      <td>NaN</td>\n",
       "      <td>31.290000</td>\n",
       "      <td>NaN</td>\n",
       "      <td>1985.000000</td>\n",
       "      <td>NaN</td>\n",
       "      <td>NaN</td>\n",
       "      <td>NaN</td>\n",
       "      <td>33.290000</td>\n",
       "    </tr>\n",
       "    <tr>\n",
       "      <th>25%</th>\n",
       "      <td>NaN</td>\n",
       "      <td>8.710000</td>\n",
       "      <td>NaN</td>\n",
       "      <td>0.027036</td>\n",
       "      <td>NaN</td>\n",
       "      <td>94.012000</td>\n",
       "      <td>NaN</td>\n",
       "      <td>1987.000000</td>\n",
       "      <td>NaN</td>\n",
       "      <td>NaN</td>\n",
       "      <td>NaN</td>\n",
       "      <td>834.247400</td>\n",
       "    </tr>\n",
       "    <tr>\n",
       "      <th>50%</th>\n",
       "      <td>NaN</td>\n",
       "      <td>12.600000</td>\n",
       "      <td>NaN</td>\n",
       "      <td>0.054021</td>\n",
       "      <td>NaN</td>\n",
       "      <td>142.247000</td>\n",
       "      <td>NaN</td>\n",
       "      <td>1999.000000</td>\n",
       "      <td>NaN</td>\n",
       "      <td>NaN</td>\n",
       "      <td>NaN</td>\n",
       "      <td>1794.331000</td>\n",
       "    </tr>\n",
       "    <tr>\n",
       "      <th>75%</th>\n",
       "      <td>NaN</td>\n",
       "      <td>16.750000</td>\n",
       "      <td>NaN</td>\n",
       "      <td>0.094037</td>\n",
       "      <td>NaN</td>\n",
       "      <td>185.855600</td>\n",
       "      <td>NaN</td>\n",
       "      <td>2004.000000</td>\n",
       "      <td>NaN</td>\n",
       "      <td>NaN</td>\n",
       "      <td>NaN</td>\n",
       "      <td>3101.296400</td>\n",
       "    </tr>\n",
       "    <tr>\n",
       "      <th>max</th>\n",
       "      <td>NaN</td>\n",
       "      <td>21.350000</td>\n",
       "      <td>NaN</td>\n",
       "      <td>0.328391</td>\n",
       "      <td>NaN</td>\n",
       "      <td>266.888400</td>\n",
       "      <td>NaN</td>\n",
       "      <td>2009.000000</td>\n",
       "      <td>NaN</td>\n",
       "      <td>NaN</td>\n",
       "      <td>NaN</td>\n",
       "      <td>13086.964800</td>\n",
       "    </tr>\n",
       "  </tbody>\n",
       "</table>\n",
       "</div>"
      ],
      "text/plain": [
       "       Item_Identifier   Item_Weight Item_Fat_Content  Item_Visibility  \\\n",
       "count            14204  11765.000000            14204     14204.000000   \n",
       "unique            1559           NaN                5              NaN   \n",
       "top              FDU15           NaN          Low Fat              NaN   \n",
       "freq                10           NaN             8485              NaN   \n",
       "mean               NaN     12.792854              NaN         0.065953   \n",
       "std                NaN      4.652502              NaN         0.051459   \n",
       "min                NaN      4.555000              NaN         0.000000   \n",
       "25%                NaN      8.710000              NaN         0.027036   \n",
       "50%                NaN     12.600000              NaN         0.054021   \n",
       "75%                NaN     16.750000              NaN         0.094037   \n",
       "max                NaN     21.350000              NaN         0.328391   \n",
       "\n",
       "                    Item_Type      Item_MRP Outlet_Identifier  \\\n",
       "count                   14204  14204.000000             14204   \n",
       "unique                     16           NaN                10   \n",
       "top     Fruits and Vegetables           NaN            OUT027   \n",
       "freq                     2013           NaN              1559   \n",
       "mean                      NaN    141.004977               NaN   \n",
       "std                       NaN     62.086938               NaN   \n",
       "min                       NaN     31.290000               NaN   \n",
       "25%                       NaN     94.012000               NaN   \n",
       "50%                       NaN    142.247000               NaN   \n",
       "75%                       NaN    185.855600               NaN   \n",
       "max                       NaN    266.888400               NaN   \n",
       "\n",
       "        Outlet_Establishment_Year Outlet_Size Outlet_Location_Type  \\\n",
       "count                14204.000000       10188                14204   \n",
       "unique                        NaN           3                    3   \n",
       "top                           NaN      Medium               Tier 3   \n",
       "freq                          NaN        4655                 5583   \n",
       "mean                  1997.830681         NaN                  NaN   \n",
       "std                      8.371664         NaN                  NaN   \n",
       "min                   1985.000000         NaN                  NaN   \n",
       "25%                   1987.000000         NaN                  NaN   \n",
       "50%                   1999.000000         NaN                  NaN   \n",
       "75%                   2004.000000         NaN                  NaN   \n",
       "max                   2009.000000         NaN                  NaN   \n",
       "\n",
       "              Outlet_Type  Item_Outlet_Sales  \n",
       "count               14204        8523.000000  \n",
       "unique                  4                NaN  \n",
       "top     Supermarket Type1                NaN  \n",
       "freq                 9294                NaN  \n",
       "mean                  NaN        2181.288914  \n",
       "std                   NaN        1706.499616  \n",
       "min                   NaN          33.290000  \n",
       "25%                   NaN         834.247400  \n",
       "50%                   NaN        1794.331000  \n",
       "75%                   NaN        3101.296400  \n",
       "max                   NaN       13086.964800  "
      ]
     },
     "execution_count": 8,
     "metadata": {},
     "output_type": "execute_result"
    }
   ],
   "source": [
    "# Summary of Dataset Train\n",
    "combined.describe(include=[object, np.number])"
   ]
  },
  {
   "cell_type": "markdown",
   "id": "1a44ef36",
   "metadata": {
    "papermill": {
     "duration": 0.007954,
     "end_time": "2022-11-30T13:35:56.720481",
     "exception": false,
     "start_time": "2022-11-30T13:35:56.712527",
     "status": "completed"
    },
    "tags": []
   },
   "source": [
    " # "
   ]
  },
  {
   "cell_type": "code",
   "execution_count": 9,
   "id": "1f69ff28",
   "metadata": {
    "execution": {
     "iopub.execute_input": "2022-11-30T13:35:56.738676Z",
     "iopub.status.busy": "2022-11-30T13:35:56.738301Z",
     "iopub.status.idle": "2022-11-30T13:35:56.757437Z",
     "shell.execute_reply": "2022-11-30T13:35:56.755870Z"
    },
    "papermill": {
     "duration": 0.031292,
     "end_time": "2022-11-30T13:35:56.760285",
     "exception": false,
     "start_time": "2022-11-30T13:35:56.728993",
     "status": "completed"
    },
    "tags": []
   },
   "outputs": [
    {
     "name": "stdout",
     "output_type": "stream",
     "text": [
      "Train:\n",
      "\n",
      "Missing Values by Count: \n",
      "\n",
      " Item_Outlet_Sales            5681\n",
      "Outlet_Size                  4016\n",
      "Item_Weight                  2439\n",
      "Item_Identifier                 0\n",
      "Item_Fat_Content                0\n",
      "Item_Visibility                 0\n",
      "Item_Type                       0\n",
      "Item_MRP                        0\n",
      "Outlet_Identifier               0\n",
      "Outlet_Establishment_Year       0\n",
      "Outlet_Location_Type            0\n",
      "Outlet_Type                     0\n",
      "dtype: int64 \n",
      "\n",
      "Missing Values by %:\n",
      "\n",
      " Item_Outlet_Sales            66.654934\n",
      "Outlet_Size                  47.119559\n",
      "Item_Weight                  28.616684\n",
      "Item_Identifier               0.000000\n",
      "Item_Fat_Content              0.000000\n",
      "Item_Visibility               0.000000\n",
      "Item_Type                     0.000000\n",
      "Item_MRP                      0.000000\n",
      "Outlet_Identifier             0.000000\n",
      "Outlet_Establishment_Year     0.000000\n",
      "Outlet_Location_Type          0.000000\n",
      "Outlet_Type                   0.000000\n",
      "dtype: float64\n"
     ]
    }
   ],
   "source": [
    "# Lets check missing Values\n",
    "print('Train:\\n')\n",
    "print('Missing Values by Count: \\n\\n',\n",
    "      combined.isnull().sum().sort_values(ascending=False),'\\n\\nMissing Values by %:\\n\\n',\n",
    "      combined.isnull().sum().sort_values(ascending=False)/train_df.shape[0] * 100)\n"
   ]
  },
  {
   "cell_type": "code",
   "execution_count": 10,
   "id": "786be751",
   "metadata": {
    "execution": {
     "iopub.execute_input": "2022-11-30T13:35:56.778930Z",
     "iopub.status.busy": "2022-11-30T13:35:56.778518Z",
     "iopub.status.idle": "2022-11-30T13:35:56.790060Z",
     "shell.execute_reply": "2022-11-30T13:35:56.789205Z"
    },
    "papermill": {
     "duration": 0.023386,
     "end_time": "2022-11-30T13:35:56.792235",
     "exception": false,
     "start_time": "2022-11-30T13:35:56.768849",
     "status": "completed"
    },
    "tags": []
   },
   "outputs": [
    {
     "name": "stdout",
     "output_type": "stream",
     "text": [
      "Missing Values in Outlet_Size :\n",
      "\n",
      " Medium    4655\n",
      "Small     3980\n",
      "High      1553\n",
      "Name: Outlet_Size, dtype: int64\n",
      "Missing Values in Item_Weight :\n",
      "\n",
      " 17.600    135\n",
      "12.150    127\n",
      "10.500    123\n",
      "13.650    115\n",
      "11.800    113\n",
      "         ... \n",
      "7.640       7\n",
      "5.905       7\n",
      "7.850       6\n",
      "4.615       6\n",
      "9.035       6\n",
      "Name: Item_Weight, Length: 415, dtype: int64\n"
     ]
    }
   ],
   "source": [
    "# Lets check and imputate missing values\n",
    "print('Missing Values in Outlet_Size :\\n\\n',combined.Outlet_Size.value_counts())\n",
    "print('Missing Values in Item_Weight :\\n\\n',combined.Item_Weight.value_counts())"
   ]
  },
  {
   "cell_type": "markdown",
   "id": "2225898c",
   "metadata": {
    "papermill": {
     "duration": 0.008192,
     "end_time": "2022-11-30T13:35:56.810220",
     "exception": false,
     "start_time": "2022-11-30T13:35:56.802028",
     "status": "completed"
    },
    "tags": []
   },
   "source": [
    "**OutLet_Size** is a catogerial column, we can use mode to fill the values."
   ]
  },
  {
   "cell_type": "code",
   "execution_count": 11,
   "id": "cb4e8ca5",
   "metadata": {
    "execution": {
     "iopub.execute_input": "2022-11-30T13:35:56.829207Z",
     "iopub.status.busy": "2022-11-30T13:35:56.828860Z",
     "iopub.status.idle": "2022-11-30T13:35:56.840135Z",
     "shell.execute_reply": "2022-11-30T13:35:56.838347Z"
    },
    "papermill": {
     "duration": 0.023452,
     "end_time": "2022-11-30T13:35:56.842229",
     "exception": false,
     "start_time": "2022-11-30T13:35:56.818777",
     "status": "completed"
    },
    "tags": []
   },
   "outputs": [
    {
     "name": "stdout",
     "output_type": "stream",
     "text": [
      "Missing values after filling: 0\n"
     ]
    }
   ],
   "source": [
    "# Filling Outlet Size  missing values.\n",
    "combined['Outlet_Size'] = combined.Outlet_Size.fillna(combined.Outlet_Size.dropna().mode()[0])\n",
    "# Checking if we filled all values\n",
    "print( 'Missing values after filling:' ,combined.Outlet_Size.isnull().sum())"
   ]
  },
  {
   "cell_type": "markdown",
   "id": "3dd43831",
   "metadata": {
    "papermill": {
     "duration": 0.008161,
     "end_time": "2022-11-30T13:35:56.858849",
     "exception": false,
     "start_time": "2022-11-30T13:35:56.850688",
     "status": "completed"
    },
    "tags": []
   },
   "source": [
    "**Item_wieght** is a mumeric column, we need to visulize the its values/distribution to see clearly."
   ]
  },
  {
   "cell_type": "code",
   "execution_count": 12,
   "id": "d32ab72a",
   "metadata": {
    "execution": {
     "iopub.execute_input": "2022-11-30T13:35:56.877103Z",
     "iopub.status.busy": "2022-11-30T13:35:56.876721Z",
     "iopub.status.idle": "2022-11-30T13:35:57.043292Z",
     "shell.execute_reply": "2022-11-30T13:35:57.042368Z"
    },
    "papermill": {
     "duration": 0.178322,
     "end_time": "2022-11-30T13:35:57.045472",
     "exception": false,
     "start_time": "2022-11-30T13:35:56.867150",
     "status": "completed"
    },
    "tags": []
   },
   "outputs": [
    {
     "data": {
      "text/plain": [
       "Text(0.5, 1.0, 'Item Wieght Distribution')"
      ]
     },
     "execution_count": 12,
     "metadata": {},
     "output_type": "execute_result"
    },
    {
     "data": {
      "image/png": "[encoded data removed]",
      "text/plain": [
       "<Figure size 432x288 with 1 Axes>"
      ]
     },
     "metadata": {
      "needs_background": "light"
     },
     "output_type": "display_data"
    }
   ],
   "source": [
    "# sns.boxplot(data=combined['Item_Weight'],orient='v', color='c')\n",
    "sns.boxplot(x=combined['Item_Weight'], palette='BuPu')\n",
    "plt.title('Item Wieght Distribution')\n",
    "\n"
   ]
  },
  {
   "cell_type": "markdown",
   "id": "7821371d",
   "metadata": {
    "papermill": {
     "duration": 0.008456,
     "end_time": "2022-11-30T13:35:57.063761",
     "exception": false,
     "start_time": "2022-11-30T13:35:57.055305",
     "status": "completed"
    },
    "tags": []
   },
   "source": [
    "No **Outliers** in Item_wieght, So we can replace missing values with its mean"
   ]
  },
  {
   "cell_type": "code",
   "execution_count": 13,
   "id": "20ac194e",
   "metadata": {
    "execution": {
     "iopub.execute_input": "2022-11-30T13:35:57.083800Z",
     "iopub.status.busy": "2022-11-30T13:35:57.082615Z",
     "iopub.status.idle": "2022-11-30T13:35:57.093110Z",
     "shell.execute_reply": "2022-11-30T13:35:57.091405Z"
    },
    "papermill": {
     "duration": 0.022947,
     "end_time": "2022-11-30T13:35:57.095514",
     "exception": false,
     "start_time": "2022-11-30T13:35:57.072567",
     "status": "completed"
    },
    "tags": []
   },
   "outputs": [
    {
     "name": "stdout",
     "output_type": "stream",
     "text": [
      "Missing values after filling:  0\n"
     ]
    }
   ],
   "source": [
    "# imputate missing values in item \n",
    "combined['Item_Weight'] = combined.Item_Weight.fillna(combined.Item_Weight.dropna().mean())\n",
    "print('Missing values after filling: ', combined.Item_Weight.isnull().sum())"
   ]
  },
  {
   "cell_type": "code",
   "execution_count": 14,
   "id": "bfd7233b",
   "metadata": {
    "execution": {
     "iopub.execute_input": "2022-11-30T13:35:57.114706Z",
     "iopub.status.busy": "2022-11-30T13:35:57.114337Z",
     "iopub.status.idle": "2022-11-30T13:35:57.130402Z",
     "shell.execute_reply": "2022-11-30T13:35:57.129268Z"
    },
    "papermill": {
     "duration": 0.028943,
     "end_time": "2022-11-30T13:35:57.133457",
     "exception": false,
     "start_time": "2022-11-30T13:35:57.104514",
     "status": "completed"
    },
    "tags": []
   },
   "outputs": [
    {
     "name": "stdout",
     "output_type": "stream",
     "text": [
      "<class 'pandas.core.frame.DataFrame'>\n",
      "Int64Index: 14204 entries, 0 to 5680\n",
      "Data columns (total 12 columns):\n",
      " #   Column                     Non-Null Count  Dtype  \n",
      "---  ------                     --------------  -----  \n",
      " 0   Item_Identifier            14204 non-null  object \n",
      " 1   Item_Weight                14204 non-null  float64\n",
      " 2   Item_Fat_Content           14204 non-null  object \n",
      " 3   Item_Visibility            14204 non-null  float64\n",
      " 4   Item_Type                  14204 non-null  object \n",
      " 5   Item_MRP                   14204 non-null  float64\n",
      " 6   Outlet_Identifier          14204 non-null  object \n",
      " 7   Outlet_Establishment_Year  14204 non-null  int64  \n",
      " 8   Outlet_Size                14204 non-null  object \n",
      " 9   Outlet_Location_Type       14204 non-null  object \n",
      " 10  Outlet_Type                14204 non-null  object \n",
      " 11  Item_Outlet_Sales          8523 non-null   float64\n",
      "dtypes: float64(4), int64(1), object(7)\n",
      "memory usage: 1.4+ MB\n"
     ]
    }
   ],
   "source": [
    "# check info for missing values\n",
    "combined.info()"
   ]
  },
  {
   "cell_type": "markdown",
   "id": "c0fe8343",
   "metadata": {
    "papermill": {
     "duration": 0.011402,
     "end_time": "2022-11-30T13:35:57.156137",
     "exception": false,
     "start_time": "2022-11-30T13:35:57.144735",
     "status": "completed"
    },
    "tags": []
   },
   "source": [
    "# Data Exploration\n",
    "Below are the steps involved to understand, clean and prepare your data for building your predictive model:\n",
    "\n",
    "* Variable Identification\n",
    "* Univariate Analysis\n",
    "* Bi-variate Analysis\n",
    "* Missing values treatment\n",
    "* Outlier treatment\n",
    "* Variable transformation\n",
    "* Variable creation"
   ]
  },
  {
   "cell_type": "markdown",
   "id": "ba1da910",
   "metadata": {
    "papermill": {
     "duration": 0.00986,
     "end_time": "2022-11-30T13:35:57.176510",
     "exception": false,
     "start_time": "2022-11-30T13:35:57.166650",
     "status": "completed"
    },
    "tags": []
   },
   "source": [
    "### 1. Veriable Identication"
   ]
  },
  {
   "cell_type": "code",
   "execution_count": 15,
   "id": "79f28b51",
   "metadata": {
    "execution": {
     "iopub.execute_input": "2022-11-30T13:35:57.199512Z",
     "iopub.status.busy": "2022-11-30T13:35:57.198903Z",
     "iopub.status.idle": "2022-11-30T13:35:57.230226Z",
     "shell.execute_reply": "2022-11-30T13:35:57.228887Z"
    },
    "papermill": {
     "duration": 0.045934,
     "end_time": "2022-11-30T13:35:57.233012",
     "exception": false,
     "start_time": "2022-11-30T13:35:57.187078",
     "status": "completed"
    },
    "tags": []
   },
   "outputs": [
    {
     "name": "stdout",
     "output_type": "stream",
     "text": [
      "Numeric Data : \n",
      "\n"
     ]
    },
    {
     "data": {
      "text/html": [
       "<div>\n",
       "<style scoped>\n",
       "    .dataframe tbody tr th:only-of-type {\n",
       "        vertical-align: middle;\n",
       "    }\n",
       "\n",
       "    .dataframe tbody tr th {\n",
       "        vertical-align: top;\n",
       "    }\n",
       "\n",
       "    .dataframe thead th {\n",
       "        text-align: right;\n",
       "    }\n",
       "</style>\n",
       "<table border=\"1\" class=\"dataframe\">\n",
       "  <thead>\n",
       "    <tr style=\"text-align: right;\">\n",
       "      <th></th>\n",
       "      <th>Item_Weight</th>\n",
       "      <th>Item_Visibility</th>\n",
       "      <th>Item_MRP</th>\n",
       "      <th>Outlet_Establishment_Year</th>\n",
       "      <th>Item_Outlet_Sales</th>\n",
       "    </tr>\n",
       "  </thead>\n",
       "  <tbody>\n",
       "    <tr>\n",
       "      <th>count</th>\n",
       "      <td>14204.000000</td>\n",
       "      <td>14204.000000</td>\n",
       "      <td>14204.000000</td>\n",
       "      <td>14204.000000</td>\n",
       "      <td>8523.000000</td>\n",
       "    </tr>\n",
       "    <tr>\n",
       "      <th>mean</th>\n",
       "      <td>12.792854</td>\n",
       "      <td>0.065953</td>\n",
       "      <td>141.004977</td>\n",
       "      <td>1997.830681</td>\n",
       "      <td>2181.288914</td>\n",
       "    </tr>\n",
       "    <tr>\n",
       "      <th>std</th>\n",
       "      <td>4.234226</td>\n",
       "      <td>0.051459</td>\n",
       "      <td>62.086938</td>\n",
       "      <td>8.371664</td>\n",
       "      <td>1706.499616</td>\n",
       "    </tr>\n",
       "    <tr>\n",
       "      <th>min</th>\n",
       "      <td>4.555000</td>\n",
       "      <td>0.000000</td>\n",
       "      <td>31.290000</td>\n",
       "      <td>1985.000000</td>\n",
       "      <td>33.290000</td>\n",
       "    </tr>\n",
       "    <tr>\n",
       "      <th>25%</th>\n",
       "      <td>9.300000</td>\n",
       "      <td>0.027036</td>\n",
       "      <td>94.012000</td>\n",
       "      <td>1987.000000</td>\n",
       "      <td>834.247400</td>\n",
       "    </tr>\n",
       "    <tr>\n",
       "      <th>50%</th>\n",
       "      <td>12.792854</td>\n",
       "      <td>0.054021</td>\n",
       "      <td>142.247000</td>\n",
       "      <td>1999.000000</td>\n",
       "      <td>1794.331000</td>\n",
       "    </tr>\n",
       "    <tr>\n",
       "      <th>75%</th>\n",
       "      <td>16.000000</td>\n",
       "      <td>0.094037</td>\n",
       "      <td>185.855600</td>\n",
       "      <td>2004.000000</td>\n",
       "      <td>3101.296400</td>\n",
       "    </tr>\n",
       "    <tr>\n",
       "      <th>max</th>\n",
       "      <td>21.350000</td>\n",
       "      <td>0.328391</td>\n",
       "      <td>266.888400</td>\n",
       "      <td>2009.000000</td>\n",
       "      <td>13086.964800</td>\n",
       "    </tr>\n",
       "  </tbody>\n",
       "</table>\n",
       "</div>"
      ],
      "text/plain": [
       "        Item_Weight  Item_Visibility      Item_MRP  Outlet_Establishment_Year  \\\n",
       "count  14204.000000     14204.000000  14204.000000               14204.000000   \n",
       "mean      12.792854         0.065953    141.004977                1997.830681   \n",
       "std        4.234226         0.051459     62.086938                   8.371664   \n",
       "min        4.555000         0.000000     31.290000                1985.000000   \n",
       "25%        9.300000         0.027036     94.012000                1987.000000   \n",
       "50%       12.792854         0.054021    142.247000                1999.000000   \n",
       "75%       16.000000         0.094037    185.855600                2004.000000   \n",
       "max       21.350000         0.328391    266.888400                2009.000000   \n",
       "\n",
       "       Item_Outlet_Sales  \n",
       "count        8523.000000  \n",
       "mean         2181.288914  \n",
       "std          1706.499616  \n",
       "min            33.290000  \n",
       "25%           834.247400  \n",
       "50%          1794.331000  \n",
       "75%          3101.296400  \n",
       "max         13086.964800  "
      ]
     },
     "execution_count": 15,
     "metadata": {},
     "output_type": "execute_result"
    }
   ],
   "source": [
    "# Numericals\n",
    "num_df = combined.select_dtypes('number')\n",
    "print('Numeric Data : \\n')\n",
    "num_df.describe()"
   ]
  },
  {
   "cell_type": "code",
   "execution_count": 16,
   "id": "855b2d70",
   "metadata": {
    "execution": {
     "iopub.execute_input": "2022-11-30T13:35:57.253463Z",
     "iopub.status.busy": "2022-11-30T13:35:57.253106Z",
     "iopub.status.idle": "2022-11-30T13:35:57.291287Z",
     "shell.execute_reply": "2022-11-30T13:35:57.288717Z"
    },
    "papermill": {
     "duration": 0.051677,
     "end_time": "2022-11-30T13:35:57.294151",
     "exception": false,
     "start_time": "2022-11-30T13:35:57.242474",
     "status": "completed"
    },
    "tags": []
   },
   "outputs": [
    {
     "data": {
      "text/html": [
       "<div>\n",
       "<style scoped>\n",
       "    .dataframe tbody tr th:only-of-type {\n",
       "        vertical-align: middle;\n",
       "    }\n",
       "\n",
       "    .dataframe tbody tr th {\n",
       "        vertical-align: top;\n",
       "    }\n",
       "\n",
       "    .dataframe thead th {\n",
       "        text-align: right;\n",
       "    }\n",
       "</style>\n",
       "<table border=\"1\" class=\"dataframe\">\n",
       "  <thead>\n",
       "    <tr style=\"text-align: right;\">\n",
       "      <th></th>\n",
       "      <th>Item_Identifier</th>\n",
       "      <th>Item_Fat_Content</th>\n",
       "      <th>Item_Type</th>\n",
       "      <th>Outlet_Identifier</th>\n",
       "      <th>Outlet_Size</th>\n",
       "      <th>Outlet_Location_Type</th>\n",
       "      <th>Outlet_Type</th>\n",
       "    </tr>\n",
       "  </thead>\n",
       "  <tbody>\n",
       "    <tr>\n",
       "      <th>count</th>\n",
       "      <td>14204</td>\n",
       "      <td>14204</td>\n",
       "      <td>14204</td>\n",
       "      <td>14204</td>\n",
       "      <td>14204</td>\n",
       "      <td>14204</td>\n",
       "      <td>14204</td>\n",
       "    </tr>\n",
       "    <tr>\n",
       "      <th>unique</th>\n",
       "      <td>1559</td>\n",
       "      <td>5</td>\n",
       "      <td>16</td>\n",
       "      <td>10</td>\n",
       "      <td>3</td>\n",
       "      <td>3</td>\n",
       "      <td>4</td>\n",
       "    </tr>\n",
       "    <tr>\n",
       "      <th>top</th>\n",
       "      <td>FDU15</td>\n",
       "      <td>Low Fat</td>\n",
       "      <td>Fruits and Vegetables</td>\n",
       "      <td>OUT027</td>\n",
       "      <td>Medium</td>\n",
       "      <td>Tier 3</td>\n",
       "      <td>Supermarket Type1</td>\n",
       "    </tr>\n",
       "    <tr>\n",
       "      <th>freq</th>\n",
       "      <td>10</td>\n",
       "      <td>8485</td>\n",
       "      <td>2013</td>\n",
       "      <td>1559</td>\n",
       "      <td>8671</td>\n",
       "      <td>5583</td>\n",
       "      <td>9294</td>\n",
       "    </tr>\n",
       "  </tbody>\n",
       "</table>\n",
       "</div>"
      ],
      "text/plain": [
       "       Item_Identifier Item_Fat_Content              Item_Type  \\\n",
       "count            14204            14204                  14204   \n",
       "unique            1559                5                     16   \n",
       "top              FDU15          Low Fat  Fruits and Vegetables   \n",
       "freq                10             8485                   2013   \n",
       "\n",
       "       Outlet_Identifier Outlet_Size Outlet_Location_Type        Outlet_Type  \n",
       "count              14204       14204                14204              14204  \n",
       "unique                10           3                    3                  4  \n",
       "top               OUT027      Medium               Tier 3  Supermarket Type1  \n",
       "freq                1559        8671                 5583               9294  "
      ]
     },
     "execution_count": 16,
     "metadata": {},
     "output_type": "execute_result"
    }
   ],
   "source": [
    "# Categorial \n",
    "cat_df = combined.select_dtypes('object')\n",
    "cat_df.describe()"
   ]
  },
  {
   "cell_type": "code",
   "execution_count": 17,
   "id": "d9101aa8",
   "metadata": {
    "execution": {
     "iopub.execute_input": "2022-11-30T13:35:57.317471Z",
     "iopub.status.busy": "2022-11-30T13:35:57.317060Z",
     "iopub.status.idle": "2022-11-30T13:35:57.343851Z",
     "shell.execute_reply": "2022-11-30T13:35:57.342302Z"
    },
    "papermill": {
     "duration": 0.040114,
     "end_time": "2022-11-30T13:35:57.345766",
     "exception": false,
     "start_time": "2022-11-30T13:35:57.305652",
     "status": "completed"
    },
    "tags": []
   },
   "outputs": [
    {
     "name": "stdout",
     "output_type": "stream",
     "text": [
      "\n",
      "Frequency of Categories for varible Item_Fat_Content\n",
      "\n",
      "Total Categories:  5 \n",
      " Low Fat    8485\n",
      "Regular    4824\n",
      "LF          522\n",
      "reg         195\n",
      "low fat     178\n",
      "Name: Item_Fat_Content, dtype: int64\n",
      "\n",
      "Frequency of Categories for varible Item_Type\n",
      "\n",
      "Total Categories:  16 \n",
      " Fruits and Vegetables    2013\n",
      "Snack Foods              1989\n",
      "Household                1548\n",
      "Frozen Foods             1426\n",
      "Dairy                    1136\n",
      "Baking Goods             1086\n",
      "Canned                   1084\n",
      "Health and Hygiene        858\n",
      "Meat                      736\n",
      "Soft Drinks               726\n",
      "Breads                    416\n",
      "Hard Drinks               362\n",
      "Others                    280\n",
      "Starchy Foods             269\n",
      "Breakfast                 186\n",
      "Seafood                    89\n",
      "Name: Item_Type, dtype: int64\n",
      "\n",
      "Frequency of Categories for varible Outlet_Identifier\n",
      "\n",
      "Total Categories:  10 \n",
      " OUT027    1559\n",
      "OUT013    1553\n",
      "OUT049    1550\n",
      "OUT046    1550\n",
      "OUT035    1550\n",
      "OUT045    1548\n",
      "OUT018    1546\n",
      "OUT017    1543\n",
      "OUT010     925\n",
      "OUT019     880\n",
      "Name: Outlet_Identifier, dtype: int64\n",
      "\n",
      "Frequency of Categories for varible Outlet_Size\n",
      "\n",
      "Total Categories:  3 \n",
      " Medium    8671\n",
      "Small     3980\n",
      "High      1553\n",
      "Name: Outlet_Size, dtype: int64\n",
      "\n",
      "Frequency of Categories for varible Outlet_Location_Type\n",
      "\n",
      "Total Categories:  3 \n",
      " Tier 3    5583\n",
      "Tier 2    4641\n",
      "Tier 1    3980\n",
      "Name: Outlet_Location_Type, dtype: int64\n",
      "\n",
      "Frequency of Categories for varible Outlet_Type\n",
      "\n",
      "Total Categories:  4 \n",
      " Supermarket Type1    9294\n",
      "Grocery Store        1805\n",
      "Supermarket Type3    1559\n",
      "Supermarket Type2    1546\n",
      "Name: Outlet_Type, dtype: int64\n"
     ]
    }
   ],
   "source": [
    "# Lets Deal with catgorial Data First     \n",
    "for col in cat_df.columns:\n",
    "    if(col != 'Item_Identifier'):\n",
    "        print('\\nFrequency of Categories for varible %s'%col)\n",
    "        print('\\nTotal Categories: ', len(cat_df[col].value_counts()), '\\n', cat_df[col].value_counts())\n",
    "        "
   ]
  },
  {
   "cell_type": "markdown",
   "id": "59c01196",
   "metadata": {
    "execution": {
     "iopub.execute_input": "2022-11-29T09:23:54.561223Z",
     "iopub.status.busy": "2022-11-29T09:23:54.560806Z",
     "iopub.status.idle": "2022-11-29T09:23:54.570128Z",
     "shell.execute_reply": "2022-11-29T09:23:54.568724Z",
     "shell.execute_reply.started": "2022-11-29T09:23:54.561186Z"
    },
    "papermill": {
     "duration": 0.009658,
     "end_time": "2022-11-30T13:35:57.366422",
     "exception": false,
     "start_time": "2022-11-30T13:35:57.356764",
     "status": "completed"
    },
    "tags": []
   },
   "source": [
    "* **Item_Fat_Content**: We have reapted values in , lets replace them\n",
    "* **Item_Type**: We have categories of items, that can be shrink\n",
    "* **Outlet_Type**: We have Store type2,and type3, that can be combined\n"
   ]
  },
  {
   "cell_type": "code",
   "execution_count": 18,
   "id": "89158a6b",
   "metadata": {
    "execution": {
     "iopub.execute_input": "2022-11-30T13:35:57.387390Z",
     "iopub.status.busy": "2022-11-30T13:35:57.386737Z",
     "iopub.status.idle": "2022-11-30T13:35:57.399402Z",
     "shell.execute_reply": "2022-11-30T13:35:57.398266Z"
    },
    "papermill": {
     "duration": 0.026281,
     "end_time": "2022-11-30T13:35:57.402217",
     "exception": false,
     "start_time": "2022-11-30T13:35:57.375936",
     "status": "completed"
    },
    "tags": []
   },
   "outputs": [
    {
     "name": "stderr",
     "output_type": "stream",
     "text": [
      "/opt/conda/lib/python3.7/site-packages/ipykernel_launcher.py:3: SettingWithCopyWarning: \n",
      "A value is trying to be set on a copy of a slice from a DataFrame.\n",
      "Try using .loc[row_indexer,col_indexer] = value instead\n",
      "\n",
      "See the caveats in the documentation: https://pandas.pydata.org/pandas-docs/stable/user_guide/indexing.html#returning-a-view-versus-a-copy\n",
      "  This is separate from the ipykernel package so we can avoid doing imports until\n"
     ]
    },
    {
     "data": {
      "text/plain": [
       "Low Fat    9185\n",
       "Regular    5019\n",
       "Name: Item_Fat_Content, dtype: int64"
      ]
     },
     "execution_count": 18,
     "metadata": {},
     "output_type": "execute_result"
    }
   ],
   "source": [
    "# Replace reapted values in Item_Fat_Content\n",
    "cat_df['Item_Fat_Content'] = cat_df.Item_Fat_Content.replace(['LF', 'low fat', 'reg'],\n",
    "                                                              ['Low Fat','Low Fat', 'Regular'])\n",
    "cat_df.Item_Fat_Content.value_counts()"
   ]
  },
  {
   "cell_type": "markdown",
   "id": "1845346c",
   "metadata": {
    "papermill": {
     "duration": 0.009099,
     "end_time": "2022-11-30T13:35:57.422091",
     "exception": false,
     "start_time": "2022-11-30T13:35:57.412992",
     "status": "completed"
    },
    "tags": []
   },
   "source": [
    "Combine Item_Type, as we have 16 catgories, but when you see Item_identifier ID, It has first two charachters defining the item type, these are **FD**, **DR**, **NC** means food, Drinks, Non-Consumables.\n",
    "lets convert Item_Type into these 3 categories"
   ]
  },
  {
   "cell_type": "code",
   "execution_count": 19,
   "id": "b71384b3",
   "metadata": {
    "execution": {
     "iopub.execute_input": "2022-11-30T13:35:57.443351Z",
     "iopub.status.busy": "2022-11-30T13:35:57.442806Z",
     "iopub.status.idle": "2022-11-30T13:35:57.461508Z",
     "shell.execute_reply": "2022-11-30T13:35:57.459175Z"
    },
    "papermill": {
     "duration": 0.032774,
     "end_time": "2022-11-30T13:35:57.464450",
     "exception": false,
     "start_time": "2022-11-30T13:35:57.431676",
     "status": "completed"
    },
    "tags": []
   },
   "outputs": [
    {
     "name": "stderr",
     "output_type": "stream",
     "text": [
      "/opt/conda/lib/python3.7/site-packages/ipykernel_launcher.py:2: SettingWithCopyWarning: \n",
      "A value is trying to be set on a copy of a slice from a DataFrame.\n",
      "Try using .loc[row_indexer,col_indexer] = value instead\n",
      "\n",
      "See the caveats in the documentation: https://pandas.pydata.org/pandas-docs/stable/user_guide/indexing.html#returning-a-view-versus-a-copy\n",
      "  \n",
      "/opt/conda/lib/python3.7/site-packages/ipykernel_launcher.py:4: SettingWithCopyWarning: \n",
      "A value is trying to be set on a copy of a slice from a DataFrame.\n",
      "Try using .loc[row_indexer,col_indexer] = value instead\n",
      "\n",
      "See the caveats in the documentation: https://pandas.pydata.org/pandas-docs/stable/user_guide/indexing.html#returning-a-view-versus-a-copy\n",
      "  after removing the cwd from sys.path.\n"
     ]
    },
    {
     "data": {
      "text/plain": [
       "Food              10201\n",
       "Non-Consumable     2686\n",
       "Drinks             1317\n",
       "Name: Item_Type_Combined, dtype: int64"
      ]
     },
     "execution_count": 19,
     "metadata": {},
     "output_type": "execute_result"
    }
   ],
   "source": [
    "# Combine Item_Type, and create new category\n",
    "cat_df['Item_Type_Combined'] = cat_df.Item_Identifier.apply(lambda x:x[0:2])\n",
    "cat_df['Item_Type_Combined'] = cat_df['Item_Type_Combined'].replace(['FD','DR','NC'],\n",
    "                                                                   ['Food','Drinks', 'Non-Consumable']) \n",
    "cat_df.Item_Type_Combined.value_counts()"
   ]
  },
  {
   "cell_type": "markdown",
   "id": "bc05dece",
   "metadata": {
    "papermill": {
     "duration": 0.009425,
     "end_time": "2022-11-30T13:35:57.484538",
     "exception": false,
     "start_time": "2022-11-30T13:35:57.475113",
     "status": "completed"
    },
    "tags": []
   },
   "source": [
    "We have Store Types, type2 and Typ3, we can combine them, but is it good?\n",
    "lets check their sales, if both have opprox similier sales, we can combine them"
   ]
  },
  {
   "cell_type": "code",
   "execution_count": 20,
   "id": "bacaaca1",
   "metadata": {
    "execution": {
     "iopub.execute_input": "2022-11-30T13:35:57.507564Z",
     "iopub.status.busy": "2022-11-30T13:35:57.506524Z",
     "iopub.status.idle": "2022-11-30T13:35:57.526263Z",
     "shell.execute_reply": "2022-11-30T13:35:57.525355Z"
    },
    "papermill": {
     "duration": 0.033658,
     "end_time": "2022-11-30T13:35:57.528245",
     "exception": false,
     "start_time": "2022-11-30T13:35:57.494587",
     "status": "completed"
    },
    "tags": []
   },
   "outputs": [
    {
     "data": {
      "text/html": [
       "<div>\n",
       "<style scoped>\n",
       "    .dataframe tbody tr th:only-of-type {\n",
       "        vertical-align: middle;\n",
       "    }\n",
       "\n",
       "    .dataframe tbody tr th {\n",
       "        vertical-align: top;\n",
       "    }\n",
       "\n",
       "    .dataframe thead th {\n",
       "        text-align: right;\n",
       "    }\n",
       "</style>\n",
       "<table border=\"1\" class=\"dataframe\">\n",
       "  <thead>\n",
       "    <tr style=\"text-align: right;\">\n",
       "      <th></th>\n",
       "      <th>Item_Outlet_Sales</th>\n",
       "    </tr>\n",
       "    <tr>\n",
       "      <th>Outlet_Type</th>\n",
       "      <th></th>\n",
       "    </tr>\n",
       "  </thead>\n",
       "  <tbody>\n",
       "    <tr>\n",
       "      <th>Grocery Store</th>\n",
       "      <td>339.828500</td>\n",
       "    </tr>\n",
       "    <tr>\n",
       "      <th>Supermarket Type1</th>\n",
       "      <td>2316.181148</td>\n",
       "    </tr>\n",
       "    <tr>\n",
       "      <th>Supermarket Type2</th>\n",
       "      <td>1995.498739</td>\n",
       "    </tr>\n",
       "    <tr>\n",
       "      <th>Supermarket Type3</th>\n",
       "      <td>3694.038558</td>\n",
       "    </tr>\n",
       "  </tbody>\n",
       "</table>\n",
       "</div>"
      ],
      "text/plain": [
       "                   Item_Outlet_Sales\n",
       "Outlet_Type                         \n",
       "Grocery Store             339.828500\n",
       "Supermarket Type1        2316.181148\n",
       "Supermarket Type2        1995.498739\n",
       "Supermarket Type3        3694.038558"
      ]
     },
     "execution_count": 20,
     "metadata": {},
     "output_type": "execute_result"
    }
   ],
   "source": [
    "combined.pivot_table(values='Item_Outlet_Sales', index='Outlet_Type')"
   ]
  },
  {
   "cell_type": "markdown",
   "id": "c7a31933",
   "metadata": {
    "papermill": {
     "duration": 0.00952,
     "end_time": "2022-11-30T13:35:57.547785",
     "exception": false,
     "start_time": "2022-11-30T13:35:57.538265",
     "status": "completed"
    },
    "tags": []
   },
   "source": [
    "There is a huge difference in sales, so not good idea to combine them"
   ]
  },
  {
   "cell_type": "code",
   "execution_count": 21,
   "id": "260c1ea4",
   "metadata": {
    "execution": {
     "iopub.execute_input": "2022-11-30T13:35:57.569119Z",
     "iopub.status.busy": "2022-11-30T13:35:57.568746Z",
     "iopub.status.idle": "2022-11-30T13:35:57.594340Z",
     "shell.execute_reply": "2022-11-30T13:35:57.592942Z"
    },
    "papermill": {
     "duration": 0.039332,
     "end_time": "2022-11-30T13:35:57.596941",
     "exception": false,
     "start_time": "2022-11-30T13:35:57.557609",
     "status": "completed"
    },
    "tags": []
   },
   "outputs": [
    {
     "data": {
      "text/html": [
       "<div>\n",
       "<style scoped>\n",
       "    .dataframe tbody tr th:only-of-type {\n",
       "        vertical-align: middle;\n",
       "    }\n",
       "\n",
       "    .dataframe tbody tr th {\n",
       "        vertical-align: top;\n",
       "    }\n",
       "\n",
       "    .dataframe thead th {\n",
       "        text-align: right;\n",
       "    }\n",
       "</style>\n",
       "<table border=\"1\" class=\"dataframe\">\n",
       "  <thead>\n",
       "    <tr style=\"text-align: right;\">\n",
       "      <th></th>\n",
       "      <th>Item_Weight</th>\n",
       "      <th>Item_Visibility</th>\n",
       "      <th>Item_MRP</th>\n",
       "      <th>Outlet_Establishment_Year</th>\n",
       "      <th>Item_Outlet_Sales</th>\n",
       "    </tr>\n",
       "  </thead>\n",
       "  <tbody>\n",
       "    <tr>\n",
       "      <th>count</th>\n",
       "      <td>14204.000000</td>\n",
       "      <td>14204.000000</td>\n",
       "      <td>14204.000000</td>\n",
       "      <td>14204.000000</td>\n",
       "      <td>8523.000000</td>\n",
       "    </tr>\n",
       "    <tr>\n",
       "      <th>mean</th>\n",
       "      <td>12.792854</td>\n",
       "      <td>0.065953</td>\n",
       "      <td>141.004977</td>\n",
       "      <td>1997.830681</td>\n",
       "      <td>2181.288914</td>\n",
       "    </tr>\n",
       "    <tr>\n",
       "      <th>std</th>\n",
       "      <td>4.234226</td>\n",
       "      <td>0.051459</td>\n",
       "      <td>62.086938</td>\n",
       "      <td>8.371664</td>\n",
       "      <td>1706.499616</td>\n",
       "    </tr>\n",
       "    <tr>\n",
       "      <th>min</th>\n",
       "      <td>4.555000</td>\n",
       "      <td>0.000000</td>\n",
       "      <td>31.290000</td>\n",
       "      <td>1985.000000</td>\n",
       "      <td>33.290000</td>\n",
       "    </tr>\n",
       "    <tr>\n",
       "      <th>25%</th>\n",
       "      <td>9.300000</td>\n",
       "      <td>0.027036</td>\n",
       "      <td>94.012000</td>\n",
       "      <td>1987.000000</td>\n",
       "      <td>834.247400</td>\n",
       "    </tr>\n",
       "    <tr>\n",
       "      <th>50%</th>\n",
       "      <td>12.792854</td>\n",
       "      <td>0.054021</td>\n",
       "      <td>142.247000</td>\n",
       "      <td>1999.000000</td>\n",
       "      <td>1794.331000</td>\n",
       "    </tr>\n",
       "    <tr>\n",
       "      <th>75%</th>\n",
       "      <td>16.000000</td>\n",
       "      <td>0.094037</td>\n",
       "      <td>185.855600</td>\n",
       "      <td>2004.000000</td>\n",
       "      <td>3101.296400</td>\n",
       "    </tr>\n",
       "    <tr>\n",
       "      <th>max</th>\n",
       "      <td>21.350000</td>\n",
       "      <td>0.328391</td>\n",
       "      <td>266.888400</td>\n",
       "      <td>2009.000000</td>\n",
       "      <td>13086.964800</td>\n",
       "    </tr>\n",
       "  </tbody>\n",
       "</table>\n",
       "</div>"
      ],
      "text/plain": [
       "        Item_Weight  Item_Visibility      Item_MRP  Outlet_Establishment_Year  \\\n",
       "count  14204.000000     14204.000000  14204.000000               14204.000000   \n",
       "mean      12.792854         0.065953    141.004977                1997.830681   \n",
       "std        4.234226         0.051459     62.086938                   8.371664   \n",
       "min        4.555000         0.000000     31.290000                1985.000000   \n",
       "25%        9.300000         0.027036     94.012000                1987.000000   \n",
       "50%       12.792854         0.054021    142.247000                1999.000000   \n",
       "75%       16.000000         0.094037    185.855600                2004.000000   \n",
       "max       21.350000         0.328391    266.888400                2009.000000   \n",
       "\n",
       "       Item_Outlet_Sales  \n",
       "count        8523.000000  \n",
       "mean         2181.288914  \n",
       "std          1706.499616  \n",
       "min            33.290000  \n",
       "25%           834.247400  \n",
       "50%          1794.331000  \n",
       "75%          3101.296400  \n",
       "max         13086.964800  "
      ]
     },
     "execution_count": 21,
     "metadata": {},
     "output_type": "execute_result"
    }
   ],
   "source": [
    "# Lets deal with Numerical Data\n",
    "num_df.describe()"
   ]
  },
  {
   "cell_type": "markdown",
   "id": "2b567c78",
   "metadata": {
    "papermill": {
     "duration": 0.009637,
     "end_time": "2022-11-30T13:35:57.616738",
     "exception": false,
     "start_time": "2022-11-30T13:35:57.607101",
     "status": "completed"
    },
    "tags": []
   },
   "source": [
    "* **Item_Visibility**: it has min 0 value, which makes no sense\n",
    "* **Outlet_Establishment_Year**: Its better to address how old store is\n"
   ]
  },
  {
   "cell_type": "code",
   "execution_count": 22,
   "id": "0b203fd0",
   "metadata": {
    "execution": {
     "iopub.execute_input": "2022-11-30T13:35:57.638859Z",
     "iopub.status.busy": "2022-11-30T13:35:57.638481Z",
     "iopub.status.idle": "2022-11-30T13:35:57.649205Z",
     "shell.execute_reply": "2022-11-30T13:35:57.647623Z"
    },
    "papermill": {
     "duration": 0.024533,
     "end_time": "2022-11-30T13:35:57.651399",
     "exception": false,
     "start_time": "2022-11-30T13:35:57.626866",
     "status": "completed"
    },
    "tags": []
   },
   "outputs": [
    {
     "name": "stderr",
     "output_type": "stream",
     "text": [
      "/opt/conda/lib/python3.7/site-packages/ipykernel_launcher.py:2: SettingWithCopyWarning: \n",
      "A value is trying to be set on a copy of a slice from a DataFrame.\n",
      "Try using .loc[row_indexer,col_indexer] = value instead\n",
      "\n",
      "See the caveats in the documentation: https://pandas.pydata.org/pandas-docs/stable/user_guide/indexing.html#returning-a-view-versus-a-copy\n",
      "  \n"
     ]
    },
    {
     "data": {
      "text/plain": [
       "0       14\n",
       "1        4\n",
       "2       14\n",
       "3       15\n",
       "4       26\n",
       "        ..\n",
       "5676    16\n",
       "5677     4\n",
       "5678    11\n",
       "5679     6\n",
       "5680    11\n",
       "Name: Oultet_Age, Length: 14204, dtype: int64"
      ]
     },
     "execution_count": 22,
     "metadata": {},
     "output_type": "execute_result"
    }
   ],
   "source": [
    "# change Establishment_Year to Outlet_Age\n",
    "num_df['Oultet_Age'] = 2013 - num_df['Outlet_Establishment_Year']\n",
    "num_df['Oultet_Age']"
   ]
  },
  {
   "cell_type": "code",
   "execution_count": 23,
   "id": "be14ab5a",
   "metadata": {
    "execution": {
     "iopub.execute_input": "2022-11-30T13:35:57.675346Z",
     "iopub.status.busy": "2022-11-30T13:35:57.674987Z",
     "iopub.status.idle": "2022-11-30T13:35:57.780845Z",
     "shell.execute_reply": "2022-11-30T13:35:57.779194Z"
    },
    "papermill": {
     "duration": 0.120269,
     "end_time": "2022-11-30T13:35:57.783278",
     "exception": false,
     "start_time": "2022-11-30T13:35:57.663009",
     "status": "completed"
    },
    "tags": []
   },
   "outputs": [
    {
     "name": "stdout",
     "output_type": "stream",
     "text": [
      "Missing Values in Item_Visibility:  879\n",
      "Missing values after filling:  0\n"
     ]
    },
    {
     "name": "stderr",
     "output_type": "stream",
     "text": [
      "/opt/conda/lib/python3.7/site-packages/pandas/core/indexing.py:1884: SettingWithCopyWarning: \n",
      "A value is trying to be set on a copy of a slice from a DataFrame.\n",
      "Try using .loc[row_indexer,col_indexer] = value instead\n",
      "\n",
      "See the caveats in the documentation: https://pandas.pydata.org/pandas-docs/stable/user_guide/indexing.html#returning-a-view-versus-a-copy\n",
      "  self._setitem_single_column(loc, val, pi)\n"
     ]
    }
   ],
   "source": [
    "# Lets consider 0 as missing value in Item_visibility\n",
    "print('Missing Values in Item_Visibility: ', len(num_df[num_df['Item_Visibility'] == 0]))\n",
    "miss_values = (num_df['Item_Visibility'] == 0)\n",
    "item_vis_avg = combined.pivot_table(values='Item_Visibility', index ='Item_Identifier')\n",
    "\n",
    "num_df.loc[miss_values, 'Item_Visibility'] = combined.loc[miss_values, 'Item_Identifier'].apply(lambda x:item_vis_avg.loc[x])\n",
    "print('Missing values after filling: ' , sum(num_df['Item_Visibility'] == 0))"
   ]
  }
 ],
 "metadata": {
  "kernelspec": {
   "display_name": "Python 3",
   "language": "python",
   "name": "python3"
  },
  "language_info": {
   "codemirror_mode": {
    "name": "ipython",
    "version": 3
   },
   "file_extension": ".py",
   "mimetype": "text/x-python",
   "name": "python",
   "nbconvert_exporter": "python",
   "pygments_lexer": "ipython3",
   "version": "3.7.12"
  },
  "papermill": {
   "default_parameters": {},
   "duration": 10.828329,
   "end_time": "2022-11-30T13:35:58.516972",
   "environment_variables": {},
   "exception": null,
   "input_path": "__notebook__.ipynb",
   "output_path": "__notebook__.ipynb",
   "parameters": {},
   "start_time": "2022-11-30T13:35:47.688643",
   "version": "2.3.4"
  }
 },
 "nbformat": 4,
 "nbformat_minor": 5
}
