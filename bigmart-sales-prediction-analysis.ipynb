{
 "cells": [
  {
   "cell_type": "markdown",
   "id": "84042425",
   "metadata": {
    "papermill": {
     "duration": 0.004883,
     "end_time": "2022-11-27T19:24:12.023803",
     "exception": false,
     "start_time": "2022-11-27T19:24:12.018920",
     "status": "completed"
    },
    "tags": []
   },
   "source": [
    "# BigMart Sales Prediction\n",
    "\n",
    "### Problem Statement\n",
    "#### The data scientists at BigMart have collected 2013 sales data for 1559 products across 10 stores in different cities. Also, certain attributes of each product and store have been defined. The aim of this data science project is to build a predictive model and find out the sales of each product at a particular store.\n",
    "\n",
    "### Statement Analysis\n",
    "####  Supervised Machine Learning Problem\n",
    "####  The Target Value is **Sales**\n",
    "\n",
    "### Goal\n",
    "#### Using this model, BigMart will try to understand the properties of products and stores which play a key role in increasing sales.\n"
   ]
  },
  {
   "cell_type": "markdown",
   "id": "ce4482de",
   "metadata": {
    "papermill": {
     "duration": 0.003873,
     "end_time": "2022-11-27T19:24:12.031799",
     "exception": false,
     "start_time": "2022-11-27T19:24:12.027926",
     "status": "completed"
    },
    "tags": []
   },
   "source": [
    "# Hypothesis Generation Using Product, Store and City\n",
    "1. **City Type:** Stores located in urban should have higher Sales.\n",
    "2. **Store Location:** Store located in popular market place shoud have higher Sales\n",
    "3. **Populted City:** City with high population should have higher Sales.\n",
    "4. **Store Size**: Stores with large size should have higher Sales.\n",
    "5. **Staff**: Stores with more staff should have higher Sales.\n",
    "6. **Branded Products**: Branded Products will have higher Sales. \n",
    "7. **Product Visbility**: Products with large space should have higher Sales.\n",
    "8. **Product Frequency**: More frequnct products will have high Sales.\n",
    "9. **Utilities**: Daily Basic Products should have higher Sales.\n",
    "10. **Promotional Offers**: Promo Products should have higher Sales."
   ]
  },
  {
   "cell_type": "markdown",
   "id": "e9d8b31c",
   "metadata": {
    "papermill": {
     "duration": 0.003769,
     "end_time": "2022-11-27T19:24:12.039526",
     "exception": false,
     "start_time": "2022-11-27T19:24:12.035757",
     "status": "completed"
    },
    "tags": []
   },
   "source": [
    "This dataset is named BigMart Sales. The dataset contains a set of 8,523 records under 12 attributes:\n",
    "\n",
    "Column Name and their                          Description\n",
    "* **Item_Identifier:**                Unique product ID\n",
    "* **Item_Weight\t:**                    Weight of product\n",
    "* **Item_Fat_Content\t:**   Checks the Concentration of fat in the product\n",
    "* **Item_Visibility\t:**   The % of total display area of all similar products in a store\n",
    "* **Item_Type:**    Category\n",
    "* **Item_MRP\t :**          Maximum Retail Price for a Product\n",
    "* **Outlet_Identifier\t:**   Store ID\n",
    "* **Outlet_Establishment_Year\t:**The year in which store was established\n",
    "* **Outlet_Size\t:**The size of the store (Area Size Category)\n",
    "* **Outlet_Location_Type\t:**In Terms of city Tiers (Size)\n",
    "* **Outlet_Type\t:**Grocery store or a type of supermarket\n",
    "* **Item_Outlet_Sales\t:** Sales of the product In the Specific outlet"
   ]
  },
  {
   "cell_type": "code",
   "execution_count": 1,
   "id": "4d946e6c",
   "metadata": {
    "execution": {
     "iopub.execute_input": "2022-11-27T19:24:12.050072Z",
     "iopub.status.busy": "2022-11-27T19:24:12.048653Z",
     "iopub.status.idle": "2022-11-27T19:24:12.936125Z",
     "shell.execute_reply": "2022-11-27T19:24:12.935229Z"
    },
    "papermill": {
     "duration": 0.894597,
     "end_time": "2022-11-27T19:24:12.938023",
     "exception": false,
     "start_time": "2022-11-27T19:24:12.043426",
     "status": "completed"
    },
    "tags": []
   },
   "outputs": [
    {
     "name": "stdout",
     "output_type": "stream",
     "text": [
      "/kaggle/input/bigmart-sales-data/Train.csv\n",
      "/kaggle/input/bigmart-sales-data/Test.csv\n"
     ]
    }
   ],
   "source": [
    "# This Python 3 environment comes with many helpful analytics libraries installed\n",
    "# It is defined by the kaggle/python Docker image: https://github.com/kaggle/docker-python\n",
    "# For example, here's several helpful packages to load\n",
    "\n",
    "import numpy as np # linear algebra\n",
    "import pandas as pd # data processing, CSV file I/O (e.g. pd.read_csv)\n",
    "import matplotlib.pyplot as plt \n",
    "import seaborn as sns\n",
    "\n",
    "# Input data files are available in the read-only \"../input/\" directory\n",
    "# For example, running this (by clicking run or pressing Shift+Enter) will list all files under the input directory\n",
    "\n",
    "import os\n",
    "for dirname, _, filenames in os.walk('/kaggle/input'):\n",
    "    for filename in filenames:\n",
    "        print(os.path.join(dirname, filename))\n",
    "\n",
    "# You can write up to 20GB to the current directory (/kaggle/working/) that gets preserved as output when you create a version using \"Save & Run All\" \n",
    "# You can also write temporary files to /kaggle/temp/, but they won't be saved outside of the current session"
   ]
  },
  {
   "cell_type": "code",
   "execution_count": 2,
   "id": "83a2e10e",
   "metadata": {
    "execution": {
     "iopub.execute_input": "2022-11-27T19:24:12.947739Z",
     "iopub.status.busy": "2022-11-27T19:24:12.947220Z",
     "iopub.status.idle": "2022-11-27T19:24:12.950592Z",
     "shell.execute_reply": "2022-11-27T19:24:12.950004Z"
    },
    "papermill": {
     "duration": 0.01036,
     "end_time": "2022-11-27T19:24:12.952767",
     "exception": false,
     "start_time": "2022-11-27T19:24:12.942407",
     "status": "completed"
    },
    "tags": []
   },
   "outputs": [],
   "source": [
    "#path for the training set\n",
    "train_path = \"/kaggle/input/bigmart-sales-data/Train.csv\"\n",
    "#path for the testing set\n",
    "test_path = \"/kaggle/input/bigmart-sales-data/Test.csv\""
   ]
  },
  {
   "cell_type": "code",
   "execution_count": 3,
   "id": "09c35322",
   "metadata": {
    "execution": {
     "iopub.execute_input": "2022-11-27T19:24:12.963091Z",
     "iopub.status.busy": "2022-11-27T19:24:12.962356Z",
     "iopub.status.idle": "2022-11-27T19:24:13.020043Z",
     "shell.execute_reply": "2022-11-27T19:24:13.019225Z"
    },
    "papermill": {
     "duration": 0.065582,
     "end_time": "2022-11-27T19:24:13.022486",
     "exception": false,
     "start_time": "2022-11-27T19:24:12.956904",
     "status": "completed"
    },
    "tags": []
   },
   "outputs": [
    {
     "data": {
      "text/html": [
       "<div>\n",
       "<style scoped>\n",
       "    .dataframe tbody tr th:only-of-type {\n",
       "        vertical-align: middle;\n",
       "    }\n",
       "\n",
       "    .dataframe tbody tr th {\n",
       "        vertical-align: top;\n",
       "    }\n",
       "\n",
       "    .dataframe thead th {\n",
       "        text-align: right;\n",
       "    }\n",
       "</style>\n",
       "<table border=\"1\" class=\"dataframe\">\n",
       "  <thead>\n",
       "    <tr style=\"text-align: right;\">\n",
       "      <th></th>\n",
       "      <th>Item_Identifier</th>\n",
       "      <th>Item_Weight</th>\n",
       "      <th>Item_Fat_Content</th>\n",
       "      <th>Item_Visibility</th>\n",
       "      <th>Item_Type</th>\n",
       "      <th>Item_MRP</th>\n",
       "      <th>Outlet_Identifier</th>\n",
       "      <th>Outlet_Establishment_Year</th>\n",
       "      <th>Outlet_Size</th>\n",
       "      <th>Outlet_Location_Type</th>\n",
       "      <th>Outlet_Type</th>\n",
       "      <th>Item_Outlet_Sales</th>\n",
       "    </tr>\n",
       "  </thead>\n",
       "  <tbody>\n",
       "    <tr>\n",
       "      <th>0</th>\n",
       "      <td>FDA15</td>\n",
       "      <td>9.30</td>\n",
       "      <td>Low Fat</td>\n",
       "      <td>0.016047</td>\n",
       "      <td>Dairy</td>\n",
       "      <td>249.8092</td>\n",
       "      <td>OUT049</td>\n",
       "      <td>1999</td>\n",
       "      <td>Medium</td>\n",
       "      <td>Tier 1</td>\n",
       "      <td>Supermarket Type1</td>\n",
       "      <td>3735.1380</td>\n",
       "    </tr>\n",
       "    <tr>\n",
       "      <th>1</th>\n",
       "      <td>DRC01</td>\n",
       "      <td>5.92</td>\n",
       "      <td>Regular</td>\n",
       "      <td>0.019278</td>\n",
       "      <td>Soft Drinks</td>\n",
       "      <td>48.2692</td>\n",
       "      <td>OUT018</td>\n",
       "      <td>2009</td>\n",
       "      <td>Medium</td>\n",
       "      <td>Tier 3</td>\n",
       "      <td>Supermarket Type2</td>\n",
       "      <td>443.4228</td>\n",
       "    </tr>\n",
       "    <tr>\n",
       "      <th>2</th>\n",
       "      <td>FDN15</td>\n",
       "      <td>17.50</td>\n",
       "      <td>Low Fat</td>\n",
       "      <td>0.016760</td>\n",
       "      <td>Meat</td>\n",
       "      <td>141.6180</td>\n",
       "      <td>OUT049</td>\n",
       "      <td>1999</td>\n",
       "      <td>Medium</td>\n",
       "      <td>Tier 1</td>\n",
       "      <td>Supermarket Type1</td>\n",
       "      <td>2097.2700</td>\n",
       "    </tr>\n",
       "    <tr>\n",
       "      <th>3</th>\n",
       "      <td>FDX07</td>\n",
       "      <td>19.20</td>\n",
       "      <td>Regular</td>\n",
       "      <td>0.000000</td>\n",
       "      <td>Fruits and Vegetables</td>\n",
       "      <td>182.0950</td>\n",
       "      <td>OUT010</td>\n",
       "      <td>1998</td>\n",
       "      <td>NaN</td>\n",
       "      <td>Tier 3</td>\n",
       "      <td>Grocery Store</td>\n",
       "      <td>732.3800</td>\n",
       "    </tr>\n",
       "    <tr>\n",
       "      <th>4</th>\n",
       "      <td>NCD19</td>\n",
       "      <td>8.93</td>\n",
       "      <td>Low Fat</td>\n",
       "      <td>0.000000</td>\n",
       "      <td>Household</td>\n",
       "      <td>53.8614</td>\n",
       "      <td>OUT013</td>\n",
       "      <td>1987</td>\n",
       "      <td>High</td>\n",
       "      <td>Tier 3</td>\n",
       "      <td>Supermarket Type1</td>\n",
       "      <td>994.7052</td>\n",
       "    </tr>\n",
       "  </tbody>\n",
       "</table>\n",
       "</div>"
      ],
      "text/plain": [
       "  Item_Identifier  Item_Weight Item_Fat_Content  Item_Visibility  \\\n",
       "0           FDA15         9.30          Low Fat         0.016047   \n",
       "1           DRC01         5.92          Regular         0.019278   \n",
       "2           FDN15        17.50          Low Fat         0.016760   \n",
       "3           FDX07        19.20          Regular         0.000000   \n",
       "4           NCD19         8.93          Low Fat         0.000000   \n",
       "\n",
       "               Item_Type  Item_MRP Outlet_Identifier  \\\n",
       "0                  Dairy  249.8092            OUT049   \n",
       "1            Soft Drinks   48.2692            OUT018   \n",
       "2                   Meat  141.6180            OUT049   \n",
       "3  Fruits and Vegetables  182.0950            OUT010   \n",
       "4              Household   53.8614            OUT013   \n",
       "\n",
       "   Outlet_Establishment_Year Outlet_Size Outlet_Location_Type  \\\n",
       "0                       1999      Medium               Tier 1   \n",
       "1                       2009      Medium               Tier 3   \n",
       "2                       1999      Medium               Tier 1   \n",
       "3                       1998         NaN               Tier 3   \n",
       "4                       1987        High               Tier 3   \n",
       "\n",
       "         Outlet_Type  Item_Outlet_Sales  \n",
       "0  Supermarket Type1          3735.1380  \n",
       "1  Supermarket Type2           443.4228  \n",
       "2  Supermarket Type1          2097.2700  \n",
       "3      Grocery Store           732.3800  \n",
       "4  Supermarket Type1           994.7052  "
      ]
     },
     "execution_count": 3,
     "metadata": {},
     "output_type": "execute_result"
    }
   ],
   "source": [
    "# Reading Dataset Train.csv\n",
    "train_df = pd.read_csv(train_path)\n",
    "train_df.head()"
   ]
  },
  {
   "cell_type": "code",
   "execution_count": 4,
   "id": "de20a360",
   "metadata": {
    "execution": {
     "iopub.execute_input": "2022-11-27T19:24:13.032784Z",
     "iopub.status.busy": "2022-11-27T19:24:13.032476Z",
     "iopub.status.idle": "2022-11-27T19:24:13.061966Z",
     "shell.execute_reply": "2022-11-27T19:24:13.061217Z"
    },
    "papermill": {
     "duration": 0.036462,
     "end_time": "2022-11-27T19:24:13.063716",
     "exception": false,
     "start_time": "2022-11-27T19:24:13.027254",
     "status": "completed"
    },
    "tags": []
   },
   "outputs": [
    {
     "data": {
      "text/html": [
       "<div>\n",
       "<style scoped>\n",
       "    .dataframe tbody tr th:only-of-type {\n",
       "        vertical-align: middle;\n",
       "    }\n",
       "\n",
       "    .dataframe tbody tr th {\n",
       "        vertical-align: top;\n",
       "    }\n",
       "\n",
       "    .dataframe thead th {\n",
       "        text-align: right;\n",
       "    }\n",
       "</style>\n",
       "<table border=\"1\" class=\"dataframe\">\n",
       "  <thead>\n",
       "    <tr style=\"text-align: right;\">\n",
       "      <th></th>\n",
       "      <th>Item_Identifier</th>\n",
       "      <th>Item_Weight</th>\n",
       "      <th>Item_Fat_Content</th>\n",
       "      <th>Item_Visibility</th>\n",
       "      <th>Item_Type</th>\n",
       "      <th>Item_MRP</th>\n",
       "      <th>Outlet_Identifier</th>\n",
       "      <th>Outlet_Establishment_Year</th>\n",
       "      <th>Outlet_Size</th>\n",
       "      <th>Outlet_Location_Type</th>\n",
       "      <th>Outlet_Type</th>\n",
       "    </tr>\n",
       "  </thead>\n",
       "  <tbody>\n",
       "    <tr>\n",
       "      <th>0</th>\n",
       "      <td>FDW58</td>\n",
       "      <td>20.750</td>\n",
       "      <td>Low Fat</td>\n",
       "      <td>0.007565</td>\n",
       "      <td>Snack Foods</td>\n",
       "      <td>107.8622</td>\n",
       "      <td>OUT049</td>\n",
       "      <td>1999</td>\n",
       "      <td>Medium</td>\n",
       "      <td>Tier 1</td>\n",
       "      <td>Supermarket Type1</td>\n",
       "    </tr>\n",
       "    <tr>\n",
       "      <th>1</th>\n",
       "      <td>FDW14</td>\n",
       "      <td>8.300</td>\n",
       "      <td>reg</td>\n",
       "      <td>0.038428</td>\n",
       "      <td>Dairy</td>\n",
       "      <td>87.3198</td>\n",
       "      <td>OUT017</td>\n",
       "      <td>2007</td>\n",
       "      <td>NaN</td>\n",
       "      <td>Tier 2</td>\n",
       "      <td>Supermarket Type1</td>\n",
       "    </tr>\n",
       "    <tr>\n",
       "      <th>2</th>\n",
       "      <td>NCN55</td>\n",
       "      <td>14.600</td>\n",
       "      <td>Low Fat</td>\n",
       "      <td>0.099575</td>\n",
       "      <td>Others</td>\n",
       "      <td>241.7538</td>\n",
       "      <td>OUT010</td>\n",
       "      <td>1998</td>\n",
       "      <td>NaN</td>\n",
       "      <td>Tier 3</td>\n",
       "      <td>Grocery Store</td>\n",
       "    </tr>\n",
       "    <tr>\n",
       "      <th>3</th>\n",
       "      <td>FDQ58</td>\n",
       "      <td>7.315</td>\n",
       "      <td>Low Fat</td>\n",
       "      <td>0.015388</td>\n",
       "      <td>Snack Foods</td>\n",
       "      <td>155.0340</td>\n",
       "      <td>OUT017</td>\n",
       "      <td>2007</td>\n",
       "      <td>NaN</td>\n",
       "      <td>Tier 2</td>\n",
       "      <td>Supermarket Type1</td>\n",
       "    </tr>\n",
       "    <tr>\n",
       "      <th>4</th>\n",
       "      <td>FDY38</td>\n",
       "      <td>NaN</td>\n",
       "      <td>Regular</td>\n",
       "      <td>0.118599</td>\n",
       "      <td>Dairy</td>\n",
       "      <td>234.2300</td>\n",
       "      <td>OUT027</td>\n",
       "      <td>1985</td>\n",
       "      <td>Medium</td>\n",
       "      <td>Tier 3</td>\n",
       "      <td>Supermarket Type3</td>\n",
       "    </tr>\n",
       "  </tbody>\n",
       "</table>\n",
       "</div>"
      ],
      "text/plain": [
       "  Item_Identifier  Item_Weight Item_Fat_Content  Item_Visibility    Item_Type  \\\n",
       "0           FDW58       20.750          Low Fat         0.007565  Snack Foods   \n",
       "1           FDW14        8.300              reg         0.038428        Dairy   \n",
       "2           NCN55       14.600          Low Fat         0.099575       Others   \n",
       "3           FDQ58        7.315          Low Fat         0.015388  Snack Foods   \n",
       "4           FDY38          NaN          Regular         0.118599        Dairy   \n",
       "\n",
       "   Item_MRP Outlet_Identifier  Outlet_Establishment_Year Outlet_Size  \\\n",
       "0  107.8622            OUT049                       1999      Medium   \n",
       "1   87.3198            OUT017                       2007         NaN   \n",
       "2  241.7538            OUT010                       1998         NaN   \n",
       "3  155.0340            OUT017                       2007         NaN   \n",
       "4  234.2300            OUT027                       1985      Medium   \n",
       "\n",
       "  Outlet_Location_Type        Outlet_Type  \n",
       "0               Tier 1  Supermarket Type1  \n",
       "1               Tier 2  Supermarket Type1  \n",
       "2               Tier 3      Grocery Store  \n",
       "3               Tier 2  Supermarket Type1  \n",
       "4               Tier 3  Supermarket Type3  "
      ]
     },
     "execution_count": 4,
     "metadata": {},
     "output_type": "execute_result"
    }
   ],
   "source": [
    "# Reading Dataset Test.csv\n",
    "test_df = pd.read_csv(test_path)\n",
    "test_df.head()"
   ]
  },
  {
   "cell_type": "code",
   "execution_count": 5,
   "id": "d1482b84",
   "metadata": {
    "execution": {
     "iopub.execute_input": "2022-11-27T19:24:13.075580Z",
     "iopub.status.busy": "2022-11-27T19:24:13.074650Z",
     "iopub.status.idle": "2022-11-27T19:24:13.080349Z",
     "shell.execute_reply": "2022-11-27T19:24:13.079162Z"
    },
    "papermill": {
     "duration": 0.014192,
     "end_time": "2022-11-27T19:24:13.082603",
     "exception": false,
     "start_time": "2022-11-27T19:24:13.068411",
     "status": "completed"
    },
    "tags": []
   },
   "outputs": [
    {
     "name": "stdout",
     "output_type": "stream",
     "text": [
      "Training Dataset (row, col): (8523, 12) \n",
      "\n",
      "Testing Dataset (row, col): (5681, 11)\n"
     ]
    }
   ],
   "source": [
    "# Rows and columns\n",
    "print(f'Training Dataset (row, col): {train_df.shape} \\n\\nTesting Dataset (row, col): {test_df.shape}')"
   ]
  },
  {
   "cell_type": "markdown",
   "id": "628705ec",
   "metadata": {
    "papermill": {
     "duration": 0.00436,
     "end_time": "2022-11-27T19:24:13.091947",
     "exception": false,
     "start_time": "2022-11-27T19:24:13.087587",
     "status": "completed"
    },
    "tags": []
   },
   "source": [
    "# Preprocessing\n",
    "\n",
    "## Lets Combine Both DataSets since both are Similiar    "
   ]
  },
  {
   "cell_type": "code",
   "execution_count": 6,
   "id": "753e24d8",
   "metadata": {
    "execution": {
     "iopub.execute_input": "2022-11-27T19:24:13.103444Z",
     "iopub.status.busy": "2022-11-27T19:24:13.103084Z",
     "iopub.status.idle": "2022-11-27T19:24:13.119146Z",
     "shell.execute_reply": "2022-11-27T19:24:13.118228Z"
    },
    "papermill": {
     "duration": 0.024738,
     "end_time": "2022-11-27T19:24:13.121191",
     "exception": false,
     "start_time": "2022-11-27T19:24:13.096453",
     "status": "completed"
    },
    "tags": []
   },
   "outputs": [],
   "source": [
    "# Lets combine both datasets\n",
    "test_df['Item_Outlet_Sales'] = np.nan\n",
    "combined = pd.concat([train_df, test_df])"
   ]
  },
  {
   "cell_type": "code",
   "execution_count": 7,
   "id": "623fe78f",
   "metadata": {
    "execution": {
     "iopub.execute_input": "2022-11-27T19:24:13.132132Z",
     "iopub.status.busy": "2022-11-27T19:24:13.131475Z",
     "iopub.status.idle": "2022-11-27T19:24:13.155366Z",
     "shell.execute_reply": "2022-11-27T19:24:13.154371Z"
    },
    "papermill": {
     "duration": 0.031033,
     "end_time": "2022-11-27T19:24:13.157114",
     "exception": false,
     "start_time": "2022-11-27T19:24:13.126081",
     "status": "completed"
    },
    "tags": []
   },
   "outputs": [
    {
     "name": "stdout",
     "output_type": "stream",
     "text": [
      "<class 'pandas.core.frame.DataFrame'>\n",
      "Int64Index: 14204 entries, 0 to 5680\n",
      "Data columns (total 12 columns):\n",
      " #   Column                     Non-Null Count  Dtype  \n",
      "---  ------                     --------------  -----  \n",
      " 0   Item_Identifier            14204 non-null  object \n",
      " 1   Item_Weight                11765 non-null  float64\n",
      " 2   Item_Fat_Content           14204 non-null  object \n",
      " 3   Item_Visibility            14204 non-null  float64\n",
      " 4   Item_Type                  14204 non-null  object \n",
      " 5   Item_MRP                   14204 non-null  float64\n",
      " 6   Outlet_Identifier          14204 non-null  object \n",
      " 7   Outlet_Establishment_Year  14204 non-null  int64  \n",
      " 8   Outlet_Size                10188 non-null  object \n",
      " 9   Outlet_Location_Type       14204 non-null  object \n",
      " 10  Outlet_Type                14204 non-null  object \n",
      " 11  Item_Outlet_Sales          8523 non-null   float64\n",
      "dtypes: float64(4), int64(1), object(7)\n",
      "memory usage: 1.4+ MB\n"
     ]
    }
   ],
   "source": [
    "combined.info(verbose=True, show_counts=True)"
   ]
  },
  {
   "cell_type": "code",
   "execution_count": 8,
   "id": "9762fe22",
   "metadata": {
    "execution": {
     "iopub.execute_input": "2022-11-27T19:24:13.168078Z",
     "iopub.status.busy": "2022-11-27T19:24:13.167588Z",
     "iopub.status.idle": "2022-11-27T19:24:13.216855Z",
     "shell.execute_reply": "2022-11-27T19:24:13.215956Z"
    },
    "papermill": {
     "duration": 0.05653,
     "end_time": "2022-11-27T19:24:13.218513",
     "exception": false,
     "start_time": "2022-11-27T19:24:13.161983",
     "status": "completed"
    },
    "tags": []
   },
   "outputs": [
    {
     "data": {
      "text/html": [
       "<div>\n",
       "<style scoped>\n",
       "    .dataframe tbody tr th:only-of-type {\n",
       "        vertical-align: middle;\n",
       "    }\n",
       "\n",
       "    .dataframe tbody tr th {\n",
       "        vertical-align: top;\n",
       "    }\n",
       "\n",
       "    .dataframe thead th {\n",
       "        text-align: right;\n",
       "    }\n",
       "</style>\n",
       "<table border=\"1\" class=\"dataframe\">\n",
       "  <thead>\n",
       "    <tr style=\"text-align: right;\">\n",
       "      <th></th>\n",
       "      <th>Item_Identifier</th>\n",
       "      <th>Item_Weight</th>\n",
       "      <th>Item_Fat_Content</th>\n",
       "      <th>Item_Visibility</th>\n",
       "      <th>Item_Type</th>\n",
       "      <th>Item_MRP</th>\n",
       "      <th>Outlet_Identifier</th>\n",
       "      <th>Outlet_Establishment_Year</th>\n",
       "      <th>Outlet_Size</th>\n",
       "      <th>Outlet_Location_Type</th>\n",
       "      <th>Outlet_Type</th>\n",
       "      <th>Item_Outlet_Sales</th>\n",
       "    </tr>\n",
       "  </thead>\n",
       "  <tbody>\n",
       "    <tr>\n",
       "      <th>count</th>\n",
       "      <td>14204</td>\n",
       "      <td>11765.000000</td>\n",
       "      <td>14204</td>\n",
       "      <td>14204.000000</td>\n",
       "      <td>14204</td>\n",
       "      <td>14204.000000</td>\n",
       "      <td>14204</td>\n",
       "      <td>14204.000000</td>\n",
       "      <td>10188</td>\n",
       "      <td>14204</td>\n",
       "      <td>14204</td>\n",
       "      <td>8523.000000</td>\n",
       "    </tr>\n",
       "    <tr>\n",
       "      <th>unique</th>\n",
       "      <td>1559</td>\n",
       "      <td>NaN</td>\n",
       "      <td>5</td>\n",
       "      <td>NaN</td>\n",
       "      <td>16</td>\n",
       "      <td>NaN</td>\n",
       "      <td>10</td>\n",
       "      <td>NaN</td>\n",
       "      <td>3</td>\n",
       "      <td>3</td>\n",
       "      <td>4</td>\n",
       "      <td>NaN</td>\n",
       "    </tr>\n",
       "    <tr>\n",
       "      <th>top</th>\n",
       "      <td>FDU15</td>\n",
       "      <td>NaN</td>\n",
       "      <td>Low Fat</td>\n",
       "      <td>NaN</td>\n",
       "      <td>Fruits and Vegetables</td>\n",
       "      <td>NaN</td>\n",
       "      <td>OUT027</td>\n",
       "      <td>NaN</td>\n",
       "      <td>Medium</td>\n",
       "      <td>Tier 3</td>\n",
       "      <td>Supermarket Type1</td>\n",
       "      <td>NaN</td>\n",
       "    </tr>\n",
       "    <tr>\n",
       "      <th>freq</th>\n",
       "      <td>10</td>\n",
       "      <td>NaN</td>\n",
       "      <td>8485</td>\n",
       "      <td>NaN</td>\n",
       "      <td>2013</td>\n",
       "      <td>NaN</td>\n",
       "      <td>1559</td>\n",
       "      <td>NaN</td>\n",
       "      <td>4655</td>\n",
       "      <td>5583</td>\n",
       "      <td>9294</td>\n",
       "      <td>NaN</td>\n",
       "    </tr>\n",
       "    <tr>\n",
       "      <th>mean</th>\n",
       "      <td>NaN</td>\n",
       "      <td>12.792854</td>\n",
       "      <td>NaN</td>\n",
       "      <td>0.065953</td>\n",
       "      <td>NaN</td>\n",
       "      <td>141.004977</td>\n",
       "      <td>NaN</td>\n",
       "      <td>1997.830681</td>\n",
       "      <td>NaN</td>\n",
       "      <td>NaN</td>\n",
       "      <td>NaN</td>\n",
       "      <td>2181.288914</td>\n",
       "    </tr>\n",
       "    <tr>\n",
       "      <th>std</th>\n",
       "      <td>NaN</td>\n",
       "      <td>4.652502</td>\n",
       "      <td>NaN</td>\n",
       "      <td>0.051459</td>\n",
       "      <td>NaN</td>\n",
       "      <td>62.086938</td>\n",
       "      <td>NaN</td>\n",
       "      <td>8.371664</td>\n",
       "      <td>NaN</td>\n",
       "      <td>NaN</td>\n",
       "      <td>NaN</td>\n",
       "      <td>1706.499616</td>\n",
       "    </tr>\n",
       "    <tr>\n",
       "      <th>min</th>\n",
       "      <td>NaN</td>\n",
       "      <td>4.555000</td>\n",
       "      <td>NaN</td>\n",
       "      <td>0.000000</td>\n",
       "      <td>NaN</td>\n",
       "      <td>31.290000</td>\n",
       "      <td>NaN</td>\n",
       "      <td>1985.000000</td>\n",
       "      <td>NaN</td>\n",
       "      <td>NaN</td>\n",
       "      <td>NaN</td>\n",
       "      <td>33.290000</td>\n",
       "    </tr>\n",
       "    <tr>\n",
       "      <th>25%</th>\n",
       "      <td>NaN</td>\n",
       "      <td>8.710000</td>\n",
       "      <td>NaN</td>\n",
       "      <td>0.027036</td>\n",
       "      <td>NaN</td>\n",
       "      <td>94.012000</td>\n",
       "      <td>NaN</td>\n",
       "      <td>1987.000000</td>\n",
       "      <td>NaN</td>\n",
       "      <td>NaN</td>\n",
       "      <td>NaN</td>\n",
       "      <td>834.247400</td>\n",
       "    </tr>\n",
       "    <tr>\n",
       "      <th>50%</th>\n",
       "      <td>NaN</td>\n",
       "      <td>12.600000</td>\n",
       "      <td>NaN</td>\n",
       "      <td>0.054021</td>\n",
       "      <td>NaN</td>\n",
       "      <td>142.247000</td>\n",
       "      <td>NaN</td>\n",
       "      <td>1999.000000</td>\n",
       "      <td>NaN</td>\n",
       "      <td>NaN</td>\n",
       "      <td>NaN</td>\n",
       "      <td>1794.331000</td>\n",
       "    </tr>\n",
       "    <tr>\n",
       "      <th>75%</th>\n",
       "      <td>NaN</td>\n",
       "      <td>16.750000</td>\n",
       "      <td>NaN</td>\n",
       "      <td>0.094037</td>\n",
       "      <td>NaN</td>\n",
       "      <td>185.855600</td>\n",
       "      <td>NaN</td>\n",
       "      <td>2004.000000</td>\n",
       "      <td>NaN</td>\n",
       "      <td>NaN</td>\n",
       "      <td>NaN</td>\n",
       "      <td>3101.296400</td>\n",
       "    </tr>\n",
       "    <tr>\n",
       "      <th>max</th>\n",
       "      <td>NaN</td>\n",
       "      <td>21.350000</td>\n",
       "      <td>NaN</td>\n",
       "      <td>0.328391</td>\n",
       "      <td>NaN</td>\n",
       "      <td>266.888400</td>\n",
       "      <td>NaN</td>\n",
       "      <td>2009.000000</td>\n",
       "      <td>NaN</td>\n",
       "      <td>NaN</td>\n",
       "      <td>NaN</td>\n",
       "      <td>13086.964800</td>\n",
       "    </tr>\n",
       "  </tbody>\n",
       "</table>\n",
       "</div>"
      ],
      "text/plain": [
       "       Item_Identifier   Item_Weight Item_Fat_Content  Item_Visibility  \\\n",
       "count            14204  11765.000000            14204     14204.000000   \n",
       "unique            1559           NaN                5              NaN   \n",
       "top              FDU15           NaN          Low Fat              NaN   \n",
       "freq                10           NaN             8485              NaN   \n",
       "mean               NaN     12.792854              NaN         0.065953   \n",
       "std                NaN      4.652502              NaN         0.051459   \n",
       "min                NaN      4.555000              NaN         0.000000   \n",
       "25%                NaN      8.710000              NaN         0.027036   \n",
       "50%                NaN     12.600000              NaN         0.054021   \n",
       "75%                NaN     16.750000              NaN         0.094037   \n",
       "max                NaN     21.350000              NaN         0.328391   \n",
       "\n",
       "                    Item_Type      Item_MRP Outlet_Identifier  \\\n",
       "count                   14204  14204.000000             14204   \n",
       "unique                     16           NaN                10   \n",
       "top     Fruits and Vegetables           NaN            OUT027   \n",
       "freq                     2013           NaN              1559   \n",
       "mean                      NaN    141.004977               NaN   \n",
       "std                       NaN     62.086938               NaN   \n",
       "min                       NaN     31.290000               NaN   \n",
       "25%                       NaN     94.012000               NaN   \n",
       "50%                       NaN    142.247000               NaN   \n",
       "75%                       NaN    185.855600               NaN   \n",
       "max                       NaN    266.888400               NaN   \n",
       "\n",
       "        Outlet_Establishment_Year Outlet_Size Outlet_Location_Type  \\\n",
       "count                14204.000000       10188                14204   \n",
       "unique                        NaN           3                    3   \n",
       "top                           NaN      Medium               Tier 3   \n",
       "freq                          NaN        4655                 5583   \n",
       "mean                  1997.830681         NaN                  NaN   \n",
       "std                      8.371664         NaN                  NaN   \n",
       "min                   1985.000000         NaN                  NaN   \n",
       "25%                   1987.000000         NaN                  NaN   \n",
       "50%                   1999.000000         NaN                  NaN   \n",
       "75%                   2004.000000         NaN                  NaN   \n",
       "max                   2009.000000         NaN                  NaN   \n",
       "\n",
       "              Outlet_Type  Item_Outlet_Sales  \n",
       "count               14204        8523.000000  \n",
       "unique                  4                NaN  \n",
       "top     Supermarket Type1                NaN  \n",
       "freq                 9294                NaN  \n",
       "mean                  NaN        2181.288914  \n",
       "std                   NaN        1706.499616  \n",
       "min                   NaN          33.290000  \n",
       "25%                   NaN         834.247400  \n",
       "50%                   NaN        1794.331000  \n",
       "75%                   NaN        3101.296400  \n",
       "max                   NaN       13086.964800  "
      ]
     },
     "execution_count": 8,
     "metadata": {},
     "output_type": "execute_result"
    }
   ],
   "source": [
    "# Summary of Dataset Train\n",
    "combined.describe(include=[object, np.number])"
   ]
  },
  {
   "cell_type": "markdown",
   "id": "0af933a4",
   "metadata": {
    "papermill": {
     "duration": 0.004558,
     "end_time": "2022-11-27T19:24:13.228042",
     "exception": false,
     "start_time": "2022-11-27T19:24:13.223484",
     "status": "completed"
    },
    "tags": []
   },
   "source": [
    " # "
   ]
  },
  {
   "cell_type": "code",
   "execution_count": 9,
   "id": "f01b8d26",
   "metadata": {
    "execution": {
     "iopub.execute_input": "2022-11-27T19:24:13.239638Z",
     "iopub.status.busy": "2022-11-27T19:24:13.238754Z",
     "iopub.status.idle": "2022-11-27T19:24:13.254391Z",
     "shell.execute_reply": "2022-11-27T19:24:13.253189Z"
    },
    "papermill": {
     "duration": 0.023877,
     "end_time": "2022-11-27T19:24:13.256778",
     "exception": false,
     "start_time": "2022-11-27T19:24:13.232901",
     "status": "completed"
    },
    "tags": []
   },
   "outputs": [
    {
     "name": "stdout",
     "output_type": "stream",
     "text": [
      "Train:\n",
      "\n",
      "Missing Values by Count: \n",
      "\n",
      " Item_Outlet_Sales            5681\n",
      "Outlet_Size                  4016\n",
      "Item_Weight                  2439\n",
      "Item_Identifier                 0\n",
      "Item_Fat_Content                0\n",
      "Item_Visibility                 0\n",
      "Item_Type                       0\n",
      "Item_MRP                        0\n",
      "Outlet_Identifier               0\n",
      "Outlet_Establishment_Year       0\n",
      "Outlet_Location_Type            0\n",
      "Outlet_Type                     0\n",
      "dtype: int64 \n",
      "\n",
      "Missing Values by %:\n",
      "\n",
      " Item_Outlet_Sales            66.654934\n",
      "Outlet_Size                  47.119559\n",
      "Item_Weight                  28.616684\n",
      "Item_Identifier               0.000000\n",
      "Item_Fat_Content              0.000000\n",
      "Item_Visibility               0.000000\n",
      "Item_Type                     0.000000\n",
      "Item_MRP                      0.000000\n",
      "Outlet_Identifier             0.000000\n",
      "Outlet_Establishment_Year     0.000000\n",
      "Outlet_Location_Type          0.000000\n",
      "Outlet_Type                   0.000000\n",
      "dtype: float64\n"
     ]
    }
   ],
   "source": [
    "# Lets check missing Values\n",
    "print('Train:\\n')\n",
    "print('Missing Values by Count: \\n\\n',\n",
    "      combined.isnull().sum().sort_values(ascending=False),'\\n\\nMissing Values by %:\\n\\n',\n",
    "      combined.isnull().sum().sort_values(ascending=False)/train_df.shape[0] * 100)\n"
   ]
  },
  {
   "cell_type": "code",
   "execution_count": 10,
   "id": "baa0ea6f",
   "metadata": {
    "execution": {
     "iopub.execute_input": "2022-11-27T19:24:13.268864Z",
     "iopub.status.busy": "2022-11-27T19:24:13.268440Z",
     "iopub.status.idle": "2022-11-27T19:24:13.277776Z",
     "shell.execute_reply": "2022-11-27T19:24:13.276972Z"
    },
    "papermill": {
     "duration": 0.017731,
     "end_time": "2022-11-27T19:24:13.280194",
     "exception": false,
     "start_time": "2022-11-27T19:24:13.262463",
     "status": "completed"
    },
    "tags": []
   },
   "outputs": [
    {
     "name": "stdout",
     "output_type": "stream",
     "text": [
      "Missing Values in Outlet_Size :\n",
      "\n",
      " Medium    4655\n",
      "Small     3980\n",
      "High      1553\n",
      "Name: Outlet_Size, dtype: int64\n",
      "Missing Values in Item_Weight :\n",
      "\n",
      " 17.600    135\n",
      "12.150    127\n",
      "10.500    123\n",
      "13.650    115\n",
      "11.800    113\n",
      "         ... \n",
      "7.640       7\n",
      "5.905       7\n",
      "7.850       6\n",
      "4.615       6\n",
      "9.035       6\n",
      "Name: Item_Weight, Length: 415, dtype: int64\n"
     ]
    }
   ],
   "source": [
    "# Lets check and imputate missing values\n",
    "print('Missing Values in Outlet_Size :\\n\\n',combined.Outlet_Size.value_counts())\n",
    "print('Missing Values in Item_Weight :\\n\\n',combined.Item_Weight.value_counts())"
   ]
  },
  {
   "cell_type": "markdown",
   "id": "8ebc4caf",
   "metadata": {
    "papermill": {
     "duration": 0.004856,
     "end_time": "2022-11-27T19:24:13.291098",
     "exception": false,
     "start_time": "2022-11-27T19:24:13.286242",
     "status": "completed"
    },
    "tags": []
   },
   "source": [
    "**OutLet_Size** is a catogerial column, we can use mode to fill the values."
   ]
  },
  {
   "cell_type": "code",
   "execution_count": 11,
   "id": "31bf1606",
   "metadata": {
    "execution": {
     "iopub.execute_input": "2022-11-27T19:24:13.302120Z",
     "iopub.status.busy": "2022-11-27T19:24:13.301873Z",
     "iopub.status.idle": "2022-11-27T19:24:13.310310Z",
     "shell.execute_reply": "2022-11-27T19:24:13.309385Z"
    },
    "papermill": {
     "duration": 0.015879,
     "end_time": "2022-11-27T19:24:13.311967",
     "exception": false,
     "start_time": "2022-11-27T19:24:13.296088",
     "status": "completed"
    },
    "tags": []
   },
   "outputs": [
    {
     "name": "stdout",
     "output_type": "stream",
     "text": [
      "Missing values after filling: 0\n"
     ]
    }
   ],
   "source": [
    "# Filling Outlet Size  missing values.\n",
    "combined['Outlet_Size'] = combined.Outlet_Size.fillna(combined.Outlet_Size.dropna().mode()[0])\n",
    "# Checking if we filled all values\n",
    "print( 'Missing values after filling:' ,combined.Outlet_Size.isnull().sum())"
   ]
  },
  {
   "cell_type": "markdown",
   "id": "33ca7633",
   "metadata": {
    "papermill": {
     "duration": 0.005021,
     "end_time": "2022-11-27T19:24:13.321996",
     "exception": false,
     "start_time": "2022-11-27T19:24:13.316975",
     "status": "completed"
    },
    "tags": []
   },
   "source": [
    "**Item_wieght** is a mumeric column, we need to visulize the its values/distribution to see clearly."
   ]
  },
  {
   "cell_type": "code",
   "execution_count": 12,
   "id": "d7efa110",
   "metadata": {
    "execution": {
     "iopub.execute_input": "2022-11-27T19:24:13.333972Z",
     "iopub.status.busy": "2022-11-27T19:24:13.333066Z",
     "iopub.status.idle": "2022-11-27T19:24:13.336901Z",
     "shell.execute_reply": "2022-11-27T19:24:13.336287Z"
    },
    "papermill": {
     "duration": 0.011568,
     "end_time": "2022-11-27T19:24:13.338454",
     "exception": false,
     "start_time": "2022-11-27T19:24:13.326886",
     "status": "completed"
    },
    "tags": []
   },
   "outputs": [],
   "source": [
    "# sns.boxplot(data=combined['Item_Weight'], color='c')\n",
    "# plt.title('Item Wieght Distribution')\n"
   ]
  },
  {
   "cell_type": "code",
   "execution_count": null,
   "id": "8e988489",
   "metadata": {
    "papermill": {
     "duration": 0.004856,
     "end_time": "2022-11-27T19:24:13.348224",
     "exception": false,
     "start_time": "2022-11-27T19:24:13.343368",
     "status": "completed"
    },
    "tags": []
   },
   "outputs": [],
   "source": []
  }
 ],
 "metadata": {
  "kernelspec": {
   "display_name": "Python 3",
   "language": "python",
   "name": "python3"
  },
  "language_info": {
   "codemirror_mode": {
    "name": "ipython",
    "version": 3
   },
   "file_extension": ".py",
   "mimetype": "text/x-python",
   "name": "python",
   "nbconvert_exporter": "python",
   "pygments_lexer": "ipython3",
   "version": "3.7.12"
  },
  "papermill": {
   "default_parameters": {},
   "duration": 8.665757,
   "end_time": "2022-11-27T19:24:13.971990",
   "environment_variables": {},
   "exception": null,
   "input_path": "__notebook__.ipynb",
   "output_path": "__notebook__.ipynb",
   "parameters": {},
   "start_time": "2022-11-27T19:24:05.306233",
   "version": "2.3.4"
  }
 },
 "nbformat": 4,
 "nbformat_minor": 5
}
