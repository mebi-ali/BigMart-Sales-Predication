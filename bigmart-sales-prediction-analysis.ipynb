{
 "cells": [
  {
   "cell_type": "markdown",
   "id": "9cef2ab3",
   "metadata": {
    "papermill": {
     "duration": 0.016376,
     "end_time": "2022-11-30T22:46:39.733490",
     "exception": false,
     "start_time": "2022-11-30T22:46:39.717114",
     "status": "completed"
    },
    "tags": []
   },
   "source": [
    "# BigMart Sales Prediction\n",
    "\n",
    "### Problem Statement\n",
    "#### The data scientists at BigMart have collected 2013 sales data for 1559 products across 10 stores in different cities. Also, certain attributes of each product and store have been defined. The aim of this data science project is to build a predictive model and find out the sales of each product at a particular store.\n",
    "\n",
    "### Statement Analysis\n",
    "####  Supervised Machine Learning Problem\n",
    "####  The Target Value is **Sales**\n",
    "\n",
    "### Goal\n",
    "#### Using this model, BigMart will try to understand the properties of products and stores which play a key role in increasing sales.\n"
   ]
  },
  {
   "cell_type": "markdown",
   "id": "ac62bb59",
   "metadata": {
    "papermill": {
     "duration": 0.016323,
     "end_time": "2022-11-30T22:46:39.764786",
     "exception": false,
     "start_time": "2022-11-30T22:46:39.748463",
     "status": "completed"
    },
    "tags": []
   },
   "source": [
    "# Hypothesis Generation Using Product, Store and City\n",
    "1. **City Type:** Stores located in urban should have higher Sales.\n",
    "2. **Store Location:** Store located in popular market place shoud have higher Sales\n",
    "3. **Populted City:** City with high population should have higher Sales.\n",
    "4. **Store Size**: Stores with large size should have higher Sales.\n",
    "5. **Staff**: Stores with more staff should have higher Sales.\n",
    "6. **Branded Products**: Branded Products will have higher Sales. \n",
    "7. **Product Visbility**: Products with large space should have higher Sales.\n",
    "8. **Product Frequency**: More frequnct products will have high Sales.\n",
    "9. **Utilities**: Daily Basic Products should have higher Sales.\n",
    "10. **Promotional Offers**: Promo Products should have higher Sales."
   ]
  },
  {
   "cell_type": "markdown",
   "id": "39c0db6d",
   "metadata": {
    "papermill": {
     "duration": 0.014371,
     "end_time": "2022-11-30T22:46:39.794122",
     "exception": false,
     "start_time": "2022-11-30T22:46:39.779751",
     "status": "completed"
    },
    "tags": []
   },
   "source": [
    "This dataset is named BigMart Sales. The dataset contains a set of 8,523 records under 12 attributes:\n",
    "\n",
    "Column Name and their                          Description\n",
    "* **Item_Identifier:**                Unique product ID\n",
    "* **Item_Weight\t:**                    Weight of product\n",
    "* **Item_Fat_Content\t:**   Checks the Concentration of fat in the product\n",
    "* **Item_Visibility\t:**   The % of total display area of all similar products in a store\n",
    "* **Item_Type:**    Category\n",
    "* **Item_MRP\t :**          Maximum Retail Price for a Product\n",
    "* **Outlet_Identifier\t:**   Store ID\n",
    "* **Outlet_Establishment_Year\t:**The year in which store was established\n",
    "* **Outlet_Size\t:**The size of the store (Area Size Category)\n",
    "* **Outlet_Location_Type\t:**In Terms of city Tiers (Size)\n",
    "* **Outlet_Type\t:**Grocery store or a type of supermarket\n",
    "* **Item_Outlet_Sales\t:** Sales of the product In the Specific outlet"
   ]
  },
  {
   "cell_type": "code",
   "execution_count": 1,
   "id": "9cd008fa",
   "metadata": {
    "execution": {
     "iopub.execute_input": "2022-11-30T22:46:39.825933Z",
     "iopub.status.busy": "2022-11-30T22:46:39.825266Z",
     "iopub.status.idle": "2022-11-30T22:46:41.268962Z",
     "shell.execute_reply": "2022-11-30T22:46:41.267352Z"
    },
    "papermill": {
     "duration": 1.464044,
     "end_time": "2022-11-30T22:46:41.272685",
     "exception": false,
     "start_time": "2022-11-30T22:46:39.808641",
     "status": "completed"
    },
    "tags": []
   },
   "outputs": [
    {
     "name": "stdout",
     "output_type": "stream",
     "text": [
      "/kaggle/input/bigmart-sales-data/Train.csv\n",
      "/kaggle/input/bigmart-sales-data/Test.csv\n"
     ]
    }
   ],
   "source": [
    "# This Python 3 environment comes with many helpful analytics libraries installed\n",
    "# It is defined by the kaggle/python Docker image: https://github.com/kaggle/docker-python\n",
    "# For example, here's several helpful packages to load\n",
    "\n",
    "import numpy as np # linear algebra\n",
    "import pandas as pd # data processing, CSV file I/O (e.g. pd.read_csv)\n",
    "import matplotlib.pyplot as plt\n",
    "import seaborn as sns\n",
    "import warnings# warning filter\n",
    "%matplotlib inline\n",
    "\n",
    "#feature engineering\n",
    "from sklearn.preprocessing import OneHotEncoder\n",
    "from sklearn.preprocessing import LabelEncoder\n",
    "\n",
    "#warning hadle\n",
    "warnings.filterwarnings(\"always\")\n",
    "warnings.filterwarnings(\"ignore\")\n",
    "\n",
    "# Input data files are available in the read-only \"../input/\" directory\n",
    "# For example, running this (by clicking run or pressing Shift+Enter) will list all files under the input directory\n",
    "\n",
    "import os\n",
    "for dirname, _, filenames in os.walk('/kaggle/input'):\n",
    "    for filename in filenames:\n",
    "        print(os.path.join(dirname, filename))\n",
    "\n",
    "# You can write up to 20GB to the current directory (/kaggle/working/) that gets preserved as output when you create a version using \"Save & Run All\" \n",
    "# You can also write temporary files to /kaggle/temp/, but they won't be saved outside of the current session"
   ]
  },
  {
   "cell_type": "code",
   "execution_count": 2,
   "id": "0b1ff96b",
   "metadata": {
    "execution": {
     "iopub.execute_input": "2022-11-30T22:46:41.305168Z",
     "iopub.status.busy": "2022-11-30T22:46:41.304146Z",
     "iopub.status.idle": "2022-11-30T22:46:41.310346Z",
     "shell.execute_reply": "2022-11-30T22:46:41.309332Z"
    },
    "papermill": {
     "duration": 0.025248,
     "end_time": "2022-11-30T22:46:41.313076",
     "exception": false,
     "start_time": "2022-11-30T22:46:41.287828",
     "status": "completed"
    },
    "tags": []
   },
   "outputs": [],
   "source": [
    "#path for the training set\n",
    "train_path = \"/kaggle/input/bigmart-sales-data/Train.csv\"\n",
    "#path for the testing set\n",
    "test_path = \"/kaggle/input/bigmart-sales-data/Test.csv\""
   ]
  },
  {
   "cell_type": "code",
   "execution_count": 3,
   "id": "ebc08362",
   "metadata": {
    "execution": {
     "iopub.execute_input": "2022-11-30T22:46:41.345217Z",
     "iopub.status.busy": "2022-11-30T22:46:41.344700Z",
     "iopub.status.idle": "2022-11-30T22:46:41.423638Z",
     "shell.execute_reply": "2022-11-30T22:46:41.422332Z"
    },
    "papermill": {
     "duration": 0.09806,
     "end_time": "2022-11-30T22:46:41.426404",
     "exception": false,
     "start_time": "2022-11-30T22:46:41.328344",
     "status": "completed"
    },
    "tags": []
   },
   "outputs": [
    {
     "data": {
      "text/html": [
       "<div>\n",
       "<style scoped>\n",
       "    .dataframe tbody tr th:only-of-type {\n",
       "        vertical-align: middle;\n",
       "    }\n",
       "\n",
       "    .dataframe tbody tr th {\n",
       "        vertical-align: top;\n",
       "    }\n",
       "\n",
       "    .dataframe thead th {\n",
       "        text-align: right;\n",
       "    }\n",
       "</style>\n",
       "<table border=\"1\" class=\"dataframe\">\n",
       "  <thead>\n",
       "    <tr style=\"text-align: right;\">\n",
       "      <th></th>\n",
       "      <th>Item_Identifier</th>\n",
       "      <th>Item_Weight</th>\n",
       "      <th>Item_Fat_Content</th>\n",
       "      <th>Item_Visibility</th>\n",
       "      <th>Item_Type</th>\n",
       "      <th>Item_MRP</th>\n",
       "      <th>Outlet_Identifier</th>\n",
       "      <th>Outlet_Establishment_Year</th>\n",
       "      <th>Outlet_Size</th>\n",
       "      <th>Outlet_Location_Type</th>\n",
       "      <th>Outlet_Type</th>\n",
       "      <th>Item_Outlet_Sales</th>\n",
       "    </tr>\n",
       "  </thead>\n",
       "  <tbody>\n",
       "    <tr>\n",
       "      <th>0</th>\n",
       "      <td>FDA15</td>\n",
       "      <td>9.30</td>\n",
       "      <td>Low Fat</td>\n",
       "      <td>0.016047</td>\n",
       "      <td>Dairy</td>\n",
       "      <td>249.8092</td>\n",
       "      <td>OUT049</td>\n",
       "      <td>1999</td>\n",
       "      <td>Medium</td>\n",
       "      <td>Tier 1</td>\n",
       "      <td>Supermarket Type1</td>\n",
       "      <td>3735.1380</td>\n",
       "    </tr>\n",
       "    <tr>\n",
       "      <th>1</th>\n",
       "      <td>DRC01</td>\n",
       "      <td>5.92</td>\n",
       "      <td>Regular</td>\n",
       "      <td>0.019278</td>\n",
       "      <td>Soft Drinks</td>\n",
       "      <td>48.2692</td>\n",
       "      <td>OUT018</td>\n",
       "      <td>2009</td>\n",
       "      <td>Medium</td>\n",
       "      <td>Tier 3</td>\n",
       "      <td>Supermarket Type2</td>\n",
       "      <td>443.4228</td>\n",
       "    </tr>\n",
       "    <tr>\n",
       "      <th>2</th>\n",
       "      <td>FDN15</td>\n",
       "      <td>17.50</td>\n",
       "      <td>Low Fat</td>\n",
       "      <td>0.016760</td>\n",
       "      <td>Meat</td>\n",
       "      <td>141.6180</td>\n",
       "      <td>OUT049</td>\n",
       "      <td>1999</td>\n",
       "      <td>Medium</td>\n",
       "      <td>Tier 1</td>\n",
       "      <td>Supermarket Type1</td>\n",
       "      <td>2097.2700</td>\n",
       "    </tr>\n",
       "    <tr>\n",
       "      <th>3</th>\n",
       "      <td>FDX07</td>\n",
       "      <td>19.20</td>\n",
       "      <td>Regular</td>\n",
       "      <td>0.000000</td>\n",
       "      <td>Fruits and Vegetables</td>\n",
       "      <td>182.0950</td>\n",
       "      <td>OUT010</td>\n",
       "      <td>1998</td>\n",
       "      <td>NaN</td>\n",
       "      <td>Tier 3</td>\n",
       "      <td>Grocery Store</td>\n",
       "      <td>732.3800</td>\n",
       "    </tr>\n",
       "    <tr>\n",
       "      <th>4</th>\n",
       "      <td>NCD19</td>\n",
       "      <td>8.93</td>\n",
       "      <td>Low Fat</td>\n",
       "      <td>0.000000</td>\n",
       "      <td>Household</td>\n",
       "      <td>53.8614</td>\n",
       "      <td>OUT013</td>\n",
       "      <td>1987</td>\n",
       "      <td>High</td>\n",
       "      <td>Tier 3</td>\n",
       "      <td>Supermarket Type1</td>\n",
       "      <td>994.7052</td>\n",
       "    </tr>\n",
       "  </tbody>\n",
       "</table>\n",
       "</div>"
      ],
      "text/plain": [
       "  Item_Identifier  Item_Weight Item_Fat_Content  Item_Visibility  \\\n",
       "0           FDA15         9.30          Low Fat         0.016047   \n",
       "1           DRC01         5.92          Regular         0.019278   \n",
       "2           FDN15        17.50          Low Fat         0.016760   \n",
       "3           FDX07        19.20          Regular         0.000000   \n",
       "4           NCD19         8.93          Low Fat         0.000000   \n",
       "\n",
       "               Item_Type  Item_MRP Outlet_Identifier  \\\n",
       "0                  Dairy  249.8092            OUT049   \n",
       "1            Soft Drinks   48.2692            OUT018   \n",
       "2                   Meat  141.6180            OUT049   \n",
       "3  Fruits and Vegetables  182.0950            OUT010   \n",
       "4              Household   53.8614            OUT013   \n",
       "\n",
       "   Outlet_Establishment_Year Outlet_Size Outlet_Location_Type  \\\n",
       "0                       1999      Medium               Tier 1   \n",
       "1                       2009      Medium               Tier 3   \n",
       "2                       1999      Medium               Tier 1   \n",
       "3                       1998         NaN               Tier 3   \n",
       "4                       1987        High               Tier 3   \n",
       "\n",
       "         Outlet_Type  Item_Outlet_Sales  \n",
       "0  Supermarket Type1          3735.1380  \n",
       "1  Supermarket Type2           443.4228  \n",
       "2  Supermarket Type1          2097.2700  \n",
       "3      Grocery Store           732.3800  \n",
       "4  Supermarket Type1           994.7052  "
      ]
     },
     "execution_count": 3,
     "metadata": {},
     "output_type": "execute_result"
    }
   ],
   "source": [
    "# Reading Dataset Train.csv\n",
    "train = pd.read_csv(train_path)\n",
    "train.head()"
   ]
  },
  {
   "cell_type": "code",
   "execution_count": 4,
   "id": "ffed1740",
   "metadata": {
    "execution": {
     "iopub.execute_input": "2022-11-30T22:46:41.459853Z",
     "iopub.status.busy": "2022-11-30T22:46:41.459447Z",
     "iopub.status.idle": "2022-11-30T22:46:41.502599Z",
     "shell.execute_reply": "2022-11-30T22:46:41.501411Z"
    },
    "papermill": {
     "duration": 0.062529,
     "end_time": "2022-11-30T22:46:41.505411",
     "exception": false,
     "start_time": "2022-11-30T22:46:41.442882",
     "status": "completed"
    },
    "tags": []
   },
   "outputs": [
    {
     "data": {
      "text/html": [
       "<div>\n",
       "<style scoped>\n",
       "    .dataframe tbody tr th:only-of-type {\n",
       "        vertical-align: middle;\n",
       "    }\n",
       "\n",
       "    .dataframe tbody tr th {\n",
       "        vertical-align: top;\n",
       "    }\n",
       "\n",
       "    .dataframe thead th {\n",
       "        text-align: right;\n",
       "    }\n",
       "</style>\n",
       "<table border=\"1\" class=\"dataframe\">\n",
       "  <thead>\n",
       "    <tr style=\"text-align: right;\">\n",
       "      <th></th>\n",
       "      <th>Item_Identifier</th>\n",
       "      <th>Item_Weight</th>\n",
       "      <th>Item_Fat_Content</th>\n",
       "      <th>Item_Visibility</th>\n",
       "      <th>Item_Type</th>\n",
       "      <th>Item_MRP</th>\n",
       "      <th>Outlet_Identifier</th>\n",
       "      <th>Outlet_Establishment_Year</th>\n",
       "      <th>Outlet_Size</th>\n",
       "      <th>Outlet_Location_Type</th>\n",
       "      <th>Outlet_Type</th>\n",
       "    </tr>\n",
       "  </thead>\n",
       "  <tbody>\n",
       "    <tr>\n",
       "      <th>0</th>\n",
       "      <td>FDW58</td>\n",
       "      <td>20.750</td>\n",
       "      <td>Low Fat</td>\n",
       "      <td>0.007565</td>\n",
       "      <td>Snack Foods</td>\n",
       "      <td>107.8622</td>\n",
       "      <td>OUT049</td>\n",
       "      <td>1999</td>\n",
       "      <td>Medium</td>\n",
       "      <td>Tier 1</td>\n",
       "      <td>Supermarket Type1</td>\n",
       "    </tr>\n",
       "    <tr>\n",
       "      <th>1</th>\n",
       "      <td>FDW14</td>\n",
       "      <td>8.300</td>\n",
       "      <td>reg</td>\n",
       "      <td>0.038428</td>\n",
       "      <td>Dairy</td>\n",
       "      <td>87.3198</td>\n",
       "      <td>OUT017</td>\n",
       "      <td>2007</td>\n",
       "      <td>NaN</td>\n",
       "      <td>Tier 2</td>\n",
       "      <td>Supermarket Type1</td>\n",
       "    </tr>\n",
       "    <tr>\n",
       "      <th>2</th>\n",
       "      <td>NCN55</td>\n",
       "      <td>14.600</td>\n",
       "      <td>Low Fat</td>\n",
       "      <td>0.099575</td>\n",
       "      <td>Others</td>\n",
       "      <td>241.7538</td>\n",
       "      <td>OUT010</td>\n",
       "      <td>1998</td>\n",
       "      <td>NaN</td>\n",
       "      <td>Tier 3</td>\n",
       "      <td>Grocery Store</td>\n",
       "    </tr>\n",
       "    <tr>\n",
       "      <th>3</th>\n",
       "      <td>FDQ58</td>\n",
       "      <td>7.315</td>\n",
       "      <td>Low Fat</td>\n",
       "      <td>0.015388</td>\n",
       "      <td>Snack Foods</td>\n",
       "      <td>155.0340</td>\n",
       "      <td>OUT017</td>\n",
       "      <td>2007</td>\n",
       "      <td>NaN</td>\n",
       "      <td>Tier 2</td>\n",
       "      <td>Supermarket Type1</td>\n",
       "    </tr>\n",
       "    <tr>\n",
       "      <th>4</th>\n",
       "      <td>FDY38</td>\n",
       "      <td>NaN</td>\n",
       "      <td>Regular</td>\n",
       "      <td>0.118599</td>\n",
       "      <td>Dairy</td>\n",
       "      <td>234.2300</td>\n",
       "      <td>OUT027</td>\n",
       "      <td>1985</td>\n",
       "      <td>Medium</td>\n",
       "      <td>Tier 3</td>\n",
       "      <td>Supermarket Type3</td>\n",
       "    </tr>\n",
       "  </tbody>\n",
       "</table>\n",
       "</div>"
      ],
      "text/plain": [
       "  Item_Identifier  Item_Weight Item_Fat_Content  Item_Visibility    Item_Type  \\\n",
       "0           FDW58       20.750          Low Fat         0.007565  Snack Foods   \n",
       "1           FDW14        8.300              reg         0.038428        Dairy   \n",
       "2           NCN55       14.600          Low Fat         0.099575       Others   \n",
       "3           FDQ58        7.315          Low Fat         0.015388  Snack Foods   \n",
       "4           FDY38          NaN          Regular         0.118599        Dairy   \n",
       "\n",
       "   Item_MRP Outlet_Identifier  Outlet_Establishment_Year Outlet_Size  \\\n",
       "0  107.8622            OUT049                       1999      Medium   \n",
       "1   87.3198            OUT017                       2007         NaN   \n",
       "2  241.7538            OUT010                       1998         NaN   \n",
       "3  155.0340            OUT017                       2007         NaN   \n",
       "4  234.2300            OUT027                       1985      Medium   \n",
       "\n",
       "  Outlet_Location_Type        Outlet_Type  \n",
       "0               Tier 1  Supermarket Type1  \n",
       "1               Tier 2  Supermarket Type1  \n",
       "2               Tier 3      Grocery Store  \n",
       "3               Tier 2  Supermarket Type1  \n",
       "4               Tier 3  Supermarket Type3  "
      ]
     },
     "execution_count": 4,
     "metadata": {},
     "output_type": "execute_result"
    }
   ],
   "source": [
    "# Reading Dataset Test.csv\n",
    "test = pd.read_csv(test_path)\n",
    "test.head()"
   ]
  },
  {
   "cell_type": "code",
   "execution_count": 5,
   "id": "a86565f8",
   "metadata": {
    "execution": {
     "iopub.execute_input": "2022-11-30T22:46:41.539145Z",
     "iopub.status.busy": "2022-11-30T22:46:41.538698Z",
     "iopub.status.idle": "2022-11-30T22:46:41.544402Z",
     "shell.execute_reply": "2022-11-30T22:46:41.543417Z"
    },
    "papermill": {
     "duration": 0.026764,
     "end_time": "2022-11-30T22:46:41.548005",
     "exception": false,
     "start_time": "2022-11-30T22:46:41.521241",
     "status": "completed"
    },
    "tags": []
   },
   "outputs": [
    {
     "name": "stdout",
     "output_type": "stream",
     "text": [
      "Training Dataset (row, col): (8523, 12) \n",
      "\n",
      "Testing Dataset (row, col): (5681, 11)\n"
     ]
    }
   ],
   "source": [
    "# Rows and columns\n",
    "print(f'Training Dataset (row, col): {train.shape} \\n\\nTesting Dataset (row, col): {test.shape}')"
   ]
  },
  {
   "cell_type": "markdown",
   "id": "19a74e18",
   "metadata": {
    "papermill": {
     "duration": 0.015985,
     "end_time": "2022-11-30T22:46:41.580485",
     "exception": false,
     "start_time": "2022-11-30T22:46:41.564500",
     "status": "completed"
    },
    "tags": []
   },
   "source": [
    "# Preprocessing\n",
    "\n",
    "## Lets Combine Both DataSets since both are Similiar    "
   ]
  },
  {
   "cell_type": "code",
   "execution_count": 6,
   "id": "1cd02751",
   "metadata": {
    "execution": {
     "iopub.execute_input": "2022-11-30T22:46:41.614688Z",
     "iopub.status.busy": "2022-11-30T22:46:41.614282Z",
     "iopub.status.idle": "2022-11-30T22:46:41.639721Z",
     "shell.execute_reply": "2022-11-30T22:46:41.637962Z"
    },
    "papermill": {
     "duration": 0.045824,
     "end_time": "2022-11-30T22:46:41.642332",
     "exception": false,
     "start_time": "2022-11-30T22:46:41.596508",
     "status": "completed"
    },
    "tags": []
   },
   "outputs": [
    {
     "name": "stdout",
     "output_type": "stream",
     "text": [
      "After Combining Datasets:  (14204, 13)\n"
     ]
    }
   ],
   "source": [
    "# Lets combine both datasets\n",
    "# test_df['Item_Outlet_Sales'] = np.nan\n",
    "train['source'] = 'train'\n",
    "test['source'] = 'test'\n",
    "data = pd.concat([train, test], ignore_index=True)\n",
    "print('After Combining Datasets: ', data.shape)"
   ]
  },
  {
   "cell_type": "code",
   "execution_count": 7,
   "id": "dba24a15",
   "metadata": {
    "execution": {
     "iopub.execute_input": "2022-11-30T22:46:41.675348Z",
     "iopub.status.busy": "2022-11-30T22:46:41.674930Z",
     "iopub.status.idle": "2022-11-30T22:46:41.706754Z",
     "shell.execute_reply": "2022-11-30T22:46:41.705041Z"
    },
    "papermill": {
     "duration": 0.051341,
     "end_time": "2022-11-30T22:46:41.709404",
     "exception": false,
     "start_time": "2022-11-30T22:46:41.658063",
     "status": "completed"
    },
    "tags": []
   },
   "outputs": [
    {
     "name": "stdout",
     "output_type": "stream",
     "text": [
      "<class 'pandas.core.frame.DataFrame'>\n",
      "RangeIndex: 14204 entries, 0 to 14203\n",
      "Data columns (total 13 columns):\n",
      " #   Column                     Non-Null Count  Dtype  \n",
      "---  ------                     --------------  -----  \n",
      " 0   Item_Identifier            14204 non-null  object \n",
      " 1   Item_Weight                11765 non-null  float64\n",
      " 2   Item_Fat_Content           14204 non-null  object \n",
      " 3   Item_Visibility            14204 non-null  float64\n",
      " 4   Item_Type                  14204 non-null  object \n",
      " 5   Item_MRP                   14204 non-null  float64\n",
      " 6   Outlet_Identifier          14204 non-null  object \n",
      " 7   Outlet_Establishment_Year  14204 non-null  int64  \n",
      " 8   Outlet_Size                10188 non-null  object \n",
      " 9   Outlet_Location_Type       14204 non-null  object \n",
      " 10  Outlet_Type                14204 non-null  object \n",
      " 11  Item_Outlet_Sales          8523 non-null   float64\n",
      " 12  source                     14204 non-null  object \n",
      "dtypes: float64(4), int64(1), object(8)\n",
      "memory usage: 1.4+ MB\n"
     ]
    }
   ],
   "source": [
    "data.info(verbose=True, show_counts=True)"
   ]
  },
  {
   "cell_type": "code",
   "execution_count": 8,
   "id": "3735d5e0",
   "metadata": {
    "execution": {
     "iopub.execute_input": "2022-11-30T22:46:41.744521Z",
     "iopub.status.busy": "2022-11-30T22:46:41.744103Z",
     "iopub.status.idle": "2022-11-30T22:46:41.818824Z",
     "shell.execute_reply": "2022-11-30T22:46:41.817453Z"
    },
    "papermill": {
     "duration": 0.095792,
     "end_time": "2022-11-30T22:46:41.821993",
     "exception": false,
     "start_time": "2022-11-30T22:46:41.726201",
     "status": "completed"
    },
    "tags": []
   },
   "outputs": [
    {
     "data": {
      "text/html": [
       "<div>\n",
       "<style scoped>\n",
       "    .dataframe tbody tr th:only-of-type {\n",
       "        vertical-align: middle;\n",
       "    }\n",
       "\n",
       "    .dataframe tbody tr th {\n",
       "        vertical-align: top;\n",
       "    }\n",
       "\n",
       "    .dataframe thead th {\n",
       "        text-align: right;\n",
       "    }\n",
       "</style>\n",
       "<table border=\"1\" class=\"dataframe\">\n",
       "  <thead>\n",
       "    <tr style=\"text-align: right;\">\n",
       "      <th></th>\n",
       "      <th>Item_Identifier</th>\n",
       "      <th>Item_Weight</th>\n",
       "      <th>Item_Fat_Content</th>\n",
       "      <th>Item_Visibility</th>\n",
       "      <th>Item_Type</th>\n",
       "      <th>Item_MRP</th>\n",
       "      <th>Outlet_Identifier</th>\n",
       "      <th>Outlet_Establishment_Year</th>\n",
       "      <th>Outlet_Size</th>\n",
       "      <th>Outlet_Location_Type</th>\n",
       "      <th>Outlet_Type</th>\n",
       "      <th>Item_Outlet_Sales</th>\n",
       "      <th>source</th>\n",
       "    </tr>\n",
       "  </thead>\n",
       "  <tbody>\n",
       "    <tr>\n",
       "      <th>count</th>\n",
       "      <td>14204</td>\n",
       "      <td>11765.000000</td>\n",
       "      <td>14204</td>\n",
       "      <td>14204.000000</td>\n",
       "      <td>14204</td>\n",
       "      <td>14204.000000</td>\n",
       "      <td>14204</td>\n",
       "      <td>14204.000000</td>\n",
       "      <td>10188</td>\n",
       "      <td>14204</td>\n",
       "      <td>14204</td>\n",
       "      <td>8523.000000</td>\n",
       "      <td>14204</td>\n",
       "    </tr>\n",
       "    <tr>\n",
       "      <th>unique</th>\n",
       "      <td>1559</td>\n",
       "      <td>NaN</td>\n",
       "      <td>5</td>\n",
       "      <td>NaN</td>\n",
       "      <td>16</td>\n",
       "      <td>NaN</td>\n",
       "      <td>10</td>\n",
       "      <td>NaN</td>\n",
       "      <td>3</td>\n",
       "      <td>3</td>\n",
       "      <td>4</td>\n",
       "      <td>NaN</td>\n",
       "      <td>2</td>\n",
       "    </tr>\n",
       "    <tr>\n",
       "      <th>top</th>\n",
       "      <td>FDU15</td>\n",
       "      <td>NaN</td>\n",
       "      <td>Low Fat</td>\n",
       "      <td>NaN</td>\n",
       "      <td>Fruits and Vegetables</td>\n",
       "      <td>NaN</td>\n",
       "      <td>OUT027</td>\n",
       "      <td>NaN</td>\n",
       "      <td>Medium</td>\n",
       "      <td>Tier 3</td>\n",
       "      <td>Supermarket Type1</td>\n",
       "      <td>NaN</td>\n",
       "      <td>train</td>\n",
       "    </tr>\n",
       "    <tr>\n",
       "      <th>freq</th>\n",
       "      <td>10</td>\n",
       "      <td>NaN</td>\n",
       "      <td>8485</td>\n",
       "      <td>NaN</td>\n",
       "      <td>2013</td>\n",
       "      <td>NaN</td>\n",
       "      <td>1559</td>\n",
       "      <td>NaN</td>\n",
       "      <td>4655</td>\n",
       "      <td>5583</td>\n",
       "      <td>9294</td>\n",
       "      <td>NaN</td>\n",
       "      <td>8523</td>\n",
       "    </tr>\n",
       "    <tr>\n",
       "      <th>mean</th>\n",
       "      <td>NaN</td>\n",
       "      <td>12.792854</td>\n",
       "      <td>NaN</td>\n",
       "      <td>0.065953</td>\n",
       "      <td>NaN</td>\n",
       "      <td>141.004977</td>\n",
       "      <td>NaN</td>\n",
       "      <td>1997.830681</td>\n",
       "      <td>NaN</td>\n",
       "      <td>NaN</td>\n",
       "      <td>NaN</td>\n",
       "      <td>2181.288914</td>\n",
       "      <td>NaN</td>\n",
       "    </tr>\n",
       "    <tr>\n",
       "      <th>std</th>\n",
       "      <td>NaN</td>\n",
       "      <td>4.652502</td>\n",
       "      <td>NaN</td>\n",
       "      <td>0.051459</td>\n",
       "      <td>NaN</td>\n",
       "      <td>62.086938</td>\n",
       "      <td>NaN</td>\n",
       "      <td>8.371664</td>\n",
       "      <td>NaN</td>\n",
       "      <td>NaN</td>\n",
       "      <td>NaN</td>\n",
       "      <td>1706.499616</td>\n",
       "      <td>NaN</td>\n",
       "    </tr>\n",
       "    <tr>\n",
       "      <th>min</th>\n",
       "      <td>NaN</td>\n",
       "      <td>4.555000</td>\n",
       "      <td>NaN</td>\n",
       "      <td>0.000000</td>\n",
       "      <td>NaN</td>\n",
       "      <td>31.290000</td>\n",
       "      <td>NaN</td>\n",
       "      <td>1985.000000</td>\n",
       "      <td>NaN</td>\n",
       "      <td>NaN</td>\n",
       "      <td>NaN</td>\n",
       "      <td>33.290000</td>\n",
       "      <td>NaN</td>\n",
       "    </tr>\n",
       "    <tr>\n",
       "      <th>25%</th>\n",
       "      <td>NaN</td>\n",
       "      <td>8.710000</td>\n",
       "      <td>NaN</td>\n",
       "      <td>0.027036</td>\n",
       "      <td>NaN</td>\n",
       "      <td>94.012000</td>\n",
       "      <td>NaN</td>\n",
       "      <td>1987.000000</td>\n",
       "      <td>NaN</td>\n",
       "      <td>NaN</td>\n",
       "      <td>NaN</td>\n",
       "      <td>834.247400</td>\n",
       "      <td>NaN</td>\n",
       "    </tr>\n",
       "    <tr>\n",
       "      <th>50%</th>\n",
       "      <td>NaN</td>\n",
       "      <td>12.600000</td>\n",
       "      <td>NaN</td>\n",
       "      <td>0.054021</td>\n",
       "      <td>NaN</td>\n",
       "      <td>142.247000</td>\n",
       "      <td>NaN</td>\n",
       "      <td>1999.000000</td>\n",
       "      <td>NaN</td>\n",
       "      <td>NaN</td>\n",
       "      <td>NaN</td>\n",
       "      <td>1794.331000</td>\n",
       "      <td>NaN</td>\n",
       "    </tr>\n",
       "    <tr>\n",
       "      <th>75%</th>\n",
       "      <td>NaN</td>\n",
       "      <td>16.750000</td>\n",
       "      <td>NaN</td>\n",
       "      <td>0.094037</td>\n",
       "      <td>NaN</td>\n",
       "      <td>185.855600</td>\n",
       "      <td>NaN</td>\n",
       "      <td>2004.000000</td>\n",
       "      <td>NaN</td>\n",
       "      <td>NaN</td>\n",
       "      <td>NaN</td>\n",
       "      <td>3101.296400</td>\n",
       "      <td>NaN</td>\n",
       "    </tr>\n",
       "    <tr>\n",
       "      <th>max</th>\n",
       "      <td>NaN</td>\n",
       "      <td>21.350000</td>\n",
       "      <td>NaN</td>\n",
       "      <td>0.328391</td>\n",
       "      <td>NaN</td>\n",
       "      <td>266.888400</td>\n",
       "      <td>NaN</td>\n",
       "      <td>2009.000000</td>\n",
       "      <td>NaN</td>\n",
       "      <td>NaN</td>\n",
       "      <td>NaN</td>\n",
       "      <td>13086.964800</td>\n",
       "      <td>NaN</td>\n",
       "    </tr>\n",
       "  </tbody>\n",
       "</table>\n",
       "</div>"
      ],
      "text/plain": [
       "       Item_Identifier   Item_Weight Item_Fat_Content  Item_Visibility  \\\n",
       "count            14204  11765.000000            14204     14204.000000   \n",
       "unique            1559           NaN                5              NaN   \n",
       "top              FDU15           NaN          Low Fat              NaN   \n",
       "freq                10           NaN             8485              NaN   \n",
       "mean               NaN     12.792854              NaN         0.065953   \n",
       "std                NaN      4.652502              NaN         0.051459   \n",
       "min                NaN      4.555000              NaN         0.000000   \n",
       "25%                NaN      8.710000              NaN         0.027036   \n",
       "50%                NaN     12.600000              NaN         0.054021   \n",
       "75%                NaN     16.750000              NaN         0.094037   \n",
       "max                NaN     21.350000              NaN         0.328391   \n",
       "\n",
       "                    Item_Type      Item_MRP Outlet_Identifier  \\\n",
       "count                   14204  14204.000000             14204   \n",
       "unique                     16           NaN                10   \n",
       "top     Fruits and Vegetables           NaN            OUT027   \n",
       "freq                     2013           NaN              1559   \n",
       "mean                      NaN    141.004977               NaN   \n",
       "std                       NaN     62.086938               NaN   \n",
       "min                       NaN     31.290000               NaN   \n",
       "25%                       NaN     94.012000               NaN   \n",
       "50%                       NaN    142.247000               NaN   \n",
       "75%                       NaN    185.855600               NaN   \n",
       "max                       NaN    266.888400               NaN   \n",
       "\n",
       "        Outlet_Establishment_Year Outlet_Size Outlet_Location_Type  \\\n",
       "count                14204.000000       10188                14204   \n",
       "unique                        NaN           3                    3   \n",
       "top                           NaN      Medium               Tier 3   \n",
       "freq                          NaN        4655                 5583   \n",
       "mean                  1997.830681         NaN                  NaN   \n",
       "std                      8.371664         NaN                  NaN   \n",
       "min                   1985.000000         NaN                  NaN   \n",
       "25%                   1987.000000         NaN                  NaN   \n",
       "50%                   1999.000000         NaN                  NaN   \n",
       "75%                   2004.000000         NaN                  NaN   \n",
       "max                   2009.000000         NaN                  NaN   \n",
       "\n",
       "              Outlet_Type  Item_Outlet_Sales source  \n",
       "count               14204        8523.000000  14204  \n",
       "unique                  4                NaN      2  \n",
       "top     Supermarket Type1                NaN  train  \n",
       "freq                 9294                NaN   8523  \n",
       "mean                  NaN        2181.288914    NaN  \n",
       "std                   NaN        1706.499616    NaN  \n",
       "min                   NaN          33.290000    NaN  \n",
       "25%                   NaN         834.247400    NaN  \n",
       "50%                   NaN        1794.331000    NaN  \n",
       "75%                   NaN        3101.296400    NaN  \n",
       "max                   NaN       13086.964800    NaN  "
      ]
     },
     "execution_count": 8,
     "metadata": {},
     "output_type": "execute_result"
    }
   ],
   "source": [
    "# Summary of Dataset Train\n",
    "data.describe(include=[object, np.number])"
   ]
  },
  {
   "cell_type": "markdown",
   "id": "0f78f004",
   "metadata": {
    "execution": {
     "iopub.execute_input": "2022-11-30T20:25:28.341867Z",
     "iopub.status.busy": "2022-11-30T20:25:28.341471Z",
     "iopub.status.idle": "2022-11-30T20:25:28.351072Z",
     "shell.execute_reply": "2022-11-30T20:25:28.349055Z",
     "shell.execute_reply.started": "2022-11-30T20:25:28.341834Z"
    },
    "papermill": {
     "duration": 0.016152,
     "end_time": "2022-11-30T22:46:41.854538",
     "exception": false,
     "start_time": "2022-11-30T22:46:41.838386",
     "status": "completed"
    },
    "tags": []
   },
   "source": [
    "# Data Exploration\n",
    "Below are the steps involved to understand, clean and prepare your data for building your predictive model:\n",
    "\n",
    "* Missing values treatment\n",
    "* Variable Identification\n",
    "* Univariate Analysis\n",
    "* Bi-variate Analysis\n",
    "* Outlier treatment\n",
    "* Variable transformation\n",
    "* Variable creation"
   ]
  },
  {
   "cell_type": "markdown",
   "id": "881c86a6",
   "metadata": {
    "papermill": {
     "duration": 0.01614,
     "end_time": "2022-11-30T22:46:41.887293",
     "exception": false,
     "start_time": "2022-11-30T22:46:41.871153",
     "status": "completed"
    },
    "tags": []
   },
   "source": [
    "* ### Missing Values"
   ]
  },
  {
   "cell_type": "code",
   "execution_count": 9,
   "id": "2ada3506",
   "metadata": {
    "execution": {
     "iopub.execute_input": "2022-11-30T22:46:41.922267Z",
     "iopub.status.busy": "2022-11-30T22:46:41.921802Z",
     "iopub.status.idle": "2022-11-30T22:46:41.945312Z",
     "shell.execute_reply": "2022-11-30T22:46:41.943433Z"
    },
    "papermill": {
     "duration": 0.044124,
     "end_time": "2022-11-30T22:46:41.948310",
     "exception": false,
     "start_time": "2022-11-30T22:46:41.904186",
     "status": "completed"
    },
    "tags": []
   },
   "outputs": [
    {
     "name": "stdout",
     "output_type": "stream",
     "text": [
      "Train:\n",
      "\n",
      "Missing Values by Count: \n",
      "\n",
      " Item_Outlet_Sales            5681\n",
      "Outlet_Size                  4016\n",
      "Item_Weight                  2439\n",
      "Item_Identifier                 0\n",
      "Item_Fat_Content                0\n",
      "Item_Visibility                 0\n",
      "Item_Type                       0\n",
      "Item_MRP                        0\n",
      "Outlet_Identifier               0\n",
      "Outlet_Establishment_Year       0\n",
      "Outlet_Location_Type            0\n",
      "Outlet_Type                     0\n",
      "source                          0\n",
      "dtype: int64 \n",
      "\n",
      "Missing Values by %:\n",
      "\n",
      " Item_Outlet_Sales            39.995776\n",
      "Outlet_Size                  28.273726\n",
      "Item_Weight                  17.171219\n",
      "Item_Identifier               0.000000\n",
      "Item_Fat_Content              0.000000\n",
      "Item_Visibility               0.000000\n",
      "Item_Type                     0.000000\n",
      "Item_MRP                      0.000000\n",
      "Outlet_Identifier             0.000000\n",
      "Outlet_Establishment_Year     0.000000\n",
      "Outlet_Location_Type          0.000000\n",
      "Outlet_Type                   0.000000\n",
      "source                        0.000000\n",
      "dtype: float64\n"
     ]
    }
   ],
   "source": [
    "# Lets check missing Values\n",
    "print('Train:\\n')\n",
    "print('Missing Values by Count: \\n\\n',\n",
    "      data.isnull().sum().sort_values(ascending=False),'\\n\\nMissing Values by %:\\n\\n',\n",
    "      data.isnull().sum().sort_values(ascending=False)/data.shape[0] * 100)\n"
   ]
  },
  {
   "cell_type": "code",
   "execution_count": 10,
   "id": "979634f5",
   "metadata": {
    "execution": {
     "iopub.execute_input": "2022-11-30T22:46:41.982330Z",
     "iopub.status.busy": "2022-11-30T22:46:41.981883Z",
     "iopub.status.idle": "2022-11-30T22:46:41.996735Z",
     "shell.execute_reply": "2022-11-30T22:46:41.995445Z"
    },
    "papermill": {
     "duration": 0.035519,
     "end_time": "2022-11-30T22:46:41.999955",
     "exception": false,
     "start_time": "2022-11-30T22:46:41.964436",
     "status": "completed"
    },
    "tags": []
   },
   "outputs": [
    {
     "name": "stdout",
     "output_type": "stream",
     "text": [
      "Missing Values in Outlet_Size :\n",
      "\n",
      " Medium    4655\n",
      "Small     3980\n",
      "High      1553\n",
      "Name: Outlet_Size, dtype: int64\n",
      "\n",
      "Missing Values in Item_Weight :\n",
      "\n",
      " 17.600    135\n",
      "12.150    127\n",
      "10.500    123\n",
      "13.650    115\n",
      "11.800    113\n",
      "         ... \n",
      "7.640       7\n",
      "5.905       7\n",
      "7.850       6\n",
      "4.615       6\n",
      "9.035       6\n",
      "Name: Item_Weight, Length: 415, dtype: int64\n"
     ]
    }
   ],
   "source": [
    "# Lets check and imputate missing values\n",
    "print('Missing Values in Outlet_Size :\\n\\n',data.Outlet_Size.value_counts())\n",
    "print('\\nMissing Values in Item_Weight :\\n\\n',data.Item_Weight.value_counts())"
   ]
  },
  {
   "cell_type": "markdown",
   "id": "cc80479d",
   "metadata": {
    "papermill": {
     "duration": 0.015976,
     "end_time": "2022-11-30T22:46:42.034028",
     "exception": false,
     "start_time": "2022-11-30T22:46:42.018052",
     "status": "completed"
    },
    "tags": []
   },
   "source": [
    "**OutLet_Size** is a catogerial column, we can use **mode** to fill the values."
   ]
  },
  {
   "cell_type": "code",
   "execution_count": 11,
   "id": "0d5fbb3d",
   "metadata": {
    "execution": {
     "iopub.execute_input": "2022-11-30T22:46:42.069989Z",
     "iopub.status.busy": "2022-11-30T22:46:42.069082Z",
     "iopub.status.idle": "2022-11-30T22:46:42.081158Z",
     "shell.execute_reply": "2022-11-30T22:46:42.080118Z"
    },
    "papermill": {
     "duration": 0.033263,
     "end_time": "2022-11-30T22:46:42.084717",
     "exception": false,
     "start_time": "2022-11-30T22:46:42.051454",
     "status": "completed"
    },
    "tags": []
   },
   "outputs": [
    {
     "name": "stdout",
     "output_type": "stream",
     "text": [
      "Missing values after filling: 0\n"
     ]
    }
   ],
   "source": [
    "# Filling Outlet Size  missing values.\n",
    "data['Outlet_Size'] = data.Outlet_Size.fillna(data.Outlet_Size.dropna().mode()[0])\n",
    "# Checking if we filled all values\n",
    "print( 'Missing values after filling:' ,data.Outlet_Size.isnull().sum())"
   ]
  },
  {
   "cell_type": "markdown",
   "id": "8cd98ea9",
   "metadata": {
    "papermill": {
     "duration": 0.016314,
     "end_time": "2022-11-30T22:46:42.118116",
     "exception": false,
     "start_time": "2022-11-30T22:46:42.101802",
     "status": "completed"
    },
    "tags": []
   },
   "source": [
    "**Item_wieght** is a mumeric column, we need to **visulize** the its values/distribution to see clearly."
   ]
  },
  {
   "cell_type": "code",
   "execution_count": 12,
   "id": "c39741da",
   "metadata": {
    "execution": {
     "iopub.execute_input": "2022-11-30T22:46:42.153038Z",
     "iopub.status.busy": "2022-11-30T22:46:42.152611Z",
     "iopub.status.idle": "2022-11-30T22:46:42.400950Z",
     "shell.execute_reply": "2022-11-30T22:46:42.399638Z"
    },
    "papermill": {
     "duration": 0.268846,
     "end_time": "2022-11-30T22:46:42.403434",
     "exception": false,
     "start_time": "2022-11-30T22:46:42.134588",
     "status": "completed"
    },
    "tags": []
   },
   "outputs": [
    {
     "data": {
      "text/plain": [
       "Text(0.5, 1.0, 'Item Wieght Distribution')"
      ]
     },
     "execution_count": 12,
     "metadata": {},
     "output_type": "execute_result"
    },
    {
     "data": {
      "image/png": "[encoded data removed]",
      "text/plain": [
       "<Figure size 432x288 with 1 Axes>"
      ]
     },
     "metadata": {
      "needs_background": "light"
     },
     "output_type": "display_data"
    }
   ],
   "source": [
    "# sns.boxplot(data=combined['Item_Weight'],orient='v', color='c')\n",
    "sns.boxplot(x=data['Item_Weight'], palette='BuPu')\n",
    "plt.title('Item Wieght Distribution')\n",
    "\n"
   ]
  },
  {
   "cell_type": "markdown",
   "id": "45840e0e",
   "metadata": {
    "papermill": {
     "duration": 0.017219,
     "end_time": "2022-11-30T22:46:42.438295",
     "exception": false,
     "start_time": "2022-11-30T22:46:42.421076",
     "status": "completed"
    },
    "tags": []
   },
   "source": [
    "No **Outliers** in **Item_wieght**, So we can replace **missing values** with its mean"
   ]
  },
  {
   "cell_type": "code",
   "execution_count": 13,
   "id": "5f9194ac",
   "metadata": {
    "execution": {
     "iopub.execute_input": "2022-11-30T22:46:42.474232Z",
     "iopub.status.busy": "2022-11-30T22:46:42.473519Z",
     "iopub.status.idle": "2022-11-30T22:46:42.482496Z",
     "shell.execute_reply": "2022-11-30T22:46:42.481163Z"
    },
    "papermill": {
     "duration": 0.03019,
     "end_time": "2022-11-30T22:46:42.485288",
     "exception": false,
     "start_time": "2022-11-30T22:46:42.455098",
     "status": "completed"
    },
    "tags": []
   },
   "outputs": [
    {
     "name": "stdout",
     "output_type": "stream",
     "text": [
      "Missing values after filling:  0\n"
     ]
    }
   ],
   "source": [
    "# imputate missing values in item \n",
    "data['Item_Weight'] = data.Item_Weight.fillna(data.Item_Weight.dropna().mean())\n",
    "print('Missing values after filling: ', data.Item_Weight.isnull().sum())"
   ]
  },
  {
   "cell_type": "code",
   "execution_count": 14,
   "id": "34ab0d6d",
   "metadata": {
    "execution": {
     "iopub.execute_input": "2022-11-30T22:46:42.521751Z",
     "iopub.status.busy": "2022-11-30T22:46:42.521069Z",
     "iopub.status.idle": "2022-11-30T22:46:42.540467Z",
     "shell.execute_reply": "2022-11-30T22:46:42.538543Z"
    },
    "papermill": {
     "duration": 0.041607,
     "end_time": "2022-11-30T22:46:42.543868",
     "exception": false,
     "start_time": "2022-11-30T22:46:42.502261",
     "status": "completed"
    },
    "tags": []
   },
   "outputs": [
    {
     "name": "stdout",
     "output_type": "stream",
     "text": [
      "<class 'pandas.core.frame.DataFrame'>\n",
      "RangeIndex: 14204 entries, 0 to 14203\n",
      "Data columns (total 13 columns):\n",
      " #   Column                     Non-Null Count  Dtype  \n",
      "---  ------                     --------------  -----  \n",
      " 0   Item_Identifier            14204 non-null  object \n",
      " 1   Item_Weight                14204 non-null  float64\n",
      " 2   Item_Fat_Content           14204 non-null  object \n",
      " 3   Item_Visibility            14204 non-null  float64\n",
      " 4   Item_Type                  14204 non-null  object \n",
      " 5   Item_MRP                   14204 non-null  float64\n",
      " 6   Outlet_Identifier          14204 non-null  object \n",
      " 7   Outlet_Establishment_Year  14204 non-null  int64  \n",
      " 8   Outlet_Size                14204 non-null  object \n",
      " 9   Outlet_Location_Type       14204 non-null  object \n",
      " 10  Outlet_Type                14204 non-null  object \n",
      " 11  Item_Outlet_Sales          8523 non-null   float64\n",
      " 12  source                     14204 non-null  object \n",
      "dtypes: float64(4), int64(1), object(8)\n",
      "memory usage: 1.4+ MB\n"
     ]
    }
   ],
   "source": [
    "# check info for missing values\n",
    "data.info()"
   ]
  },
  {
   "cell_type": "markdown",
   "id": "d16fdeda",
   "metadata": {
    "papermill": {
     "duration": 0.017265,
     "end_time": "2022-11-30T22:46:42.578061",
     "exception": false,
     "start_time": "2022-11-30T22:46:42.560796",
     "status": "completed"
    },
    "tags": []
   },
   "source": [
    "* ###  Veriable Identication"
   ]
  },
  {
   "cell_type": "code",
   "execution_count": 15,
   "id": "834d3900",
   "metadata": {
    "execution": {
     "iopub.execute_input": "2022-11-30T22:46:42.614858Z",
     "iopub.status.busy": "2022-11-30T22:46:42.614438Z",
     "iopub.status.idle": "2022-11-30T22:46:42.625284Z",
     "shell.execute_reply": "2022-11-30T22:46:42.623947Z"
    },
    "papermill": {
     "duration": 0.032823,
     "end_time": "2022-11-30T22:46:42.628116",
     "exception": false,
     "start_time": "2022-11-30T22:46:42.595293",
     "status": "completed"
    },
    "tags": []
   },
   "outputs": [],
   "source": [
    "# Numericals\n",
    "num_df = data.select_dtypes('number')\n",
    "# Categorial \n",
    "cat_df = data.select_dtypes('object')\n"
   ]
  },
  {
   "cell_type": "code",
   "execution_count": 16,
   "id": "ee64d530",
   "metadata": {
    "execution": {
     "iopub.execute_input": "2022-11-30T22:46:42.664501Z",
     "iopub.status.busy": "2022-11-30T22:46:42.664098Z",
     "iopub.status.idle": "2022-11-30T22:46:42.693726Z",
     "shell.execute_reply": "2022-11-30T22:46:42.692313Z"
    },
    "papermill": {
     "duration": 0.051501,
     "end_time": "2022-11-30T22:46:42.697044",
     "exception": false,
     "start_time": "2022-11-30T22:46:42.645543",
     "status": "completed"
    },
    "tags": []
   },
   "outputs": [
    {
     "name": "stdout",
     "output_type": "stream",
     "text": [
      "\n",
      "Frequency of Categories for varible Item_Fat_Content\n",
      "\n",
      "Total Categories:  5 \n",
      " Low Fat    8485\n",
      "Regular    4824\n",
      "LF          522\n",
      "reg         195\n",
      "low fat     178\n",
      "Name: Item_Fat_Content, dtype: int64\n",
      "\n",
      "Frequency of Categories for varible Item_Type\n",
      "\n",
      "Total Categories:  16 \n",
      " Fruits and Vegetables    2013\n",
      "Snack Foods              1989\n",
      "Household                1548\n",
      "Frozen Foods             1426\n",
      "Dairy                    1136\n",
      "Baking Goods             1086\n",
      "Canned                   1084\n",
      "Health and Hygiene        858\n",
      "Meat                      736\n",
      "Soft Drinks               726\n",
      "Breads                    416\n",
      "Hard Drinks               362\n",
      "Others                    280\n",
      "Starchy Foods             269\n",
      "Breakfast                 186\n",
      "Seafood                    89\n",
      "Name: Item_Type, dtype: int64\n",
      "\n",
      "Frequency of Categories for varible Outlet_Identifier\n",
      "\n",
      "Total Categories:  10 \n",
      " OUT027    1559\n",
      "OUT013    1553\n",
      "OUT049    1550\n",
      "OUT046    1550\n",
      "OUT035    1550\n",
      "OUT045    1548\n",
      "OUT018    1546\n",
      "OUT017    1543\n",
      "OUT010     925\n",
      "OUT019     880\n",
      "Name: Outlet_Identifier, dtype: int64\n",
      "\n",
      "Frequency of Categories for varible Outlet_Size\n",
      "\n",
      "Total Categories:  3 \n",
      " Medium    8671\n",
      "Small     3980\n",
      "High      1553\n",
      "Name: Outlet_Size, dtype: int64\n",
      "\n",
      "Frequency of Categories for varible Outlet_Location_Type\n",
      "\n",
      "Total Categories:  3 \n",
      " Tier 3    5583\n",
      "Tier 2    4641\n",
      "Tier 1    3980\n",
      "Name: Outlet_Location_Type, dtype: int64\n",
      "\n",
      "Frequency of Categories for varible Outlet_Type\n",
      "\n",
      "Total Categories:  4 \n",
      " Supermarket Type1    9294\n",
      "Grocery Store        1805\n",
      "Supermarket Type3    1559\n",
      "Supermarket Type2    1546\n",
      "Name: Outlet_Type, dtype: int64\n",
      "\n",
      "Frequency of Categories for varible source\n",
      "\n",
      "Total Categories:  2 \n",
      " train    8523\n",
      "test     5681\n",
      "Name: source, dtype: int64\n"
     ]
    }
   ],
   "source": [
    "# Lets Deal with catgorial Data First     \n",
    "for col in cat_df.columns:\n",
    "    if(col != 'Item_Identifier'):\n",
    "        print('\\nFrequency of Categories for varible %s'%col)\n",
    "        print('\\nTotal Categories: ', len(cat_df[col].value_counts()), '\\n', cat_df[col].value_counts())\n",
    "        "
   ]
  },
  {
   "cell_type": "markdown",
   "id": "1b6d644c",
   "metadata": {
    "execution": {
     "iopub.execute_input": "2022-11-29T09:23:54.561223Z",
     "iopub.status.busy": "2022-11-29T09:23:54.560806Z",
     "iopub.status.idle": "2022-11-29T09:23:54.570128Z",
     "shell.execute_reply": "2022-11-29T09:23:54.568724Z",
     "shell.execute_reply.started": "2022-11-29T09:23:54.561186Z"
    },
    "papermill": {
     "duration": 0.017137,
     "end_time": "2022-11-30T22:46:42.731108",
     "exception": false,
     "start_time": "2022-11-30T22:46:42.713971",
     "status": "completed"
    },
    "tags": []
   },
   "source": [
    "* **Item_Fat_Content**: We have **reapted** values in , lets replace them\n",
    "* **Item_Type**: We have categories of **items**, that can be shrink\n",
    "* **Outlet_Type**: We have Store **type2**,and **type3**, that can be combined\n"
   ]
  },
  {
   "cell_type": "code",
   "execution_count": 17,
   "id": "602b69d3",
   "metadata": {
    "execution": {
     "iopub.execute_input": "2022-11-30T22:46:42.767851Z",
     "iopub.status.busy": "2022-11-30T22:46:42.767444Z",
     "iopub.status.idle": "2022-11-30T22:46:42.782418Z",
     "shell.execute_reply": "2022-11-30T22:46:42.781160Z"
    },
    "papermill": {
     "duration": 0.036226,
     "end_time": "2022-11-30T22:46:42.784817",
     "exception": false,
     "start_time": "2022-11-30T22:46:42.748591",
     "status": "completed"
    },
    "tags": []
   },
   "outputs": [
    {
     "data": {
      "text/plain": [
       "Low Fat    9185\n",
       "Regular    5019\n",
       "Name: Item_Fat_Content, dtype: int64"
      ]
     },
     "execution_count": 17,
     "metadata": {},
     "output_type": "execute_result"
    }
   ],
   "source": [
    "# Replace reapted values in Item_Fat_Content\n",
    "data['Item_Fat_Content'] = data.Item_Fat_Content.replace(['LF', 'low fat', 'reg'],\n",
    "                                                              ['Low Fat','Low Fat', 'Regular'])\n",
    "data.Item_Fat_Content.value_counts()"
   ]
  },
  {
   "cell_type": "markdown",
   "id": "9d6f6911",
   "metadata": {
    "papermill": {
     "duration": 0.016798,
     "end_time": "2022-11-30T22:46:42.818626",
     "exception": false,
     "start_time": "2022-11-30T22:46:42.801828",
     "status": "completed"
    },
    "tags": []
   },
   "source": [
    "Combine Item_Type, as we have 16 catgories, but when you see **Item_identifier ID**, It has first two charachters defining the item type, these are **FD**, **DR**, **NC** means food, Drinks, Non-Consumables.\n",
    "lets convert Item_Type into these 3 categories"
   ]
  },
  {
   "cell_type": "code",
   "execution_count": 18,
   "id": "a2a3a482",
   "metadata": {
    "execution": {
     "iopub.execute_input": "2022-11-30T22:46:42.855991Z",
     "iopub.status.busy": "2022-11-30T22:46:42.855549Z",
     "iopub.status.idle": "2022-11-30T22:46:42.877225Z",
     "shell.execute_reply": "2022-11-30T22:46:42.876097Z"
    },
    "papermill": {
     "duration": 0.043658,
     "end_time": "2022-11-30T22:46:42.879768",
     "exception": false,
     "start_time": "2022-11-30T22:46:42.836110",
     "status": "completed"
    },
    "tags": []
   },
   "outputs": [
    {
     "data": {
      "text/plain": [
       "Food              10201\n",
       "Non-Consumable     2686\n",
       "Drinks             1317\n",
       "Name: Item_Type_Combined, dtype: int64"
      ]
     },
     "execution_count": 18,
     "metadata": {},
     "output_type": "execute_result"
    }
   ],
   "source": [
    "# Combine Item_Type, and create new category\n",
    "data['Item_Type_Combined'] = data.Item_Identifier.apply(lambda x:x[0:2])\n",
    "data['Item_Type_Combined'] = data['Item_Type_Combined'].replace(['FD','DR','NC'],\n",
    "                                                                   ['Food','Drinks', 'Non-Consumable']) \n",
    "data.Item_Type_Combined.value_counts()"
   ]
  },
  {
   "cell_type": "markdown",
   "id": "7dd4d276",
   "metadata": {
    "papermill": {
     "duration": 0.017988,
     "end_time": "2022-11-30T22:46:42.915221",
     "exception": false,
     "start_time": "2022-11-30T22:46:42.897233",
     "status": "completed"
    },
    "tags": []
   },
   "source": [
    "We have Store Types, **type2** and **Type3**, we can combine them, but is it good?\n",
    "lets check their sales, if both have opprox similier sales, we can combine them"
   ]
  },
  {
   "cell_type": "code",
   "execution_count": 19,
   "id": "bcdbc4e8",
   "metadata": {
    "execution": {
     "iopub.execute_input": "2022-11-30T22:46:42.952457Z",
     "iopub.status.busy": "2022-11-30T22:46:42.951224Z",
     "iopub.status.idle": "2022-11-30T22:46:42.982650Z",
     "shell.execute_reply": "2022-11-30T22:46:42.981313Z"
    },
    "papermill": {
     "duration": 0.052732,
     "end_time": "2022-11-30T22:46:42.985271",
     "exception": false,
     "start_time": "2022-11-30T22:46:42.932539",
     "status": "completed"
    },
    "tags": []
   },
   "outputs": [
    {
     "data": {
      "text/html": [
       "<div>\n",
       "<style scoped>\n",
       "    .dataframe tbody tr th:only-of-type {\n",
       "        vertical-align: middle;\n",
       "    }\n",
       "\n",
       "    .dataframe tbody tr th {\n",
       "        vertical-align: top;\n",
       "    }\n",
       "\n",
       "    .dataframe thead th {\n",
       "        text-align: right;\n",
       "    }\n",
       "</style>\n",
       "<table border=\"1\" class=\"dataframe\">\n",
       "  <thead>\n",
       "    <tr style=\"text-align: right;\">\n",
       "      <th></th>\n",
       "      <th>Item_Outlet_Sales</th>\n",
       "    </tr>\n",
       "    <tr>\n",
       "      <th>Outlet_Type</th>\n",
       "      <th></th>\n",
       "    </tr>\n",
       "  </thead>\n",
       "  <tbody>\n",
       "    <tr>\n",
       "      <th>Grocery Store</th>\n",
       "      <td>339.828500</td>\n",
       "    </tr>\n",
       "    <tr>\n",
       "      <th>Supermarket Type1</th>\n",
       "      <td>2316.181148</td>\n",
       "    </tr>\n",
       "    <tr>\n",
       "      <th>Supermarket Type2</th>\n",
       "      <td>1995.498739</td>\n",
       "    </tr>\n",
       "    <tr>\n",
       "      <th>Supermarket Type3</th>\n",
       "      <td>3694.038558</td>\n",
       "    </tr>\n",
       "  </tbody>\n",
       "</table>\n",
       "</div>"
      ],
      "text/plain": [
       "                   Item_Outlet_Sales\n",
       "Outlet_Type                         \n",
       "Grocery Store             339.828500\n",
       "Supermarket Type1        2316.181148\n",
       "Supermarket Type2        1995.498739\n",
       "Supermarket Type3        3694.038558"
      ]
     },
     "execution_count": 19,
     "metadata": {},
     "output_type": "execute_result"
    }
   ],
   "source": [
    "data.pivot_table(values='Item_Outlet_Sales', index='Outlet_Type')"
   ]
  },
  {
   "cell_type": "markdown",
   "id": "9b4d7310",
   "metadata": {
    "papermill": {
     "duration": 0.017843,
     "end_time": "2022-11-30T22:46:43.020873",
     "exception": false,
     "start_time": "2022-11-30T22:46:43.003030",
     "status": "completed"
    },
    "tags": []
   },
   "source": [
    "There is a huge difference in sales, so not good idea to combine them"
   ]
  },
  {
   "cell_type": "code",
   "execution_count": 20,
   "id": "6ed95871",
   "metadata": {
    "execution": {
     "iopub.execute_input": "2022-11-30T22:46:43.057821Z",
     "iopub.status.busy": "2022-11-30T22:46:43.057359Z",
     "iopub.status.idle": "2022-11-30T22:46:43.090228Z",
     "shell.execute_reply": "2022-11-30T22:46:43.088725Z"
    },
    "papermill": {
     "duration": 0.054803,
     "end_time": "2022-11-30T22:46:43.093051",
     "exception": false,
     "start_time": "2022-11-30T22:46:43.038248",
     "status": "completed"
    },
    "tags": []
   },
   "outputs": [
    {
     "data": {
      "text/html": [
       "<div>\n",
       "<style scoped>\n",
       "    .dataframe tbody tr th:only-of-type {\n",
       "        vertical-align: middle;\n",
       "    }\n",
       "\n",
       "    .dataframe tbody tr th {\n",
       "        vertical-align: top;\n",
       "    }\n",
       "\n",
       "    .dataframe thead th {\n",
       "        text-align: right;\n",
       "    }\n",
       "</style>\n",
       "<table border=\"1\" class=\"dataframe\">\n",
       "  <thead>\n",
       "    <tr style=\"text-align: right;\">\n",
       "      <th></th>\n",
       "      <th>Item_Weight</th>\n",
       "      <th>Item_Visibility</th>\n",
       "      <th>Item_MRP</th>\n",
       "      <th>Outlet_Establishment_Year</th>\n",
       "      <th>Item_Outlet_Sales</th>\n",
       "    </tr>\n",
       "  </thead>\n",
       "  <tbody>\n",
       "    <tr>\n",
       "      <th>count</th>\n",
       "      <td>14204.000000</td>\n",
       "      <td>14204.000000</td>\n",
       "      <td>14204.000000</td>\n",
       "      <td>14204.000000</td>\n",
       "      <td>8523.000000</td>\n",
       "    </tr>\n",
       "    <tr>\n",
       "      <th>mean</th>\n",
       "      <td>12.792854</td>\n",
       "      <td>0.065953</td>\n",
       "      <td>141.004977</td>\n",
       "      <td>1997.830681</td>\n",
       "      <td>2181.288914</td>\n",
       "    </tr>\n",
       "    <tr>\n",
       "      <th>std</th>\n",
       "      <td>4.234226</td>\n",
       "      <td>0.051459</td>\n",
       "      <td>62.086938</td>\n",
       "      <td>8.371664</td>\n",
       "      <td>1706.499616</td>\n",
       "    </tr>\n",
       "    <tr>\n",
       "      <th>min</th>\n",
       "      <td>4.555000</td>\n",
       "      <td>0.000000</td>\n",
       "      <td>31.290000</td>\n",
       "      <td>1985.000000</td>\n",
       "      <td>33.290000</td>\n",
       "    </tr>\n",
       "    <tr>\n",
       "      <th>25%</th>\n",
       "      <td>9.300000</td>\n",
       "      <td>0.027036</td>\n",
       "      <td>94.012000</td>\n",
       "      <td>1987.000000</td>\n",
       "      <td>834.247400</td>\n",
       "    </tr>\n",
       "    <tr>\n",
       "      <th>50%</th>\n",
       "      <td>12.792854</td>\n",
       "      <td>0.054021</td>\n",
       "      <td>142.247000</td>\n",
       "      <td>1999.000000</td>\n",
       "      <td>1794.331000</td>\n",
       "    </tr>\n",
       "    <tr>\n",
       "      <th>75%</th>\n",
       "      <td>16.000000</td>\n",
       "      <td>0.094037</td>\n",
       "      <td>185.855600</td>\n",
       "      <td>2004.000000</td>\n",
       "      <td>3101.296400</td>\n",
       "    </tr>\n",
       "    <tr>\n",
       "      <th>max</th>\n",
       "      <td>21.350000</td>\n",
       "      <td>0.328391</td>\n",
       "      <td>266.888400</td>\n",
       "      <td>2009.000000</td>\n",
       "      <td>13086.964800</td>\n",
       "    </tr>\n",
       "  </tbody>\n",
       "</table>\n",
       "</div>"
      ],
      "text/plain": [
       "        Item_Weight  Item_Visibility      Item_MRP  Outlet_Establishment_Year  \\\n",
       "count  14204.000000     14204.000000  14204.000000               14204.000000   \n",
       "mean      12.792854         0.065953    141.004977                1997.830681   \n",
       "std        4.234226         0.051459     62.086938                   8.371664   \n",
       "min        4.555000         0.000000     31.290000                1985.000000   \n",
       "25%        9.300000         0.027036     94.012000                1987.000000   \n",
       "50%       12.792854         0.054021    142.247000                1999.000000   \n",
       "75%       16.000000         0.094037    185.855600                2004.000000   \n",
       "max       21.350000         0.328391    266.888400                2009.000000   \n",
       "\n",
       "       Item_Outlet_Sales  \n",
       "count        8523.000000  \n",
       "mean         2181.288914  \n",
       "std          1706.499616  \n",
       "min            33.290000  \n",
       "25%           834.247400  \n",
       "50%          1794.331000  \n",
       "75%          3101.296400  \n",
       "max         13086.964800  "
      ]
     },
     "execution_count": 20,
     "metadata": {},
     "output_type": "execute_result"
    }
   ],
   "source": [
    "# Lets deal with Numerical Data\n",
    "num_df.describe()"
   ]
  },
  {
   "cell_type": "markdown",
   "id": "59e6eeef",
   "metadata": {
    "papermill": {
     "duration": 0.017326,
     "end_time": "2022-11-30T22:46:43.129152",
     "exception": false,
     "start_time": "2022-11-30T22:46:43.111826",
     "status": "completed"
    },
    "tags": []
   },
   "source": [
    "* **Item_Visibility**: it has min **0** value, which makes no sense\n",
    "* **Outlet_Establishment_Year**: Its better to address how old store is\n"
   ]
  },
  {
   "cell_type": "code",
   "execution_count": 21,
   "id": "0c79421f",
   "metadata": {
    "execution": {
     "iopub.execute_input": "2022-11-30T22:46:43.167031Z",
     "iopub.status.busy": "2022-11-30T22:46:43.166605Z",
     "iopub.status.idle": "2022-11-30T22:46:43.173083Z",
     "shell.execute_reply": "2022-11-30T22:46:43.171673Z"
    },
    "papermill": {
     "duration": 0.028671,
     "end_time": "2022-11-30T22:46:43.175427",
     "exception": false,
     "start_time": "2022-11-30T22:46:43.146756",
     "status": "completed"
    },
    "tags": []
   },
   "outputs": [],
   "source": [
    "# change Establishment_Year to Outlet_Age\n",
    "data['Oultet_Age'] = 2013 - data['Outlet_Establishment_Year']"
   ]
  },
  {
   "cell_type": "code",
   "execution_count": 22,
   "id": "9f371fb9",
   "metadata": {
    "execution": {
     "iopub.execute_input": "2022-11-30T22:46:43.212517Z",
     "iopub.status.busy": "2022-11-30T22:46:43.212089Z",
     "iopub.status.idle": "2022-11-30T22:46:43.331642Z",
     "shell.execute_reply": "2022-11-30T22:46:43.329952Z"
    },
    "papermill": {
     "duration": 0.141729,
     "end_time": "2022-11-30T22:46:43.334678",
     "exception": false,
     "start_time": "2022-11-30T22:46:43.192949",
     "status": "completed"
    },
    "tags": []
   },
   "outputs": [
    {
     "name": "stdout",
     "output_type": "stream",
     "text": [
      "Missing Values in Item_Visibility:  879\n",
      "Missing values after filling:  0\n"
     ]
    }
   ],
   "source": [
    "# Lets consider 0 as missing value in Item_visibility\n",
    "print('Missing Values in Item_Visibility: ', len(data[num_df['Item_Visibility'] == 0]))\n",
    "miss_values = (data['Item_Visibility'] == 0)\n",
    "item_vis_avg = data.pivot_table(values='Item_Visibility', index ='Item_Identifier')\n",
    "\n",
    "data.loc[miss_values, 'Item_Visibility'] = data.loc[miss_values, 'Item_Identifier'].apply(lambda x:item_vis_avg.loc[x])\n",
    "print('Missing values after filling: ' , sum(data['Item_Visibility'] == 0))"
   ]
  },
  {
   "cell_type": "code",
   "execution_count": 23,
   "id": "fd3c628e",
   "metadata": {
    "execution": {
     "iopub.execute_input": "2022-11-30T22:46:43.372573Z",
     "iopub.status.busy": "2022-11-30T22:46:43.372157Z",
     "iopub.status.idle": "2022-11-30T22:46:43.394757Z",
     "shell.execute_reply": "2022-11-30T22:46:43.393093Z"
    },
    "papermill": {
     "duration": 0.044804,
     "end_time": "2022-11-30T22:46:43.397752",
     "exception": false,
     "start_time": "2022-11-30T22:46:43.352948",
     "status": "completed"
    },
    "tags": []
   },
   "outputs": [
    {
     "data": {
      "text/html": [
       "<div>\n",
       "<style scoped>\n",
       "    .dataframe tbody tr th:only-of-type {\n",
       "        vertical-align: middle;\n",
       "    }\n",
       "\n",
       "    .dataframe tbody tr th {\n",
       "        vertical-align: top;\n",
       "    }\n",
       "\n",
       "    .dataframe thead th {\n",
       "        text-align: right;\n",
       "    }\n",
       "</style>\n",
       "<table border=\"1\" class=\"dataframe\">\n",
       "  <thead>\n",
       "    <tr style=\"text-align: right;\">\n",
       "      <th></th>\n",
       "      <th>Item_Identifier</th>\n",
       "      <th>Item_Weight</th>\n",
       "      <th>Item_Fat_Content</th>\n",
       "      <th>Item_Visibility</th>\n",
       "      <th>Item_Type</th>\n",
       "      <th>Item_MRP</th>\n",
       "      <th>Outlet_Identifier</th>\n",
       "      <th>Outlet_Establishment_Year</th>\n",
       "      <th>Outlet_Size</th>\n",
       "      <th>Outlet_Location_Type</th>\n",
       "      <th>Outlet_Type</th>\n",
       "      <th>Item_Outlet_Sales</th>\n",
       "      <th>source</th>\n",
       "      <th>Item_Type_Combined</th>\n",
       "      <th>Oultet_Age</th>\n",
       "    </tr>\n",
       "  </thead>\n",
       "  <tbody>\n",
       "    <tr>\n",
       "      <th>0</th>\n",
       "      <td>FDA15</td>\n",
       "      <td>9.30</td>\n",
       "      <td>Low Fat</td>\n",
       "      <td>0.016047</td>\n",
       "      <td>Dairy</td>\n",
       "      <td>249.8092</td>\n",
       "      <td>OUT049</td>\n",
       "      <td>1999</td>\n",
       "      <td>Medium</td>\n",
       "      <td>Tier 1</td>\n",
       "      <td>Supermarket Type1</td>\n",
       "      <td>3735.1380</td>\n",
       "      <td>train</td>\n",
       "      <td>Food</td>\n",
       "      <td>14</td>\n",
       "    </tr>\n",
       "    <tr>\n",
       "      <th>1</th>\n",
       "      <td>DRC01</td>\n",
       "      <td>5.92</td>\n",
       "      <td>Regular</td>\n",
       "      <td>0.019278</td>\n",
       "      <td>Soft Drinks</td>\n",
       "      <td>48.2692</td>\n",
       "      <td>OUT018</td>\n",
       "      <td>2009</td>\n",
       "      <td>Medium</td>\n",
       "      <td>Tier 3</td>\n",
       "      <td>Supermarket Type2</td>\n",
       "      <td>443.4228</td>\n",
       "      <td>train</td>\n",
       "      <td>Drinks</td>\n",
       "      <td>4</td>\n",
       "    </tr>\n",
       "    <tr>\n",
       "      <th>2</th>\n",
       "      <td>FDN15</td>\n",
       "      <td>17.50</td>\n",
       "      <td>Low Fat</td>\n",
       "      <td>0.016760</td>\n",
       "      <td>Meat</td>\n",
       "      <td>141.6180</td>\n",
       "      <td>OUT049</td>\n",
       "      <td>1999</td>\n",
       "      <td>Medium</td>\n",
       "      <td>Tier 1</td>\n",
       "      <td>Supermarket Type1</td>\n",
       "      <td>2097.2700</td>\n",
       "      <td>train</td>\n",
       "      <td>Food</td>\n",
       "      <td>14</td>\n",
       "    </tr>\n",
       "    <tr>\n",
       "      <th>3</th>\n",
       "      <td>FDX07</td>\n",
       "      <td>19.20</td>\n",
       "      <td>Regular</td>\n",
       "      <td>0.017834</td>\n",
       "      <td>Fruits and Vegetables</td>\n",
       "      <td>182.0950</td>\n",
       "      <td>OUT010</td>\n",
       "      <td>1998</td>\n",
       "      <td>Medium</td>\n",
       "      <td>Tier 3</td>\n",
       "      <td>Grocery Store</td>\n",
       "      <td>732.3800</td>\n",
       "      <td>train</td>\n",
       "      <td>Food</td>\n",
       "      <td>15</td>\n",
       "    </tr>\n",
       "    <tr>\n",
       "      <th>4</th>\n",
       "      <td>NCD19</td>\n",
       "      <td>8.93</td>\n",
       "      <td>Low Fat</td>\n",
       "      <td>0.009780</td>\n",
       "      <td>Household</td>\n",
       "      <td>53.8614</td>\n",
       "      <td>OUT013</td>\n",
       "      <td>1987</td>\n",
       "      <td>High</td>\n",
       "      <td>Tier 3</td>\n",
       "      <td>Supermarket Type1</td>\n",
       "      <td>994.7052</td>\n",
       "      <td>train</td>\n",
       "      <td>Non-Consumable</td>\n",
       "      <td>26</td>\n",
       "    </tr>\n",
       "  </tbody>\n",
       "</table>\n",
       "</div>"
      ],
      "text/plain": [
       "  Item_Identifier  Item_Weight Item_Fat_Content  Item_Visibility  \\\n",
       "0           FDA15         9.30          Low Fat         0.016047   \n",
       "1           DRC01         5.92          Regular         0.019278   \n",
       "2           FDN15        17.50          Low Fat         0.016760   \n",
       "3           FDX07        19.20          Regular         0.017834   \n",
       "4           NCD19         8.93          Low Fat         0.009780   \n",
       "\n",
       "               Item_Type  Item_MRP Outlet_Identifier  \\\n",
       "0                  Dairy  249.8092            OUT049   \n",
       "1            Soft Drinks   48.2692            OUT018   \n",
       "2                   Meat  141.6180            OUT049   \n",
       "3  Fruits and Vegetables  182.0950            OUT010   \n",
       "4              Household   53.8614            OUT013   \n",
       "\n",
       "   Outlet_Establishment_Year Outlet_Size Outlet_Location_Type  \\\n",
       "0                       1999      Medium               Tier 1   \n",
       "1                       2009      Medium               Tier 3   \n",
       "2                       1999      Medium               Tier 1   \n",
       "3                       1998      Medium               Tier 3   \n",
       "4                       1987        High               Tier 3   \n",
       "\n",
       "         Outlet_Type  Item_Outlet_Sales source Item_Type_Combined  Oultet_Age  \n",
       "0  Supermarket Type1          3735.1380  train               Food          14  \n",
       "1  Supermarket Type2           443.4228  train             Drinks           4  \n",
       "2  Supermarket Type1          2097.2700  train               Food          14  \n",
       "3      Grocery Store           732.3800  train               Food          15  \n",
       "4  Supermarket Type1           994.7052  train     Non-Consumable          26  "
      ]
     },
     "execution_count": 23,
     "metadata": {},
     "output_type": "execute_result"
    }
   ],
   "source": [
    "data.head()"
   ]
  },
  {
   "cell_type": "code",
   "execution_count": 24,
   "id": "3a3898f4",
   "metadata": {
    "execution": {
     "iopub.execute_input": "2022-11-30T22:46:43.436795Z",
     "iopub.status.busy": "2022-11-30T22:46:43.436370Z",
     "iopub.status.idle": "2022-11-30T22:46:43.441684Z",
     "shell.execute_reply": "2022-11-30T22:46:43.440412Z"
    },
    "papermill": {
     "duration": 0.027375,
     "end_time": "2022-11-30T22:46:43.444172",
     "exception": false,
     "start_time": "2022-11-30T22:46:43.416797",
     "status": "completed"
    },
    "tags": []
   },
   "outputs": [],
   "source": [
    "# # Lets drop Unnecessery Columns\n",
    "# train_df = data[data['source'] == 'train']\n",
    "# train_df = train_df.drop(['Outlet_Establishment_Year', 'Item_Type', 'source'], axis=1)\n",
    "# train_df.info()"
   ]
  },
  {
   "cell_type": "markdown",
   "id": "bb1b6139",
   "metadata": {
    "papermill": {
     "duration": 0.017791,
     "end_time": "2022-11-30T22:46:43.479955",
     "exception": false,
     "start_time": "2022-11-30T22:46:43.462164",
     "status": "completed"
    },
    "tags": []
   },
   "source": [
    "# Data Visualization"
   ]
  },
  {
   "cell_type": "markdown",
   "id": "e9030650",
   "metadata": {
    "execution": {
     "iopub.execute_input": "2022-11-30T15:10:06.262883Z",
     "iopub.status.busy": "2022-11-30T15:10:06.262381Z",
     "iopub.status.idle": "2022-11-30T15:10:06.270804Z",
     "shell.execute_reply": "2022-11-30T15:10:06.269594Z",
     "shell.execute_reply.started": "2022-11-30T15:10:06.262848Z"
    },
    "papermill": {
     "duration": 0.017619,
     "end_time": "2022-11-30T22:46:43.515433",
     "exception": false,
     "start_time": "2022-11-30T22:46:43.497814",
     "status": "completed"
    },
    "tags": []
   },
   "source": [
    "#### Univariate Plots\n",
    "lets look at the countplots for categorial data"
   ]
  },
  {
   "cell_type": "code",
   "execution_count": 25,
   "id": "f7ae9df4",
   "metadata": {
    "execution": {
     "iopub.execute_input": "2022-11-30T22:46:43.554388Z",
     "iopub.status.busy": "2022-11-30T22:46:43.553095Z",
     "iopub.status.idle": "2022-11-30T22:46:43.740568Z",
     "shell.execute_reply": "2022-11-30T22:46:43.739335Z"
    },
    "papermill": {
     "duration": 0.209868,
     "end_time": "2022-11-30T22:46:43.743339",
     "exception": false,
     "start_time": "2022-11-30T22:46:43.533471",
     "status": "completed"
    },
    "tags": []
   },
   "outputs": [
    {
     "data": {
      "image/png": "[encoded data removed]",
      "text/plain": [
       "<Figure size 432x288 with 1 Axes>"
      ]
     },
     "metadata": {
      "needs_background": "light"
     },
     "output_type": "display_data"
    }
   ],
   "source": [
    "# Categorial Data\n",
    "['Item_Identifier', 'Item_Fat_Content', 'Outlet_Identifier', 'Outlet_Size',\n",
    "'Outlet_Location_Type', 'Outlet_Type', 'Item_Type', 'Item_Type_Combined' ]\n",
    "\n",
    "# CountPlot for Item_Fat_Content\n",
    "plt.figure(figsize=(6,4))\n",
    "sns.countplot(data=data, x='Item_Fat_Content')\n",
    "plt.xlabel('Item Fat Content', fontsize=15)\n",
    "plt.show()"
   ]
  },
  {
   "cell_type": "code",
   "execution_count": 26,
   "id": "bdd2df7d",
   "metadata": {
    "execution": {
     "iopub.execute_input": "2022-11-30T22:46:43.783792Z",
     "iopub.status.busy": "2022-11-30T22:46:43.783113Z",
     "iopub.status.idle": "2022-11-30T22:46:44.087112Z",
     "shell.execute_reply": "2022-11-30T22:46:44.085808Z"
    },
    "papermill": {
     "duration": 0.327987,
     "end_time": "2022-11-30T22:46:44.090295",
     "exception": false,
     "start_time": "2022-11-30T22:46:43.762308",
     "status": "completed"
    },
    "tags": []
   },
   "outputs": [
    {
     "data": {
      "image/png": "[encoded data removed]",
      "text/plain": [
       "<Figure size 1080x288 with 1 Axes>"
      ]
     },
     "metadata": {
      "needs_background": "light"
     },
     "output_type": "display_data"
    }
   ],
   "source": [
    "# CountPlot for Individual Item Category\n",
    "plt.figure(figsize=(15,4))\n",
    "sns.countplot(data=data, x='Item_Type')\n",
    "plt.xlabel('Individual Item Category ', fontsize=15)\n",
    "plt.show()"
   ]
  },
  {
   "cell_type": "code",
   "execution_count": 27,
   "id": "dd0437c7",
   "metadata": {
    "execution": {
     "iopub.execute_input": "2022-11-30T22:46:44.131560Z",
     "iopub.status.busy": "2022-11-30T22:46:44.129711Z",
     "iopub.status.idle": "2022-11-30T22:46:44.321605Z",
     "shell.execute_reply": "2022-11-30T22:46:44.320183Z"
    },
    "papermill": {
     "duration": 0.215489,
     "end_time": "2022-11-30T22:46:44.325035",
     "exception": false,
     "start_time": "2022-11-30T22:46:44.109546",
     "status": "completed"
    },
    "tags": []
   },
   "outputs": [
    {
     "data": {
      "image/png": "[encoded data removed]",
      "text/plain": [
       "<Figure size 432x288 with 1 Axes>"
      ]
     },
     "metadata": {
      "needs_background": "light"
     },
     "output_type": "display_data"
    }
   ],
   "source": [
    "#  CountPlot for Item_Type_Combined\n",
    "plt.figure(figsize=(6,4))\n",
    "sns.countplot(data=data, x='Item_Type_Combined')\n",
    "plt.xlabel('Item Category', fontsize=15)\n",
    "plt.show()"
   ]
  },
  {
   "cell_type": "code",
   "execution_count": 28,
   "id": "06972dac",
   "metadata": {
    "execution": {
     "iopub.execute_input": "2022-11-30T22:46:44.366080Z",
     "iopub.status.busy": "2022-11-30T22:46:44.365641Z",
     "iopub.status.idle": "2022-11-30T22:46:44.572614Z",
     "shell.execute_reply": "2022-11-30T22:46:44.571339Z"
    },
    "papermill": {
     "duration": 0.231147,
     "end_time": "2022-11-30T22:46:44.575281",
     "exception": false,
     "start_time": "2022-11-30T22:46:44.344134",
     "status": "completed"
    },
    "tags": []
   },
   "outputs": [
    {
     "data": {
      "image/png": "[encoded data removed]",
      "text/plain": [
       "<Figure size 1080x288 with 1 Axes>"
      ]
     },
     "metadata": {
      "needs_background": "light"
     },
     "output_type": "display_data"
    }
   ],
   "source": [
    "# CountPlot for Outlet_Identifier\n",
    "plt.figure(figsize=(15,4))\n",
    "sns.countplot(data=data, x='Outlet_Identifier', palette='winter')\n",
    "plt.xlabel('Stores', fontsize=15)\n",
    "plt.show()"
   ]
  },
  {
   "cell_type": "code",
   "execution_count": 29,
   "id": "7ee6680b",
   "metadata": {
    "execution": {
     "iopub.execute_input": "2022-11-30T22:46:44.616077Z",
     "iopub.status.busy": "2022-11-30T22:46:44.615632Z",
     "iopub.status.idle": "2022-11-30T22:46:44.736137Z",
     "shell.execute_reply": "2022-11-30T22:46:44.734859Z"
    },
    "papermill": {
     "duration": 0.144189,
     "end_time": "2022-11-30T22:46:44.738990",
     "exception": false,
     "start_time": "2022-11-30T22:46:44.594801",
     "status": "completed"
    },
    "tags": []
   },
   "outputs": [
    {
     "data": {
      "image/png": "[encoded data removed]",
      "text/plain": [
       "<Figure size 432x288 with 1 Axes>"
      ]
     },
     "metadata": {
      "needs_background": "light"
     },
     "output_type": "display_data"
    }
   ],
   "source": [
    "# CountPlot for Outlet_Size\n",
    "plt.figure(figsize=(6,4))\n",
    "sns.countplot(data=data, x='Outlet_Size')\n",
    "plt.xlabel('Store Size', fontsize=15)\n",
    "plt.show()"
   ]
  },
  {
   "cell_type": "code",
   "execution_count": 30,
   "id": "8fecde60",
   "metadata": {
    "execution": {
     "iopub.execute_input": "2022-11-30T22:46:44.793190Z",
     "iopub.status.busy": "2022-11-30T22:46:44.792738Z",
     "iopub.status.idle": "2022-11-30T22:46:44.987994Z",
     "shell.execute_reply": "2022-11-30T22:46:44.986756Z"
    },
    "papermill": {
     "duration": 0.230525,
     "end_time": "2022-11-30T22:46:44.990785",
     "exception": false,
     "start_time": "2022-11-30T22:46:44.760260",
     "status": "completed"
    },
    "tags": []
   },
   "outputs": [
    {
     "data": {
      "image/png": "[encoded data removed]",
      "text/plain": [
       "<Figure size 720x288 with 1 Axes>"
      ]
     },
     "metadata": {
      "needs_background": "light"
     },
     "output_type": "display_data"
    }
   ],
   "source": [
    "# CountPlot for Outlet_Location_Type\n",
    "plt.figure(figsize=(10,4))\n",
    "sns.countplot(data=data, x='Outlet_Location_Type')\n",
    "plt.xlabel('Store Location Type', fontsize=15)\n",
    "plt.show()"
   ]
  },
  {
   "cell_type": "code",
   "execution_count": 31,
   "id": "8861874f",
   "metadata": {
    "execution": {
     "iopub.execute_input": "2022-11-30T22:46:45.033123Z",
     "iopub.status.busy": "2022-11-30T22:46:45.031757Z",
     "iopub.status.idle": "2022-11-30T22:46:45.238552Z",
     "shell.execute_reply": "2022-11-30T22:46:45.237679Z"
    },
    "papermill": {
     "duration": 0.230382,
     "end_time": "2022-11-30T22:46:45.240969",
     "exception": false,
     "start_time": "2022-11-30T22:46:45.010587",
     "status": "completed"
    },
    "tags": []
   },
   "outputs": [
    {
     "data": {
      "image/png": "[encoded data removed]",
      "text/plain": [
       "<Figure size 720x504 with 1 Axes>"
      ]
     },
     "metadata": {
      "needs_background": "light"
     },
     "output_type": "display_data"
    }
   ],
   "source": [
    "# CountPlot for Outlet_Type\n",
    "plt.figure(figsize=(10,7))\n",
    "sns.countplot(data=data, x='Outlet_Type')\n",
    "plt.xlabel('Store Type', fontsize=15)\n",
    "plt.show()"
   ]
  },
  {
   "cell_type": "markdown",
   "id": "3d7044e8",
   "metadata": {
    "papermill": {
     "duration": 0.019202,
     "end_time": "2022-11-30T22:46:45.279744",
     "exception": false,
     "start_time": "2022-11-30T22:46:45.260542",
     "status": "completed"
    },
    "tags": []
   },
   "source": [
    "### Realizations\n",
    "* **Item_Fat_Content**: Most Items sold are **low Fat**. \n",
    "* **Item_Type**: Distictly **fruits & veg**, **food snacks** are popular.\n",
    "* **Item_Type_Combined**: Most Sold Item cateogory is food.\n",
    "* **Outlet_Identifier**: Sold items are ditributed evenly amoung all stores, execpt **OUT010** and **OUT019**.\n",
    "* **Outlet_Size**: Bigmart Stores are mostly in **medium size** in this data.\n",
    "* **Outlet_Location_Type**: Most comon type of location is **Tier3**\n",
    "* **Outlet_Type**: By a wide mergin Most Store Types are **SuperMarket Type1**."
   ]
  },
  {
   "cell_type": "code",
   "execution_count": 32,
   "id": "4d98b6bd",
   "metadata": {
    "execution": {
     "iopub.execute_input": "2022-11-30T22:46:45.321996Z",
     "iopub.status.busy": "2022-11-30T22:46:45.320673Z",
     "iopub.status.idle": "2022-11-30T22:46:45.539968Z",
     "shell.execute_reply": "2022-11-30T22:46:45.539008Z"
    },
    "papermill": {
     "duration": 0.243269,
     "end_time": "2022-11-30T22:46:45.542603",
     "exception": false,
     "start_time": "2022-11-30T22:46:45.299334",
     "status": "completed"
    },
    "tags": []
   },
   "outputs": [
    {
     "data": {
      "image/png": "[encoded data removed]",
      "text/plain": [
       "<Figure size 432x288 with 1 Axes>"
      ]
     },
     "metadata": {
      "needs_background": "light"
     },
     "output_type": "display_data"
    }
   ],
   "source": [
    "# For Numerical Data\n",
    "\n",
    "# HistPlot for Outlet_Age\n",
    "plt.hist(x=data['Oultet_Age'], )\n",
    "plt.title('Store Age')\n",
    "plt.show()"
   ]
  },
  {
   "cell_type": "markdown",
   "id": "59358eb5",
   "metadata": {
    "papermill": {
     "duration": 0.020151,
     "end_time": "2022-11-30T22:46:45.583164",
     "exception": false,
     "start_time": "2022-11-30T22:46:45.563013",
     "status": "completed"
    },
    "tags": []
   },
   "source": [
    "#### Realizations\n",
    "* **Outlet_Age**: Most Common **Outlets** are 35 year's old."
   ]
  },
  {
   "cell_type": "markdown",
   "id": "10d789a5",
   "metadata": {
    "papermill": {
     "duration": 0.01939,
     "end_time": "2022-11-30T22:46:45.622143",
     "exception": false,
     "start_time": "2022-11-30T22:46:45.602753",
     "status": "completed"
    },
    "tags": []
   },
   "source": [
    "### Multivariate plots For Numeric.\n",
    "> Let's check following relationships\n",
    "* **Sales per Item_MRP**\n",
    "* **Sales per Item_Visibility**\n",
    "* **Sales per Item_Weight**\n",
    "\n"
   ]
  },
  {
   "cell_type": "code",
   "execution_count": 33,
   "id": "a56cb224",
   "metadata": {
    "execution": {
     "iopub.execute_input": "2022-11-30T22:46:45.664771Z",
     "iopub.status.busy": "2022-11-30T22:46:45.663653Z",
     "iopub.status.idle": "2022-11-30T22:46:45.903027Z",
     "shell.execute_reply": "2022-11-30T22:46:45.902055Z"
    },
    "papermill": {
     "duration": 0.262918,
     "end_time": "2022-11-30T22:46:45.905483",
     "exception": false,
     "start_time": "2022-11-30T22:46:45.642565",
     "status": "completed"
    },
    "tags": []
   },
   "outputs": [
    {
     "data": {
      "image/png": "[encoded data removed]",
      "text/plain": [
       "<Figure size 432x288 with 1 Axes>"
      ]
     },
     "metadata": {
      "needs_background": "light"
     },
     "output_type": "display_data"
    }
   ],
   "source": [
    "# ScatterPlot for Sales per Item_Visibilty\n",
    "plt.scatter(data['Item_Visibility'], data['Item_Outlet_Sales'])\n",
    "plt.title('Sales based on Item Visibilty')\n",
    "plt.xlabel('Item_Visibility')\n",
    "plt.ylabel('Item_Outlet_Sales')\n",
    "plt.show()"
   ]
  },
  {
   "cell_type": "code",
   "execution_count": 34,
   "id": "258ccd88",
   "metadata": {
    "execution": {
     "iopub.execute_input": "2022-11-30T22:46:45.949307Z",
     "iopub.status.busy": "2022-11-30T22:46:45.948831Z",
     "iopub.status.idle": "2022-11-30T22:46:46.191999Z",
     "shell.execute_reply": "2022-11-30T22:46:46.191132Z"
    },
    "papermill": {
     "duration": 0.268167,
     "end_time": "2022-11-30T22:46:46.194400",
     "exception": false,
     "start_time": "2022-11-30T22:46:45.926233",
     "status": "completed"
    },
    "tags": []
   },
   "outputs": [
    {
     "data": {
      "image/png": "[encoded data removed]",
      "text/plain": [
       "<Figure size 432x288 with 1 Axes>"
      ]
     },
     "metadata": {
      "needs_background": "light"
     },
     "output_type": "display_data"
    }
   ],
   "source": [
    "# ScatterPlot for Sales per Item_Weight\n",
    "plt.scatter(data['Item_Weight'], data['Item_Outlet_Sales'])\n",
    "plt.title('Sales based on Item Weight')\n",
    "plt.xlabel('Item_Weight')\n",
    "plt.ylabel('Item_Outlet_Sales')\n",
    "plt.show()"
   ]
  },
  {
   "cell_type": "code",
   "execution_count": 35,
   "id": "e4efd83b",
   "metadata": {
    "execution": {
     "iopub.execute_input": "2022-11-30T22:46:46.237932Z",
     "iopub.status.busy": "2022-11-30T22:46:46.237135Z",
     "iopub.status.idle": "2022-11-30T22:46:46.467834Z",
     "shell.execute_reply": "2022-11-30T22:46:46.466930Z"
    },
    "papermill": {
     "duration": 0.25526,
     "end_time": "2022-11-30T22:46:46.470416",
     "exception": false,
     "start_time": "2022-11-30T22:46:46.215156",
     "status": "completed"
    },
    "tags": []
   },
   "outputs": [
    {
     "data": {
      "image/png": "[encoded data removed]",
      "text/plain": [
       "<Figure size 432x288 with 1 Axes>"
      ]
     },
     "metadata": {
      "needs_background": "light"
     },
     "output_type": "display_data"
    }
   ],
   "source": [
    "# ScatterPlot for Sales per Item_MRP\n",
    "plt.scatter(data['Item_MRP'], data['Item_Outlet_Sales'])\n",
    "plt.title('Sales based on Item MRP')\n",
    "plt.xlabel('Item_MRP')\n",
    "plt.ylabel('Item_Outlet_Sales')\n",
    "plt.show()"
   ]
  },
  {
   "cell_type": "markdown",
   "id": "2538d142",
   "metadata": {
    "papermill": {
     "duration": 0.020904,
     "end_time": "2022-11-30T22:46:46.513531",
     "exception": false,
     "start_time": "2022-11-30T22:46:46.492627",
     "status": "completed"
    },
    "tags": []
   },
   "source": [
    "#### Realizations\n",
    "* **Item_Visibility**: Not a particular Pattern, Data is very spreaded.\n",
    "* **Item_Weight**: Not a particular Pattern, Data is very spreaded.\n",
    "* **Item_MRP**: Items with higer **MRP** Sales tends to sell better."
   ]
  },
  {
   "cell_type": "markdown",
   "id": "f0508b90",
   "metadata": {
    "execution": {
     "iopub.execute_input": "2022-11-30T16:41:50.502459Z",
     "iopub.status.busy": "2022-11-30T16:41:50.501411Z",
     "iopub.status.idle": "2022-11-30T16:41:50.510917Z",
     "shell.execute_reply": "2022-11-30T16:41:50.509288Z",
     "shell.execute_reply.started": "2022-11-30T16:41:50.502415Z"
    },
    "papermill": {
     "duration": 0.021376,
     "end_time": "2022-11-30T22:46:46.556854",
     "exception": false,
     "start_time": "2022-11-30T22:46:46.535478",
     "status": "completed"
    },
    "tags": []
   },
   "source": [
    "## Multivariate plots For Categorial.\n",
    "Numerical vs. Numerical\n",
    "1. Scatterplot\n",
    "2. Line plot\n",
    "3. Heatmap for correlation\n",
    "4. Joint plot\n",
    "\n",
    "Categorical vs. Numerical\n",
    "1. Bar chart\n",
    "2. Voilin plot\n",
    "3. Categorical box plot\n",
    "4.Swarm plot\n",
    "\n",
    "Two Categorcal Variables\n",
    "1. Bar chart\n",
    "2. Grouped bar chart\n",
    "3. Point plot\n",
    "\n",
    "#### Let's check following relationships\n",
    "* **Sales per Item_Type_Combined**\n",
    "* **Sales per Outlet_Identifier**\n",
    "* **Sales per Outlet_Type**\n",
    "* **Sales per Outlet_Size**\n",
    "* **Sales per Outlet_Location_Type**\n"
   ]
  },
  {
   "cell_type": "code",
   "execution_count": 36,
   "id": "5c0ca06f",
   "metadata": {
    "execution": {
     "iopub.execute_input": "2022-11-30T22:46:46.602426Z",
     "iopub.status.busy": "2022-11-30T22:46:46.601514Z",
     "iopub.status.idle": "2022-11-30T22:46:47.381594Z",
     "shell.execute_reply": "2022-11-30T22:46:47.380607Z"
    },
    "papermill": {
     "duration": 0.805699,
     "end_time": "2022-11-30T22:46:47.384153",
     "exception": false,
     "start_time": "2022-11-30T22:46:46.578454",
     "status": "completed"
    },
    "tags": []
   },
   "outputs": [
    {
     "data": {
      "image/png": "[encoded data removed]",
      "text/plain": [
       "<Figure size 720x288 with 1 Axes>"
      ]
     },
     "metadata": {
      "needs_background": "light"
     },
     "output_type": "display_data"
    }
   ],
   "source": [
    "# BarPlot for Sales per Item_Type\n",
    "plt.figure(figsize=(10,4))\n",
    "sns.barplot(data=data,x='Item_Type', y='Item_Outlet_Sales')\n",
    "plt.title('Sales based on Individual Item Category')\n",
    "plt.xlabel('Individual Item Category ')\n",
    "plt.ylabel('Sales')\n",
    "plt.legend()\n",
    "plt.show()"
   ]
  },
  {
   "cell_type": "code",
   "execution_count": 37,
   "id": "4fef8a99",
   "metadata": {
    "execution": {
     "iopub.execute_input": "2022-11-30T22:46:47.431087Z",
     "iopub.status.busy": "2022-11-30T22:46:47.429818Z",
     "iopub.status.idle": "2022-11-30T22:46:47.962947Z",
     "shell.execute_reply": "2022-11-30T22:46:47.962006Z"
    },
    "papermill": {
     "duration": 0.5595,
     "end_time": "2022-11-30T22:46:47.965498",
     "exception": false,
     "start_time": "2022-11-30T22:46:47.405998",
     "status": "completed"
    },
    "tags": []
   },
   "outputs": [
    {
     "data": {
      "image/png": "[encoded data removed]",
      "text/plain": [
       "<Figure size 720x288 with 1 Axes>"
      ]
     },
     "metadata": {
      "needs_background": "light"
     },
     "output_type": "display_data"
    }
   ],
   "source": [
    "# BarPlot for Sales per Item_Type_Combined\n",
    "plt.figure(figsize=(10,4))\n",
    "sns.barplot(data=data,x='Item_Type_Combined', y='Item_Outlet_Sales')\n",
    "plt.title('Sales based on Item Category')\n",
    "plt.xlabel('Item Category ')\n",
    "plt.ylabel('Sales')\n",
    "plt.legend()\n",
    "plt.show()"
   ]
  },
  {
   "cell_type": "code",
   "execution_count": 38,
   "id": "ac3659ee",
   "metadata": {
    "execution": {
     "iopub.execute_input": "2022-11-30T22:46:48.011499Z",
     "iopub.status.busy": "2022-11-30T22:46:48.010206Z",
     "iopub.status.idle": "2022-11-30T22:46:48.614461Z",
     "shell.execute_reply": "2022-11-30T22:46:48.613093Z"
    },
    "papermill": {
     "duration": 0.629937,
     "end_time": "2022-11-30T22:46:48.617067",
     "exception": false,
     "start_time": "2022-11-30T22:46:47.987130",
     "status": "completed"
    },
    "tags": []
   },
   "outputs": [
    {
     "data": {
      "image/png": "[encoded data removed]",
      "text/plain": [
       "<Figure size 720x288 with 1 Axes>"
      ]
     },
     "metadata": {
      "needs_background": "light"
     },
     "output_type": "display_data"
    }
   ],
   "source": [
    "# BarPlot for Sales per Outlet_Identifier\n",
    "plt.figure(figsize=(10,4))\n",
    "sns.barplot(data=data,x='Outlet_Identifier', y='Item_Outlet_Sales')\n",
    "plt.title('Sales based on Store')\n",
    "plt.xlabel('Store')\n",
    "plt.ylabel('Sales')\n",
    "plt.legend()\n",
    "plt.show()"
   ]
  },
  {
   "cell_type": "code",
   "execution_count": 39,
   "id": "f06f28c6",
   "metadata": {
    "execution": {
     "iopub.execute_input": "2022-11-30T22:46:48.664541Z",
     "iopub.status.busy": "2022-11-30T22:46:48.663534Z",
     "iopub.status.idle": "2022-11-30T22:46:49.086728Z",
     "shell.execute_reply": "2022-11-30T22:46:49.085418Z"
    },
    "papermill": {
     "duration": 0.449744,
     "end_time": "2022-11-30T22:46:49.089635",
     "exception": false,
     "start_time": "2022-11-30T22:46:48.639891",
     "status": "completed"
    },
    "tags": []
   },
   "outputs": [
    {
     "data": {
      "image/png": "[encoded data removed]",
      "text/plain": [
       "<Figure size 576x360 with 1 Axes>"
      ]
     },
     "metadata": {
      "needs_background": "light"
     },
     "output_type": "display_data"
    }
   ],
   "source": [
    "# BarPlot for Sales per Outlet_Type\n",
    "plt.figure(figsize=(8,5))\n",
    "sns.barplot(data=data,x='Outlet_Type', y='Item_Outlet_Sales')\n",
    "plt.title('Sales based on Store Type')\n",
    "plt.xlabel('Store Type')\n",
    "plt.ylabel('Sales')\n",
    "plt.legend()\n",
    "plt.show()"
   ]
  },
  {
   "cell_type": "code",
   "execution_count": 40,
   "id": "9dffc58b",
   "metadata": {
    "execution": {
     "iopub.execute_input": "2022-11-30T22:46:49.135855Z",
     "iopub.status.busy": "2022-11-30T22:46:49.135425Z",
     "iopub.status.idle": "2022-11-30T22:46:49.502758Z",
     "shell.execute_reply": "2022-11-30T22:46:49.501375Z"
    },
    "papermill": {
     "duration": 0.394012,
     "end_time": "2022-11-30T22:46:49.505856",
     "exception": false,
     "start_time": "2022-11-30T22:46:49.111844",
     "status": "completed"
    },
    "tags": []
   },
   "outputs": [
    {
     "data": {
      "image/png": "[encoded data removed]",
      "text/plain": [
       "<Figure size 576x288 with 1 Axes>"
      ]
     },
     "metadata": {
      "needs_background": "light"
     },
     "output_type": "display_data"
    }
   ],
   "source": [
    "# BarPlot for Sales per Outlet_Size\n",
    "plt.figure(figsize=(8,4))\n",
    "sns.barplot(data=data,x='Outlet_Size', y='Item_Outlet_Sales')\n",
    "plt.title('Sales based on Store Size')\n",
    "plt.xlabel('Store Sie')\n",
    "plt.ylabel('Sales')\n",
    "plt.legend()\n",
    "plt.show()"
   ]
  },
  {
   "cell_type": "code",
   "execution_count": 41,
   "id": "6b194322",
   "metadata": {
    "execution": {
     "iopub.execute_input": "2022-11-30T22:46:49.554185Z",
     "iopub.status.busy": "2022-11-30T22:46:49.552724Z",
     "iopub.status.idle": "2022-11-30T22:46:49.921668Z",
     "shell.execute_reply": "2022-11-30T22:46:49.920490Z"
    },
    "papermill": {
     "duration": 0.395894,
     "end_time": "2022-11-30T22:46:49.924370",
     "exception": false,
     "start_time": "2022-11-30T22:46:49.528476",
     "status": "completed"
    },
    "tags": []
   },
   "outputs": [
    {
     "data": {
      "image/png": "[encoded data removed]",
      "text/plain": [
       "<Figure size 720x288 with 1 Axes>"
      ]
     },
     "metadata": {
      "needs_background": "light"
     },
     "output_type": "display_data"
    }
   ],
   "source": [
    "# BarPlot for Sales per Outlet_Location_Type\n",
    "plt.figure(figsize=(10,4))\n",
    "sns.barplot(data=data,x='Outlet_Location_Type', y='Item_Outlet_Sales')\n",
    "plt.title('Sales based on Store location type ')\n",
    "plt.xlabel('Store location type')\n",
    "plt.ylabel('Sales')\n",
    "plt.legend()\n",
    "plt.show()"
   ]
  },
  {
   "cell_type": "markdown",
   "id": "38c63cd5",
   "metadata": {
    "papermill": {
     "duration": 0.025927,
     "end_time": "2022-11-30T22:46:49.973644",
     "exception": false,
     "start_time": "2022-11-30T22:46:49.947717",
     "status": "completed"
    },
    "tags": []
   },
   "source": [
    "### Realizations:\n",
    "* **Item_Type_Combined**: Based on Categories, **Food** has most Sells, But difference is very small.\n",
    "* **Outlet_Identifier**: **Outlet027** has most profitable, and **Outlet019** and **Outlet010** has least Sells. \n",
    "* **Outlet_Type**: Most Sells are through **SuperMarket Type3** surprisingly not **Type1**.\n",
    "* **Outlet_Size**: Sells are even in  **Medium** and **High** size Stores.\n",
    "* **Outlet_Location_Type**: Most sells are through **Tier3** and **Tier2**, **Tier2** is slightly higher."
   ]
  },
  {
   "cell_type": "markdown",
   "id": "a8557858",
   "metadata": {
    "execution": {
     "iopub.execute_input": "2022-11-30T19:22:30.799002Z",
     "iopub.status.busy": "2022-11-30T19:22:30.798622Z",
     "iopub.status.idle": "2022-11-30T19:22:30.806913Z",
     "shell.execute_reply": "2022-11-30T19:22:30.805328Z",
     "shell.execute_reply.started": "2022-11-30T19:22:30.798969Z"
    },
    "papermill": {
     "duration": 0.022382,
     "end_time": "2022-11-30T22:46:50.018989",
     "exception": false,
     "start_time": "2022-11-30T22:46:49.996607",
     "status": "completed"
    },
    "tags": []
   },
   "source": [
    "### Correlation Matrix"
   ]
  },
  {
   "cell_type": "code",
   "execution_count": 42,
   "id": "40dc9670",
   "metadata": {
    "execution": {
     "iopub.execute_input": "2022-11-30T22:46:50.067882Z",
     "iopub.status.busy": "2022-11-30T22:46:50.067052Z",
     "iopub.status.idle": "2022-11-30T22:46:50.444309Z",
     "shell.execute_reply": "2022-11-30T22:46:50.442837Z"
    },
    "papermill": {
     "duration": 0.405954,
     "end_time": "2022-11-30T22:46:50.447775",
     "exception": false,
     "start_time": "2022-11-30T22:46:50.041821",
     "status": "completed"
    },
    "tags": []
   },
   "outputs": [
    {
     "data": {
      "text/plain": [
       "<AxesSubplot:>"
      ]
     },
     "execution_count": 42,
     "metadata": {},
     "output_type": "execute_result"
    },
    {
     "data": {
      "image/png": "[encoded data removed]",
      "text/plain": [
       "<Figure size 432x288 with 2 Axes>"
      ]
     },
     "metadata": {
      "needs_background": "light"
     },
     "output_type": "display_data"
    }
   ],
   "source": [
    "# Correlation Matrix\n",
    "sns.heatmap(data.corr())"
   ]
  },
  {
   "cell_type": "markdown",
   "id": "cdc3e070",
   "metadata": {
    "papermill": {
     "duration": 0.023573,
     "end_time": "2022-11-30T22:46:50.496033",
     "exception": false,
     "start_time": "2022-11-30T22:46:50.472460",
     "status": "completed"
    },
    "tags": []
   },
   "source": [
    "* We can see **Item_Outlet_Sales** is highly correlated with **Item_MRP**"
   ]
  },
  {
   "cell_type": "markdown",
   "id": "9d09d249",
   "metadata": {
    "papermill": {
     "duration": 0.023615,
     "end_time": "2022-11-30T22:46:50.543567",
     "exception": false,
     "start_time": "2022-11-30T22:46:50.519952",
     "status": "completed"
    },
    "tags": []
   },
   "source": [
    "### Future Engneering \n",
    "The main feature engineering techniques are:\n",
    "\n",
    "* Categorical encoding\n",
    "* Variable transformation\n",
    "* Outlier engineering\n",
    "* Date and time engineering\n",
    "\n",
    "#### We have 7 categorial columns\n",
    "#### Ordinal Data:\n",
    "*     Item_Fat_Content\n",
    "*     Outlet_Size\n",
    "*     Outlet_Location_Type \n",
    "\n",
    "#### Nominal Data:\n",
    "* Item_Identifier\n",
    "* Item_Type\n",
    "* Outlet_Identifier\n",
    "* Outlet_Type\n",
    "\n",
    "Since **Item_Identifier**, **Outlet_Identifier** don't have significant values, we can drop them."
   ]
  },
  {
   "cell_type": "code",
   "execution_count": 43,
   "id": "0eb736bb",
   "metadata": {
    "execution": {
     "iopub.execute_input": "2022-11-30T22:46:50.593100Z",
     "iopub.status.busy": "2022-11-30T22:46:50.592641Z",
     "iopub.status.idle": "2022-11-30T22:46:50.629113Z",
     "shell.execute_reply": "2022-11-30T22:46:50.628135Z"
    },
    "papermill": {
     "duration": 0.064685,
     "end_time": "2022-11-30T22:46:50.631678",
     "exception": false,
     "start_time": "2022-11-30T22:46:50.566993",
     "status": "completed"
    },
    "tags": []
   },
   "outputs": [
    {
     "data": {
      "text/html": [
       "<div>\n",
       "<style scoped>\n",
       "    .dataframe tbody tr th:only-of-type {\n",
       "        vertical-align: middle;\n",
       "    }\n",
       "\n",
       "    .dataframe tbody tr th {\n",
       "        vertical-align: top;\n",
       "    }\n",
       "\n",
       "    .dataframe thead th {\n",
       "        text-align: right;\n",
       "    }\n",
       "</style>\n",
       "<table border=\"1\" class=\"dataframe\">\n",
       "  <thead>\n",
       "    <tr style=\"text-align: right;\">\n",
       "      <th></th>\n",
       "      <th>Item_Identifier</th>\n",
       "      <th>Item_Weight</th>\n",
       "      <th>Item_Fat_Content</th>\n",
       "      <th>Item_Visibility</th>\n",
       "      <th>Item_Type</th>\n",
       "      <th>Item_MRP</th>\n",
       "      <th>Outlet_Identifier</th>\n",
       "      <th>Outlet_Establishment_Year</th>\n",
       "      <th>Outlet_Size</th>\n",
       "      <th>Outlet_Location_Type</th>\n",
       "      <th>Outlet_Type</th>\n",
       "      <th>Item_Outlet_Sales</th>\n",
       "      <th>source</th>\n",
       "      <th>Item_Type_Combined</th>\n",
       "      <th>Oultet_Age</th>\n",
       "    </tr>\n",
       "  </thead>\n",
       "  <tbody>\n",
       "    <tr>\n",
       "      <th>0</th>\n",
       "      <td>FDA15</td>\n",
       "      <td>9.30</td>\n",
       "      <td>0</td>\n",
       "      <td>0.016047</td>\n",
       "      <td>Dairy</td>\n",
       "      <td>249.8092</td>\n",
       "      <td>OUT049</td>\n",
       "      <td>1999</td>\n",
       "      <td>1</td>\n",
       "      <td>0</td>\n",
       "      <td>Supermarket Type1</td>\n",
       "      <td>3735.1380</td>\n",
       "      <td>train</td>\n",
       "      <td>Food</td>\n",
       "      <td>14</td>\n",
       "    </tr>\n",
       "    <tr>\n",
       "      <th>1</th>\n",
       "      <td>DRC01</td>\n",
       "      <td>5.92</td>\n",
       "      <td>1</td>\n",
       "      <td>0.019278</td>\n",
       "      <td>Soft Drinks</td>\n",
       "      <td>48.2692</td>\n",
       "      <td>OUT018</td>\n",
       "      <td>2009</td>\n",
       "      <td>1</td>\n",
       "      <td>2</td>\n",
       "      <td>Supermarket Type2</td>\n",
       "      <td>443.4228</td>\n",
       "      <td>train</td>\n",
       "      <td>Drinks</td>\n",
       "      <td>4</td>\n",
       "    </tr>\n",
       "    <tr>\n",
       "      <th>2</th>\n",
       "      <td>FDN15</td>\n",
       "      <td>17.50</td>\n",
       "      <td>0</td>\n",
       "      <td>0.016760</td>\n",
       "      <td>Meat</td>\n",
       "      <td>141.6180</td>\n",
       "      <td>OUT049</td>\n",
       "      <td>1999</td>\n",
       "      <td>1</td>\n",
       "      <td>0</td>\n",
       "      <td>Supermarket Type1</td>\n",
       "      <td>2097.2700</td>\n",
       "      <td>train</td>\n",
       "      <td>Food</td>\n",
       "      <td>14</td>\n",
       "    </tr>\n",
       "    <tr>\n",
       "      <th>3</th>\n",
       "      <td>FDX07</td>\n",
       "      <td>19.20</td>\n",
       "      <td>1</td>\n",
       "      <td>0.017834</td>\n",
       "      <td>Fruits and Vegetables</td>\n",
       "      <td>182.0950</td>\n",
       "      <td>OUT010</td>\n",
       "      <td>1998</td>\n",
       "      <td>1</td>\n",
       "      <td>2</td>\n",
       "      <td>Grocery Store</td>\n",
       "      <td>732.3800</td>\n",
       "      <td>train</td>\n",
       "      <td>Food</td>\n",
       "      <td>15</td>\n",
       "    </tr>\n",
       "    <tr>\n",
       "      <th>4</th>\n",
       "      <td>NCD19</td>\n",
       "      <td>8.93</td>\n",
       "      <td>0</td>\n",
       "      <td>0.009780</td>\n",
       "      <td>Household</td>\n",
       "      <td>53.8614</td>\n",
       "      <td>OUT013</td>\n",
       "      <td>1987</td>\n",
       "      <td>0</td>\n",
       "      <td>2</td>\n",
       "      <td>Supermarket Type1</td>\n",
       "      <td>994.7052</td>\n",
       "      <td>train</td>\n",
       "      <td>Non-Consumable</td>\n",
       "      <td>26</td>\n",
       "    </tr>\n",
       "  </tbody>\n",
       "</table>\n",
       "</div>"
      ],
      "text/plain": [
       "  Item_Identifier  Item_Weight  Item_Fat_Content  Item_Visibility  \\\n",
       "0           FDA15         9.30                 0         0.016047   \n",
       "1           DRC01         5.92                 1         0.019278   \n",
       "2           FDN15        17.50                 0         0.016760   \n",
       "3           FDX07        19.20                 1         0.017834   \n",
       "4           NCD19         8.93                 0         0.009780   \n",
       "\n",
       "               Item_Type  Item_MRP Outlet_Identifier  \\\n",
       "0                  Dairy  249.8092            OUT049   \n",
       "1            Soft Drinks   48.2692            OUT018   \n",
       "2                   Meat  141.6180            OUT049   \n",
       "3  Fruits and Vegetables  182.0950            OUT010   \n",
       "4              Household   53.8614            OUT013   \n",
       "\n",
       "   Outlet_Establishment_Year  Outlet_Size  Outlet_Location_Type  \\\n",
       "0                       1999            1                     0   \n",
       "1                       2009            1                     2   \n",
       "2                       1999            1                     0   \n",
       "3                       1998            1                     2   \n",
       "4                       1987            0                     2   \n",
       "\n",
       "         Outlet_Type  Item_Outlet_Sales source Item_Type_Combined  Oultet_Age  \n",
       "0  Supermarket Type1          3735.1380  train               Food          14  \n",
       "1  Supermarket Type2           443.4228  train             Drinks           4  \n",
       "2  Supermarket Type1          2097.2700  train               Food          14  \n",
       "3      Grocery Store           732.3800  train               Food          15  \n",
       "4  Supermarket Type1           994.7052  train     Non-Consumable          26  "
      ]
     },
     "execution_count": 43,
     "metadata": {},
     "output_type": "execute_result"
    }
   ],
   "source": [
    "#Label Encoding for Ordinal Data\n",
    "le = LabelEncoder()\n",
    "label = ['Item_Fat_Content', 'Outlet_Size', 'Outlet_Location_Type']\n",
    "for i in label:\n",
    "    data[i] = le.fit_transform(data[i])\n",
    "data.head()"
   ]
  },
  {
   "cell_type": "code",
   "execution_count": 44,
   "id": "662f36cc",
   "metadata": {
    "execution": {
     "iopub.execute_input": "2022-11-30T22:46:50.681276Z",
     "iopub.status.busy": "2022-11-30T22:46:50.680488Z",
     "iopub.status.idle": "2022-11-30T22:46:50.706494Z",
     "shell.execute_reply": "2022-11-30T22:46:50.705104Z"
    },
    "papermill": {
     "duration": 0.053871,
     "end_time": "2022-11-30T22:46:50.709331",
     "exception": false,
     "start_time": "2022-11-30T22:46:50.655460",
     "status": "completed"
    },
    "tags": []
   },
   "outputs": [],
   "source": [
    "# One-Hot encoding (OHE) for Nominal Data\n",
    "\n",
    "# One hot encoding\n",
    "cols = ['Item_Type_Combined', 'Outlet_Type']\n",
    "# Apply one-hot encoder\n",
    "OH_encoder = OneHotEncoder(handle_unknown='ignore', sparse=False)\n",
    "data_oh = pd.DataFrame(OH_encoder.fit_transform(data[cols])).astype('int64')\n",
    "\n",
    "\n",
    "# get feature columns\n",
    "data_oh.columns = OH_encoder.get_feature_names_out(cols)\n",
    "\n",
    "# # One-hot encoding removed index; put it back\n",
    "data_oh.index = data.index\n",
    "\n",
    "# # Add one-hot encoded columns to our main df new name: tr_fe, te_fe (means feature engeenired) \n",
    "data_fe = pd.concat([data, data_oh], axis=1)"
   ]
  },
  {
   "cell_type": "code",
   "execution_count": 45,
   "id": "681e63da",
   "metadata": {
    "execution": {
     "iopub.execute_input": "2022-11-30T22:46:50.761848Z",
     "iopub.status.busy": "2022-11-30T22:46:50.761352Z",
     "iopub.status.idle": "2022-11-30T22:46:50.795061Z",
     "shell.execute_reply": "2022-11-30T22:46:50.793854Z"
    },
    "papermill": {
     "duration": 0.063462,
     "end_time": "2022-11-30T22:46:50.797862",
     "exception": false,
     "start_time": "2022-11-30T22:46:50.734400",
     "status": "completed"
    },
    "tags": []
   },
   "outputs": [
    {
     "data": {
      "text/html": [
       "<div>\n",
       "<style scoped>\n",
       "    .dataframe tbody tr th:only-of-type {\n",
       "        vertical-align: middle;\n",
       "    }\n",
       "\n",
       "    .dataframe tbody tr th {\n",
       "        vertical-align: top;\n",
       "    }\n",
       "\n",
       "    .dataframe thead th {\n",
       "        text-align: right;\n",
       "    }\n",
       "</style>\n",
       "<table border=\"1\" class=\"dataframe\">\n",
       "  <thead>\n",
       "    <tr style=\"text-align: right;\">\n",
       "      <th></th>\n",
       "      <th>Item_Weight</th>\n",
       "      <th>Item_Fat_Content</th>\n",
       "      <th>Item_Visibility</th>\n",
       "      <th>Item_MRP</th>\n",
       "      <th>Outlet_Size</th>\n",
       "      <th>Outlet_Location_Type</th>\n",
       "      <th>Item_Outlet_Sales</th>\n",
       "      <th>Item_Type_Combined</th>\n",
       "      <th>Oultet_Age</th>\n",
       "      <th>Item_Type_Combined_Drinks</th>\n",
       "      <th>Item_Type_Combined_Food</th>\n",
       "      <th>Item_Type_Combined_Non-Consumable</th>\n",
       "      <th>Outlet_Type_Grocery Store</th>\n",
       "      <th>Outlet_Type_Supermarket Type1</th>\n",
       "      <th>Outlet_Type_Supermarket Type2</th>\n",
       "      <th>Outlet_Type_Supermarket Type3</th>\n",
       "    </tr>\n",
       "  </thead>\n",
       "  <tbody>\n",
       "    <tr>\n",
       "      <th>0</th>\n",
       "      <td>9.300000</td>\n",
       "      <td>0</td>\n",
       "      <td>0.016047</td>\n",
       "      <td>249.8092</td>\n",
       "      <td>1</td>\n",
       "      <td>0</td>\n",
       "      <td>3735.1380</td>\n",
       "      <td>Food</td>\n",
       "      <td>14</td>\n",
       "      <td>0</td>\n",
       "      <td>1</td>\n",
       "      <td>0</td>\n",
       "      <td>0</td>\n",
       "      <td>1</td>\n",
       "      <td>0</td>\n",
       "      <td>0</td>\n",
       "    </tr>\n",
       "    <tr>\n",
       "      <th>1</th>\n",
       "      <td>5.920000</td>\n",
       "      <td>1</td>\n",
       "      <td>0.019278</td>\n",
       "      <td>48.2692</td>\n",
       "      <td>1</td>\n",
       "      <td>2</td>\n",
       "      <td>443.4228</td>\n",
       "      <td>Drinks</td>\n",
       "      <td>4</td>\n",
       "      <td>1</td>\n",
       "      <td>0</td>\n",
       "      <td>0</td>\n",
       "      <td>0</td>\n",
       "      <td>0</td>\n",
       "      <td>1</td>\n",
       "      <td>0</td>\n",
       "    </tr>\n",
       "    <tr>\n",
       "      <th>2</th>\n",
       "      <td>17.500000</td>\n",
       "      <td>0</td>\n",
       "      <td>0.016760</td>\n",
       "      <td>141.6180</td>\n",
       "      <td>1</td>\n",
       "      <td>0</td>\n",
       "      <td>2097.2700</td>\n",
       "      <td>Food</td>\n",
       "      <td>14</td>\n",
       "      <td>0</td>\n",
       "      <td>1</td>\n",
       "      <td>0</td>\n",
       "      <td>0</td>\n",
       "      <td>1</td>\n",
       "      <td>0</td>\n",
       "      <td>0</td>\n",
       "    </tr>\n",
       "    <tr>\n",
       "      <th>3</th>\n",
       "      <td>19.200000</td>\n",
       "      <td>1</td>\n",
       "      <td>0.017834</td>\n",
       "      <td>182.0950</td>\n",
       "      <td>1</td>\n",
       "      <td>2</td>\n",
       "      <td>732.3800</td>\n",
       "      <td>Food</td>\n",
       "      <td>15</td>\n",
       "      <td>0</td>\n",
       "      <td>1</td>\n",
       "      <td>0</td>\n",
       "      <td>1</td>\n",
       "      <td>0</td>\n",
       "      <td>0</td>\n",
       "      <td>0</td>\n",
       "    </tr>\n",
       "    <tr>\n",
       "      <th>4</th>\n",
       "      <td>8.930000</td>\n",
       "      <td>0</td>\n",
       "      <td>0.009780</td>\n",
       "      <td>53.8614</td>\n",
       "      <td>0</td>\n",
       "      <td>2</td>\n",
       "      <td>994.7052</td>\n",
       "      <td>Non-Consumable</td>\n",
       "      <td>26</td>\n",
       "      <td>0</td>\n",
       "      <td>0</td>\n",
       "      <td>1</td>\n",
       "      <td>0</td>\n",
       "      <td>1</td>\n",
       "      <td>0</td>\n",
       "      <td>0</td>\n",
       "    </tr>\n",
       "    <tr>\n",
       "      <th>5</th>\n",
       "      <td>10.395000</td>\n",
       "      <td>1</td>\n",
       "      <td>0.057059</td>\n",
       "      <td>51.4008</td>\n",
       "      <td>1</td>\n",
       "      <td>2</td>\n",
       "      <td>556.6088</td>\n",
       "      <td>Food</td>\n",
       "      <td>4</td>\n",
       "      <td>0</td>\n",
       "      <td>1</td>\n",
       "      <td>0</td>\n",
       "      <td>0</td>\n",
       "      <td>0</td>\n",
       "      <td>1</td>\n",
       "      <td>0</td>\n",
       "    </tr>\n",
       "    <tr>\n",
       "      <th>6</th>\n",
       "      <td>13.650000</td>\n",
       "      <td>1</td>\n",
       "      <td>0.012741</td>\n",
       "      <td>57.6588</td>\n",
       "      <td>0</td>\n",
       "      <td>2</td>\n",
       "      <td>343.5528</td>\n",
       "      <td>Food</td>\n",
       "      <td>26</td>\n",
       "      <td>0</td>\n",
       "      <td>1</td>\n",
       "      <td>0</td>\n",
       "      <td>0</td>\n",
       "      <td>1</td>\n",
       "      <td>0</td>\n",
       "      <td>0</td>\n",
       "    </tr>\n",
       "    <tr>\n",
       "      <th>7</th>\n",
       "      <td>12.792854</td>\n",
       "      <td>0</td>\n",
       "      <td>0.127470</td>\n",
       "      <td>107.7622</td>\n",
       "      <td>1</td>\n",
       "      <td>2</td>\n",
       "      <td>4022.7636</td>\n",
       "      <td>Food</td>\n",
       "      <td>28</td>\n",
       "      <td>0</td>\n",
       "      <td>1</td>\n",
       "      <td>0</td>\n",
       "      <td>0</td>\n",
       "      <td>0</td>\n",
       "      <td>0</td>\n",
       "      <td>1</td>\n",
       "    </tr>\n",
       "    <tr>\n",
       "      <th>8</th>\n",
       "      <td>16.200000</td>\n",
       "      <td>1</td>\n",
       "      <td>0.016687</td>\n",
       "      <td>96.9726</td>\n",
       "      <td>1</td>\n",
       "      <td>1</td>\n",
       "      <td>1076.5986</td>\n",
       "      <td>Food</td>\n",
       "      <td>11</td>\n",
       "      <td>0</td>\n",
       "      <td>1</td>\n",
       "      <td>0</td>\n",
       "      <td>0</td>\n",
       "      <td>1</td>\n",
       "      <td>0</td>\n",
       "      <td>0</td>\n",
       "    </tr>\n",
       "    <tr>\n",
       "      <th>9</th>\n",
       "      <td>19.200000</td>\n",
       "      <td>1</td>\n",
       "      <td>0.094450</td>\n",
       "      <td>187.8214</td>\n",
       "      <td>1</td>\n",
       "      <td>1</td>\n",
       "      <td>4710.5350</td>\n",
       "      <td>Food</td>\n",
       "      <td>6</td>\n",
       "      <td>0</td>\n",
       "      <td>1</td>\n",
       "      <td>0</td>\n",
       "      <td>0</td>\n",
       "      <td>1</td>\n",
       "      <td>0</td>\n",
       "      <td>0</td>\n",
       "    </tr>\n",
       "  </tbody>\n",
       "</table>\n",
       "</div>"
      ],
      "text/plain": [
       "   Item_Weight  Item_Fat_Content  Item_Visibility  Item_MRP  Outlet_Size  \\\n",
       "0     9.300000                 0         0.016047  249.8092            1   \n",
       "1     5.920000                 1         0.019278   48.2692            1   \n",
       "2    17.500000                 0         0.016760  141.6180            1   \n",
       "3    19.200000                 1         0.017834  182.0950            1   \n",
       "4     8.930000                 0         0.009780   53.8614            0   \n",
       "5    10.395000                 1         0.057059   51.4008            1   \n",
       "6    13.650000                 1         0.012741   57.6588            0   \n",
       "7    12.792854                 0         0.127470  107.7622            1   \n",
       "8    16.200000                 1         0.016687   96.9726            1   \n",
       "9    19.200000                 1         0.094450  187.8214            1   \n",
       "\n",
       "   Outlet_Location_Type  Item_Outlet_Sales Item_Type_Combined  Oultet_Age  \\\n",
       "0                     0          3735.1380               Food          14   \n",
       "1                     2           443.4228             Drinks           4   \n",
       "2                     0          2097.2700               Food          14   \n",
       "3                     2           732.3800               Food          15   \n",
       "4                     2           994.7052     Non-Consumable          26   \n",
       "5                     2           556.6088               Food           4   \n",
       "6                     2           343.5528               Food          26   \n",
       "7                     2          4022.7636               Food          28   \n",
       "8                     1          1076.5986               Food          11   \n",
       "9                     1          4710.5350               Food           6   \n",
       "\n",
       "   Item_Type_Combined_Drinks  Item_Type_Combined_Food  \\\n",
       "0                          0                        1   \n",
       "1                          1                        0   \n",
       "2                          0                        1   \n",
       "3                          0                        1   \n",
       "4                          0                        0   \n",
       "5                          0                        1   \n",
       "6                          0                        1   \n",
       "7                          0                        1   \n",
       "8                          0                        1   \n",
       "9                          0                        1   \n",
       "\n",
       "   Item_Type_Combined_Non-Consumable  Outlet_Type_Grocery Store  \\\n",
       "0                                  0                          0   \n",
       "1                                  0                          0   \n",
       "2                                  0                          0   \n",
       "3                                  0                          1   \n",
       "4                                  1                          0   \n",
       "5                                  0                          0   \n",
       "6                                  0                          0   \n",
       "7                                  0                          0   \n",
       "8                                  0                          0   \n",
       "9                                  0                          0   \n",
       "\n",
       "   Outlet_Type_Supermarket Type1  Outlet_Type_Supermarket Type2  \\\n",
       "0                              1                              0   \n",
       "1                              0                              1   \n",
       "2                              1                              0   \n",
       "3                              0                              0   \n",
       "4                              1                              0   \n",
       "5                              0                              1   \n",
       "6                              1                              0   \n",
       "7                              0                              0   \n",
       "8                              1                              0   \n",
       "9                              1                              0   \n",
       "\n",
       "   Outlet_Type_Supermarket Type3  \n",
       "0                              0  \n",
       "1                              0  \n",
       "2                              0  \n",
       "3                              0  \n",
       "4                              0  \n",
       "5                              0  \n",
       "6                              0  \n",
       "7                              1  \n",
       "8                              0  \n",
       "9                              0  "
      ]
     },
     "execution_count": 45,
     "metadata": {},
     "output_type": "execute_result"
    }
   ],
   "source": [
    "# Divide Data into train and test\n",
    "train_df = data_fe.loc[data_fe['source']==\"train\"]\n",
    "test_df = data_fe.loc[data_fe['source']==\"test\"]\n",
    "# Dropping irrelevant columns\n",
    "train_df  = train_df.drop(['Item_Identifier', 'source', 'Outlet_Identifier','Outlet_Establishment_Year',\n",
    "                           'Outlet_Type','Item_Type'], axis=1)\n",
    "train_df.head(10)"
   ]
  },
  {
   "cell_type": "code",
   "execution_count": null,
   "id": "81802ab3",
   "metadata": {
    "papermill": {
     "duration": 0.026421,
     "end_time": "2022-11-30T22:46:50.848369",
     "exception": false,
     "start_time": "2022-11-30T22:46:50.821948",
     "status": "completed"
    },
    "tags": []
   },
   "outputs": [],
   "source": []
  }
 ],
 "metadata": {
  "kernelspec": {
   "display_name": "Python 3",
   "language": "python",
   "name": "python3"
  },
  "language_info": {
   "codemirror_mode": {
    "name": "ipython",
    "version": 3
   },
   "file_extension": ".py",
   "mimetype": "text/x-python",
   "name": "python",
   "nbconvert_exporter": "python",
   "pygments_lexer": "ipython3",
   "version": "3.7.12"
  },
  "papermill": {
   "default_parameters": {},
   "duration": 21.772107,
   "end_time": "2022-11-30T22:46:51.696277",
   "environment_variables": {},
   "exception": null,
   "input_path": "__notebook__.ipynb",
   "output_path": "__notebook__.ipynb",
   "parameters": {},
   "start_time": "2022-11-30T22:46:29.924170",
   "version": "2.3.4"
  }
 },
 "nbformat": 4,
 "nbformat_minor": 5
}
