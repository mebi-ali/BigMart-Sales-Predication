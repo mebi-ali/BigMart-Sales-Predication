{
 "cells": [
  {
   "cell_type": "markdown",
   "id": "5a62ccdd",
   "metadata": {
    "papermill": {
     "duration": 0.019836,
     "end_time": "2022-12-01T06:29:50.672623",
     "exception": false,
     "start_time": "2022-12-01T06:29:50.652787",
     "status": "completed"
    },
    "tags": []
   },
   "source": [
    "# BigMart Sales Prediction\n",
    "\n",
    "### Problem Statement\n",
    "#### The data scientists at BigMart have collected 2013 sales data for 1559 products across 10 stores in different cities. Also, certain attributes of each product and store have been defined. The aim of this data science project is to build a predictive model and find out the sales of each product at a particular store.\n",
    "\n",
    "### Statement Analysis\n",
    "####  Supervised Machine Learning Problem\n",
    "####  The Target Value is **Sales**\n",
    "\n",
    "### Goal\n",
    "#### Using this model, BigMart will try to understand the properties of products and stores which play a key role in increasing sales.\n"
   ]
  },
  {
   "cell_type": "markdown",
   "id": "3158d072",
   "metadata": {
    "papermill": {
     "duration": 0.017101,
     "end_time": "2022-12-01T06:29:50.707680",
     "exception": false,
     "start_time": "2022-12-01T06:29:50.690579",
     "status": "completed"
    },
    "tags": []
   },
   "source": [
    "# Hypothesis Generation Using Product, Store and City\n",
    "1. **City Type:** Stores located in urban should have higher Sales.\n",
    "2. **Store Location:** Store located in popular market place shoud have higher Sales\n",
    "3. **Populted City:** City with high population should have higher Sales.\n",
    "4. **Store Size**: Stores with large size should have higher Sales.\n",
    "5. **Staff**: Stores with more staff should have higher Sales.\n",
    "6. **Branded Products**: Branded Products will have higher Sales. \n",
    "7. **Product Visbility**: Products with large space should have higher Sales.\n",
    "8. **Product Frequency**: More frequnct products will have high Sales.\n",
    "9. **Utilities**: Daily Basic Products should have higher Sales.\n",
    "10. **Promotional Offers**: Promo Products should have higher Sales."
   ]
  },
  {
   "cell_type": "markdown",
   "id": "ffad9342",
   "metadata": {
    "papermill": {
     "duration": 0.01684,
     "end_time": "2022-12-01T06:29:50.740424",
     "exception": false,
     "start_time": "2022-12-01T06:29:50.723584",
     "status": "completed"
    },
    "tags": []
   },
   "source": [
    "This dataset is named BigMart Sales. The dataset contains a set of 8,523 records under 12 attributes:\n",
    "\n",
    "Column Name and their                          Description\n",
    "* **Item_Identifier:**                Unique product ID\n",
    "* **Item_Weight\t:**                    Weight of product\n",
    "* **Item_Fat_Content\t:**   Checks the Concentration of fat in the product\n",
    "* **Item_Visibility\t:**   The % of total display area of all similar products in a store\n",
    "* **Item_Type:**    Category\n",
    "* **Item_MRP\t :**          Maximum Retail Price for a Product\n",
    "* **Outlet_Identifier\t:**   Store ID\n",
    "* **Outlet_Establishment_Year\t:**The year in which store was established\n",
    "* **Outlet_Size\t:**The size of the store (Area Size Category)\n",
    "* **Outlet_Location_Type\t:**In Terms of city Tiers (Size)\n",
    "* **Outlet_Type\t:**Grocery store or a type of supermarket\n",
    "* **Item_Outlet_Sales\t:** Sales of the product In the Specific outlet"
   ]
  },
  {
   "cell_type": "code",
   "execution_count": 1,
   "id": "bc729044",
   "metadata": {
    "execution": {
     "iopub.execute_input": "2022-12-01T06:29:50.775339Z",
     "iopub.status.busy": "2022-12-01T06:29:50.774616Z",
     "iopub.status.idle": "2022-12-01T06:29:52.330216Z",
     "shell.execute_reply": "2022-12-01T06:29:52.328762Z"
    },
    "papermill": {
     "duration": 1.575994,
     "end_time": "2022-12-01T06:29:52.333112",
     "exception": false,
     "start_time": "2022-12-01T06:29:50.757118",
     "status": "completed"
    },
    "tags": []
   },
   "outputs": [
    {
     "name": "stdout",
     "output_type": "stream",
     "text": [
      "/kaggle/input/bigmart-sales-data/Train.csv\n",
      "/kaggle/input/bigmart-sales-data/Test.csv\n"
     ]
    }
   ],
   "source": [
    "# This Python 3 environment comes with many helpful analytics libraries installed\n",
    "# It is defined by the kaggle/python Docker image: https://github.com/kaggle/docker-python\n",
    "# For example, here's several helpful packages to load\n",
    "\n",
    "import os #paths to file\n",
    "import numpy as np # linear algebra\n",
    "import pandas as pd # data processing\n",
    "import warnings  # warning filter\n",
    "import matplotlib.pyplot as plt # Data visulization\n",
    "import seaborn as sns # Data visulization\n",
    "\n",
    "%matplotlib inline\n",
    "\n",
    "#train test split\n",
    "from sklearn.model_selection import train_test_split\n",
    "\n",
    "#feature engineering\n",
    "from sklearn.preprocessing import OneHotEncoder\n",
    "from sklearn.preprocessing import LabelEncoder\n",
    "\n",
    "#metrics\n",
    "from sklearn.metrics import mean_absolute_error as MAE\n",
    "from sklearn.metrics import mean_squared_error as MSE\n",
    "from sklearn.metrics import r2_score as R2\n",
    "from sklearn.model_selection  import cross_val_score as CVS\n",
    "\n",
    "#ML models\n",
    "from sklearn.linear_model import LinearRegression\n",
    "from sklearn.ensemble import RandomForestRegressor\n",
    "from sklearn.linear_model import Lasso\n",
    "\n",
    "# Cross Validation\n",
    "from sklearn.model_selection import cross_val_score as CVS\n",
    "\n",
    "#warning hadle\n",
    "warnings.filterwarnings(\"always\")\n",
    "warnings.filterwarnings(\"ignore\")\n",
    "\n",
    "# Input data files are available in the read-only \"../input/\" directory\n",
    "# For example, running this (by clicking run or pressing Shift+Enter) will list all files under the input directory\n",
    "\n",
    "import os\n",
    "for dirname, _, filenames in os.walk('/kaggle/input'):\n",
    "    for filename in filenames:\n",
    "        print(os.path.join(dirname, filename))\n",
    "\n",
    "# You can write up to 20GB to the current directory (/kaggle/working/) that gets preserved as output when you create a version using \"Save & Run All\" \n",
    "# You can also write temporary files to /kaggle/temp/, but they won't be saved outside of the current session"
   ]
  },
  {
   "cell_type": "code",
   "execution_count": 2,
   "id": "f9b5c2ae",
   "metadata": {
    "execution": {
     "iopub.execute_input": "2022-12-01T06:29:52.365953Z",
     "iopub.status.busy": "2022-12-01T06:29:52.365257Z",
     "iopub.status.idle": "2022-12-01T06:29:52.371673Z",
     "shell.execute_reply": "2022-12-01T06:29:52.370737Z"
    },
    "papermill": {
     "duration": 0.025485,
     "end_time": "2022-12-01T06:29:52.374067",
     "exception": false,
     "start_time": "2022-12-01T06:29:52.348582",
     "status": "completed"
    },
    "tags": []
   },
   "outputs": [],
   "source": [
    "#path for the training set\n",
    "train_path = \"/kaggle/input/bigmart-sales-data/Train.csv\"\n",
    "#path for the testing set\n",
    "test_path = \"/kaggle/input/bigmart-sales-data/Test.csv\""
   ]
  },
  {
   "cell_type": "code",
   "execution_count": 3,
   "id": "2e347335",
   "metadata": {
    "execution": {
     "iopub.execute_input": "2022-12-01T06:29:52.406890Z",
     "iopub.status.busy": "2022-12-01T06:29:52.406423Z",
     "iopub.status.idle": "2022-12-01T06:29:52.479494Z",
     "shell.execute_reply": "2022-12-01T06:29:52.478685Z"
    },
    "papermill": {
     "duration": 0.09493,
     "end_time": "2022-12-01T06:29:52.484448",
     "exception": false,
     "start_time": "2022-12-01T06:29:52.389518",
     "status": "completed"
    },
    "tags": []
   },
   "outputs": [
    {
     "data": {
      "text/html": [
       "<div>\n",
       "<style scoped>\n",
       "    .dataframe tbody tr th:only-of-type {\n",
       "        vertical-align: middle;\n",
       "    }\n",
       "\n",
       "    .dataframe tbody tr th {\n",
       "        vertical-align: top;\n",
       "    }\n",
       "\n",
       "    .dataframe thead th {\n",
       "        text-align: right;\n",
       "    }\n",
       "</style>\n",
       "<table border=\"1\" class=\"dataframe\">\n",
       "  <thead>\n",
       "    <tr style=\"text-align: right;\">\n",
       "      <th></th>\n",
       "      <th>Item_Identifier</th>\n",
       "      <th>Item_Weight</th>\n",
       "      <th>Item_Fat_Content</th>\n",
       "      <th>Item_Visibility</th>\n",
       "      <th>Item_Type</th>\n",
       "      <th>Item_MRP</th>\n",
       "      <th>Outlet_Identifier</th>\n",
       "      <th>Outlet_Establishment_Year</th>\n",
       "      <th>Outlet_Size</th>\n",
       "      <th>Outlet_Location_Type</th>\n",
       "      <th>Outlet_Type</th>\n",
       "      <th>Item_Outlet_Sales</th>\n",
       "    </tr>\n",
       "  </thead>\n",
       "  <tbody>\n",
       "    <tr>\n",
       "      <th>0</th>\n",
       "      <td>FDA15</td>\n",
       "      <td>9.30</td>\n",
       "      <td>Low Fat</td>\n",
       "      <td>0.016047</td>\n",
       "      <td>Dairy</td>\n",
       "      <td>249.8092</td>\n",
       "      <td>OUT049</td>\n",
       "      <td>1999</td>\n",
       "      <td>Medium</td>\n",
       "      <td>Tier 1</td>\n",
       "      <td>Supermarket Type1</td>\n",
       "      <td>3735.1380</td>\n",
       "    </tr>\n",
       "    <tr>\n",
       "      <th>1</th>\n",
       "      <td>DRC01</td>\n",
       "      <td>5.92</td>\n",
       "      <td>Regular</td>\n",
       "      <td>0.019278</td>\n",
       "      <td>Soft Drinks</td>\n",
       "      <td>48.2692</td>\n",
       "      <td>OUT018</td>\n",
       "      <td>2009</td>\n",
       "      <td>Medium</td>\n",
       "      <td>Tier 3</td>\n",
       "      <td>Supermarket Type2</td>\n",
       "      <td>443.4228</td>\n",
       "    </tr>\n",
       "    <tr>\n",
       "      <th>2</th>\n",
       "      <td>FDN15</td>\n",
       "      <td>17.50</td>\n",
       "      <td>Low Fat</td>\n",
       "      <td>0.016760</td>\n",
       "      <td>Meat</td>\n",
       "      <td>141.6180</td>\n",
       "      <td>OUT049</td>\n",
       "      <td>1999</td>\n",
       "      <td>Medium</td>\n",
       "      <td>Tier 1</td>\n",
       "      <td>Supermarket Type1</td>\n",
       "      <td>2097.2700</td>\n",
       "    </tr>\n",
       "    <tr>\n",
       "      <th>3</th>\n",
       "      <td>FDX07</td>\n",
       "      <td>19.20</td>\n",
       "      <td>Regular</td>\n",
       "      <td>0.000000</td>\n",
       "      <td>Fruits and Vegetables</td>\n",
       "      <td>182.0950</td>\n",
       "      <td>OUT010</td>\n",
       "      <td>1998</td>\n",
       "      <td>NaN</td>\n",
       "      <td>Tier 3</td>\n",
       "      <td>Grocery Store</td>\n",
       "      <td>732.3800</td>\n",
       "    </tr>\n",
       "    <tr>\n",
       "      <th>4</th>\n",
       "      <td>NCD19</td>\n",
       "      <td>8.93</td>\n",
       "      <td>Low Fat</td>\n",
       "      <td>0.000000</td>\n",
       "      <td>Household</td>\n",
       "      <td>53.8614</td>\n",
       "      <td>OUT013</td>\n",
       "      <td>1987</td>\n",
       "      <td>High</td>\n",
       "      <td>Tier 3</td>\n",
       "      <td>Supermarket Type1</td>\n",
       "      <td>994.7052</td>\n",
       "    </tr>\n",
       "  </tbody>\n",
       "</table>\n",
       "</div>"
      ],
      "text/plain": [
       "  Item_Identifier  Item_Weight Item_Fat_Content  Item_Visibility  \\\n",
       "0           FDA15         9.30          Low Fat         0.016047   \n",
       "1           DRC01         5.92          Regular         0.019278   \n",
       "2           FDN15        17.50          Low Fat         0.016760   \n",
       "3           FDX07        19.20          Regular         0.000000   \n",
       "4           NCD19         8.93          Low Fat         0.000000   \n",
       "\n",
       "               Item_Type  Item_MRP Outlet_Identifier  \\\n",
       "0                  Dairy  249.8092            OUT049   \n",
       "1            Soft Drinks   48.2692            OUT018   \n",
       "2                   Meat  141.6180            OUT049   \n",
       "3  Fruits and Vegetables  182.0950            OUT010   \n",
       "4              Household   53.8614            OUT013   \n",
       "\n",
       "   Outlet_Establishment_Year Outlet_Size Outlet_Location_Type  \\\n",
       "0                       1999      Medium               Tier 1   \n",
       "1                       2009      Medium               Tier 3   \n",
       "2                       1999      Medium               Tier 1   \n",
       "3                       1998         NaN               Tier 3   \n",
       "4                       1987        High               Tier 3   \n",
       "\n",
       "         Outlet_Type  Item_Outlet_Sales  \n",
       "0  Supermarket Type1          3735.1380  \n",
       "1  Supermarket Type2           443.4228  \n",
       "2  Supermarket Type1          2097.2700  \n",
       "3      Grocery Store           732.3800  \n",
       "4  Supermarket Type1           994.7052  "
      ]
     },
     "execution_count": 3,
     "metadata": {},
     "output_type": "execute_result"
    }
   ],
   "source": [
    "# Reading Dataset Train.csv\n",
    "train = pd.read_csv(train_path)\n",
    "train.head()"
   ]
  },
  {
   "cell_type": "code",
   "execution_count": 4,
   "id": "36ada74b",
   "metadata": {
    "execution": {
     "iopub.execute_input": "2022-12-01T06:29:52.530318Z",
     "iopub.status.busy": "2022-12-01T06:29:52.529298Z",
     "iopub.status.idle": "2022-12-01T06:29:52.573612Z",
     "shell.execute_reply": "2022-12-01T06:29:52.572711Z"
    },
    "papermill": {
     "duration": 0.072613,
     "end_time": "2022-12-01T06:29:52.576140",
     "exception": false,
     "start_time": "2022-12-01T06:29:52.503527",
     "status": "completed"
    },
    "tags": []
   },
   "outputs": [
    {
     "data": {
      "text/html": [
       "<div>\n",
       "<style scoped>\n",
       "    .dataframe tbody tr th:only-of-type {\n",
       "        vertical-align: middle;\n",
       "    }\n",
       "\n",
       "    .dataframe tbody tr th {\n",
       "        vertical-align: top;\n",
       "    }\n",
       "\n",
       "    .dataframe thead th {\n",
       "        text-align: right;\n",
       "    }\n",
       "</style>\n",
       "<table border=\"1\" class=\"dataframe\">\n",
       "  <thead>\n",
       "    <tr style=\"text-align: right;\">\n",
       "      <th></th>\n",
       "      <th>Item_Identifier</th>\n",
       "      <th>Item_Weight</th>\n",
       "      <th>Item_Fat_Content</th>\n",
       "      <th>Item_Visibility</th>\n",
       "      <th>Item_Type</th>\n",
       "      <th>Item_MRP</th>\n",
       "      <th>Outlet_Identifier</th>\n",
       "      <th>Outlet_Establishment_Year</th>\n",
       "      <th>Outlet_Size</th>\n",
       "      <th>Outlet_Location_Type</th>\n",
       "      <th>Outlet_Type</th>\n",
       "    </tr>\n",
       "  </thead>\n",
       "  <tbody>\n",
       "    <tr>\n",
       "      <th>0</th>\n",
       "      <td>FDW58</td>\n",
       "      <td>20.750</td>\n",
       "      <td>Low Fat</td>\n",
       "      <td>0.007565</td>\n",
       "      <td>Snack Foods</td>\n",
       "      <td>107.8622</td>\n",
       "      <td>OUT049</td>\n",
       "      <td>1999</td>\n",
       "      <td>Medium</td>\n",
       "      <td>Tier 1</td>\n",
       "      <td>Supermarket Type1</td>\n",
       "    </tr>\n",
       "    <tr>\n",
       "      <th>1</th>\n",
       "      <td>FDW14</td>\n",
       "      <td>8.300</td>\n",
       "      <td>reg</td>\n",
       "      <td>0.038428</td>\n",
       "      <td>Dairy</td>\n",
       "      <td>87.3198</td>\n",
       "      <td>OUT017</td>\n",
       "      <td>2007</td>\n",
       "      <td>NaN</td>\n",
       "      <td>Tier 2</td>\n",
       "      <td>Supermarket Type1</td>\n",
       "    </tr>\n",
       "    <tr>\n",
       "      <th>2</th>\n",
       "      <td>NCN55</td>\n",
       "      <td>14.600</td>\n",
       "      <td>Low Fat</td>\n",
       "      <td>0.099575</td>\n",
       "      <td>Others</td>\n",
       "      <td>241.7538</td>\n",
       "      <td>OUT010</td>\n",
       "      <td>1998</td>\n",
       "      <td>NaN</td>\n",
       "      <td>Tier 3</td>\n",
       "      <td>Grocery Store</td>\n",
       "    </tr>\n",
       "    <tr>\n",
       "      <th>3</th>\n",
       "      <td>FDQ58</td>\n",
       "      <td>7.315</td>\n",
       "      <td>Low Fat</td>\n",
       "      <td>0.015388</td>\n",
       "      <td>Snack Foods</td>\n",
       "      <td>155.0340</td>\n",
       "      <td>OUT017</td>\n",
       "      <td>2007</td>\n",
       "      <td>NaN</td>\n",
       "      <td>Tier 2</td>\n",
       "      <td>Supermarket Type1</td>\n",
       "    </tr>\n",
       "    <tr>\n",
       "      <th>4</th>\n",
       "      <td>FDY38</td>\n",
       "      <td>NaN</td>\n",
       "      <td>Regular</td>\n",
       "      <td>0.118599</td>\n",
       "      <td>Dairy</td>\n",
       "      <td>234.2300</td>\n",
       "      <td>OUT027</td>\n",
       "      <td>1985</td>\n",
       "      <td>Medium</td>\n",
       "      <td>Tier 3</td>\n",
       "      <td>Supermarket Type3</td>\n",
       "    </tr>\n",
       "  </tbody>\n",
       "</table>\n",
       "</div>"
      ],
      "text/plain": [
       "  Item_Identifier  Item_Weight Item_Fat_Content  Item_Visibility    Item_Type  \\\n",
       "0           FDW58       20.750          Low Fat         0.007565  Snack Foods   \n",
       "1           FDW14        8.300              reg         0.038428        Dairy   \n",
       "2           NCN55       14.600          Low Fat         0.099575       Others   \n",
       "3           FDQ58        7.315          Low Fat         0.015388  Snack Foods   \n",
       "4           FDY38          NaN          Regular         0.118599        Dairy   \n",
       "\n",
       "   Item_MRP Outlet_Identifier  Outlet_Establishment_Year Outlet_Size  \\\n",
       "0  107.8622            OUT049                       1999      Medium   \n",
       "1   87.3198            OUT017                       2007         NaN   \n",
       "2  241.7538            OUT010                       1998         NaN   \n",
       "3  155.0340            OUT017                       2007         NaN   \n",
       "4  234.2300            OUT027                       1985      Medium   \n",
       "\n",
       "  Outlet_Location_Type        Outlet_Type  \n",
       "0               Tier 1  Supermarket Type1  \n",
       "1               Tier 2  Supermarket Type1  \n",
       "2               Tier 3      Grocery Store  \n",
       "3               Tier 2  Supermarket Type1  \n",
       "4               Tier 3  Supermarket Type3  "
      ]
     },
     "execution_count": 4,
     "metadata": {},
     "output_type": "execute_result"
    }
   ],
   "source": [
    "# Reading Dataset Test.csv\n",
    "test = pd.read_csv(test_path)\n",
    "test.head()"
   ]
  },
  {
   "cell_type": "code",
   "execution_count": 5,
   "id": "5b49c1dc",
   "metadata": {
    "execution": {
     "iopub.execute_input": "2022-12-01T06:29:52.613317Z",
     "iopub.status.busy": "2022-12-01T06:29:52.612368Z",
     "iopub.status.idle": "2022-12-01T06:29:52.618659Z",
     "shell.execute_reply": "2022-12-01T06:29:52.617702Z"
    },
    "papermill": {
     "duration": 0.027049,
     "end_time": "2022-12-01T06:29:52.621021",
     "exception": false,
     "start_time": "2022-12-01T06:29:52.593972",
     "status": "completed"
    },
    "tags": []
   },
   "outputs": [
    {
     "name": "stdout",
     "output_type": "stream",
     "text": [
      "Training Dataset (row, col): (8523, 12) \n",
      "\n",
      "Testing Dataset (row, col): (5681, 11)\n"
     ]
    }
   ],
   "source": [
    "# Rows and columns\n",
    "print(f'Training Dataset (row, col): {train.shape} \\n\\nTesting Dataset (row, col): {test.shape}')"
   ]
  },
  {
   "cell_type": "markdown",
   "id": "3a167fdd",
   "metadata": {
    "papermill": {
     "duration": 0.016616,
     "end_time": "2022-12-01T06:29:52.654604",
     "exception": false,
     "start_time": "2022-12-01T06:29:52.637988",
     "status": "completed"
    },
    "tags": []
   },
   "source": [
    "# Preprocessing\n",
    "\n",
    "## Lets Combine Both DataSets since both are Similiar    "
   ]
  },
  {
   "cell_type": "code",
   "execution_count": 6,
   "id": "66215273",
   "metadata": {
    "execution": {
     "iopub.execute_input": "2022-12-01T06:29:52.689912Z",
     "iopub.status.busy": "2022-12-01T06:29:52.688776Z",
     "iopub.status.idle": "2022-12-01T06:29:52.713193Z",
     "shell.execute_reply": "2022-12-01T06:29:52.711710Z"
    },
    "papermill": {
     "duration": 0.044875,
     "end_time": "2022-12-01T06:29:52.715934",
     "exception": false,
     "start_time": "2022-12-01T06:29:52.671059",
     "status": "completed"
    },
    "tags": []
   },
   "outputs": [
    {
     "name": "stdout",
     "output_type": "stream",
     "text": [
      "After Combining Datasets:  (14204, 13)\n"
     ]
    }
   ],
   "source": [
    "# Lets combine both datasets\n",
    "# test_df['Item_Outlet_Sales'] = np.nan\n",
    "train['source'] = 'train'\n",
    "test['source'] = 'test'\n",
    "data = pd.concat([train, test], ignore_index=True)\n",
    "print('After Combining Datasets: ', data.shape)"
   ]
  },
  {
   "cell_type": "code",
   "execution_count": 7,
   "id": "ce1f6eb8",
   "metadata": {
    "execution": {
     "iopub.execute_input": "2022-12-01T06:29:52.751975Z",
     "iopub.status.busy": "2022-12-01T06:29:52.751188Z",
     "iopub.status.idle": "2022-12-01T06:29:52.778760Z",
     "shell.execute_reply": "2022-12-01T06:29:52.777655Z"
    },
    "papermill": {
     "duration": 0.048642,
     "end_time": "2022-12-01T06:29:52.781660",
     "exception": false,
     "start_time": "2022-12-01T06:29:52.733018",
     "status": "completed"
    },
    "tags": []
   },
   "outputs": [
    {
     "name": "stdout",
     "output_type": "stream",
     "text": [
      "<class 'pandas.core.frame.DataFrame'>\n",
      "RangeIndex: 14204 entries, 0 to 14203\n",
      "Data columns (total 13 columns):\n",
      " #   Column                     Non-Null Count  Dtype  \n",
      "---  ------                     --------------  -----  \n",
      " 0   Item_Identifier            14204 non-null  object \n",
      " 1   Item_Weight                11765 non-null  float64\n",
      " 2   Item_Fat_Content           14204 non-null  object \n",
      " 3   Item_Visibility            14204 non-null  float64\n",
      " 4   Item_Type                  14204 non-null  object \n",
      " 5   Item_MRP                   14204 non-null  float64\n",
      " 6   Outlet_Identifier          14204 non-null  object \n",
      " 7   Outlet_Establishment_Year  14204 non-null  int64  \n",
      " 8   Outlet_Size                10188 non-null  object \n",
      " 9   Outlet_Location_Type       14204 non-null  object \n",
      " 10  Outlet_Type                14204 non-null  object \n",
      " 11  Item_Outlet_Sales          8523 non-null   float64\n",
      " 12  source                     14204 non-null  object \n",
      "dtypes: float64(4), int64(1), object(8)\n",
      "memory usage: 1.4+ MB\n"
     ]
    }
   ],
   "source": [
    "data.info(verbose=True, show_counts=True)"
   ]
  },
  {
   "cell_type": "code",
   "execution_count": 8,
   "id": "376584d4",
   "metadata": {
    "execution": {
     "iopub.execute_input": "2022-12-01T06:29:52.816665Z",
     "iopub.status.busy": "2022-12-01T06:29:52.816199Z",
     "iopub.status.idle": "2022-12-01T06:29:52.888563Z",
     "shell.execute_reply": "2022-12-01T06:29:52.887667Z"
    },
    "papermill": {
     "duration": 0.092597,
     "end_time": "2022-12-01T06:29:52.890953",
     "exception": false,
     "start_time": "2022-12-01T06:29:52.798356",
     "status": "completed"
    },
    "tags": []
   },
   "outputs": [
    {
     "data": {
      "text/html": [
       "<div>\n",
       "<style scoped>\n",
       "    .dataframe tbody tr th:only-of-type {\n",
       "        vertical-align: middle;\n",
       "    }\n",
       "\n",
       "    .dataframe tbody tr th {\n",
       "        vertical-align: top;\n",
       "    }\n",
       "\n",
       "    .dataframe thead th {\n",
       "        text-align: right;\n",
       "    }\n",
       "</style>\n",
       "<table border=\"1\" class=\"dataframe\">\n",
       "  <thead>\n",
       "    <tr style=\"text-align: right;\">\n",
       "      <th></th>\n",
       "      <th>Item_Identifier</th>\n",
       "      <th>Item_Weight</th>\n",
       "      <th>Item_Fat_Content</th>\n",
       "      <th>Item_Visibility</th>\n",
       "      <th>Item_Type</th>\n",
       "      <th>Item_MRP</th>\n",
       "      <th>Outlet_Identifier</th>\n",
       "      <th>Outlet_Establishment_Year</th>\n",
       "      <th>Outlet_Size</th>\n",
       "      <th>Outlet_Location_Type</th>\n",
       "      <th>Outlet_Type</th>\n",
       "      <th>Item_Outlet_Sales</th>\n",
       "      <th>source</th>\n",
       "    </tr>\n",
       "  </thead>\n",
       "  <tbody>\n",
       "    <tr>\n",
       "      <th>count</th>\n",
       "      <td>14204</td>\n",
       "      <td>11765.000000</td>\n",
       "      <td>14204</td>\n",
       "      <td>14204.000000</td>\n",
       "      <td>14204</td>\n",
       "      <td>14204.000000</td>\n",
       "      <td>14204</td>\n",
       "      <td>14204.000000</td>\n",
       "      <td>10188</td>\n",
       "      <td>14204</td>\n",
       "      <td>14204</td>\n",
       "      <td>8523.000000</td>\n",
       "      <td>14204</td>\n",
       "    </tr>\n",
       "    <tr>\n",
       "      <th>unique</th>\n",
       "      <td>1559</td>\n",
       "      <td>NaN</td>\n",
       "      <td>5</td>\n",
       "      <td>NaN</td>\n",
       "      <td>16</td>\n",
       "      <td>NaN</td>\n",
       "      <td>10</td>\n",
       "      <td>NaN</td>\n",
       "      <td>3</td>\n",
       "      <td>3</td>\n",
       "      <td>4</td>\n",
       "      <td>NaN</td>\n",
       "      <td>2</td>\n",
       "    </tr>\n",
       "    <tr>\n",
       "      <th>top</th>\n",
       "      <td>FDU15</td>\n",
       "      <td>NaN</td>\n",
       "      <td>Low Fat</td>\n",
       "      <td>NaN</td>\n",
       "      <td>Fruits and Vegetables</td>\n",
       "      <td>NaN</td>\n",
       "      <td>OUT027</td>\n",
       "      <td>NaN</td>\n",
       "      <td>Medium</td>\n",
       "      <td>Tier 3</td>\n",
       "      <td>Supermarket Type1</td>\n",
       "      <td>NaN</td>\n",
       "      <td>train</td>\n",
       "    </tr>\n",
       "    <tr>\n",
       "      <th>freq</th>\n",
       "      <td>10</td>\n",
       "      <td>NaN</td>\n",
       "      <td>8485</td>\n",
       "      <td>NaN</td>\n",
       "      <td>2013</td>\n",
       "      <td>NaN</td>\n",
       "      <td>1559</td>\n",
       "      <td>NaN</td>\n",
       "      <td>4655</td>\n",
       "      <td>5583</td>\n",
       "      <td>9294</td>\n",
       "      <td>NaN</td>\n",
       "      <td>8523</td>\n",
       "    </tr>\n",
       "    <tr>\n",
       "      <th>mean</th>\n",
       "      <td>NaN</td>\n",
       "      <td>12.792854</td>\n",
       "      <td>NaN</td>\n",
       "      <td>0.065953</td>\n",
       "      <td>NaN</td>\n",
       "      <td>141.004977</td>\n",
       "      <td>NaN</td>\n",
       "      <td>1997.830681</td>\n",
       "      <td>NaN</td>\n",
       "      <td>NaN</td>\n",
       "      <td>NaN</td>\n",
       "      <td>2181.288914</td>\n",
       "      <td>NaN</td>\n",
       "    </tr>\n",
       "    <tr>\n",
       "      <th>std</th>\n",
       "      <td>NaN</td>\n",
       "      <td>4.652502</td>\n",
       "      <td>NaN</td>\n",
       "      <td>0.051459</td>\n",
       "      <td>NaN</td>\n",
       "      <td>62.086938</td>\n",
       "      <td>NaN</td>\n",
       "      <td>8.371664</td>\n",
       "      <td>NaN</td>\n",
       "      <td>NaN</td>\n",
       "      <td>NaN</td>\n",
       "      <td>1706.499616</td>\n",
       "      <td>NaN</td>\n",
       "    </tr>\n",
       "    <tr>\n",
       "      <th>min</th>\n",
       "      <td>NaN</td>\n",
       "      <td>4.555000</td>\n",
       "      <td>NaN</td>\n",
       "      <td>0.000000</td>\n",
       "      <td>NaN</td>\n",
       "      <td>31.290000</td>\n",
       "      <td>NaN</td>\n",
       "      <td>1985.000000</td>\n",
       "      <td>NaN</td>\n",
       "      <td>NaN</td>\n",
       "      <td>NaN</td>\n",
       "      <td>33.290000</td>\n",
       "      <td>NaN</td>\n",
       "    </tr>\n",
       "    <tr>\n",
       "      <th>25%</th>\n",
       "      <td>NaN</td>\n",
       "      <td>8.710000</td>\n",
       "      <td>NaN</td>\n",
       "      <td>0.027036</td>\n",
       "      <td>NaN</td>\n",
       "      <td>94.012000</td>\n",
       "      <td>NaN</td>\n",
       "      <td>1987.000000</td>\n",
       "      <td>NaN</td>\n",
       "      <td>NaN</td>\n",
       "      <td>NaN</td>\n",
       "      <td>834.247400</td>\n",
       "      <td>NaN</td>\n",
       "    </tr>\n",
       "    <tr>\n",
       "      <th>50%</th>\n",
       "      <td>NaN</td>\n",
       "      <td>12.600000</td>\n",
       "      <td>NaN</td>\n",
       "      <td>0.054021</td>\n",
       "      <td>NaN</td>\n",
       "      <td>142.247000</td>\n",
       "      <td>NaN</td>\n",
       "      <td>1999.000000</td>\n",
       "      <td>NaN</td>\n",
       "      <td>NaN</td>\n",
       "      <td>NaN</td>\n",
       "      <td>1794.331000</td>\n",
       "      <td>NaN</td>\n",
       "    </tr>\n",
       "    <tr>\n",
       "      <th>75%</th>\n",
       "      <td>NaN</td>\n",
       "      <td>16.750000</td>\n",
       "      <td>NaN</td>\n",
       "      <td>0.094037</td>\n",
       "      <td>NaN</td>\n",
       "      <td>185.855600</td>\n",
       "      <td>NaN</td>\n",
       "      <td>2004.000000</td>\n",
       "      <td>NaN</td>\n",
       "      <td>NaN</td>\n",
       "      <td>NaN</td>\n",
       "      <td>3101.296400</td>\n",
       "      <td>NaN</td>\n",
       "    </tr>\n",
       "    <tr>\n",
       "      <th>max</th>\n",
       "      <td>NaN</td>\n",
       "      <td>21.350000</td>\n",
       "      <td>NaN</td>\n",
       "      <td>0.328391</td>\n",
       "      <td>NaN</td>\n",
       "      <td>266.888400</td>\n",
       "      <td>NaN</td>\n",
       "      <td>2009.000000</td>\n",
       "      <td>NaN</td>\n",
       "      <td>NaN</td>\n",
       "      <td>NaN</td>\n",
       "      <td>13086.964800</td>\n",
       "      <td>NaN</td>\n",
       "    </tr>\n",
       "  </tbody>\n",
       "</table>\n",
       "</div>"
      ],
      "text/plain": [
       "       Item_Identifier   Item_Weight Item_Fat_Content  Item_Visibility  \\\n",
       "count            14204  11765.000000            14204     14204.000000   \n",
       "unique            1559           NaN                5              NaN   \n",
       "top              FDU15           NaN          Low Fat              NaN   \n",
       "freq                10           NaN             8485              NaN   \n",
       "mean               NaN     12.792854              NaN         0.065953   \n",
       "std                NaN      4.652502              NaN         0.051459   \n",
       "min                NaN      4.555000              NaN         0.000000   \n",
       "25%                NaN      8.710000              NaN         0.027036   \n",
       "50%                NaN     12.600000              NaN         0.054021   \n",
       "75%                NaN     16.750000              NaN         0.094037   \n",
       "max                NaN     21.350000              NaN         0.328391   \n",
       "\n",
       "                    Item_Type      Item_MRP Outlet_Identifier  \\\n",
       "count                   14204  14204.000000             14204   \n",
       "unique                     16           NaN                10   \n",
       "top     Fruits and Vegetables           NaN            OUT027   \n",
       "freq                     2013           NaN              1559   \n",
       "mean                      NaN    141.004977               NaN   \n",
       "std                       NaN     62.086938               NaN   \n",
       "min                       NaN     31.290000               NaN   \n",
       "25%                       NaN     94.012000               NaN   \n",
       "50%                       NaN    142.247000               NaN   \n",
       "75%                       NaN    185.855600               NaN   \n",
       "max                       NaN    266.888400               NaN   \n",
       "\n",
       "        Outlet_Establishment_Year Outlet_Size Outlet_Location_Type  \\\n",
       "count                14204.000000       10188                14204   \n",
       "unique                        NaN           3                    3   \n",
       "top                           NaN      Medium               Tier 3   \n",
       "freq                          NaN        4655                 5583   \n",
       "mean                  1997.830681         NaN                  NaN   \n",
       "std                      8.371664         NaN                  NaN   \n",
       "min                   1985.000000         NaN                  NaN   \n",
       "25%                   1987.000000         NaN                  NaN   \n",
       "50%                   1999.000000         NaN                  NaN   \n",
       "75%                   2004.000000         NaN                  NaN   \n",
       "max                   2009.000000         NaN                  NaN   \n",
       "\n",
       "              Outlet_Type  Item_Outlet_Sales source  \n",
       "count               14204        8523.000000  14204  \n",
       "unique                  4                NaN      2  \n",
       "top     Supermarket Type1                NaN  train  \n",
       "freq                 9294                NaN   8523  \n",
       "mean                  NaN        2181.288914    NaN  \n",
       "std                   NaN        1706.499616    NaN  \n",
       "min                   NaN          33.290000    NaN  \n",
       "25%                   NaN         834.247400    NaN  \n",
       "50%                   NaN        1794.331000    NaN  \n",
       "75%                   NaN        3101.296400    NaN  \n",
       "max                   NaN       13086.964800    NaN  "
      ]
     },
     "execution_count": 8,
     "metadata": {},
     "output_type": "execute_result"
    }
   ],
   "source": [
    "# Summary of Dataset Train\n",
    "data.describe(include=[object, np.number])"
   ]
  },
  {
   "cell_type": "markdown",
   "id": "58737cd4",
   "metadata": {
    "execution": {
     "iopub.execute_input": "2022-11-30T20:25:28.341867Z",
     "iopub.status.busy": "2022-11-30T20:25:28.341471Z",
     "iopub.status.idle": "2022-11-30T20:25:28.351072Z",
     "shell.execute_reply": "2022-11-30T20:25:28.349055Z",
     "shell.execute_reply.started": "2022-11-30T20:25:28.341834Z"
    },
    "papermill": {
     "duration": 0.016659,
     "end_time": "2022-12-01T06:29:52.924569",
     "exception": false,
     "start_time": "2022-12-01T06:29:52.907910",
     "status": "completed"
    },
    "tags": []
   },
   "source": [
    "# Data Exploration\n",
    "Below are the steps involved to understand, clean and prepare your data for building your predictive model:\n",
    "\n",
    "* Missing values treatment\n",
    "* Variable Identification\n",
    "* Univariate Analysis\n",
    "* Bi-variate Analysis\n",
    "* Outlier treatment\n",
    "* Variable transformation\n",
    "* Variable creation"
   ]
  },
  {
   "cell_type": "markdown",
   "id": "5fc9dd82",
   "metadata": {
    "papermill": {
     "duration": 0.016398,
     "end_time": "2022-12-01T06:29:52.957701",
     "exception": false,
     "start_time": "2022-12-01T06:29:52.941303",
     "status": "completed"
    },
    "tags": []
   },
   "source": [
    "* ### Missing Values"
   ]
  },
  {
   "cell_type": "code",
   "execution_count": 9,
   "id": "be5e839f",
   "metadata": {
    "execution": {
     "iopub.execute_input": "2022-12-01T06:29:52.994334Z",
     "iopub.status.busy": "2022-12-01T06:29:52.993599Z",
     "iopub.status.idle": "2022-12-01T06:29:53.016123Z",
     "shell.execute_reply": "2022-12-01T06:29:53.014678Z"
    },
    "papermill": {
     "duration": 0.044467,
     "end_time": "2022-12-01T06:29:53.018881",
     "exception": false,
     "start_time": "2022-12-01T06:29:52.974414",
     "status": "completed"
    },
    "tags": []
   },
   "outputs": [
    {
     "name": "stdout",
     "output_type": "stream",
     "text": [
      "Train:\n",
      "\n",
      "Missing Values by Count: \n",
      "\n",
      " Item_Outlet_Sales            5681\n",
      "Outlet_Size                  4016\n",
      "Item_Weight                  2439\n",
      "Item_Identifier                 0\n",
      "Item_Fat_Content                0\n",
      "Item_Visibility                 0\n",
      "Item_Type                       0\n",
      "Item_MRP                        0\n",
      "Outlet_Identifier               0\n",
      "Outlet_Establishment_Year       0\n",
      "Outlet_Location_Type            0\n",
      "Outlet_Type                     0\n",
      "source                          0\n",
      "dtype: int64 \n",
      "\n",
      "Missing Values by %:\n",
      "\n",
      " Item_Outlet_Sales            39.995776\n",
      "Outlet_Size                  28.273726\n",
      "Item_Weight                  17.171219\n",
      "Item_Identifier               0.000000\n",
      "Item_Fat_Content              0.000000\n",
      "Item_Visibility               0.000000\n",
      "Item_Type                     0.000000\n",
      "Item_MRP                      0.000000\n",
      "Outlet_Identifier             0.000000\n",
      "Outlet_Establishment_Year     0.000000\n",
      "Outlet_Location_Type          0.000000\n",
      "Outlet_Type                   0.000000\n",
      "source                        0.000000\n",
      "dtype: float64\n"
     ]
    }
   ],
   "source": [
    "# Lets check missing Values\n",
    "print('Train:\\n')\n",
    "print('Missing Values by Count: \\n\\n',\n",
    "      data.isnull().sum().sort_values(ascending=False),'\\n\\nMissing Values by %:\\n\\n',\n",
    "      data.isnull().sum().sort_values(ascending=False)/data.shape[0] * 100)\n"
   ]
  },
  {
   "cell_type": "code",
   "execution_count": 10,
   "id": "4bed3ab2",
   "metadata": {
    "execution": {
     "iopub.execute_input": "2022-12-01T06:29:53.055611Z",
     "iopub.status.busy": "2022-12-01T06:29:53.055202Z",
     "iopub.status.idle": "2022-12-01T06:29:53.070078Z",
     "shell.execute_reply": "2022-12-01T06:29:53.068602Z"
    },
    "papermill": {
     "duration": 0.036141,
     "end_time": "2022-12-01T06:29:53.072457",
     "exception": false,
     "start_time": "2022-12-01T06:29:53.036316",
     "status": "completed"
    },
    "tags": []
   },
   "outputs": [
    {
     "name": "stdout",
     "output_type": "stream",
     "text": [
      "Missing Values in Outlet_Size :\n",
      "\n",
      " Medium    4655\n",
      "Small     3980\n",
      "High      1553\n",
      "Name: Outlet_Size, dtype: int64\n",
      "\n",
      "Missing Values in Item_Weight :\n",
      "\n",
      " 17.600    135\n",
      "12.150    127\n",
      "10.500    123\n",
      "13.650    115\n",
      "11.800    113\n",
      "         ... \n",
      "7.640       7\n",
      "5.905       7\n",
      "7.850       6\n",
      "4.615       6\n",
      "9.035       6\n",
      "Name: Item_Weight, Length: 415, dtype: int64\n"
     ]
    }
   ],
   "source": [
    "# Lets check and imputate missing values\n",
    "print('Missing Values in Outlet_Size :\\n\\n',data.Outlet_Size.value_counts())\n",
    "print('\\nMissing Values in Item_Weight :\\n\\n',data.Item_Weight.value_counts())"
   ]
  },
  {
   "cell_type": "markdown",
   "id": "5e7d2064",
   "metadata": {
    "papermill": {
     "duration": 0.016851,
     "end_time": "2022-12-01T06:29:53.106915",
     "exception": false,
     "start_time": "2022-12-01T06:29:53.090064",
     "status": "completed"
    },
    "tags": []
   },
   "source": [
    "**OutLet_Size** is a catogerial column, we can use **mode** to fill the values."
   ]
  },
  {
   "cell_type": "code",
   "execution_count": 11,
   "id": "2d3a9034",
   "metadata": {
    "execution": {
     "iopub.execute_input": "2022-12-01T06:29:53.143230Z",
     "iopub.status.busy": "2022-12-01T06:29:53.142587Z",
     "iopub.status.idle": "2022-12-01T06:29:53.154983Z",
     "shell.execute_reply": "2022-12-01T06:29:53.153610Z"
    },
    "papermill": {
     "duration": 0.033511,
     "end_time": "2022-12-01T06:29:53.157533",
     "exception": false,
     "start_time": "2022-12-01T06:29:53.124022",
     "status": "completed"
    },
    "tags": []
   },
   "outputs": [
    {
     "name": "stdout",
     "output_type": "stream",
     "text": [
      "Missing values after filling: 0\n"
     ]
    }
   ],
   "source": [
    "# Filling Outlet Size  missing values.\n",
    "data['Outlet_Size'] = data.Outlet_Size.fillna(data.Outlet_Size.dropna().mode()[0])\n",
    "# Checking if we filled all values\n",
    "print( 'Missing values after filling:' ,data.Outlet_Size.isnull().sum())"
   ]
  },
  {
   "cell_type": "markdown",
   "id": "fb6c4c51",
   "metadata": {
    "papermill": {
     "duration": 0.017116,
     "end_time": "2022-12-01T06:29:53.192255",
     "exception": false,
     "start_time": "2022-12-01T06:29:53.175139",
     "status": "completed"
    },
    "tags": []
   },
   "source": [
    "**Item_wieght** is a mumeric column, we need to **visulize** the its values/distribution to see clearly."
   ]
  },
  {
   "cell_type": "code",
   "execution_count": 12,
   "id": "aeb0c9b6",
   "metadata": {
    "execution": {
     "iopub.execute_input": "2022-12-01T06:29:53.229347Z",
     "iopub.status.busy": "2022-12-01T06:29:53.228637Z",
     "iopub.status.idle": "2022-12-01T06:29:53.461372Z",
     "shell.execute_reply": "2022-12-01T06:29:53.460533Z"
    },
    "papermill": {
     "duration": 0.254023,
     "end_time": "2022-12-01T06:29:53.463744",
     "exception": false,
     "start_time": "2022-12-01T06:29:53.209721",
     "status": "completed"
    },
    "tags": []
   },
   "outputs": [
    {
     "data": {
      "text/plain": [
       "Text(0.5, 1.0, 'Item Wieght Distribution')"
      ]
     },
     "execution_count": 12,
     "metadata": {},
     "output_type": "execute_result"
    },
    {
     "data": {
      "image/png": "[encoded data removed]",
      "text/plain": [
       "<Figure size 432x288 with 1 Axes>"
      ]
     },
     "metadata": {
      "needs_background": "light"
     },
     "output_type": "display_data"
    }
   ],
   "source": [
    "# sns.boxplot(data=combined['Item_Weight'],orient='v', color='c')\n",
    "sns.boxplot(x=data['Item_Weight'], palette='BuPu')\n",
    "plt.title('Item Wieght Distribution')\n",
    "\n"
   ]
  },
  {
   "cell_type": "markdown",
   "id": "03cff8ba",
   "metadata": {
    "papermill": {
     "duration": 0.016992,
     "end_time": "2022-12-01T06:29:53.498336",
     "exception": false,
     "start_time": "2022-12-01T06:29:53.481344",
     "status": "completed"
    },
    "tags": []
   },
   "source": [
    "No **Outliers** in **Item_wieght**, So we can replace **missing values** with its mean"
   ]
  },
  {
   "cell_type": "code",
   "execution_count": 13,
   "id": "6b151761",
   "metadata": {
    "execution": {
     "iopub.execute_input": "2022-12-01T06:29:53.534718Z",
     "iopub.status.busy": "2022-12-01T06:29:53.533712Z",
     "iopub.status.idle": "2022-12-01T06:29:53.542663Z",
     "shell.execute_reply": "2022-12-01T06:29:53.541502Z"
    },
    "papermill": {
     "duration": 0.029489,
     "end_time": "2022-12-01T06:29:53.544995",
     "exception": false,
     "start_time": "2022-12-01T06:29:53.515506",
     "status": "completed"
    },
    "tags": []
   },
   "outputs": [
    {
     "name": "stdout",
     "output_type": "stream",
     "text": [
      "Missing values after filling:  0\n"
     ]
    }
   ],
   "source": [
    "# imputate missing values in item \n",
    "data['Item_Weight'] = data.Item_Weight.fillna(data.Item_Weight.dropna().mean())\n",
    "print('Missing values after filling: ', data.Item_Weight.isnull().sum())"
   ]
  },
  {
   "cell_type": "code",
   "execution_count": 14,
   "id": "9534385e",
   "metadata": {
    "execution": {
     "iopub.execute_input": "2022-12-01T06:29:53.582558Z",
     "iopub.status.busy": "2022-12-01T06:29:53.581889Z",
     "iopub.status.idle": "2022-12-01T06:29:53.600752Z",
     "shell.execute_reply": "2022-12-01T06:29:53.599538Z"
    },
    "papermill": {
     "duration": 0.04063,
     "end_time": "2022-12-01T06:29:53.603357",
     "exception": false,
     "start_time": "2022-12-01T06:29:53.562727",
     "status": "completed"
    },
    "tags": []
   },
   "outputs": [
    {
     "name": "stdout",
     "output_type": "stream",
     "text": [
      "<class 'pandas.core.frame.DataFrame'>\n",
      "RangeIndex: 14204 entries, 0 to 14203\n",
      "Data columns (total 13 columns):\n",
      " #   Column                     Non-Null Count  Dtype  \n",
      "---  ------                     --------------  -----  \n",
      " 0   Item_Identifier            14204 non-null  object \n",
      " 1   Item_Weight                14204 non-null  float64\n",
      " 2   Item_Fat_Content           14204 non-null  object \n",
      " 3   Item_Visibility            14204 non-null  float64\n",
      " 4   Item_Type                  14204 non-null  object \n",
      " 5   Item_MRP                   14204 non-null  float64\n",
      " 6   Outlet_Identifier          14204 non-null  object \n",
      " 7   Outlet_Establishment_Year  14204 non-null  int64  \n",
      " 8   Outlet_Size                14204 non-null  object \n",
      " 9   Outlet_Location_Type       14204 non-null  object \n",
      " 10  Outlet_Type                14204 non-null  object \n",
      " 11  Item_Outlet_Sales          8523 non-null   float64\n",
      " 12  source                     14204 non-null  object \n",
      "dtypes: float64(4), int64(1), object(8)\n",
      "memory usage: 1.4+ MB\n"
     ]
    }
   ],
   "source": [
    "# check info for missing values\n",
    "data.info()"
   ]
  },
  {
   "cell_type": "markdown",
   "id": "fc826594",
   "metadata": {
    "papermill": {
     "duration": 0.01762,
     "end_time": "2022-12-01T06:29:53.638971",
     "exception": false,
     "start_time": "2022-12-01T06:29:53.621351",
     "status": "completed"
    },
    "tags": []
   },
   "source": [
    "* ###  Veriable Identication"
   ]
  },
  {
   "cell_type": "code",
   "execution_count": 15,
   "id": "ba486066",
   "metadata": {
    "execution": {
     "iopub.execute_input": "2022-12-01T06:29:53.676916Z",
     "iopub.status.busy": "2022-12-01T06:29:53.676493Z",
     "iopub.status.idle": "2022-12-01T06:29:53.685780Z",
     "shell.execute_reply": "2022-12-01T06:29:53.684499Z"
    },
    "papermill": {
     "duration": 0.031188,
     "end_time": "2022-12-01T06:29:53.688268",
     "exception": false,
     "start_time": "2022-12-01T06:29:53.657080",
     "status": "completed"
    },
    "tags": []
   },
   "outputs": [],
   "source": [
    "# Numericals\n",
    "num_df = data.select_dtypes('number')\n",
    "# Categorial \n",
    "cat_df = data.select_dtypes('object')\n"
   ]
  },
  {
   "cell_type": "code",
   "execution_count": 16,
   "id": "a8527169",
   "metadata": {
    "execution": {
     "iopub.execute_input": "2022-12-01T06:29:53.726153Z",
     "iopub.status.busy": "2022-12-01T06:29:53.725757Z",
     "iopub.status.idle": "2022-12-01T06:29:53.756951Z",
     "shell.execute_reply": "2022-12-01T06:29:53.755532Z"
    },
    "papermill": {
     "duration": 0.053939,
     "end_time": "2022-12-01T06:29:53.760168",
     "exception": false,
     "start_time": "2022-12-01T06:29:53.706229",
     "status": "completed"
    },
    "tags": []
   },
   "outputs": [
    {
     "name": "stdout",
     "output_type": "stream",
     "text": [
      "\n",
      "Frequency of Categories for varible Item_Fat_Content\n",
      "\n",
      "Total Categories:  5 \n",
      " Low Fat    8485\n",
      "Regular    4824\n",
      "LF          522\n",
      "reg         195\n",
      "low fat     178\n",
      "Name: Item_Fat_Content, dtype: int64\n",
      "\n",
      "Frequency of Categories for varible Item_Type\n",
      "\n",
      "Total Categories:  16 \n",
      " Fruits and Vegetables    2013\n",
      "Snack Foods              1989\n",
      "Household                1548\n",
      "Frozen Foods             1426\n",
      "Dairy                    1136\n",
      "Baking Goods             1086\n",
      "Canned                   1084\n",
      "Health and Hygiene        858\n",
      "Meat                      736\n",
      "Soft Drinks               726\n",
      "Breads                    416\n",
      "Hard Drinks               362\n",
      "Others                    280\n",
      "Starchy Foods             269\n",
      "Breakfast                 186\n",
      "Seafood                    89\n",
      "Name: Item_Type, dtype: int64\n",
      "\n",
      "Frequency of Categories for varible Outlet_Identifier\n",
      "\n",
      "Total Categories:  10 \n",
      " OUT027    1559\n",
      "OUT013    1553\n",
      "OUT049    1550\n",
      "OUT046    1550\n",
      "OUT035    1550\n",
      "OUT045    1548\n",
      "OUT018    1546\n",
      "OUT017    1543\n",
      "OUT010     925\n",
      "OUT019     880\n",
      "Name: Outlet_Identifier, dtype: int64\n",
      "\n",
      "Frequency of Categories for varible Outlet_Size\n",
      "\n",
      "Total Categories:  3 \n",
      " Medium    8671\n",
      "Small     3980\n",
      "High      1553\n",
      "Name: Outlet_Size, dtype: int64\n",
      "\n",
      "Frequency of Categories for varible Outlet_Location_Type\n",
      "\n",
      "Total Categories:  3 \n",
      " Tier 3    5583\n",
      "Tier 2    4641\n",
      "Tier 1    3980\n",
      "Name: Outlet_Location_Type, dtype: int64\n",
      "\n",
      "Frequency of Categories for varible Outlet_Type\n",
      "\n",
      "Total Categories:  4 \n",
      " Supermarket Type1    9294\n",
      "Grocery Store        1805\n",
      "Supermarket Type3    1559\n",
      "Supermarket Type2    1546\n",
      "Name: Outlet_Type, dtype: int64\n",
      "\n",
      "Frequency of Categories for varible source\n",
      "\n",
      "Total Categories:  2 \n",
      " train    8523\n",
      "test     5681\n",
      "Name: source, dtype: int64\n"
     ]
    }
   ],
   "source": [
    "# Lets Deal with catgorial Data First     \n",
    "for col in cat_df.columns:\n",
    "    if(col != 'Item_Identifier'):\n",
    "        print('\\nFrequency of Categories for varible %s'%col)\n",
    "        print('\\nTotal Categories: ', len(cat_df[col].value_counts()), '\\n', cat_df[col].value_counts())\n",
    "        "
   ]
  },
  {
   "cell_type": "markdown",
   "id": "588c62aa",
   "metadata": {
    "execution": {
     "iopub.execute_input": "2022-11-29T09:23:54.561223Z",
     "iopub.status.busy": "2022-11-29T09:23:54.560806Z",
     "iopub.status.idle": "2022-11-29T09:23:54.570128Z",
     "shell.execute_reply": "2022-11-29T09:23:54.568724Z",
     "shell.execute_reply.started": "2022-11-29T09:23:54.561186Z"
    },
    "papermill": {
     "duration": 0.017813,
     "end_time": "2022-12-01T06:29:53.797185",
     "exception": false,
     "start_time": "2022-12-01T06:29:53.779372",
     "status": "completed"
    },
    "tags": []
   },
   "source": [
    "* **Item_Fat_Content**: We have **reapted** values in , lets replace them\n",
    "* **Item_Type**: We have categories of **items**, that can be shrink\n",
    "* **Outlet_Type**: We have Store **type2**,and **type3**, that can be combined\n"
   ]
  },
  {
   "cell_type": "code",
   "execution_count": 17,
   "id": "311fa398",
   "metadata": {
    "execution": {
     "iopub.execute_input": "2022-12-01T06:29:53.835617Z",
     "iopub.status.busy": "2022-12-01T06:29:53.834522Z",
     "iopub.status.idle": "2022-12-01T06:29:53.849561Z",
     "shell.execute_reply": "2022-12-01T06:29:53.848531Z"
    },
    "papermill": {
     "duration": 0.036971,
     "end_time": "2022-12-01T06:29:53.852242",
     "exception": false,
     "start_time": "2022-12-01T06:29:53.815271",
     "status": "completed"
    },
    "tags": []
   },
   "outputs": [
    {
     "data": {
      "text/plain": [
       "Low Fat    9185\n",
       "Regular    5019\n",
       "Name: Item_Fat_Content, dtype: int64"
      ]
     },
     "execution_count": 17,
     "metadata": {},
     "output_type": "execute_result"
    }
   ],
   "source": [
    "# Replace reapted values in Item_Fat_Content\n",
    "data['Item_Fat_Content'] = data.Item_Fat_Content.replace(['LF', 'low fat', 'reg'],\n",
    "                                                              ['Low Fat','Low Fat', 'Regular'])\n",
    "data.Item_Fat_Content.value_counts()"
   ]
  },
  {
   "cell_type": "markdown",
   "id": "e60b7157",
   "metadata": {
    "papermill": {
     "duration": 0.017806,
     "end_time": "2022-12-01T06:29:53.888070",
     "exception": false,
     "start_time": "2022-12-01T06:29:53.870264",
     "status": "completed"
    },
    "tags": []
   },
   "source": [
    "Combine Item_Type, as we have 16 catgories, but when you see **Item_identifier ID**, It has first two charachters defining the item type, these are **FD**, **DR**, **NC** means food, Drinks, Non-Consumables.\n",
    "lets convert Item_Type into these 3 categories"
   ]
  },
  {
   "cell_type": "code",
   "execution_count": 18,
   "id": "cdd2a5c4",
   "metadata": {
    "execution": {
     "iopub.execute_input": "2022-12-01T06:29:53.926360Z",
     "iopub.status.busy": "2022-12-01T06:29:53.925538Z",
     "iopub.status.idle": "2022-12-01T06:29:53.948247Z",
     "shell.execute_reply": "2022-12-01T06:29:53.946539Z"
    },
    "papermill": {
     "duration": 0.045104,
     "end_time": "2022-12-01T06:29:53.951229",
     "exception": false,
     "start_time": "2022-12-01T06:29:53.906125",
     "status": "completed"
    },
    "tags": []
   },
   "outputs": [
    {
     "data": {
      "text/plain": [
       "Food              10201\n",
       "Non-Consumable     2686\n",
       "Drinks             1317\n",
       "Name: Item_Type_Combined, dtype: int64"
      ]
     },
     "execution_count": 18,
     "metadata": {},
     "output_type": "execute_result"
    }
   ],
   "source": [
    "# Combine Item_Type, and create new category\n",
    "data['Item_Type_Combined'] = data.Item_Identifier.apply(lambda x:x[0:2])\n",
    "data['Item_Type_Combined'] = data['Item_Type_Combined'].replace(['FD','DR','NC'],\n",
    "                                                                   ['Food','Drinks', 'Non-Consumable']) \n",
    "data.Item_Type_Combined.value_counts()"
   ]
  },
  {
   "cell_type": "markdown",
   "id": "24bd8afd",
   "metadata": {
    "papermill": {
     "duration": 0.018274,
     "end_time": "2022-12-01T06:29:53.989125",
     "exception": false,
     "start_time": "2022-12-01T06:29:53.970851",
     "status": "completed"
    },
    "tags": []
   },
   "source": [
    "We have Store Types, **type2** and **Type3**, we can combine them, but is it good?\n",
    "lets check their sales, if both have opprox similier sales, we can combine them"
   ]
  },
  {
   "cell_type": "code",
   "execution_count": 19,
   "id": "1c9d9634",
   "metadata": {
    "execution": {
     "iopub.execute_input": "2022-12-01T06:29:54.028374Z",
     "iopub.status.busy": "2022-12-01T06:29:54.027975Z",
     "iopub.status.idle": "2022-12-01T06:29:54.055474Z",
     "shell.execute_reply": "2022-12-01T06:29:54.054481Z"
    },
    "papermill": {
     "duration": 0.049716,
     "end_time": "2022-12-01T06:29:54.058195",
     "exception": false,
     "start_time": "2022-12-01T06:29:54.008479",
     "status": "completed"
    },
    "tags": []
   },
   "outputs": [
    {
     "data": {
      "text/html": [
       "<div>\n",
       "<style scoped>\n",
       "    .dataframe tbody tr th:only-of-type {\n",
       "        vertical-align: middle;\n",
       "    }\n",
       "\n",
       "    .dataframe tbody tr th {\n",
       "        vertical-align: top;\n",
       "    }\n",
       "\n",
       "    .dataframe thead th {\n",
       "        text-align: right;\n",
       "    }\n",
       "</style>\n",
       "<table border=\"1\" class=\"dataframe\">\n",
       "  <thead>\n",
       "    <tr style=\"text-align: right;\">\n",
       "      <th></th>\n",
       "      <th>Item_Outlet_Sales</th>\n",
       "    </tr>\n",
       "    <tr>\n",
       "      <th>Outlet_Type</th>\n",
       "      <th></th>\n",
       "    </tr>\n",
       "  </thead>\n",
       "  <tbody>\n",
       "    <tr>\n",
       "      <th>Grocery Store</th>\n",
       "      <td>339.828500</td>\n",
       "    </tr>\n",
       "    <tr>\n",
       "      <th>Supermarket Type1</th>\n",
       "      <td>2316.181148</td>\n",
       "    </tr>\n",
       "    <tr>\n",
       "      <th>Supermarket Type2</th>\n",
       "      <td>1995.498739</td>\n",
       "    </tr>\n",
       "    <tr>\n",
       "      <th>Supermarket Type3</th>\n",
       "      <td>3694.038558</td>\n",
       "    </tr>\n",
       "  </tbody>\n",
       "</table>\n",
       "</div>"
      ],
      "text/plain": [
       "                   Item_Outlet_Sales\n",
       "Outlet_Type                         \n",
       "Grocery Store             339.828500\n",
       "Supermarket Type1        2316.181148\n",
       "Supermarket Type2        1995.498739\n",
       "Supermarket Type3        3694.038558"
      ]
     },
     "execution_count": 19,
     "metadata": {},
     "output_type": "execute_result"
    }
   ],
   "source": [
    "data.pivot_table(values='Item_Outlet_Sales', index='Outlet_Type')"
   ]
  },
  {
   "cell_type": "markdown",
   "id": "7bc5ccb1",
   "metadata": {
    "papermill": {
     "duration": 0.017443,
     "end_time": "2022-12-01T06:29:54.093709",
     "exception": false,
     "start_time": "2022-12-01T06:29:54.076266",
     "status": "completed"
    },
    "tags": []
   },
   "source": [
    "There is a huge difference in sales, so not good idea to combine them"
   ]
  },
  {
   "cell_type": "code",
   "execution_count": 20,
   "id": "05d7384a",
   "metadata": {
    "execution": {
     "iopub.execute_input": "2022-12-01T06:29:54.131115Z",
     "iopub.status.busy": "2022-12-01T06:29:54.130686Z",
     "iopub.status.idle": "2022-12-01T06:29:54.162611Z",
     "shell.execute_reply": "2022-12-01T06:29:54.161431Z"
    },
    "papermill": {
     "duration": 0.05395,
     "end_time": "2022-12-01T06:29:54.165365",
     "exception": false,
     "start_time": "2022-12-01T06:29:54.111415",
     "status": "completed"
    },
    "tags": []
   },
   "outputs": [
    {
     "data": {
      "text/html": [
       "<div>\n",
       "<style scoped>\n",
       "    .dataframe tbody tr th:only-of-type {\n",
       "        vertical-align: middle;\n",
       "    }\n",
       "\n",
       "    .dataframe tbody tr th {\n",
       "        vertical-align: top;\n",
       "    }\n",
       "\n",
       "    .dataframe thead th {\n",
       "        text-align: right;\n",
       "    }\n",
       "</style>\n",
       "<table border=\"1\" class=\"dataframe\">\n",
       "  <thead>\n",
       "    <tr style=\"text-align: right;\">\n",
       "      <th></th>\n",
       "      <th>Item_Weight</th>\n",
       "      <th>Item_Visibility</th>\n",
       "      <th>Item_MRP</th>\n",
       "      <th>Outlet_Establishment_Year</th>\n",
       "      <th>Item_Outlet_Sales</th>\n",
       "    </tr>\n",
       "  </thead>\n",
       "  <tbody>\n",
       "    <tr>\n",
       "      <th>count</th>\n",
       "      <td>14204.000000</td>\n",
       "      <td>14204.000000</td>\n",
       "      <td>14204.000000</td>\n",
       "      <td>14204.000000</td>\n",
       "      <td>8523.000000</td>\n",
       "    </tr>\n",
       "    <tr>\n",
       "      <th>mean</th>\n",
       "      <td>12.792854</td>\n",
       "      <td>0.065953</td>\n",
       "      <td>141.004977</td>\n",
       "      <td>1997.830681</td>\n",
       "      <td>2181.288914</td>\n",
       "    </tr>\n",
       "    <tr>\n",
       "      <th>std</th>\n",
       "      <td>4.234226</td>\n",
       "      <td>0.051459</td>\n",
       "      <td>62.086938</td>\n",
       "      <td>8.371664</td>\n",
       "      <td>1706.499616</td>\n",
       "    </tr>\n",
       "    <tr>\n",
       "      <th>min</th>\n",
       "      <td>4.555000</td>\n",
       "      <td>0.000000</td>\n",
       "      <td>31.290000</td>\n",
       "      <td>1985.000000</td>\n",
       "      <td>33.290000</td>\n",
       "    </tr>\n",
       "    <tr>\n",
       "      <th>25%</th>\n",
       "      <td>9.300000</td>\n",
       "      <td>0.027036</td>\n",
       "      <td>94.012000</td>\n",
       "      <td>1987.000000</td>\n",
       "      <td>834.247400</td>\n",
       "    </tr>\n",
       "    <tr>\n",
       "      <th>50%</th>\n",
       "      <td>12.792854</td>\n",
       "      <td>0.054021</td>\n",
       "      <td>142.247000</td>\n",
       "      <td>1999.000000</td>\n",
       "      <td>1794.331000</td>\n",
       "    </tr>\n",
       "    <tr>\n",
       "      <th>75%</th>\n",
       "      <td>16.000000</td>\n",
       "      <td>0.094037</td>\n",
       "      <td>185.855600</td>\n",
       "      <td>2004.000000</td>\n",
       "      <td>3101.296400</td>\n",
       "    </tr>\n",
       "    <tr>\n",
       "      <th>max</th>\n",
       "      <td>21.350000</td>\n",
       "      <td>0.328391</td>\n",
       "      <td>266.888400</td>\n",
       "      <td>2009.000000</td>\n",
       "      <td>13086.964800</td>\n",
       "    </tr>\n",
       "  </tbody>\n",
       "</table>\n",
       "</div>"
      ],
      "text/plain": [
       "        Item_Weight  Item_Visibility      Item_MRP  Outlet_Establishment_Year  \\\n",
       "count  14204.000000     14204.000000  14204.000000               14204.000000   \n",
       "mean      12.792854         0.065953    141.004977                1997.830681   \n",
       "std        4.234226         0.051459     62.086938                   8.371664   \n",
       "min        4.555000         0.000000     31.290000                1985.000000   \n",
       "25%        9.300000         0.027036     94.012000                1987.000000   \n",
       "50%       12.792854         0.054021    142.247000                1999.000000   \n",
       "75%       16.000000         0.094037    185.855600                2004.000000   \n",
       "max       21.350000         0.328391    266.888400                2009.000000   \n",
       "\n",
       "       Item_Outlet_Sales  \n",
       "count        8523.000000  \n",
       "mean         2181.288914  \n",
       "std          1706.499616  \n",
       "min            33.290000  \n",
       "25%           834.247400  \n",
       "50%          1794.331000  \n",
       "75%          3101.296400  \n",
       "max         13086.964800  "
      ]
     },
     "execution_count": 20,
     "metadata": {},
     "output_type": "execute_result"
    }
   ],
   "source": [
    "# Lets deal with Numerical Data\n",
    "num_df.describe()"
   ]
  },
  {
   "cell_type": "markdown",
   "id": "80740300",
   "metadata": {
    "papermill": {
     "duration": 0.01799,
     "end_time": "2022-12-01T06:29:54.201920",
     "exception": false,
     "start_time": "2022-12-01T06:29:54.183930",
     "status": "completed"
    },
    "tags": []
   },
   "source": [
    "* **Item_Visibility**: it has min **0** value, which makes no sense\n",
    "* **Outlet_Establishment_Year**: Its better to address how old store is\n"
   ]
  },
  {
   "cell_type": "code",
   "execution_count": 21,
   "id": "8eb17500",
   "metadata": {
    "execution": {
     "iopub.execute_input": "2022-12-01T06:29:54.240699Z",
     "iopub.status.busy": "2022-12-01T06:29:54.240171Z",
     "iopub.status.idle": "2022-12-01T06:29:54.246677Z",
     "shell.execute_reply": "2022-12-01T06:29:54.245493Z"
    },
    "papermill": {
     "duration": 0.028888,
     "end_time": "2022-12-01T06:29:54.249119",
     "exception": false,
     "start_time": "2022-12-01T06:29:54.220231",
     "status": "completed"
    },
    "tags": []
   },
   "outputs": [],
   "source": [
    "# change Establishment_Year to Outlet_Age\n",
    "data['Oultet_Age'] = 2013 - data['Outlet_Establishment_Year']"
   ]
  },
  {
   "cell_type": "code",
   "execution_count": 22,
   "id": "a4857dd7",
   "metadata": {
    "execution": {
     "iopub.execute_input": "2022-12-01T06:29:54.287065Z",
     "iopub.status.busy": "2022-12-01T06:29:54.286266Z",
     "iopub.status.idle": "2022-12-01T06:29:54.400308Z",
     "shell.execute_reply": "2022-12-01T06:29:54.399390Z"
    },
    "papermill": {
     "duration": 0.135582,
     "end_time": "2022-12-01T06:29:54.402730",
     "exception": false,
     "start_time": "2022-12-01T06:29:54.267148",
     "status": "completed"
    },
    "tags": []
   },
   "outputs": [
    {
     "name": "stdout",
     "output_type": "stream",
     "text": [
      "Missing Values in Item_Visibility:  879\n",
      "Missing values after filling:  0\n"
     ]
    }
   ],
   "source": [
    "# Lets consider 0 as missing value in Item_visibility\n",
    "print('Missing Values in Item_Visibility: ', len(data[num_df['Item_Visibility'] == 0]))\n",
    "miss_values = (data['Item_Visibility'] == 0)\n",
    "item_vis_avg = data.pivot_table(values='Item_Visibility', index ='Item_Identifier')\n",
    "\n",
    "data.loc[miss_values, 'Item_Visibility'] = data.loc[miss_values, 'Item_Identifier'].apply(lambda x:item_vis_avg.loc[x])\n",
    "print('Missing values after filling: ' , sum(data['Item_Visibility'] == 0))"
   ]
  },
  {
   "cell_type": "code",
   "execution_count": 23,
   "id": "2a68f52c",
   "metadata": {
    "execution": {
     "iopub.execute_input": "2022-12-01T06:29:54.441901Z",
     "iopub.status.busy": "2022-12-01T06:29:54.441160Z",
     "iopub.status.idle": "2022-12-01T06:29:54.461450Z",
     "shell.execute_reply": "2022-12-01T06:29:54.460426Z"
    },
    "papermill": {
     "duration": 0.04241,
     "end_time": "2022-12-01T06:29:54.463853",
     "exception": false,
     "start_time": "2022-12-01T06:29:54.421443",
     "status": "completed"
    },
    "tags": []
   },
   "outputs": [
    {
     "data": {
      "text/html": [
       "<div>\n",
       "<style scoped>\n",
       "    .dataframe tbody tr th:only-of-type {\n",
       "        vertical-align: middle;\n",
       "    }\n",
       "\n",
       "    .dataframe tbody tr th {\n",
       "        vertical-align: top;\n",
       "    }\n",
       "\n",
       "    .dataframe thead th {\n",
       "        text-align: right;\n",
       "    }\n",
       "</style>\n",
       "<table border=\"1\" class=\"dataframe\">\n",
       "  <thead>\n",
       "    <tr style=\"text-align: right;\">\n",
       "      <th></th>\n",
       "      <th>Item_Identifier</th>\n",
       "      <th>Item_Weight</th>\n",
       "      <th>Item_Fat_Content</th>\n",
       "      <th>Item_Visibility</th>\n",
       "      <th>Item_Type</th>\n",
       "      <th>Item_MRP</th>\n",
       "      <th>Outlet_Identifier</th>\n",
       "      <th>Outlet_Establishment_Year</th>\n",
       "      <th>Outlet_Size</th>\n",
       "      <th>Outlet_Location_Type</th>\n",
       "      <th>Outlet_Type</th>\n",
       "      <th>Item_Outlet_Sales</th>\n",
       "      <th>source</th>\n",
       "      <th>Item_Type_Combined</th>\n",
       "      <th>Oultet_Age</th>\n",
       "    </tr>\n",
       "  </thead>\n",
       "  <tbody>\n",
       "    <tr>\n",
       "      <th>0</th>\n",
       "      <td>FDA15</td>\n",
       "      <td>9.30</td>\n",
       "      <td>Low Fat</td>\n",
       "      <td>0.016047</td>\n",
       "      <td>Dairy</td>\n",
       "      <td>249.8092</td>\n",
       "      <td>OUT049</td>\n",
       "      <td>1999</td>\n",
       "      <td>Medium</td>\n",
       "      <td>Tier 1</td>\n",
       "      <td>Supermarket Type1</td>\n",
       "      <td>3735.1380</td>\n",
       "      <td>train</td>\n",
       "      <td>Food</td>\n",
       "      <td>14</td>\n",
       "    </tr>\n",
       "    <tr>\n",
       "      <th>1</th>\n",
       "      <td>DRC01</td>\n",
       "      <td>5.92</td>\n",
       "      <td>Regular</td>\n",
       "      <td>0.019278</td>\n",
       "      <td>Soft Drinks</td>\n",
       "      <td>48.2692</td>\n",
       "      <td>OUT018</td>\n",
       "      <td>2009</td>\n",
       "      <td>Medium</td>\n",
       "      <td>Tier 3</td>\n",
       "      <td>Supermarket Type2</td>\n",
       "      <td>443.4228</td>\n",
       "      <td>train</td>\n",
       "      <td>Drinks</td>\n",
       "      <td>4</td>\n",
       "    </tr>\n",
       "    <tr>\n",
       "      <th>2</th>\n",
       "      <td>FDN15</td>\n",
       "      <td>17.50</td>\n",
       "      <td>Low Fat</td>\n",
       "      <td>0.016760</td>\n",
       "      <td>Meat</td>\n",
       "      <td>141.6180</td>\n",
       "      <td>OUT049</td>\n",
       "      <td>1999</td>\n",
       "      <td>Medium</td>\n",
       "      <td>Tier 1</td>\n",
       "      <td>Supermarket Type1</td>\n",
       "      <td>2097.2700</td>\n",
       "      <td>train</td>\n",
       "      <td>Food</td>\n",
       "      <td>14</td>\n",
       "    </tr>\n",
       "    <tr>\n",
       "      <th>3</th>\n",
       "      <td>FDX07</td>\n",
       "      <td>19.20</td>\n",
       "      <td>Regular</td>\n",
       "      <td>0.017834</td>\n",
       "      <td>Fruits and Vegetables</td>\n",
       "      <td>182.0950</td>\n",
       "      <td>OUT010</td>\n",
       "      <td>1998</td>\n",
       "      <td>Medium</td>\n",
       "      <td>Tier 3</td>\n",
       "      <td>Grocery Store</td>\n",
       "      <td>732.3800</td>\n",
       "      <td>train</td>\n",
       "      <td>Food</td>\n",
       "      <td>15</td>\n",
       "    </tr>\n",
       "    <tr>\n",
       "      <th>4</th>\n",
       "      <td>NCD19</td>\n",
       "      <td>8.93</td>\n",
       "      <td>Low Fat</td>\n",
       "      <td>0.009780</td>\n",
       "      <td>Household</td>\n",
       "      <td>53.8614</td>\n",
       "      <td>OUT013</td>\n",
       "      <td>1987</td>\n",
       "      <td>High</td>\n",
       "      <td>Tier 3</td>\n",
       "      <td>Supermarket Type1</td>\n",
       "      <td>994.7052</td>\n",
       "      <td>train</td>\n",
       "      <td>Non-Consumable</td>\n",
       "      <td>26</td>\n",
       "    </tr>\n",
       "  </tbody>\n",
       "</table>\n",
       "</div>"
      ],
      "text/plain": [
       "  Item_Identifier  Item_Weight Item_Fat_Content  Item_Visibility  \\\n",
       "0           FDA15         9.30          Low Fat         0.016047   \n",
       "1           DRC01         5.92          Regular         0.019278   \n",
       "2           FDN15        17.50          Low Fat         0.016760   \n",
       "3           FDX07        19.20          Regular         0.017834   \n",
       "4           NCD19         8.93          Low Fat         0.009780   \n",
       "\n",
       "               Item_Type  Item_MRP Outlet_Identifier  \\\n",
       "0                  Dairy  249.8092            OUT049   \n",
       "1            Soft Drinks   48.2692            OUT018   \n",
       "2                   Meat  141.6180            OUT049   \n",
       "3  Fruits and Vegetables  182.0950            OUT010   \n",
       "4              Household   53.8614            OUT013   \n",
       "\n",
       "   Outlet_Establishment_Year Outlet_Size Outlet_Location_Type  \\\n",
       "0                       1999      Medium               Tier 1   \n",
       "1                       2009      Medium               Tier 3   \n",
       "2                       1999      Medium               Tier 1   \n",
       "3                       1998      Medium               Tier 3   \n",
       "4                       1987        High               Tier 3   \n",
       "\n",
       "         Outlet_Type  Item_Outlet_Sales source Item_Type_Combined  Oultet_Age  \n",
       "0  Supermarket Type1          3735.1380  train               Food          14  \n",
       "1  Supermarket Type2           443.4228  train             Drinks           4  \n",
       "2  Supermarket Type1          2097.2700  train               Food          14  \n",
       "3      Grocery Store           732.3800  train               Food          15  \n",
       "4  Supermarket Type1           994.7052  train     Non-Consumable          26  "
      ]
     },
     "execution_count": 23,
     "metadata": {},
     "output_type": "execute_result"
    }
   ],
   "source": [
    "data.head()"
   ]
  },
  {
   "cell_type": "code",
   "execution_count": 24,
   "id": "55b1e73d",
   "metadata": {
    "execution": {
     "iopub.execute_input": "2022-12-01T06:29:54.503307Z",
     "iopub.status.busy": "2022-12-01T06:29:54.502613Z",
     "iopub.status.idle": "2022-12-01T06:29:54.507116Z",
     "shell.execute_reply": "2022-12-01T06:29:54.506352Z"
    },
    "papermill": {
     "duration": 0.026732,
     "end_time": "2022-12-01T06:29:54.509277",
     "exception": false,
     "start_time": "2022-12-01T06:29:54.482545",
     "status": "completed"
    },
    "tags": []
   },
   "outputs": [],
   "source": [
    "# # Lets drop Unnecessery Columns\n",
    "# train_df = data[data['source'] == 'train']\n",
    "# train_df = train_df.drop(['Outlet_Establishment_Year', 'Item_Type', 'source'], axis=1)\n",
    "# train_df.info()"
   ]
  },
  {
   "cell_type": "markdown",
   "id": "a5cc7f19",
   "metadata": {
    "papermill": {
     "duration": 0.018037,
     "end_time": "2022-12-01T06:29:54.546128",
     "exception": false,
     "start_time": "2022-12-01T06:29:54.528091",
     "status": "completed"
    },
    "tags": []
   },
   "source": [
    "# Data Visualization"
   ]
  },
  {
   "cell_type": "markdown",
   "id": "284e8695",
   "metadata": {
    "execution": {
     "iopub.execute_input": "2022-11-30T15:10:06.262883Z",
     "iopub.status.busy": "2022-11-30T15:10:06.262381Z",
     "iopub.status.idle": "2022-11-30T15:10:06.270804Z",
     "shell.execute_reply": "2022-11-30T15:10:06.269594Z",
     "shell.execute_reply.started": "2022-11-30T15:10:06.262848Z"
    },
    "papermill": {
     "duration": 0.017859,
     "end_time": "2022-12-01T06:29:54.582759",
     "exception": false,
     "start_time": "2022-12-01T06:29:54.564900",
     "status": "completed"
    },
    "tags": []
   },
   "source": [
    "#### Univariate Plots\n",
    "lets look at the countplots for categorial data"
   ]
  },
  {
   "cell_type": "code",
   "execution_count": 25,
   "id": "267cd93c",
   "metadata": {
    "execution": {
     "iopub.execute_input": "2022-12-01T06:29:54.621465Z",
     "iopub.status.busy": "2022-12-01T06:29:54.620752Z",
     "iopub.status.idle": "2022-12-01T06:29:54.796156Z",
     "shell.execute_reply": "2022-12-01T06:29:54.795344Z"
    },
    "papermill": {
     "duration": 0.197648,
     "end_time": "2022-12-01T06:29:54.798580",
     "exception": false,
     "start_time": "2022-12-01T06:29:54.600932",
     "status": "completed"
    },
    "tags": []
   },
   "outputs": [
    {
     "data": {
      "image/png": "[encoded data removed]",
      "text/plain": [
       "<Figure size 432x288 with 1 Axes>"
      ]
     },
     "metadata": {
      "needs_background": "light"
     },
     "output_type": "display_data"
    }
   ],
   "source": [
    "# Categorial Data\n",
    "['Item_Identifier', 'Item_Fat_Content', 'Outlet_Identifier', 'Outlet_Size',\n",
    "'Outlet_Location_Type', 'Outlet_Type', 'Item_Type', 'Item_Type_Combined' ]\n",
    "\n",
    "# CountPlot for Item_Fat_Content\n",
    "plt.figure(figsize=(6,4))\n",
    "sns.countplot(data=data, x='Item_Fat_Content')\n",
    "plt.xlabel('Item Fat Content', fontsize=15)\n",
    "plt.show()"
   ]
  },
  {
   "cell_type": "code",
   "execution_count": 26,
   "id": "7b6bbedb",
   "metadata": {
    "execution": {
     "iopub.execute_input": "2022-12-01T06:29:54.838221Z",
     "iopub.status.busy": "2022-12-01T06:29:54.837535Z",
     "iopub.status.idle": "2022-12-01T06:29:55.134346Z",
     "shell.execute_reply": "2022-12-01T06:29:55.133360Z"
    },
    "papermill": {
     "duration": 0.319401,
     "end_time": "2022-12-01T06:29:55.136853",
     "exception": false,
     "start_time": "2022-12-01T06:29:54.817452",
     "status": "completed"
    },
    "tags": []
   },
   "outputs": [
    {
     "data": {
      "image/png": "[encoded data removed]",
      "text/plain": [
       "<Figure size 1080x288 with 1 Axes>"
      ]
     },
     "metadata": {
      "needs_background": "light"
     },
     "output_type": "display_data"
    }
   ],
   "source": [
    "# CountPlot for Individual Item Category\n",
    "plt.figure(figsize=(15,4))\n",
    "sns.countplot(data=data, x='Item_Type')\n",
    "plt.xlabel('Individual Item Category ', fontsize=15)\n",
    "plt.show()"
   ]
  },
  {
   "cell_type": "code",
   "execution_count": 27,
   "id": "b12ac687",
   "metadata": {
    "execution": {
     "iopub.execute_input": "2022-12-01T06:29:55.177833Z",
     "iopub.status.busy": "2022-12-01T06:29:55.177012Z",
     "iopub.status.idle": "2022-12-01T06:29:55.367480Z",
     "shell.execute_reply": "2022-12-01T06:29:55.366309Z"
    },
    "papermill": {
     "duration": 0.213816,
     "end_time": "2022-12-01T06:29:55.370140",
     "exception": false,
     "start_time": "2022-12-01T06:29:55.156324",
     "status": "completed"
    },
    "tags": []
   },
   "outputs": [
    {
     "data": {
      "image/png": "[encoded data removed]",
      "text/plain": [
       "<Figure size 432x288 with 1 Axes>"
      ]
     },
     "metadata": {
      "needs_background": "light"
     },
     "output_type": "display_data"
    }
   ],
   "source": [
    "#  CountPlot for Item_Type_Combined\n",
    "plt.figure(figsize=(6,4))\n",
    "sns.countplot(data=data, x='Item_Type_Combined')\n",
    "plt.xlabel('Item Category', fontsize=15)\n",
    "plt.show()"
   ]
  },
  {
   "cell_type": "code",
   "execution_count": 28,
   "id": "ae114086",
   "metadata": {
    "execution": {
     "iopub.execute_input": "2022-12-01T06:29:55.411050Z",
     "iopub.status.busy": "2022-12-01T06:29:55.410169Z",
     "iopub.status.idle": "2022-12-01T06:29:55.665424Z",
     "shell.execute_reply": "2022-12-01T06:29:55.664196Z"
    },
    "papermill": {
     "duration": 0.278253,
     "end_time": "2022-12-01T06:29:55.667813",
     "exception": false,
     "start_time": "2022-12-01T06:29:55.389560",
     "status": "completed"
    },
    "tags": []
   },
   "outputs": [
    {
     "data": {
      "image/png": "[encoded data removed]",
      "text/plain": [
       "<Figure size 1080x288 with 1 Axes>"
      ]
     },
     "metadata": {
      "needs_background": "light"
     },
     "output_type": "display_data"
    }
   ],
   "source": [
    "# CountPlot for Outlet_Identifier\n",
    "plt.figure(figsize=(15,4))\n",
    "sns.countplot(data=data, x='Outlet_Identifier', palette='winter')\n",
    "plt.xlabel('Stores', fontsize=15)\n",
    "plt.show()"
   ]
  },
  {
   "cell_type": "code",
   "execution_count": 29,
   "id": "0645b0e4",
   "metadata": {
    "execution": {
     "iopub.execute_input": "2022-12-01T06:29:55.713571Z",
     "iopub.status.busy": "2022-12-01T06:29:55.712945Z",
     "iopub.status.idle": "2022-12-01T06:29:55.892409Z",
     "shell.execute_reply": "2022-12-01T06:29:55.891161Z"
    },
    "papermill": {
     "duration": 0.207286,
     "end_time": "2022-12-01T06:29:55.895750",
     "exception": false,
     "start_time": "2022-12-01T06:29:55.688464",
     "status": "completed"
    },
    "tags": []
   },
   "outputs": [
    {
     "data": {
      "image/png": "[encoded data removed]",
      "text/plain": [
       "<Figure size 432x288 with 1 Axes>"
      ]
     },
     "metadata": {
      "needs_background": "light"
     },
     "output_type": "display_data"
    }
   ],
   "source": [
    "# CountPlot for Outlet_Size\n",
    "plt.figure(figsize=(6,4))\n",
    "sns.countplot(data=data, x='Outlet_Size')\n",
    "plt.xlabel('Store Size', fontsize=15)\n",
    "plt.show()"
   ]
  },
  {
   "cell_type": "code",
   "execution_count": 30,
   "id": "84be98c7",
   "metadata": {
    "execution": {
     "iopub.execute_input": "2022-12-01T06:29:55.938530Z",
     "iopub.status.busy": "2022-12-01T06:29:55.937958Z",
     "iopub.status.idle": "2022-12-01T06:29:56.128305Z",
     "shell.execute_reply": "2022-12-01T06:29:56.127101Z"
    },
    "papermill": {
     "duration": 0.213904,
     "end_time": "2022-12-01T06:29:56.130593",
     "exception": false,
     "start_time": "2022-12-01T06:29:55.916689",
     "status": "completed"
    },
    "tags": []
   },
   "outputs": [
    {
     "data": {
      "image/png": "[encoded data removed]",
      "text/plain": [
       "<Figure size 720x288 with 1 Axes>"
      ]
     },
     "metadata": {
      "needs_background": "light"
     },
     "output_type": "display_data"
    }
   ],
   "source": [
    "# CountPlot for Outlet_Location_Type\n",
    "plt.figure(figsize=(10,4))\n",
    "sns.countplot(data=data, x='Outlet_Location_Type')\n",
    "plt.xlabel('Store Location Type', fontsize=15)\n",
    "plt.show()"
   ]
  },
  {
   "cell_type": "code",
   "execution_count": 31,
   "id": "341c316a",
   "metadata": {
    "execution": {
     "iopub.execute_input": "2022-12-01T06:29:56.173366Z",
     "iopub.status.busy": "2022-12-01T06:29:56.172194Z",
     "iopub.status.idle": "2022-12-01T06:29:56.380070Z",
     "shell.execute_reply": "2022-12-01T06:29:56.379136Z"
    },
    "papermill": {
     "duration": 0.231726,
     "end_time": "2022-12-01T06:29:56.382603",
     "exception": false,
     "start_time": "2022-12-01T06:29:56.150877",
     "status": "completed"
    },
    "tags": []
   },
   "outputs": [
    {
     "data": {
      "image/png": "[encoded data removed]",
      "text/plain": [
       "<Figure size 720x504 with 1 Axes>"
      ]
     },
     "metadata": {
      "needs_background": "light"
     },
     "output_type": "display_data"
    }
   ],
   "source": [
    "# CountPlot for Outlet_Type\n",
    "plt.figure(figsize=(10,7))\n",
    "sns.countplot(data=data, x='Outlet_Type')\n",
    "plt.xlabel('Store Type', fontsize=15)\n",
    "plt.show()"
   ]
  },
  {
   "cell_type": "markdown",
   "id": "2f59eb0e",
   "metadata": {
    "papermill": {
     "duration": 0.020446,
     "end_time": "2022-12-01T06:29:56.423495",
     "exception": false,
     "start_time": "2022-12-01T06:29:56.403049",
     "status": "completed"
    },
    "tags": []
   },
   "source": [
    "### Realizations\n",
    "* **Item_Fat_Content**: Most Items sold are **low Fat**. \n",
    "* **Item_Type**: Distictly **fruits & veg**, **food snacks** are popular.\n",
    "* **Item_Type_Combined**: Most Sold Item cateogory is food.\n",
    "* **Outlet_Identifier**: Sold items are ditributed evenly amoung all stores, execpt **OUT010** and **OUT019**.\n",
    "* **Outlet_Size**: Bigmart Stores are mostly in **medium size** in this data.\n",
    "* **Outlet_Location_Type**: Most comon type of location is **Tier3**\n",
    "* **Outlet_Type**: By a wide mergin Most Store Types are **SuperMarket Type1**."
   ]
  },
  {
   "cell_type": "code",
   "execution_count": 32,
   "id": "fc2f7817",
   "metadata": {
    "execution": {
     "iopub.execute_input": "2022-12-01T06:29:56.466264Z",
     "iopub.status.busy": "2022-12-01T06:29:56.465531Z",
     "iopub.status.idle": "2022-12-01T06:29:56.679314Z",
     "shell.execute_reply": "2022-12-01T06:29:56.678076Z"
    },
    "papermill": {
     "duration": 0.237946,
     "end_time": "2022-12-01T06:29:56.681723",
     "exception": false,
     "start_time": "2022-12-01T06:29:56.443777",
     "status": "completed"
    },
    "tags": []
   },
   "outputs": [
    {
     "data": {
      "image/png": "[encoded data removed]",
      "text/plain": [
       "<Figure size 432x288 with 1 Axes>"
      ]
     },
     "metadata": {
      "needs_background": "light"
     },
     "output_type": "display_data"
    }
   ],
   "source": [
    "# For Numerical Data\n",
    "\n",
    "# HistPlot for Outlet_Age\n",
    "plt.hist(x=data['Oultet_Age'], )\n",
    "plt.title('Store Age')\n",
    "plt.show()"
   ]
  },
  {
   "cell_type": "markdown",
   "id": "b63d7a44",
   "metadata": {
    "papermill": {
     "duration": 0.020194,
     "end_time": "2022-12-01T06:29:56.723026",
     "exception": false,
     "start_time": "2022-12-01T06:29:56.702832",
     "status": "completed"
    },
    "tags": []
   },
   "source": [
    "#### Realizations\n",
    "* **Outlet_Age**: Most Common **Outlets** are 35 year's old."
   ]
  },
  {
   "cell_type": "markdown",
   "id": "002ee914",
   "metadata": {
    "papermill": {
     "duration": 0.020331,
     "end_time": "2022-12-01T06:29:56.763816",
     "exception": false,
     "start_time": "2022-12-01T06:29:56.743485",
     "status": "completed"
    },
    "tags": []
   },
   "source": [
    "### Multivariate plots For Numeric.\n",
    "> Let's check following relationships\n",
    "* **Sales per Item_MRP**\n",
    "* **Sales per Item_Visibility**\n",
    "* **Sales per Item_Weight**\n",
    "\n"
   ]
  },
  {
   "cell_type": "code",
   "execution_count": 33,
   "id": "5f8a1eec",
   "metadata": {
    "execution": {
     "iopub.execute_input": "2022-12-01T06:29:56.807130Z",
     "iopub.status.busy": "2022-12-01T06:29:56.805922Z",
     "iopub.status.idle": "2022-12-01T06:29:57.045228Z",
     "shell.execute_reply": "2022-12-01T06:29:57.043994Z"
    },
    "papermill": {
     "duration": 0.263483,
     "end_time": "2022-12-01T06:29:57.047652",
     "exception": false,
     "start_time": "2022-12-01T06:29:56.784169",
     "status": "completed"
    },
    "tags": []
   },
   "outputs": [
    {
     "data": {
      "image/png": "[encoded data removed]",
      "text/plain": [
       "<Figure size 432x288 with 1 Axes>"
      ]
     },
     "metadata": {
      "needs_background": "light"
     },
     "output_type": "display_data"
    }
   ],
   "source": [
    "# ScatterPlot for Sales per Item_Visibilty\n",
    "plt.scatter(data['Item_Visibility'], data['Item_Outlet_Sales'])\n",
    "plt.title('Sales based on Item Visibilty')\n",
    "plt.xlabel('Item_Visibility')\n",
    "plt.ylabel('Item_Outlet_Sales')\n",
    "plt.show()"
   ]
  },
  {
   "cell_type": "code",
   "execution_count": 34,
   "id": "42b7d20d",
   "metadata": {
    "execution": {
     "iopub.execute_input": "2022-12-01T06:29:57.093296Z",
     "iopub.status.busy": "2022-12-01T06:29:57.092834Z",
     "iopub.status.idle": "2022-12-01T06:29:57.336248Z",
     "shell.execute_reply": "2022-12-01T06:29:57.334935Z"
    },
    "papermill": {
     "duration": 0.268811,
     "end_time": "2022-12-01T06:29:57.339006",
     "exception": false,
     "start_time": "2022-12-01T06:29:57.070195",
     "status": "completed"
    },
    "tags": []
   },
   "outputs": [
    {
     "data": {
      "image/png": "[encoded data removed]",
      "text/plain": [
       "<Figure size 432x288 with 1 Axes>"
      ]
     },
     "metadata": {
      "needs_background": "light"
     },
     "output_type": "display_data"
    }
   ],
   "source": [
    "# ScatterPlot for Sales per Item_Weight\n",
    "plt.scatter(data['Item_Weight'], data['Item_Outlet_Sales'])\n",
    "plt.title('Sales based on Item Weight')\n",
    "plt.xlabel('Item_Weight')\n",
    "plt.ylabel('Item_Outlet_Sales')\n",
    "plt.show()"
   ]
  },
  {
   "cell_type": "code",
   "execution_count": 35,
   "id": "98e2bcb5",
   "metadata": {
    "execution": {
     "iopub.execute_input": "2022-12-01T06:29:57.383650Z",
     "iopub.status.busy": "2022-12-01T06:29:57.383228Z",
     "iopub.status.idle": "2022-12-01T06:29:57.618140Z",
     "shell.execute_reply": "2022-12-01T06:29:57.616899Z"
    },
    "papermill": {
     "duration": 0.260109,
     "end_time": "2022-12-01T06:29:57.620870",
     "exception": false,
     "start_time": "2022-12-01T06:29:57.360761",
     "status": "completed"
    },
    "tags": []
   },
   "outputs": [
    {
     "data": {
      "image/png": "[encoded data removed]",
      "text/plain": [
       "<Figure size 432x288 with 1 Axes>"
      ]
     },
     "metadata": {
      "needs_background": "light"
     },
     "output_type": "display_data"
    }
   ],
   "source": [
    "# ScatterPlot for Sales per Item_MRP\n",
    "plt.scatter(data['Item_MRP'], data['Item_Outlet_Sales'])\n",
    "plt.title('Sales based on Item MRP')\n",
    "plt.xlabel('Item_MRP')\n",
    "plt.ylabel('Item_Outlet_Sales')\n",
    "plt.show()"
   ]
  },
  {
   "cell_type": "markdown",
   "id": "874a0e3d",
   "metadata": {
    "papermill": {
     "duration": 0.022103,
     "end_time": "2022-12-01T06:29:57.665412",
     "exception": false,
     "start_time": "2022-12-01T06:29:57.643309",
     "status": "completed"
    },
    "tags": []
   },
   "source": [
    "#### Realizations\n",
    "* **Item_Visibility**: Not a particular Pattern, Data is very spreaded.\n",
    "* **Item_Weight**: Not a particular Pattern, Data is very spreaded.\n",
    "* **Item_MRP**: Items with higer **MRP** Sales tends to sell better."
   ]
  },
  {
   "cell_type": "markdown",
   "id": "41e682af",
   "metadata": {
    "execution": {
     "iopub.execute_input": "2022-11-30T16:41:50.502459Z",
     "iopub.status.busy": "2022-11-30T16:41:50.501411Z",
     "iopub.status.idle": "2022-11-30T16:41:50.510917Z",
     "shell.execute_reply": "2022-11-30T16:41:50.509288Z",
     "shell.execute_reply.started": "2022-11-30T16:41:50.502415Z"
    },
    "papermill": {
     "duration": 0.022067,
     "end_time": "2022-12-01T06:29:57.709730",
     "exception": false,
     "start_time": "2022-12-01T06:29:57.687663",
     "status": "completed"
    },
    "tags": []
   },
   "source": [
    "## Multivariate plots For Categorial.\n",
    "Numerical vs. Numerical\n",
    "1. Scatterplot\n",
    "2. Line plot\n",
    "3. Heatmap for correlation\n",
    "4. Joint plot\n",
    "\n",
    "Categorical vs. Numerical\n",
    "1. Bar chart\n",
    "2. Voilin plot\n",
    "3. Categorical box plot\n",
    "4.Swarm plot\n",
    "\n",
    "Two Categorcal Variables\n",
    "1. Bar chart\n",
    "2. Grouped bar chart\n",
    "3. Point plot\n",
    "\n",
    "#### Let's check following relationships\n",
    "* **Sales per Item_Type_Combined**\n",
    "* **Sales per Outlet_Identifier**\n",
    "* **Sales per Outlet_Type**\n",
    "* **Sales per Outlet_Size**\n",
    "* **Sales per Outlet_Location_Type**\n"
   ]
  },
  {
   "cell_type": "code",
   "execution_count": 36,
   "id": "0ccc469a",
   "metadata": {
    "execution": {
     "iopub.execute_input": "2022-12-01T06:29:57.756117Z",
     "iopub.status.busy": "2022-12-01T06:29:57.755492Z",
     "iopub.status.idle": "2022-12-01T06:29:58.789900Z",
     "shell.execute_reply": "2022-12-01T06:29:58.788723Z"
    },
    "papermill": {
     "duration": 1.060349,
     "end_time": "2022-12-01T06:29:58.792254",
     "exception": false,
     "start_time": "2022-12-01T06:29:57.731905",
     "status": "completed"
    },
    "tags": []
   },
   "outputs": [
    {
     "data": {
      "image/png": "[encoded data removed]",
      "text/plain": [
       "<Figure size 720x288 with 1 Axes>"
      ]
     },
     "metadata": {
      "needs_background": "light"
     },
     "output_type": "display_data"
    }
   ],
   "source": [
    "# BarPlot for Sales per Item_Type\n",
    "plt.figure(figsize=(10,4))\n",
    "sns.barplot(data=data,x='Item_Type', y='Item_Outlet_Sales')\n",
    "plt.title('Sales based on Individual Item Category')\n",
    "plt.xlabel('Individual Item Category ')\n",
    "plt.ylabel('Sales')\n",
    "plt.legend()\n",
    "plt.show()"
   ]
  },
  {
   "cell_type": "code",
   "execution_count": 37,
   "id": "f3f474c0",
   "metadata": {
    "execution": {
     "iopub.execute_input": "2022-12-01T06:29:58.840864Z",
     "iopub.status.busy": "2022-12-01T06:29:58.839942Z",
     "iopub.status.idle": "2022-12-01T06:29:59.217952Z",
     "shell.execute_reply": "2022-12-01T06:29:59.216680Z"
    },
    "papermill": {
     "duration": 0.405336,
     "end_time": "2022-12-01T06:29:59.220575",
     "exception": false,
     "start_time": "2022-12-01T06:29:58.815239",
     "status": "completed"
    },
    "tags": []
   },
   "outputs": [
    {
     "data": {
      "image/png": "[encoded data removed]",
      "text/plain": [
       "<Figure size 720x288 with 1 Axes>"
      ]
     },
     "metadata": {
      "needs_background": "light"
     },
     "output_type": "display_data"
    }
   ],
   "source": [
    "# BarPlot for Sales per Item_Type_Combined\n",
    "plt.figure(figsize=(10,4))\n",
    "sns.barplot(data=data,x='Item_Type_Combined', y='Item_Outlet_Sales')\n",
    "plt.title('Sales based on Item Category')\n",
    "plt.xlabel('Item Category ')\n",
    "plt.ylabel('Sales')\n",
    "plt.legend()\n",
    "plt.show()"
   ]
  },
  {
   "cell_type": "code",
   "execution_count": 38,
   "id": "f792f50c",
   "metadata": {
    "execution": {
     "iopub.execute_input": "2022-12-01T06:29:59.268804Z",
     "iopub.status.busy": "2022-12-01T06:29:59.267451Z",
     "iopub.status.idle": "2022-12-01T06:29:59.882689Z",
     "shell.execute_reply": "2022-12-01T06:29:59.881552Z"
    },
    "papermill": {
     "duration": 0.641971,
     "end_time": "2022-12-01T06:29:59.885056",
     "exception": false,
     "start_time": "2022-12-01T06:29:59.243085",
     "status": "completed"
    },
    "tags": []
   },
   "outputs": [
    {
     "data": {
      "image/png": "[encoded data removed]",
      "text/plain": [
       "<Figure size 720x288 with 1 Axes>"
      ]
     },
     "metadata": {
      "needs_background": "light"
     },
     "output_type": "display_data"
    }
   ],
   "source": [
    "# BarPlot for Sales per Outlet_Identifier\n",
    "plt.figure(figsize=(10,4))\n",
    "sns.barplot(data=data,x='Outlet_Identifier', y='Item_Outlet_Sales')\n",
    "plt.title('Sales based on Store')\n",
    "plt.xlabel('Store')\n",
    "plt.ylabel('Sales')\n",
    "plt.legend()\n",
    "plt.show()"
   ]
  },
  {
   "cell_type": "code",
   "execution_count": 39,
   "id": "11dc8f31",
   "metadata": {
    "execution": {
     "iopub.execute_input": "2022-12-01T06:29:59.933928Z",
     "iopub.status.busy": "2022-12-01T06:29:59.933154Z",
     "iopub.status.idle": "2022-12-01T06:30:00.352633Z",
     "shell.execute_reply": "2022-12-01T06:30:00.351477Z"
    },
    "papermill": {
     "duration": 0.446713,
     "end_time": "2022-12-01T06:30:00.355301",
     "exception": false,
     "start_time": "2022-12-01T06:29:59.908588",
     "status": "completed"
    },
    "tags": []
   },
   "outputs": [
    {
     "data": {
      "image/png": "[encoded data removed]",
      "text/plain": [
       "<Figure size 576x360 with 1 Axes>"
      ]
     },
     "metadata": {
      "needs_background": "light"
     },
     "output_type": "display_data"
    }
   ],
   "source": [
    "# BarPlot for Sales per Outlet_Type\n",
    "plt.figure(figsize=(8,5))\n",
    "sns.barplot(data=data,x='Outlet_Type', y='Item_Outlet_Sales')\n",
    "plt.title('Sales based on Store Type')\n",
    "plt.xlabel('Store Type')\n",
    "plt.ylabel('Sales')\n",
    "plt.legend()\n",
    "plt.show()"
   ]
  },
  {
   "cell_type": "code",
   "execution_count": 40,
   "id": "853f4613",
   "metadata": {
    "execution": {
     "iopub.execute_input": "2022-12-01T06:30:00.404393Z",
     "iopub.status.busy": "2022-12-01T06:30:00.403974Z",
     "iopub.status.idle": "2022-12-01T06:30:00.773722Z",
     "shell.execute_reply": "2022-12-01T06:30:00.772440Z"
    },
    "papermill": {
     "duration": 0.397177,
     "end_time": "2022-12-01T06:30:00.776451",
     "exception": false,
     "start_time": "2022-12-01T06:30:00.379274",
     "status": "completed"
    },
    "tags": []
   },
   "outputs": [
    {
     "data": {
      "image/png": "[encoded data removed]",
      "text/plain": [
       "<Figure size 576x288 with 1 Axes>"
      ]
     },
     "metadata": {
      "needs_background": "light"
     },
     "output_type": "display_data"
    }
   ],
   "source": [
    "# BarPlot for Sales per Outlet_Size\n",
    "plt.figure(figsize=(8,4))\n",
    "sns.barplot(data=data,x='Outlet_Size', y='Item_Outlet_Sales')\n",
    "plt.title('Sales based on Store Size')\n",
    "plt.xlabel('Store Sie')\n",
    "plt.ylabel('Sales')\n",
    "plt.legend()\n",
    "plt.show()"
   ]
  },
  {
   "cell_type": "code",
   "execution_count": 41,
   "id": "32fe0b8e",
   "metadata": {
    "execution": {
     "iopub.execute_input": "2022-12-01T06:30:00.828209Z",
     "iopub.status.busy": "2022-12-01T06:30:00.827047Z",
     "iopub.status.idle": "2022-12-01T06:30:01.196398Z",
     "shell.execute_reply": "2022-12-01T06:30:01.195443Z"
    },
    "papermill": {
     "duration": 0.397196,
     "end_time": "2022-12-01T06:30:01.198863",
     "exception": false,
     "start_time": "2022-12-01T06:30:00.801667",
     "status": "completed"
    },
    "tags": []
   },
   "outputs": [
    {
     "data": {
      "image/png": "[encoded data removed]",
      "text/plain": [
       "<Figure size 720x288 with 1 Axes>"
      ]
     },
     "metadata": {
      "needs_background": "light"
     },
     "output_type": "display_data"
    }
   ],
   "source": [
    "# BarPlot for Sales per Outlet_Location_Type\n",
    "plt.figure(figsize=(10,4))\n",
    "sns.barplot(data=data,x='Outlet_Location_Type', y='Item_Outlet_Sales')\n",
    "plt.title('Sales based on Store location type ')\n",
    "plt.xlabel('Store location type')\n",
    "plt.ylabel('Sales')\n",
    "plt.legend()\n",
    "plt.show()"
   ]
  },
  {
   "cell_type": "markdown",
   "id": "a47359cb",
   "metadata": {
    "papermill": {
     "duration": 0.023421,
     "end_time": "2022-12-01T06:30:01.246455",
     "exception": false,
     "start_time": "2022-12-01T06:30:01.223034",
     "status": "completed"
    },
    "tags": []
   },
   "source": [
    "### Realizations:\n",
    "* **Item_Type_Combined**: Based on Categories, **Food** has most Sells, But difference is very small.\n",
    "* **Outlet_Identifier**: **Outlet027** has most profitable, and **Outlet019** and **Outlet010** has least Sells. \n",
    "* **Outlet_Type**: Most Sells are through **SuperMarket Type3** surprisingly not **Type1**.\n",
    "* **Outlet_Size**: Sells are even in  **Medium** and **High** size Stores.\n",
    "* **Outlet_Location_Type**: Most sells are through **Tier3** and **Tier2**, **Tier2** is slightly higher."
   ]
  },
  {
   "cell_type": "markdown",
   "id": "40cd47b6",
   "metadata": {
    "execution": {
     "iopub.execute_input": "2022-11-30T19:22:30.799002Z",
     "iopub.status.busy": "2022-11-30T19:22:30.798622Z",
     "iopub.status.idle": "2022-11-30T19:22:30.806913Z",
     "shell.execute_reply": "2022-11-30T19:22:30.805328Z",
     "shell.execute_reply.started": "2022-11-30T19:22:30.798969Z"
    },
    "papermill": {
     "duration": 0.024064,
     "end_time": "2022-12-01T06:30:01.293979",
     "exception": false,
     "start_time": "2022-12-01T06:30:01.269915",
     "status": "completed"
    },
    "tags": []
   },
   "source": [
    "### Correlation Matrix"
   ]
  },
  {
   "cell_type": "code",
   "execution_count": 42,
   "id": "13e260b6",
   "metadata": {
    "execution": {
     "iopub.execute_input": "2022-12-01T06:30:01.344012Z",
     "iopub.status.busy": "2022-12-01T06:30:01.342995Z",
     "iopub.status.idle": "2022-12-01T06:30:01.699724Z",
     "shell.execute_reply": "2022-12-01T06:30:01.698339Z"
    },
    "papermill": {
     "duration": 0.384733,
     "end_time": "2022-12-01T06:30:01.702505",
     "exception": false,
     "start_time": "2022-12-01T06:30:01.317772",
     "status": "completed"
    },
    "tags": []
   },
   "outputs": [
    {
     "data": {
      "text/plain": [
       "<AxesSubplot:>"
      ]
     },
     "execution_count": 42,
     "metadata": {},
     "output_type": "execute_result"
    },
    {
     "data": {
      "image/png": "[encoded data removed]",
      "text/plain": [
       "<Figure size 432x288 with 2 Axes>"
      ]
     },
     "metadata": {
      "needs_background": "light"
     },
     "output_type": "display_data"
    }
   ],
   "source": [
    "# Correlation Matrix\n",
    "sns.heatmap(data.corr())"
   ]
  },
  {
   "cell_type": "markdown",
   "id": "3be1df0f",
   "metadata": {
    "papermill": {
     "duration": 0.023576,
     "end_time": "2022-12-01T06:30:01.750358",
     "exception": false,
     "start_time": "2022-12-01T06:30:01.726782",
     "status": "completed"
    },
    "tags": []
   },
   "source": [
    "* We can see **Item_Outlet_Sales** is highly correlated with **Item_MRP**"
   ]
  },
  {
   "cell_type": "markdown",
   "id": "9792ce85",
   "metadata": {
    "papermill": {
     "duration": 0.023672,
     "end_time": "2022-12-01T06:30:01.798216",
     "exception": false,
     "start_time": "2022-12-01T06:30:01.774544",
     "status": "completed"
    },
    "tags": []
   },
   "source": [
    "### Future Engneering \n",
    "The main feature engineering techniques are:\n",
    "\n",
    "* Categorical encoding\n",
    "* Variable transformation\n",
    "* Outlier engineering\n",
    "* Date and time engineering\n",
    "\n",
    "#### We have 7 categorial columns\n",
    "#### Ordinal Data:\n",
    "*     Item_Fat_Content\n",
    "*     Outlet_Size\n",
    "*     Outlet_Location_Type \n",
    "\n",
    "#### Nominal Data:\n",
    "* Item_Identifier\n",
    "* Item_Type\n",
    "* Outlet_Identifier\n",
    "* Outlet_Type\n",
    "\n",
    "Since **Item_Identifier**, **Outlet_Identifier** don't have significant values, we can drop them."
   ]
  },
  {
   "cell_type": "code",
   "execution_count": 43,
   "id": "40b3fb58",
   "metadata": {
    "execution": {
     "iopub.execute_input": "2022-12-01T06:30:01.848071Z",
     "iopub.status.busy": "2022-12-01T06:30:01.847643Z",
     "iopub.status.idle": "2022-12-01T06:30:01.884717Z",
     "shell.execute_reply": "2022-12-01T06:30:01.883268Z"
    },
    "papermill": {
     "duration": 0.064606,
     "end_time": "2022-12-01T06:30:01.887135",
     "exception": false,
     "start_time": "2022-12-01T06:30:01.822529",
     "status": "completed"
    },
    "tags": []
   },
   "outputs": [
    {
     "data": {
      "text/html": [
       "<div>\n",
       "<style scoped>\n",
       "    .dataframe tbody tr th:only-of-type {\n",
       "        vertical-align: middle;\n",
       "    }\n",
       "\n",
       "    .dataframe tbody tr th {\n",
       "        vertical-align: top;\n",
       "    }\n",
       "\n",
       "    .dataframe thead th {\n",
       "        text-align: right;\n",
       "    }\n",
       "</style>\n",
       "<table border=\"1\" class=\"dataframe\">\n",
       "  <thead>\n",
       "    <tr style=\"text-align: right;\">\n",
       "      <th></th>\n",
       "      <th>Item_Identifier</th>\n",
       "      <th>Item_Weight</th>\n",
       "      <th>Item_Fat_Content</th>\n",
       "      <th>Item_Visibility</th>\n",
       "      <th>Item_Type</th>\n",
       "      <th>Item_MRP</th>\n",
       "      <th>Outlet_Identifier</th>\n",
       "      <th>Outlet_Establishment_Year</th>\n",
       "      <th>Outlet_Size</th>\n",
       "      <th>Outlet_Location_Type</th>\n",
       "      <th>Outlet_Type</th>\n",
       "      <th>Item_Outlet_Sales</th>\n",
       "      <th>source</th>\n",
       "      <th>Item_Type_Combined</th>\n",
       "      <th>Oultet_Age</th>\n",
       "    </tr>\n",
       "  </thead>\n",
       "  <tbody>\n",
       "    <tr>\n",
       "      <th>0</th>\n",
       "      <td>FDA15</td>\n",
       "      <td>9.30</td>\n",
       "      <td>0</td>\n",
       "      <td>0.016047</td>\n",
       "      <td>Dairy</td>\n",
       "      <td>249.8092</td>\n",
       "      <td>OUT049</td>\n",
       "      <td>1999</td>\n",
       "      <td>1</td>\n",
       "      <td>0</td>\n",
       "      <td>Supermarket Type1</td>\n",
       "      <td>3735.1380</td>\n",
       "      <td>train</td>\n",
       "      <td>Food</td>\n",
       "      <td>14</td>\n",
       "    </tr>\n",
       "    <tr>\n",
       "      <th>1</th>\n",
       "      <td>DRC01</td>\n",
       "      <td>5.92</td>\n",
       "      <td>1</td>\n",
       "      <td>0.019278</td>\n",
       "      <td>Soft Drinks</td>\n",
       "      <td>48.2692</td>\n",
       "      <td>OUT018</td>\n",
       "      <td>2009</td>\n",
       "      <td>1</td>\n",
       "      <td>2</td>\n",
       "      <td>Supermarket Type2</td>\n",
       "      <td>443.4228</td>\n",
       "      <td>train</td>\n",
       "      <td>Drinks</td>\n",
       "      <td>4</td>\n",
       "    </tr>\n",
       "    <tr>\n",
       "      <th>2</th>\n",
       "      <td>FDN15</td>\n",
       "      <td>17.50</td>\n",
       "      <td>0</td>\n",
       "      <td>0.016760</td>\n",
       "      <td>Meat</td>\n",
       "      <td>141.6180</td>\n",
       "      <td>OUT049</td>\n",
       "      <td>1999</td>\n",
       "      <td>1</td>\n",
       "      <td>0</td>\n",
       "      <td>Supermarket Type1</td>\n",
       "      <td>2097.2700</td>\n",
       "      <td>train</td>\n",
       "      <td>Food</td>\n",
       "      <td>14</td>\n",
       "    </tr>\n",
       "    <tr>\n",
       "      <th>3</th>\n",
       "      <td>FDX07</td>\n",
       "      <td>19.20</td>\n",
       "      <td>1</td>\n",
       "      <td>0.017834</td>\n",
       "      <td>Fruits and Vegetables</td>\n",
       "      <td>182.0950</td>\n",
       "      <td>OUT010</td>\n",
       "      <td>1998</td>\n",
       "      <td>1</td>\n",
       "      <td>2</td>\n",
       "      <td>Grocery Store</td>\n",
       "      <td>732.3800</td>\n",
       "      <td>train</td>\n",
       "      <td>Food</td>\n",
       "      <td>15</td>\n",
       "    </tr>\n",
       "    <tr>\n",
       "      <th>4</th>\n",
       "      <td>NCD19</td>\n",
       "      <td>8.93</td>\n",
       "      <td>0</td>\n",
       "      <td>0.009780</td>\n",
       "      <td>Household</td>\n",
       "      <td>53.8614</td>\n",
       "      <td>OUT013</td>\n",
       "      <td>1987</td>\n",
       "      <td>0</td>\n",
       "      <td>2</td>\n",
       "      <td>Supermarket Type1</td>\n",
       "      <td>994.7052</td>\n",
       "      <td>train</td>\n",
       "      <td>Non-Consumable</td>\n",
       "      <td>26</td>\n",
       "    </tr>\n",
       "  </tbody>\n",
       "</table>\n",
       "</div>"
      ],
      "text/plain": [
       "  Item_Identifier  Item_Weight  Item_Fat_Content  Item_Visibility  \\\n",
       "0           FDA15         9.30                 0         0.016047   \n",
       "1           DRC01         5.92                 1         0.019278   \n",
       "2           FDN15        17.50                 0         0.016760   \n",
       "3           FDX07        19.20                 1         0.017834   \n",
       "4           NCD19         8.93                 0         0.009780   \n",
       "\n",
       "               Item_Type  Item_MRP Outlet_Identifier  \\\n",
       "0                  Dairy  249.8092            OUT049   \n",
       "1            Soft Drinks   48.2692            OUT018   \n",
       "2                   Meat  141.6180            OUT049   \n",
       "3  Fruits and Vegetables  182.0950            OUT010   \n",
       "4              Household   53.8614            OUT013   \n",
       "\n",
       "   Outlet_Establishment_Year  Outlet_Size  Outlet_Location_Type  \\\n",
       "0                       1999            1                     0   \n",
       "1                       2009            1                     2   \n",
       "2                       1999            1                     0   \n",
       "3                       1998            1                     2   \n",
       "4                       1987            0                     2   \n",
       "\n",
       "         Outlet_Type  Item_Outlet_Sales source Item_Type_Combined  Oultet_Age  \n",
       "0  Supermarket Type1          3735.1380  train               Food          14  \n",
       "1  Supermarket Type2           443.4228  train             Drinks           4  \n",
       "2  Supermarket Type1          2097.2700  train               Food          14  \n",
       "3      Grocery Store           732.3800  train               Food          15  \n",
       "4  Supermarket Type1           994.7052  train     Non-Consumable          26  "
      ]
     },
     "execution_count": 43,
     "metadata": {},
     "output_type": "execute_result"
    }
   ],
   "source": [
    "#Label Encoding for Ordinal Data\n",
    "le = LabelEncoder()\n",
    "label = ['Item_Fat_Content', 'Outlet_Size', 'Outlet_Location_Type']\n",
    "for i in label:\n",
    "    data[i] = le.fit_transform(data[i])\n",
    "data.head()"
   ]
  },
  {
   "cell_type": "code",
   "execution_count": 44,
   "id": "b06f287e",
   "metadata": {
    "execution": {
     "iopub.execute_input": "2022-12-01T06:30:01.938416Z",
     "iopub.status.busy": "2022-12-01T06:30:01.937603Z",
     "iopub.status.idle": "2022-12-01T06:30:01.977672Z",
     "shell.execute_reply": "2022-12-01T06:30:01.976344Z"
    },
    "papermill": {
     "duration": 0.068984,
     "end_time": "2022-12-01T06:30:01.980400",
     "exception": false,
     "start_time": "2022-12-01T06:30:01.911416",
     "status": "completed"
    },
    "tags": []
   },
   "outputs": [],
   "source": [
    "# One-Hot encoding (OHE) for Nominal Data\n",
    "\n",
    "# Columns for applying One-Hot encoding\n",
    "cols = ['Item_Type', 'Item_Type_Combined', 'Outlet_Type']\n",
    "# Apply one-hot encoder\n",
    "OH_encoder = OneHotEncoder(handle_unknown='ignore', sparse=False)\n",
    "data_oh = pd.DataFrame(OH_encoder.fit_transform(data[cols])).astype('int64')\n",
    "\n",
    "# get feature columns\n",
    "data_oh.columns = OH_encoder.get_feature_names_out(cols)\n",
    "# # # One-hot encoding removed index; put it back\n",
    "data_oh.index = data.index\n",
    "\n",
    "# # # Add one-hot encoded columns to our main df new name: tr_fe, te_fe (means feature engeenired) \n",
    "data_fe = pd.concat([data, data_oh], axis=1)"
   ]
  },
  {
   "cell_type": "code",
   "execution_count": 45,
   "id": "92349308",
   "metadata": {
    "execution": {
     "iopub.execute_input": "2022-12-01T06:30:02.032837Z",
     "iopub.status.busy": "2022-12-01T06:30:02.032434Z",
     "iopub.status.idle": "2022-12-01T06:30:02.078935Z",
     "shell.execute_reply": "2022-12-01T06:30:02.077265Z"
    },
    "papermill": {
     "duration": 0.075996,
     "end_time": "2022-12-01T06:30:02.081722",
     "exception": false,
     "start_time": "2022-12-01T06:30:02.005726",
     "status": "completed"
    },
    "tags": []
   },
   "outputs": [
    {
     "data": {
      "text/html": [
       "<div>\n",
       "<style scoped>\n",
       "    .dataframe tbody tr th:only-of-type {\n",
       "        vertical-align: middle;\n",
       "    }\n",
       "\n",
       "    .dataframe tbody tr th {\n",
       "        vertical-align: top;\n",
       "    }\n",
       "\n",
       "    .dataframe thead th {\n",
       "        text-align: right;\n",
       "    }\n",
       "</style>\n",
       "<table border=\"1\" class=\"dataframe\">\n",
       "  <thead>\n",
       "    <tr style=\"text-align: right;\">\n",
       "      <th></th>\n",
       "      <th>Item_Weight</th>\n",
       "      <th>Item_Fat_Content</th>\n",
       "      <th>Item_Visibility</th>\n",
       "      <th>Item_MRP</th>\n",
       "      <th>Outlet_Size</th>\n",
       "      <th>Outlet_Location_Type</th>\n",
       "      <th>Item_Outlet_Sales</th>\n",
       "      <th>Oultet_Age</th>\n",
       "      <th>Item_Type_Baking Goods</th>\n",
       "      <th>Item_Type_Breads</th>\n",
       "      <th>...</th>\n",
       "      <th>Item_Type_Snack Foods</th>\n",
       "      <th>Item_Type_Soft Drinks</th>\n",
       "      <th>Item_Type_Starchy Foods</th>\n",
       "      <th>Item_Type_Combined_Drinks</th>\n",
       "      <th>Item_Type_Combined_Food</th>\n",
       "      <th>Item_Type_Combined_Non-Consumable</th>\n",
       "      <th>Outlet_Type_Grocery Store</th>\n",
       "      <th>Outlet_Type_Supermarket Type1</th>\n",
       "      <th>Outlet_Type_Supermarket Type2</th>\n",
       "      <th>Outlet_Type_Supermarket Type3</th>\n",
       "    </tr>\n",
       "  </thead>\n",
       "  <tbody>\n",
       "    <tr>\n",
       "      <th>0</th>\n",
       "      <td>9.300000</td>\n",
       "      <td>0</td>\n",
       "      <td>0.016047</td>\n",
       "      <td>249.8092</td>\n",
       "      <td>1</td>\n",
       "      <td>0</td>\n",
       "      <td>3735.1380</td>\n",
       "      <td>14</td>\n",
       "      <td>0</td>\n",
       "      <td>0</td>\n",
       "      <td>...</td>\n",
       "      <td>0</td>\n",
       "      <td>0</td>\n",
       "      <td>0</td>\n",
       "      <td>0</td>\n",
       "      <td>1</td>\n",
       "      <td>0</td>\n",
       "      <td>0</td>\n",
       "      <td>1</td>\n",
       "      <td>0</td>\n",
       "      <td>0</td>\n",
       "    </tr>\n",
       "    <tr>\n",
       "      <th>1</th>\n",
       "      <td>5.920000</td>\n",
       "      <td>1</td>\n",
       "      <td>0.019278</td>\n",
       "      <td>48.2692</td>\n",
       "      <td>1</td>\n",
       "      <td>2</td>\n",
       "      <td>443.4228</td>\n",
       "      <td>4</td>\n",
       "      <td>0</td>\n",
       "      <td>0</td>\n",
       "      <td>...</td>\n",
       "      <td>0</td>\n",
       "      <td>1</td>\n",
       "      <td>0</td>\n",
       "      <td>1</td>\n",
       "      <td>0</td>\n",
       "      <td>0</td>\n",
       "      <td>0</td>\n",
       "      <td>0</td>\n",
       "      <td>1</td>\n",
       "      <td>0</td>\n",
       "    </tr>\n",
       "    <tr>\n",
       "      <th>2</th>\n",
       "      <td>17.500000</td>\n",
       "      <td>0</td>\n",
       "      <td>0.016760</td>\n",
       "      <td>141.6180</td>\n",
       "      <td>1</td>\n",
       "      <td>0</td>\n",
       "      <td>2097.2700</td>\n",
       "      <td>14</td>\n",
       "      <td>0</td>\n",
       "      <td>0</td>\n",
       "      <td>...</td>\n",
       "      <td>0</td>\n",
       "      <td>0</td>\n",
       "      <td>0</td>\n",
       "      <td>0</td>\n",
       "      <td>1</td>\n",
       "      <td>0</td>\n",
       "      <td>0</td>\n",
       "      <td>1</td>\n",
       "      <td>0</td>\n",
       "      <td>0</td>\n",
       "    </tr>\n",
       "    <tr>\n",
       "      <th>3</th>\n",
       "      <td>19.200000</td>\n",
       "      <td>1</td>\n",
       "      <td>0.017834</td>\n",
       "      <td>182.0950</td>\n",
       "      <td>1</td>\n",
       "      <td>2</td>\n",
       "      <td>732.3800</td>\n",
       "      <td>15</td>\n",
       "      <td>0</td>\n",
       "      <td>0</td>\n",
       "      <td>...</td>\n",
       "      <td>0</td>\n",
       "      <td>0</td>\n",
       "      <td>0</td>\n",
       "      <td>0</td>\n",
       "      <td>1</td>\n",
       "      <td>0</td>\n",
       "      <td>1</td>\n",
       "      <td>0</td>\n",
       "      <td>0</td>\n",
       "      <td>0</td>\n",
       "    </tr>\n",
       "    <tr>\n",
       "      <th>4</th>\n",
       "      <td>8.930000</td>\n",
       "      <td>0</td>\n",
       "      <td>0.009780</td>\n",
       "      <td>53.8614</td>\n",
       "      <td>0</td>\n",
       "      <td>2</td>\n",
       "      <td>994.7052</td>\n",
       "      <td>26</td>\n",
       "      <td>0</td>\n",
       "      <td>0</td>\n",
       "      <td>...</td>\n",
       "      <td>0</td>\n",
       "      <td>0</td>\n",
       "      <td>0</td>\n",
       "      <td>0</td>\n",
       "      <td>0</td>\n",
       "      <td>1</td>\n",
       "      <td>0</td>\n",
       "      <td>1</td>\n",
       "      <td>0</td>\n",
       "      <td>0</td>\n",
       "    </tr>\n",
       "    <tr>\n",
       "      <th>5</th>\n",
       "      <td>10.395000</td>\n",
       "      <td>1</td>\n",
       "      <td>0.057059</td>\n",
       "      <td>51.4008</td>\n",
       "      <td>1</td>\n",
       "      <td>2</td>\n",
       "      <td>556.6088</td>\n",
       "      <td>4</td>\n",
       "      <td>1</td>\n",
       "      <td>0</td>\n",
       "      <td>...</td>\n",
       "      <td>0</td>\n",
       "      <td>0</td>\n",
       "      <td>0</td>\n",
       "      <td>0</td>\n",
       "      <td>1</td>\n",
       "      <td>0</td>\n",
       "      <td>0</td>\n",
       "      <td>0</td>\n",
       "      <td>1</td>\n",
       "      <td>0</td>\n",
       "    </tr>\n",
       "    <tr>\n",
       "      <th>6</th>\n",
       "      <td>13.650000</td>\n",
       "      <td>1</td>\n",
       "      <td>0.012741</td>\n",
       "      <td>57.6588</td>\n",
       "      <td>0</td>\n",
       "      <td>2</td>\n",
       "      <td>343.5528</td>\n",
       "      <td>26</td>\n",
       "      <td>0</td>\n",
       "      <td>0</td>\n",
       "      <td>...</td>\n",
       "      <td>1</td>\n",
       "      <td>0</td>\n",
       "      <td>0</td>\n",
       "      <td>0</td>\n",
       "      <td>1</td>\n",
       "      <td>0</td>\n",
       "      <td>0</td>\n",
       "      <td>1</td>\n",
       "      <td>0</td>\n",
       "      <td>0</td>\n",
       "    </tr>\n",
       "    <tr>\n",
       "      <th>7</th>\n",
       "      <td>12.792854</td>\n",
       "      <td>0</td>\n",
       "      <td>0.127470</td>\n",
       "      <td>107.7622</td>\n",
       "      <td>1</td>\n",
       "      <td>2</td>\n",
       "      <td>4022.7636</td>\n",
       "      <td>28</td>\n",
       "      <td>0</td>\n",
       "      <td>0</td>\n",
       "      <td>...</td>\n",
       "      <td>1</td>\n",
       "      <td>0</td>\n",
       "      <td>0</td>\n",
       "      <td>0</td>\n",
       "      <td>1</td>\n",
       "      <td>0</td>\n",
       "      <td>0</td>\n",
       "      <td>0</td>\n",
       "      <td>0</td>\n",
       "      <td>1</td>\n",
       "    </tr>\n",
       "    <tr>\n",
       "      <th>8</th>\n",
       "      <td>16.200000</td>\n",
       "      <td>1</td>\n",
       "      <td>0.016687</td>\n",
       "      <td>96.9726</td>\n",
       "      <td>1</td>\n",
       "      <td>1</td>\n",
       "      <td>1076.5986</td>\n",
       "      <td>11</td>\n",
       "      <td>0</td>\n",
       "      <td>0</td>\n",
       "      <td>...</td>\n",
       "      <td>0</td>\n",
       "      <td>0</td>\n",
       "      <td>0</td>\n",
       "      <td>0</td>\n",
       "      <td>1</td>\n",
       "      <td>0</td>\n",
       "      <td>0</td>\n",
       "      <td>1</td>\n",
       "      <td>0</td>\n",
       "      <td>0</td>\n",
       "    </tr>\n",
       "    <tr>\n",
       "      <th>9</th>\n",
       "      <td>19.200000</td>\n",
       "      <td>1</td>\n",
       "      <td>0.094450</td>\n",
       "      <td>187.8214</td>\n",
       "      <td>1</td>\n",
       "      <td>1</td>\n",
       "      <td>4710.5350</td>\n",
       "      <td>6</td>\n",
       "      <td>0</td>\n",
       "      <td>0</td>\n",
       "      <td>...</td>\n",
       "      <td>0</td>\n",
       "      <td>0</td>\n",
       "      <td>0</td>\n",
       "      <td>0</td>\n",
       "      <td>1</td>\n",
       "      <td>0</td>\n",
       "      <td>0</td>\n",
       "      <td>1</td>\n",
       "      <td>0</td>\n",
       "      <td>0</td>\n",
       "    </tr>\n",
       "  </tbody>\n",
       "</table>\n",
       "<p>10 rows × 31 columns</p>\n",
       "</div>"
      ],
      "text/plain": [
       "   Item_Weight  Item_Fat_Content  Item_Visibility  Item_MRP  Outlet_Size  \\\n",
       "0     9.300000                 0         0.016047  249.8092            1   \n",
       "1     5.920000                 1         0.019278   48.2692            1   \n",
       "2    17.500000                 0         0.016760  141.6180            1   \n",
       "3    19.200000                 1         0.017834  182.0950            1   \n",
       "4     8.930000                 0         0.009780   53.8614            0   \n",
       "5    10.395000                 1         0.057059   51.4008            1   \n",
       "6    13.650000                 1         0.012741   57.6588            0   \n",
       "7    12.792854                 0         0.127470  107.7622            1   \n",
       "8    16.200000                 1         0.016687   96.9726            1   \n",
       "9    19.200000                 1         0.094450  187.8214            1   \n",
       "\n",
       "   Outlet_Location_Type  Item_Outlet_Sales  Oultet_Age  \\\n",
       "0                     0          3735.1380          14   \n",
       "1                     2           443.4228           4   \n",
       "2                     0          2097.2700          14   \n",
       "3                     2           732.3800          15   \n",
       "4                     2           994.7052          26   \n",
       "5                     2           556.6088           4   \n",
       "6                     2           343.5528          26   \n",
       "7                     2          4022.7636          28   \n",
       "8                     1          1076.5986          11   \n",
       "9                     1          4710.5350           6   \n",
       "\n",
       "   Item_Type_Baking Goods  Item_Type_Breads  ...  Item_Type_Snack Foods  \\\n",
       "0                       0                 0  ...                      0   \n",
       "1                       0                 0  ...                      0   \n",
       "2                       0                 0  ...                      0   \n",
       "3                       0                 0  ...                      0   \n",
       "4                       0                 0  ...                      0   \n",
       "5                       1                 0  ...                      0   \n",
       "6                       0                 0  ...                      1   \n",
       "7                       0                 0  ...                      1   \n",
       "8                       0                 0  ...                      0   \n",
       "9                       0                 0  ...                      0   \n",
       "\n",
       "   Item_Type_Soft Drinks  Item_Type_Starchy Foods  Item_Type_Combined_Drinks  \\\n",
       "0                      0                        0                          0   \n",
       "1                      1                        0                          1   \n",
       "2                      0                        0                          0   \n",
       "3                      0                        0                          0   \n",
       "4                      0                        0                          0   \n",
       "5                      0                        0                          0   \n",
       "6                      0                        0                          0   \n",
       "7                      0                        0                          0   \n",
       "8                      0                        0                          0   \n",
       "9                      0                        0                          0   \n",
       "\n",
       "   Item_Type_Combined_Food  Item_Type_Combined_Non-Consumable  \\\n",
       "0                        1                                  0   \n",
       "1                        0                                  0   \n",
       "2                        1                                  0   \n",
       "3                        1                                  0   \n",
       "4                        0                                  1   \n",
       "5                        1                                  0   \n",
       "6                        1                                  0   \n",
       "7                        1                                  0   \n",
       "8                        1                                  0   \n",
       "9                        1                                  0   \n",
       "\n",
       "   Outlet_Type_Grocery Store  Outlet_Type_Supermarket Type1  \\\n",
       "0                          0                              1   \n",
       "1                          0                              0   \n",
       "2                          0                              1   \n",
       "3                          1                              0   \n",
       "4                          0                              1   \n",
       "5                          0                              0   \n",
       "6                          0                              1   \n",
       "7                          0                              0   \n",
       "8                          0                              1   \n",
       "9                          0                              1   \n",
       "\n",
       "   Outlet_Type_Supermarket Type2  Outlet_Type_Supermarket Type3  \n",
       "0                              0                              0  \n",
       "1                              1                              0  \n",
       "2                              0                              0  \n",
       "3                              0                              0  \n",
       "4                              0                              0  \n",
       "5                              1                              0  \n",
       "6                              0                              0  \n",
       "7                              0                              1  \n",
       "8                              0                              0  \n",
       "9                              0                              0  \n",
       "\n",
       "[10 rows x 31 columns]"
      ]
     },
     "execution_count": 45,
     "metadata": {},
     "output_type": "execute_result"
    }
   ],
   "source": [
    "# Divide Data into train and test\n",
    "train_df = data_fe.loc[data_fe['source']==\"train\"]\n",
    "test_df = data_fe.loc[data_fe['source']==\"test\"]\n",
    "# Dropping irrelevant columns\n",
    "train_df  = train_df.drop(['Item_Identifier','Item_Type_Combined', 'source', 'Outlet_Identifier',\n",
    "                           'Outlet_Establishment_Year','Outlet_Type','Item_Type'], axis=1)\n",
    "train_df.head(10)"
   ]
  },
  {
   "cell_type": "markdown",
   "id": "b910c069",
   "metadata": {
    "papermill": {
     "duration": 0.02476,
     "end_time": "2022-12-01T06:30:02.131701",
     "exception": false,
     "start_time": "2022-12-01T06:30:02.106941",
     "status": "completed"
    },
    "tags": []
   },
   "source": [
    "# Machine Learning Models\n",
    "Let's divide our dataset into two variables.\n",
    "* **X** as the features we defined earlier. \n",
    "* **y** as the Item_Outlet_Sales the target value we want to predict.\n",
    "### Assumptions:\n",
    "* This is a regression problem.\n",
    "* Train test split 8:2 ratio respectively.\n",
    "\n",
    "### Regression Models\n",
    "* Linear Regression\n",
    "* Random Forest Regressor\n",
    "* Lasso Regressor\n",
    "\n",
    "### Score Metrics for Regression:\n",
    "**Mean Absolute Error (MAE)** - Mean of the absolute value of errors (absolute distance from true value):\n",
    "\n",
    "**Mean Squared Error (MSE)** - Mean of the squared value of errors (squared distance from true value):\n",
    "\n",
    "**R^2 (coefficient of determination)** - Regression score function.:\n"
   ]
  },
  {
   "cell_type": "code",
   "execution_count": 46,
   "id": "a41539ab",
   "metadata": {
    "execution": {
     "iopub.execute_input": "2022-12-01T06:30:02.184147Z",
     "iopub.status.busy": "2022-12-01T06:30:02.183736Z",
     "iopub.status.idle": "2022-12-01T06:30:02.198118Z",
     "shell.execute_reply": "2022-12-01T06:30:02.197212Z"
    },
    "papermill": {
     "duration": 0.044013,
     "end_time": "2022-12-01T06:30:02.200740",
     "exception": false,
     "start_time": "2022-12-01T06:30:02.156727",
     "status": "completed"
    },
    "tags": []
   },
   "outputs": [],
   "source": [
    "# Train and Test split\n",
    "y = train_df['Item_Outlet_Sales']\n",
    "X = train_df.drop('Item_Outlet_Sales', axis=1)\n",
    "X_train, X_test, y_train, y_test = train_test_split(X, y, test_size = 0.8, random_state = 0)\n",
    "\n",
    "# Cross Validation Score\n",
    "def cross_val(model_name, model, X, y, cv):\n",
    "    scores = CVS(model, X, y, cv=cv)\n",
    "    print(f'{model} Scores:')\n",
    "    for i in scores:\n",
    "        print(round(i,2))\n",
    "    print(f'Average {model_name} score: {round(scores.mean(),4)}')"
   ]
  },
  {
   "cell_type": "code",
   "execution_count": 47,
   "id": "0a72ae53",
   "metadata": {
    "execution": {
     "iopub.execute_input": "2022-12-01T06:30:02.253000Z",
     "iopub.status.busy": "2022-12-01T06:30:02.252562Z",
     "iopub.status.idle": "2022-12-01T06:30:02.471669Z",
     "shell.execute_reply": "2022-12-01T06:30:02.470243Z"
    },
    "papermill": {
     "duration": 0.249785,
     "end_time": "2022-12-01T06:30:02.475813",
     "exception": false,
     "start_time": "2022-12-01T06:30:02.226028",
     "status": "completed"
    },
    "tags": []
   },
   "outputs": [
    {
     "name": "stdout",
     "output_type": "stream",
     "text": [
      " Mean Absolute Error: 840.6719704355477\n",
      "\n",
      " Mean Squared Error: 1290411.0231416738\n",
      "\n",
      " R^2 Score: 0.5576973167585384\n",
      "\n",
      "LinearRegression() Scores:\n",
      "0.57\n",
      "0.55\n",
      "0.55\n",
      "0.56\n",
      "0.56\n",
      "Average LinearRegression(normalize=True) score: 0.5579\n"
     ]
    }
   ],
   "source": [
    "# Model\n",
    "model = LinearRegression(normalize=True)\n",
    "\n",
    "# Fit\n",
    "model.fit(X_train, y_train)\n",
    "\n",
    "# Predict\n",
    "y_predict = model.predict(X_test)\n",
    "\n",
    "# Score Metrics for Regression:\n",
    "LR_MAE = MAE(y_test, y_predict)\n",
    "LR_MSE = MSE(y_test, y_predict)\n",
    "LR_R_2 = R2(y_test, y_predict)\n",
    "print(f\" Mean Absolute Error: {LR_MAE}\\n\")\n",
    "print(f\" Mean Squared Error: {LR_MSE}\\n\")\n",
    "print(f\" R^2 Score: {LR_R_2}\\n\")\n",
    "\n",
    "# Cross Validation Score check\n",
    "cross_val(model,LinearRegression(),X,y,5)"
   ]
  },
  {
   "cell_type": "code",
   "execution_count": 48,
   "id": "0ff0d640",
   "metadata": {
    "execution": {
     "iopub.execute_input": "2022-12-01T06:30:02.609726Z",
     "iopub.status.busy": "2022-12-01T06:30:02.609320Z",
     "iopub.status.idle": "2022-12-01T06:30:02.622110Z",
     "shell.execute_reply": "2022-12-01T06:30:02.621164Z"
    },
    "papermill": {
     "duration": 0.042181,
     "end_time": "2022-12-01T06:30:02.624466",
     "exception": false,
     "start_time": "2022-12-01T06:30:02.582285",
     "status": "completed"
    },
    "tags": []
   },
   "outputs": [
    {
     "data": {
      "text/html": [
       "<div>\n",
       "<style scoped>\n",
       "    .dataframe tbody tr th:only-of-type {\n",
       "        vertical-align: middle;\n",
       "    }\n",
       "\n",
       "    .dataframe tbody tr th {\n",
       "        vertical-align: top;\n",
       "    }\n",
       "\n",
       "    .dataframe thead th {\n",
       "        text-align: right;\n",
       "    }\n",
       "</style>\n",
       "<table border=\"1\" class=\"dataframe\">\n",
       "  <thead>\n",
       "    <tr style=\"text-align: right;\">\n",
       "      <th></th>\n",
       "      <th>y_test</th>\n",
       "      <th>prediction</th>\n",
       "    </tr>\n",
       "  </thead>\n",
       "  <tbody>\n",
       "    <tr>\n",
       "      <th>4931</th>\n",
       "      <td>1426.1436</td>\n",
       "      <td>2670.0</td>\n",
       "    </tr>\n",
       "    <tr>\n",
       "      <th>4148</th>\n",
       "      <td>1201.7690</td>\n",
       "      <td>2534.0</td>\n",
       "    </tr>\n",
       "    <tr>\n",
       "      <th>7423</th>\n",
       "      <td>1836.2764</td>\n",
       "      <td>2242.0</td>\n",
       "    </tr>\n",
       "    <tr>\n",
       "      <th>4836</th>\n",
       "      <td>2410.8618</td>\n",
       "      <td>2262.0</td>\n",
       "    </tr>\n",
       "    <tr>\n",
       "      <th>944</th>\n",
       "      <td>1549.9824</td>\n",
       "      <td>3080.0</td>\n",
       "    </tr>\n",
       "  </tbody>\n",
       "</table>\n",
       "</div>"
      ],
      "text/plain": [
       "         y_test  prediction\n",
       "4931  1426.1436      2670.0\n",
       "4148  1201.7690      2534.0\n",
       "7423  1836.2764      2242.0\n",
       "4836  2410.8618      2262.0\n",
       "944   1549.9824      3080.0"
      ]
     },
     "execution_count": 48,
     "metadata": {},
     "output_type": "execute_result"
    }
   ],
   "source": [
    "#  Results of the test for our model: \n",
    "result_df=pd.DataFrame({'y_test':y_test,'prediction':y_predict})\n",
    "result_df.head()"
   ]
  }
 ],
 "metadata": {
  "kernelspec": {
   "display_name": "Python 3",
   "language": "python",
   "name": "python3"
  },
  "language_info": {
   "codemirror_mode": {
    "name": "ipython",
    "version": 3
   },
   "file_extension": ".py",
   "mimetype": "text/x-python",
   "name": "python",
   "nbconvert_exporter": "python",
   "pygments_lexer": "ipython3",
   "version": "3.7.12"
  },
  "papermill": {
   "default_parameters": {},
   "duration": 21.959872,
   "end_time": "2022-12-01T06:30:03.478812",
   "environment_variables": {},
   "exception": null,
   "input_path": "__notebook__.ipynb",
   "output_path": "__notebook__.ipynb",
   "parameters": {},
   "start_time": "2022-12-01T06:29:41.518940",
   "version": "2.3.4"
  }
 },
 "nbformat": 4,
 "nbformat_minor": 5
}
