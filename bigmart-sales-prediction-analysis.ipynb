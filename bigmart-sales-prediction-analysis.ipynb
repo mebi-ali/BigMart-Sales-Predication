{
 "cells": [
  {
   "cell_type": "markdown",
   "id": "0705ddce",
   "metadata": {
    "papermill": {
     "duration": 0.015813,
     "end_time": "2022-11-30T19:44:26.234027",
     "exception": false,
     "start_time": "2022-11-30T19:44:26.218214",
     "status": "completed"
    },
    "tags": []
   },
   "source": [
    "# BigMart Sales Prediction\n",
    "\n",
    "### Problem Statement\n",
    "#### The data scientists at BigMart have collected 2013 sales data for 1559 products across 10 stores in different cities. Also, certain attributes of each product and store have been defined. The aim of this data science project is to build a predictive model and find out the sales of each product at a particular store.\n",
    "\n",
    "### Statement Analysis\n",
    "####  Supervised Machine Learning Problem\n",
    "####  The Target Value is **Sales**\n",
    "\n",
    "### Goal\n",
    "#### Using this model, BigMart will try to understand the properties of products and stores which play a key role in increasing sales.\n"
   ]
  },
  {
   "cell_type": "markdown",
   "id": "1741616c",
   "metadata": {
    "papermill": {
     "duration": 0.018485,
     "end_time": "2022-11-30T19:44:26.268765",
     "exception": false,
     "start_time": "2022-11-30T19:44:26.250280",
     "status": "completed"
    },
    "tags": []
   },
   "source": [
    "# Hypothesis Generation Using Product, Store and City\n",
    "1. **City Type:** Stores located in urban should have higher Sales.\n",
    "2. **Store Location:** Store located in popular market place shoud have higher Sales\n",
    "3. **Populted City:** City with high population should have higher Sales.\n",
    "4. **Store Size**: Stores with large size should have higher Sales.\n",
    "5. **Staff**: Stores with more staff should have higher Sales.\n",
    "6. **Branded Products**: Branded Products will have higher Sales. \n",
    "7. **Product Visbility**: Products with large space should have higher Sales.\n",
    "8. **Product Frequency**: More frequnct products will have high Sales.\n",
    "9. **Utilities**: Daily Basic Products should have higher Sales.\n",
    "10. **Promotional Offers**: Promo Products should have higher Sales."
   ]
  },
  {
   "cell_type": "markdown",
   "id": "3cc14e56",
   "metadata": {
    "papermill": {
     "duration": 0.014549,
     "end_time": "2022-11-30T19:44:26.297474",
     "exception": false,
     "start_time": "2022-11-30T19:44:26.282925",
     "status": "completed"
    },
    "tags": []
   },
   "source": [
    "This dataset is named BigMart Sales. The dataset contains a set of 8,523 records under 12 attributes:\n",
    "\n",
    "Column Name and their                          Description\n",
    "* **Item_Identifier:**                Unique product ID\n",
    "* **Item_Weight\t:**                    Weight of product\n",
    "* **Item_Fat_Content\t:**   Checks the Concentration of fat in the product\n",
    "* **Item_Visibility\t:**   The % of total display area of all similar products in a store\n",
    "* **Item_Type:**    Category\n",
    "* **Item_MRP\t :**          Maximum Retail Price for a Product\n",
    "* **Outlet_Identifier\t:**   Store ID\n",
    "* **Outlet_Establishment_Year\t:**The year in which store was established\n",
    "* **Outlet_Size\t:**The size of the store (Area Size Category)\n",
    "* **Outlet_Location_Type\t:**In Terms of city Tiers (Size)\n",
    "* **Outlet_Type\t:**Grocery store or a type of supermarket\n",
    "* **Item_Outlet_Sales\t:** Sales of the product In the Specific outlet"
   ]
  },
  {
   "cell_type": "code",
   "execution_count": 1,
   "id": "a76d0d51",
   "metadata": {
    "execution": {
     "iopub.execute_input": "2022-11-30T19:44:26.329965Z",
     "iopub.status.busy": "2022-11-30T19:44:26.329454Z",
     "iopub.status.idle": "2022-11-30T19:44:27.695639Z",
     "shell.execute_reply": "2022-11-30T19:44:27.694067Z"
    },
    "papermill": {
     "duration": 1.387312,
     "end_time": "2022-11-30T19:44:27.698890",
     "exception": false,
     "start_time": "2022-11-30T19:44:26.311578",
     "status": "completed"
    },
    "tags": []
   },
   "outputs": [
    {
     "name": "stdout",
     "output_type": "stream",
     "text": [
      "/kaggle/input/bigmart-sales-data/Train.csv\n",
      "/kaggle/input/bigmart-sales-data/Test.csv\n"
     ]
    }
   ],
   "source": [
    "# This Python 3 environment comes with many helpful analytics libraries installed\n",
    "# It is defined by the kaggle/python Docker image: https://github.com/kaggle/docker-python\n",
    "# For example, here's several helpful packages to load\n",
    "\n",
    "import numpy as np # linear algebra\n",
    "import pandas as pd # data processing, CSV file I/O (e.g. pd.read_csv)\n",
    "import matplotlib.pyplot as plt\n",
    "import seaborn as sns\n",
    "pd.options.display.max_columns\n",
    "%matplotlib inline\n",
    "\n",
    "# Input data files are available in the read-only \"../input/\" directory\n",
    "# For example, running this (by clicking run or pressing Shift+Enter) will list all files under the input directory\n",
    "\n",
    "import os\n",
    "for dirname, _, filenames in os.walk('/kaggle/input'):\n",
    "    for filename in filenames:\n",
    "        print(os.path.join(dirname, filename))\n",
    "\n",
    "# You can write up to 20GB to the current directory (/kaggle/working/) that gets preserved as output when you create a version using \"Save & Run All\" \n",
    "# You can also write temporary files to /kaggle/temp/, but they won't be saved outside of the current session"
   ]
  },
  {
   "cell_type": "code",
   "execution_count": 2,
   "id": "1fda21ae",
   "metadata": {
    "execution": {
     "iopub.execute_input": "2022-11-30T19:44:27.729540Z",
     "iopub.status.busy": "2022-11-30T19:44:27.729038Z",
     "iopub.status.idle": "2022-11-30T19:44:27.736546Z",
     "shell.execute_reply": "2022-11-30T19:44:27.734968Z"
    },
    "papermill": {
     "duration": 0.026323,
     "end_time": "2022-11-30T19:44:27.739731",
     "exception": false,
     "start_time": "2022-11-30T19:44:27.713408",
     "status": "completed"
    },
    "tags": []
   },
   "outputs": [],
   "source": [
    "#path for the training set\n",
    "train_path = \"/kaggle/input/bigmart-sales-data/Train.csv\"\n",
    "#path for the testing set\n",
    "test_path = \"/kaggle/input/bigmart-sales-data/Test.csv\""
   ]
  },
  {
   "cell_type": "code",
   "execution_count": 3,
   "id": "16fd8b3d",
   "metadata": {
    "execution": {
     "iopub.execute_input": "2022-11-30T19:44:27.769592Z",
     "iopub.status.busy": "2022-11-30T19:44:27.769040Z",
     "iopub.status.idle": "2022-11-30T19:44:27.856023Z",
     "shell.execute_reply": "2022-11-30T19:44:27.854370Z"
    },
    "papermill": {
     "duration": 0.1058,
     "end_time": "2022-11-30T19:44:27.859518",
     "exception": false,
     "start_time": "2022-11-30T19:44:27.753718",
     "status": "completed"
    },
    "tags": []
   },
   "outputs": [
    {
     "data": {
      "text/html": [
       "<div>\n",
       "<style scoped>\n",
       "    .dataframe tbody tr th:only-of-type {\n",
       "        vertical-align: middle;\n",
       "    }\n",
       "\n",
       "    .dataframe tbody tr th {\n",
       "        vertical-align: top;\n",
       "    }\n",
       "\n",
       "    .dataframe thead th {\n",
       "        text-align: right;\n",
       "    }\n",
       "</style>\n",
       "<table border=\"1\" class=\"dataframe\">\n",
       "  <thead>\n",
       "    <tr style=\"text-align: right;\">\n",
       "      <th></th>\n",
       "      <th>Item_Identifier</th>\n",
       "      <th>Item_Weight</th>\n",
       "      <th>Item_Fat_Content</th>\n",
       "      <th>Item_Visibility</th>\n",
       "      <th>Item_Type</th>\n",
       "      <th>Item_MRP</th>\n",
       "      <th>Outlet_Identifier</th>\n",
       "      <th>Outlet_Establishment_Year</th>\n",
       "      <th>Outlet_Size</th>\n",
       "      <th>Outlet_Location_Type</th>\n",
       "      <th>Outlet_Type</th>\n",
       "      <th>Item_Outlet_Sales</th>\n",
       "    </tr>\n",
       "  </thead>\n",
       "  <tbody>\n",
       "    <tr>\n",
       "      <th>0</th>\n",
       "      <td>FDA15</td>\n",
       "      <td>9.30</td>\n",
       "      <td>Low Fat</td>\n",
       "      <td>0.016047</td>\n",
       "      <td>Dairy</td>\n",
       "      <td>249.8092</td>\n",
       "      <td>OUT049</td>\n",
       "      <td>1999</td>\n",
       "      <td>Medium</td>\n",
       "      <td>Tier 1</td>\n",
       "      <td>Supermarket Type1</td>\n",
       "      <td>3735.1380</td>\n",
       "    </tr>\n",
       "    <tr>\n",
       "      <th>1</th>\n",
       "      <td>DRC01</td>\n",
       "      <td>5.92</td>\n",
       "      <td>Regular</td>\n",
       "      <td>0.019278</td>\n",
       "      <td>Soft Drinks</td>\n",
       "      <td>48.2692</td>\n",
       "      <td>OUT018</td>\n",
       "      <td>2009</td>\n",
       "      <td>Medium</td>\n",
       "      <td>Tier 3</td>\n",
       "      <td>Supermarket Type2</td>\n",
       "      <td>443.4228</td>\n",
       "    </tr>\n",
       "    <tr>\n",
       "      <th>2</th>\n",
       "      <td>FDN15</td>\n",
       "      <td>17.50</td>\n",
       "      <td>Low Fat</td>\n",
       "      <td>0.016760</td>\n",
       "      <td>Meat</td>\n",
       "      <td>141.6180</td>\n",
       "      <td>OUT049</td>\n",
       "      <td>1999</td>\n",
       "      <td>Medium</td>\n",
       "      <td>Tier 1</td>\n",
       "      <td>Supermarket Type1</td>\n",
       "      <td>2097.2700</td>\n",
       "    </tr>\n",
       "    <tr>\n",
       "      <th>3</th>\n",
       "      <td>FDX07</td>\n",
       "      <td>19.20</td>\n",
       "      <td>Regular</td>\n",
       "      <td>0.000000</td>\n",
       "      <td>Fruits and Vegetables</td>\n",
       "      <td>182.0950</td>\n",
       "      <td>OUT010</td>\n",
       "      <td>1998</td>\n",
       "      <td>NaN</td>\n",
       "      <td>Tier 3</td>\n",
       "      <td>Grocery Store</td>\n",
       "      <td>732.3800</td>\n",
       "    </tr>\n",
       "    <tr>\n",
       "      <th>4</th>\n",
       "      <td>NCD19</td>\n",
       "      <td>8.93</td>\n",
       "      <td>Low Fat</td>\n",
       "      <td>0.000000</td>\n",
       "      <td>Household</td>\n",
       "      <td>53.8614</td>\n",
       "      <td>OUT013</td>\n",
       "      <td>1987</td>\n",
       "      <td>High</td>\n",
       "      <td>Tier 3</td>\n",
       "      <td>Supermarket Type1</td>\n",
       "      <td>994.7052</td>\n",
       "    </tr>\n",
       "  </tbody>\n",
       "</table>\n",
       "</div>"
      ],
      "text/plain": [
       "  Item_Identifier  Item_Weight Item_Fat_Content  Item_Visibility  \\\n",
       "0           FDA15         9.30          Low Fat         0.016047   \n",
       "1           DRC01         5.92          Regular         0.019278   \n",
       "2           FDN15        17.50          Low Fat         0.016760   \n",
       "3           FDX07        19.20          Regular         0.000000   \n",
       "4           NCD19         8.93          Low Fat         0.000000   \n",
       "\n",
       "               Item_Type  Item_MRP Outlet_Identifier  \\\n",
       "0                  Dairy  249.8092            OUT049   \n",
       "1            Soft Drinks   48.2692            OUT018   \n",
       "2                   Meat  141.6180            OUT049   \n",
       "3  Fruits and Vegetables  182.0950            OUT010   \n",
       "4              Household   53.8614            OUT013   \n",
       "\n",
       "   Outlet_Establishment_Year Outlet_Size Outlet_Location_Type  \\\n",
       "0                       1999      Medium               Tier 1   \n",
       "1                       2009      Medium               Tier 3   \n",
       "2                       1999      Medium               Tier 1   \n",
       "3                       1998         NaN               Tier 3   \n",
       "4                       1987        High               Tier 3   \n",
       "\n",
       "         Outlet_Type  Item_Outlet_Sales  \n",
       "0  Supermarket Type1          3735.1380  \n",
       "1  Supermarket Type2           443.4228  \n",
       "2  Supermarket Type1          2097.2700  \n",
       "3      Grocery Store           732.3800  \n",
       "4  Supermarket Type1           994.7052  "
      ]
     },
     "execution_count": 3,
     "metadata": {},
     "output_type": "execute_result"
    }
   ],
   "source": [
    "# Reading Dataset Train.csv\n",
    "train = pd.read_csv(train_path)\n",
    "train.head()"
   ]
  },
  {
   "cell_type": "code",
   "execution_count": 4,
   "id": "bfb426b1",
   "metadata": {
    "execution": {
     "iopub.execute_input": "2022-11-30T19:44:27.890439Z",
     "iopub.status.busy": "2022-11-30T19:44:27.889923Z",
     "iopub.status.idle": "2022-11-30T19:44:27.946968Z",
     "shell.execute_reply": "2022-11-30T19:44:27.945912Z"
    },
    "papermill": {
     "duration": 0.076404,
     "end_time": "2022-11-30T19:44:27.950217",
     "exception": false,
     "start_time": "2022-11-30T19:44:27.873813",
     "status": "completed"
    },
    "tags": []
   },
   "outputs": [
    {
     "data": {
      "text/html": [
       "<div>\n",
       "<style scoped>\n",
       "    .dataframe tbody tr th:only-of-type {\n",
       "        vertical-align: middle;\n",
       "    }\n",
       "\n",
       "    .dataframe tbody tr th {\n",
       "        vertical-align: top;\n",
       "    }\n",
       "\n",
       "    .dataframe thead th {\n",
       "        text-align: right;\n",
       "    }\n",
       "</style>\n",
       "<table border=\"1\" class=\"dataframe\">\n",
       "  <thead>\n",
       "    <tr style=\"text-align: right;\">\n",
       "      <th></th>\n",
       "      <th>Item_Identifier</th>\n",
       "      <th>Item_Weight</th>\n",
       "      <th>Item_Fat_Content</th>\n",
       "      <th>Item_Visibility</th>\n",
       "      <th>Item_Type</th>\n",
       "      <th>Item_MRP</th>\n",
       "      <th>Outlet_Identifier</th>\n",
       "      <th>Outlet_Establishment_Year</th>\n",
       "      <th>Outlet_Size</th>\n",
       "      <th>Outlet_Location_Type</th>\n",
       "      <th>Outlet_Type</th>\n",
       "    </tr>\n",
       "  </thead>\n",
       "  <tbody>\n",
       "    <tr>\n",
       "      <th>0</th>\n",
       "      <td>FDW58</td>\n",
       "      <td>20.750</td>\n",
       "      <td>Low Fat</td>\n",
       "      <td>0.007565</td>\n",
       "      <td>Snack Foods</td>\n",
       "      <td>107.8622</td>\n",
       "      <td>OUT049</td>\n",
       "      <td>1999</td>\n",
       "      <td>Medium</td>\n",
       "      <td>Tier 1</td>\n",
       "      <td>Supermarket Type1</td>\n",
       "    </tr>\n",
       "    <tr>\n",
       "      <th>1</th>\n",
       "      <td>FDW14</td>\n",
       "      <td>8.300</td>\n",
       "      <td>reg</td>\n",
       "      <td>0.038428</td>\n",
       "      <td>Dairy</td>\n",
       "      <td>87.3198</td>\n",
       "      <td>OUT017</td>\n",
       "      <td>2007</td>\n",
       "      <td>NaN</td>\n",
       "      <td>Tier 2</td>\n",
       "      <td>Supermarket Type1</td>\n",
       "    </tr>\n",
       "    <tr>\n",
       "      <th>2</th>\n",
       "      <td>NCN55</td>\n",
       "      <td>14.600</td>\n",
       "      <td>Low Fat</td>\n",
       "      <td>0.099575</td>\n",
       "      <td>Others</td>\n",
       "      <td>241.7538</td>\n",
       "      <td>OUT010</td>\n",
       "      <td>1998</td>\n",
       "      <td>NaN</td>\n",
       "      <td>Tier 3</td>\n",
       "      <td>Grocery Store</td>\n",
       "    </tr>\n",
       "    <tr>\n",
       "      <th>3</th>\n",
       "      <td>FDQ58</td>\n",
       "      <td>7.315</td>\n",
       "      <td>Low Fat</td>\n",
       "      <td>0.015388</td>\n",
       "      <td>Snack Foods</td>\n",
       "      <td>155.0340</td>\n",
       "      <td>OUT017</td>\n",
       "      <td>2007</td>\n",
       "      <td>NaN</td>\n",
       "      <td>Tier 2</td>\n",
       "      <td>Supermarket Type1</td>\n",
       "    </tr>\n",
       "    <tr>\n",
       "      <th>4</th>\n",
       "      <td>FDY38</td>\n",
       "      <td>NaN</td>\n",
       "      <td>Regular</td>\n",
       "      <td>0.118599</td>\n",
       "      <td>Dairy</td>\n",
       "      <td>234.2300</td>\n",
       "      <td>OUT027</td>\n",
       "      <td>1985</td>\n",
       "      <td>Medium</td>\n",
       "      <td>Tier 3</td>\n",
       "      <td>Supermarket Type3</td>\n",
       "    </tr>\n",
       "  </tbody>\n",
       "</table>\n",
       "</div>"
      ],
      "text/plain": [
       "  Item_Identifier  Item_Weight Item_Fat_Content  Item_Visibility    Item_Type  \\\n",
       "0           FDW58       20.750          Low Fat         0.007565  Snack Foods   \n",
       "1           FDW14        8.300              reg         0.038428        Dairy   \n",
       "2           NCN55       14.600          Low Fat         0.099575       Others   \n",
       "3           FDQ58        7.315          Low Fat         0.015388  Snack Foods   \n",
       "4           FDY38          NaN          Regular         0.118599        Dairy   \n",
       "\n",
       "   Item_MRP Outlet_Identifier  Outlet_Establishment_Year Outlet_Size  \\\n",
       "0  107.8622            OUT049                       1999      Medium   \n",
       "1   87.3198            OUT017                       2007         NaN   \n",
       "2  241.7538            OUT010                       1998         NaN   \n",
       "3  155.0340            OUT017                       2007         NaN   \n",
       "4  234.2300            OUT027                       1985      Medium   \n",
       "\n",
       "  Outlet_Location_Type        Outlet_Type  \n",
       "0               Tier 1  Supermarket Type1  \n",
       "1               Tier 2  Supermarket Type1  \n",
       "2               Tier 3      Grocery Store  \n",
       "3               Tier 2  Supermarket Type1  \n",
       "4               Tier 3  Supermarket Type3  "
      ]
     },
     "execution_count": 4,
     "metadata": {},
     "output_type": "execute_result"
    }
   ],
   "source": [
    "# Reading Dataset Test.csv\n",
    "test = pd.read_csv(test_path)\n",
    "test.head()"
   ]
  },
  {
   "cell_type": "code",
   "execution_count": 5,
   "id": "a00ebe9a",
   "metadata": {
    "execution": {
     "iopub.execute_input": "2022-11-30T19:44:27.982528Z",
     "iopub.status.busy": "2022-11-30T19:44:27.981282Z",
     "iopub.status.idle": "2022-11-30T19:44:27.988521Z",
     "shell.execute_reply": "2022-11-30T19:44:27.986927Z"
    },
    "papermill": {
     "duration": 0.027304,
     "end_time": "2022-11-30T19:44:27.992586",
     "exception": false,
     "start_time": "2022-11-30T19:44:27.965282",
     "status": "completed"
    },
    "tags": []
   },
   "outputs": [
    {
     "name": "stdout",
     "output_type": "stream",
     "text": [
      "Training Dataset (row, col): (8523, 12) \n",
      "\n",
      "Testing Dataset (row, col): (5681, 11)\n"
     ]
    }
   ],
   "source": [
    "# Rows and columns\n",
    "print(f'Training Dataset (row, col): {train.shape} \\n\\nTesting Dataset (row, col): {test.shape}')"
   ]
  },
  {
   "cell_type": "markdown",
   "id": "f4f40b6b",
   "metadata": {
    "papermill": {
     "duration": 0.015273,
     "end_time": "2022-11-30T19:44:28.022973",
     "exception": false,
     "start_time": "2022-11-30T19:44:28.007700",
     "status": "completed"
    },
    "tags": []
   },
   "source": [
    "# Preprocessing\n",
    "\n",
    "## Lets Combine Both DataSets since both are Similiar    "
   ]
  },
  {
   "cell_type": "code",
   "execution_count": 6,
   "id": "172fcefe",
   "metadata": {
    "execution": {
     "iopub.execute_input": "2022-11-30T19:44:28.055987Z",
     "iopub.status.busy": "2022-11-30T19:44:28.055137Z",
     "iopub.status.idle": "2022-11-30T19:44:28.081463Z",
     "shell.execute_reply": "2022-11-30T19:44:28.079929Z"
    },
    "papermill": {
     "duration": 0.045814,
     "end_time": "2022-11-30T19:44:28.084583",
     "exception": false,
     "start_time": "2022-11-30T19:44:28.038769",
     "status": "completed"
    },
    "tags": []
   },
   "outputs": [
    {
     "name": "stdout",
     "output_type": "stream",
     "text": [
      "After Combining Datasets:  (14204, 13)\n"
     ]
    }
   ],
   "source": [
    "# Lets combine both datasets\n",
    "# test_df['Item_Outlet_Sales'] = np.nan\n",
    "train['source'] = 'train'\n",
    "test['source'] = 'test'\n",
    "data = pd.concat([train, test], ignore_index=True)\n",
    "print('After Combining Datasets: ', data.shape)"
   ]
  },
  {
   "cell_type": "code",
   "execution_count": 7,
   "id": "b80612d5",
   "metadata": {
    "execution": {
     "iopub.execute_input": "2022-11-30T19:44:28.116136Z",
     "iopub.status.busy": "2022-11-30T19:44:28.115686Z",
     "iopub.status.idle": "2022-11-30T19:44:28.149027Z",
     "shell.execute_reply": "2022-11-30T19:44:28.146350Z"
    },
    "papermill": {
     "duration": 0.053276,
     "end_time": "2022-11-30T19:44:28.152338",
     "exception": false,
     "start_time": "2022-11-30T19:44:28.099062",
     "status": "completed"
    },
    "tags": []
   },
   "outputs": [
    {
     "name": "stdout",
     "output_type": "stream",
     "text": [
      "<class 'pandas.core.frame.DataFrame'>\n",
      "RangeIndex: 14204 entries, 0 to 14203\n",
      "Data columns (total 13 columns):\n",
      " #   Column                     Non-Null Count  Dtype  \n",
      "---  ------                     --------------  -----  \n",
      " 0   Item_Identifier            14204 non-null  object \n",
      " 1   Item_Weight                11765 non-null  float64\n",
      " 2   Item_Fat_Content           14204 non-null  object \n",
      " 3   Item_Visibility            14204 non-null  float64\n",
      " 4   Item_Type                  14204 non-null  object \n",
      " 5   Item_MRP                   14204 non-null  float64\n",
      " 6   Outlet_Identifier          14204 non-null  object \n",
      " 7   Outlet_Establishment_Year  14204 non-null  int64  \n",
      " 8   Outlet_Size                10188 non-null  object \n",
      " 9   Outlet_Location_Type       14204 non-null  object \n",
      " 10  Outlet_Type                14204 non-null  object \n",
      " 11  Item_Outlet_Sales          8523 non-null   float64\n",
      " 12  source                     14204 non-null  object \n",
      "dtypes: float64(4), int64(1), object(8)\n",
      "memory usage: 1.4+ MB\n"
     ]
    }
   ],
   "source": [
    "data.info(verbose=True, show_counts=True)"
   ]
  },
  {
   "cell_type": "code",
   "execution_count": 8,
   "id": "064fce1e",
   "metadata": {
    "execution": {
     "iopub.execute_input": "2022-11-30T19:44:28.184193Z",
     "iopub.status.busy": "2022-11-30T19:44:28.183770Z",
     "iopub.status.idle": "2022-11-30T19:44:28.262982Z",
     "shell.execute_reply": "2022-11-30T19:44:28.261338Z"
    },
    "papermill": {
     "duration": 0.098481,
     "end_time": "2022-11-30T19:44:28.266002",
     "exception": false,
     "start_time": "2022-11-30T19:44:28.167521",
     "status": "completed"
    },
    "tags": []
   },
   "outputs": [
    {
     "data": {
      "text/html": [
       "<div>\n",
       "<style scoped>\n",
       "    .dataframe tbody tr th:only-of-type {\n",
       "        vertical-align: middle;\n",
       "    }\n",
       "\n",
       "    .dataframe tbody tr th {\n",
       "        vertical-align: top;\n",
       "    }\n",
       "\n",
       "    .dataframe thead th {\n",
       "        text-align: right;\n",
       "    }\n",
       "</style>\n",
       "<table border=\"1\" class=\"dataframe\">\n",
       "  <thead>\n",
       "    <tr style=\"text-align: right;\">\n",
       "      <th></th>\n",
       "      <th>Item_Identifier</th>\n",
       "      <th>Item_Weight</th>\n",
       "      <th>Item_Fat_Content</th>\n",
       "      <th>Item_Visibility</th>\n",
       "      <th>Item_Type</th>\n",
       "      <th>Item_MRP</th>\n",
       "      <th>Outlet_Identifier</th>\n",
       "      <th>Outlet_Establishment_Year</th>\n",
       "      <th>Outlet_Size</th>\n",
       "      <th>Outlet_Location_Type</th>\n",
       "      <th>Outlet_Type</th>\n",
       "      <th>Item_Outlet_Sales</th>\n",
       "      <th>source</th>\n",
       "    </tr>\n",
       "  </thead>\n",
       "  <tbody>\n",
       "    <tr>\n",
       "      <th>count</th>\n",
       "      <td>14204</td>\n",
       "      <td>11765.000000</td>\n",
       "      <td>14204</td>\n",
       "      <td>14204.000000</td>\n",
       "      <td>14204</td>\n",
       "      <td>14204.000000</td>\n",
       "      <td>14204</td>\n",
       "      <td>14204.000000</td>\n",
       "      <td>10188</td>\n",
       "      <td>14204</td>\n",
       "      <td>14204</td>\n",
       "      <td>8523.000000</td>\n",
       "      <td>14204</td>\n",
       "    </tr>\n",
       "    <tr>\n",
       "      <th>unique</th>\n",
       "      <td>1559</td>\n",
       "      <td>NaN</td>\n",
       "      <td>5</td>\n",
       "      <td>NaN</td>\n",
       "      <td>16</td>\n",
       "      <td>NaN</td>\n",
       "      <td>10</td>\n",
       "      <td>NaN</td>\n",
       "      <td>3</td>\n",
       "      <td>3</td>\n",
       "      <td>4</td>\n",
       "      <td>NaN</td>\n",
       "      <td>2</td>\n",
       "    </tr>\n",
       "    <tr>\n",
       "      <th>top</th>\n",
       "      <td>FDU15</td>\n",
       "      <td>NaN</td>\n",
       "      <td>Low Fat</td>\n",
       "      <td>NaN</td>\n",
       "      <td>Fruits and Vegetables</td>\n",
       "      <td>NaN</td>\n",
       "      <td>OUT027</td>\n",
       "      <td>NaN</td>\n",
       "      <td>Medium</td>\n",
       "      <td>Tier 3</td>\n",
       "      <td>Supermarket Type1</td>\n",
       "      <td>NaN</td>\n",
       "      <td>train</td>\n",
       "    </tr>\n",
       "    <tr>\n",
       "      <th>freq</th>\n",
       "      <td>10</td>\n",
       "      <td>NaN</td>\n",
       "      <td>8485</td>\n",
       "      <td>NaN</td>\n",
       "      <td>2013</td>\n",
       "      <td>NaN</td>\n",
       "      <td>1559</td>\n",
       "      <td>NaN</td>\n",
       "      <td>4655</td>\n",
       "      <td>5583</td>\n",
       "      <td>9294</td>\n",
       "      <td>NaN</td>\n",
       "      <td>8523</td>\n",
       "    </tr>\n",
       "    <tr>\n",
       "      <th>mean</th>\n",
       "      <td>NaN</td>\n",
       "      <td>12.792854</td>\n",
       "      <td>NaN</td>\n",
       "      <td>0.065953</td>\n",
       "      <td>NaN</td>\n",
       "      <td>141.004977</td>\n",
       "      <td>NaN</td>\n",
       "      <td>1997.830681</td>\n",
       "      <td>NaN</td>\n",
       "      <td>NaN</td>\n",
       "      <td>NaN</td>\n",
       "      <td>2181.288914</td>\n",
       "      <td>NaN</td>\n",
       "    </tr>\n",
       "    <tr>\n",
       "      <th>std</th>\n",
       "      <td>NaN</td>\n",
       "      <td>4.652502</td>\n",
       "      <td>NaN</td>\n",
       "      <td>0.051459</td>\n",
       "      <td>NaN</td>\n",
       "      <td>62.086938</td>\n",
       "      <td>NaN</td>\n",
       "      <td>8.371664</td>\n",
       "      <td>NaN</td>\n",
       "      <td>NaN</td>\n",
       "      <td>NaN</td>\n",
       "      <td>1706.499616</td>\n",
       "      <td>NaN</td>\n",
       "    </tr>\n",
       "    <tr>\n",
       "      <th>min</th>\n",
       "      <td>NaN</td>\n",
       "      <td>4.555000</td>\n",
       "      <td>NaN</td>\n",
       "      <td>0.000000</td>\n",
       "      <td>NaN</td>\n",
       "      <td>31.290000</td>\n",
       "      <td>NaN</td>\n",
       "      <td>1985.000000</td>\n",
       "      <td>NaN</td>\n",
       "      <td>NaN</td>\n",
       "      <td>NaN</td>\n",
       "      <td>33.290000</td>\n",
       "      <td>NaN</td>\n",
       "    </tr>\n",
       "    <tr>\n",
       "      <th>25%</th>\n",
       "      <td>NaN</td>\n",
       "      <td>8.710000</td>\n",
       "      <td>NaN</td>\n",
       "      <td>0.027036</td>\n",
       "      <td>NaN</td>\n",
       "      <td>94.012000</td>\n",
       "      <td>NaN</td>\n",
       "      <td>1987.000000</td>\n",
       "      <td>NaN</td>\n",
       "      <td>NaN</td>\n",
       "      <td>NaN</td>\n",
       "      <td>834.247400</td>\n",
       "      <td>NaN</td>\n",
       "    </tr>\n",
       "    <tr>\n",
       "      <th>50%</th>\n",
       "      <td>NaN</td>\n",
       "      <td>12.600000</td>\n",
       "      <td>NaN</td>\n",
       "      <td>0.054021</td>\n",
       "      <td>NaN</td>\n",
       "      <td>142.247000</td>\n",
       "      <td>NaN</td>\n",
       "      <td>1999.000000</td>\n",
       "      <td>NaN</td>\n",
       "      <td>NaN</td>\n",
       "      <td>NaN</td>\n",
       "      <td>1794.331000</td>\n",
       "      <td>NaN</td>\n",
       "    </tr>\n",
       "    <tr>\n",
       "      <th>75%</th>\n",
       "      <td>NaN</td>\n",
       "      <td>16.750000</td>\n",
       "      <td>NaN</td>\n",
       "      <td>0.094037</td>\n",
       "      <td>NaN</td>\n",
       "      <td>185.855600</td>\n",
       "      <td>NaN</td>\n",
       "      <td>2004.000000</td>\n",
       "      <td>NaN</td>\n",
       "      <td>NaN</td>\n",
       "      <td>NaN</td>\n",
       "      <td>3101.296400</td>\n",
       "      <td>NaN</td>\n",
       "    </tr>\n",
       "    <tr>\n",
       "      <th>max</th>\n",
       "      <td>NaN</td>\n",
       "      <td>21.350000</td>\n",
       "      <td>NaN</td>\n",
       "      <td>0.328391</td>\n",
       "      <td>NaN</td>\n",
       "      <td>266.888400</td>\n",
       "      <td>NaN</td>\n",
       "      <td>2009.000000</td>\n",
       "      <td>NaN</td>\n",
       "      <td>NaN</td>\n",
       "      <td>NaN</td>\n",
       "      <td>13086.964800</td>\n",
       "      <td>NaN</td>\n",
       "    </tr>\n",
       "  </tbody>\n",
       "</table>\n",
       "</div>"
      ],
      "text/plain": [
       "       Item_Identifier   Item_Weight Item_Fat_Content  Item_Visibility  \\\n",
       "count            14204  11765.000000            14204     14204.000000   \n",
       "unique            1559           NaN                5              NaN   \n",
       "top              FDU15           NaN          Low Fat              NaN   \n",
       "freq                10           NaN             8485              NaN   \n",
       "mean               NaN     12.792854              NaN         0.065953   \n",
       "std                NaN      4.652502              NaN         0.051459   \n",
       "min                NaN      4.555000              NaN         0.000000   \n",
       "25%                NaN      8.710000              NaN         0.027036   \n",
       "50%                NaN     12.600000              NaN         0.054021   \n",
       "75%                NaN     16.750000              NaN         0.094037   \n",
       "max                NaN     21.350000              NaN         0.328391   \n",
       "\n",
       "                    Item_Type      Item_MRP Outlet_Identifier  \\\n",
       "count                   14204  14204.000000             14204   \n",
       "unique                     16           NaN                10   \n",
       "top     Fruits and Vegetables           NaN            OUT027   \n",
       "freq                     2013           NaN              1559   \n",
       "mean                      NaN    141.004977               NaN   \n",
       "std                       NaN     62.086938               NaN   \n",
       "min                       NaN     31.290000               NaN   \n",
       "25%                       NaN     94.012000               NaN   \n",
       "50%                       NaN    142.247000               NaN   \n",
       "75%                       NaN    185.855600               NaN   \n",
       "max                       NaN    266.888400               NaN   \n",
       "\n",
       "        Outlet_Establishment_Year Outlet_Size Outlet_Location_Type  \\\n",
       "count                14204.000000       10188                14204   \n",
       "unique                        NaN           3                    3   \n",
       "top                           NaN      Medium               Tier 3   \n",
       "freq                          NaN        4655                 5583   \n",
       "mean                  1997.830681         NaN                  NaN   \n",
       "std                      8.371664         NaN                  NaN   \n",
       "min                   1985.000000         NaN                  NaN   \n",
       "25%                   1987.000000         NaN                  NaN   \n",
       "50%                   1999.000000         NaN                  NaN   \n",
       "75%                   2004.000000         NaN                  NaN   \n",
       "max                   2009.000000         NaN                  NaN   \n",
       "\n",
       "              Outlet_Type  Item_Outlet_Sales source  \n",
       "count               14204        8523.000000  14204  \n",
       "unique                  4                NaN      2  \n",
       "top     Supermarket Type1                NaN  train  \n",
       "freq                 9294                NaN   8523  \n",
       "mean                  NaN        2181.288914    NaN  \n",
       "std                   NaN        1706.499616    NaN  \n",
       "min                   NaN          33.290000    NaN  \n",
       "25%                   NaN         834.247400    NaN  \n",
       "50%                   NaN        1794.331000    NaN  \n",
       "75%                   NaN        3101.296400    NaN  \n",
       "max                   NaN       13086.964800    NaN  "
      ]
     },
     "execution_count": 8,
     "metadata": {},
     "output_type": "execute_result"
    }
   ],
   "source": [
    "# Summary of Dataset Train\n",
    "data.describe(include=[object, np.number])"
   ]
  },
  {
   "cell_type": "markdown",
   "id": "414fcf35",
   "metadata": {
    "papermill": {
     "duration": 0.015066,
     "end_time": "2022-11-30T19:44:28.296976",
     "exception": false,
     "start_time": "2022-11-30T19:44:28.281910",
     "status": "completed"
    },
    "tags": []
   },
   "source": [
    " # "
   ]
  },
  {
   "cell_type": "code",
   "execution_count": 9,
   "id": "30617dbe",
   "metadata": {
    "execution": {
     "iopub.execute_input": "2022-11-30T19:44:28.333330Z",
     "iopub.status.busy": "2022-11-30T19:44:28.330575Z",
     "iopub.status.idle": "2022-11-30T19:44:28.362200Z",
     "shell.execute_reply": "2022-11-30T19:44:28.359837Z"
    },
    "papermill": {
     "duration": 0.053223,
     "end_time": "2022-11-30T19:44:28.365292",
     "exception": false,
     "start_time": "2022-11-30T19:44:28.312069",
     "status": "completed"
    },
    "tags": []
   },
   "outputs": [
    {
     "name": "stdout",
     "output_type": "stream",
     "text": [
      "Train:\n",
      "\n",
      "Missing Values by Count: \n",
      "\n",
      " Item_Outlet_Sales            5681\n",
      "Outlet_Size                  4016\n",
      "Item_Weight                  2439\n",
      "Item_Identifier                 0\n",
      "Item_Fat_Content                0\n",
      "Item_Visibility                 0\n",
      "Item_Type                       0\n",
      "Item_MRP                        0\n",
      "Outlet_Identifier               0\n",
      "Outlet_Establishment_Year       0\n",
      "Outlet_Location_Type            0\n",
      "Outlet_Type                     0\n",
      "source                          0\n",
      "dtype: int64 \n",
      "\n",
      "Missing Values by %:\n",
      "\n",
      " Item_Outlet_Sales            39.995776\n",
      "Outlet_Size                  28.273726\n",
      "Item_Weight                  17.171219\n",
      "Item_Identifier               0.000000\n",
      "Item_Fat_Content              0.000000\n",
      "Item_Visibility               0.000000\n",
      "Item_Type                     0.000000\n",
      "Item_MRP                      0.000000\n",
      "Outlet_Identifier             0.000000\n",
      "Outlet_Establishment_Year     0.000000\n",
      "Outlet_Location_Type          0.000000\n",
      "Outlet_Type                   0.000000\n",
      "source                        0.000000\n",
      "dtype: float64\n"
     ]
    }
   ],
   "source": [
    "# Lets check missing Values\n",
    "print('Train:\\n')\n",
    "print('Missing Values by Count: \\n\\n',\n",
    "      data.isnull().sum().sort_values(ascending=False),'\\n\\nMissing Values by %:\\n\\n',\n",
    "      data.isnull().sum().sort_values(ascending=False)/data.shape[0] * 100)\n"
   ]
  },
  {
   "cell_type": "code",
   "execution_count": 10,
   "id": "dd85c659",
   "metadata": {
    "execution": {
     "iopub.execute_input": "2022-11-30T19:44:28.398910Z",
     "iopub.status.busy": "2022-11-30T19:44:28.398135Z",
     "iopub.status.idle": "2022-11-30T19:44:28.414301Z",
     "shell.execute_reply": "2022-11-30T19:44:28.411541Z"
    },
    "papermill": {
     "duration": 0.03822,
     "end_time": "2022-11-30T19:44:28.418809",
     "exception": false,
     "start_time": "2022-11-30T19:44:28.380589",
     "status": "completed"
    },
    "tags": []
   },
   "outputs": [
    {
     "name": "stdout",
     "output_type": "stream",
     "text": [
      "Missing Values in Outlet_Size :\n",
      "\n",
      " Medium    4655\n",
      "Small     3980\n",
      "High      1553\n",
      "Name: Outlet_Size, dtype: int64\n",
      "\n",
      "Missing Values in Item_Weight :\n",
      "\n",
      " 17.600    135\n",
      "12.150    127\n",
      "10.500    123\n",
      "13.650    115\n",
      "11.800    113\n",
      "         ... \n",
      "7.640       7\n",
      "5.905       7\n",
      "7.850       6\n",
      "4.615       6\n",
      "9.035       6\n",
      "Name: Item_Weight, Length: 415, dtype: int64\n"
     ]
    }
   ],
   "source": [
    "# Lets check and imputate missing values\n",
    "print('Missing Values in Outlet_Size :\\n\\n',data.Outlet_Size.value_counts())\n",
    "print('\\nMissing Values in Item_Weight :\\n\\n',data.Item_Weight.value_counts())"
   ]
  },
  {
   "cell_type": "markdown",
   "id": "4184db70",
   "metadata": {
    "papermill": {
     "duration": 0.017023,
     "end_time": "2022-11-30T19:44:28.451925",
     "exception": false,
     "start_time": "2022-11-30T19:44:28.434902",
     "status": "completed"
    },
    "tags": []
   },
   "source": [
    "**OutLet_Size** is a catogerial column, we can use **mode** to fill the values."
   ]
  },
  {
   "cell_type": "code",
   "execution_count": 11,
   "id": "c042618e",
   "metadata": {
    "execution": {
     "iopub.execute_input": "2022-11-30T19:44:28.485706Z",
     "iopub.status.busy": "2022-11-30T19:44:28.485250Z",
     "iopub.status.idle": "2022-11-30T19:44:28.498104Z",
     "shell.execute_reply": "2022-11-30T19:44:28.496806Z"
    },
    "papermill": {
     "duration": 0.03412,
     "end_time": "2022-11-30T19:44:28.501856",
     "exception": false,
     "start_time": "2022-11-30T19:44:28.467736",
     "status": "completed"
    },
    "tags": []
   },
   "outputs": [
    {
     "name": "stdout",
     "output_type": "stream",
     "text": [
      "Missing values after filling: 0\n"
     ]
    }
   ],
   "source": [
    "# Filling Outlet Size  missing values.\n",
    "data['Outlet_Size'] = data.Outlet_Size.fillna(data.Outlet_Size.dropna().mode()[0])\n",
    "# Checking if we filled all values\n",
    "print( 'Missing values after filling:' ,data.Outlet_Size.isnull().sum())"
   ]
  },
  {
   "cell_type": "markdown",
   "id": "f8492a58",
   "metadata": {
    "papermill": {
     "duration": 0.015227,
     "end_time": "2022-11-30T19:44:28.533238",
     "exception": false,
     "start_time": "2022-11-30T19:44:28.518011",
     "status": "completed"
    },
    "tags": []
   },
   "source": [
    "**Item_wieght** is a mumeric column, we need to **visulize** the its values/distribution to see clearly."
   ]
  },
  {
   "cell_type": "code",
   "execution_count": 12,
   "id": "56e1c4ad",
   "metadata": {
    "execution": {
     "iopub.execute_input": "2022-11-30T19:44:28.566758Z",
     "iopub.status.busy": "2022-11-30T19:44:28.566004Z",
     "iopub.status.idle": "2022-11-30T19:44:28.824915Z",
     "shell.execute_reply": "2022-11-30T19:44:28.823676Z"
    },
    "papermill": {
     "duration": 0.278857,
     "end_time": "2022-11-30T19:44:28.827473",
     "exception": false,
     "start_time": "2022-11-30T19:44:28.548616",
     "status": "completed"
    },
    "tags": []
   },
   "outputs": [
    {
     "data": {
      "text/plain": [
       "Text(0.5, 1.0, 'Item Wieght Distribution')"
      ]
     },
     "execution_count": 12,
     "metadata": {},
     "output_type": "execute_result"
    },
    {
     "data": {
      "image/png": "[encoded data removed]",
      "text/plain": [
       "<Figure size 432x288 with 1 Axes>"
      ]
     },
     "metadata": {
      "needs_background": "light"
     },
     "output_type": "display_data"
    }
   ],
   "source": [
    "# sns.boxplot(data=combined['Item_Weight'],orient='v', color='c')\n",
    "sns.boxplot(x=data['Item_Weight'], palette='BuPu')\n",
    "plt.title('Item Wieght Distribution')\n",
    "\n"
   ]
  },
  {
   "cell_type": "markdown",
   "id": "e336b2f2",
   "metadata": {
    "papermill": {
     "duration": 0.015642,
     "end_time": "2022-11-30T19:44:28.859627",
     "exception": false,
     "start_time": "2022-11-30T19:44:28.843985",
     "status": "completed"
    },
    "tags": []
   },
   "source": [
    "No **Outliers** in **Item_wieght**, So we can replace **missing values** with its mean"
   ]
  },
  {
   "cell_type": "code",
   "execution_count": 13,
   "id": "3550dd0d",
   "metadata": {
    "execution": {
     "iopub.execute_input": "2022-11-30T19:44:28.893715Z",
     "iopub.status.busy": "2022-11-30T19:44:28.892986Z",
     "iopub.status.idle": "2022-11-30T19:44:28.903003Z",
     "shell.execute_reply": "2022-11-30T19:44:28.900961Z"
    },
    "papermill": {
     "duration": 0.03061,
     "end_time": "2022-11-30T19:44:28.905799",
     "exception": false,
     "start_time": "2022-11-30T19:44:28.875189",
     "status": "completed"
    },
    "tags": []
   },
   "outputs": [
    {
     "name": "stdout",
     "output_type": "stream",
     "text": [
      "Missing values after filling:  0\n"
     ]
    }
   ],
   "source": [
    "# imputate missing values in item \n",
    "data['Item_Weight'] = data.Item_Weight.fillna(data.Item_Weight.dropna().mean())\n",
    "print('Missing values after filling: ', data.Item_Weight.isnull().sum())"
   ]
  },
  {
   "cell_type": "code",
   "execution_count": 14,
   "id": "99c2ac05",
   "metadata": {
    "execution": {
     "iopub.execute_input": "2022-11-30T19:44:28.942560Z",
     "iopub.status.busy": "2022-11-30T19:44:28.941395Z",
     "iopub.status.idle": "2022-11-30T19:44:28.961196Z",
     "shell.execute_reply": "2022-11-30T19:44:28.959383Z"
    },
    "papermill": {
     "duration": 0.042138,
     "end_time": "2022-11-30T19:44:28.964095",
     "exception": false,
     "start_time": "2022-11-30T19:44:28.921957",
     "status": "completed"
    },
    "tags": []
   },
   "outputs": [
    {
     "name": "stdout",
     "output_type": "stream",
     "text": [
      "<class 'pandas.core.frame.DataFrame'>\n",
      "RangeIndex: 14204 entries, 0 to 14203\n",
      "Data columns (total 13 columns):\n",
      " #   Column                     Non-Null Count  Dtype  \n",
      "---  ------                     --------------  -----  \n",
      " 0   Item_Identifier            14204 non-null  object \n",
      " 1   Item_Weight                14204 non-null  float64\n",
      " 2   Item_Fat_Content           14204 non-null  object \n",
      " 3   Item_Visibility            14204 non-null  float64\n",
      " 4   Item_Type                  14204 non-null  object \n",
      " 5   Item_MRP                   14204 non-null  float64\n",
      " 6   Outlet_Identifier          14204 non-null  object \n",
      " 7   Outlet_Establishment_Year  14204 non-null  int64  \n",
      " 8   Outlet_Size                14204 non-null  object \n",
      " 9   Outlet_Location_Type       14204 non-null  object \n",
      " 10  Outlet_Type                14204 non-null  object \n",
      " 11  Item_Outlet_Sales          8523 non-null   float64\n",
      " 12  source                     14204 non-null  object \n",
      "dtypes: float64(4), int64(1), object(8)\n",
      "memory usage: 1.4+ MB\n"
     ]
    }
   ],
   "source": [
    "# check info for missing values\n",
    "data.info()"
   ]
  },
  {
   "cell_type": "markdown",
   "id": "ad154a81",
   "metadata": {
    "papermill": {
     "duration": 0.015494,
     "end_time": "2022-11-30T19:44:28.996761",
     "exception": false,
     "start_time": "2022-11-30T19:44:28.981267",
     "status": "completed"
    },
    "tags": []
   },
   "source": [
    "# Data Exploration\n",
    "Below are the steps involved to understand, clean and prepare your data for building your predictive model:\n",
    "\n",
    "* Variable Identification\n",
    "* Univariate Analysis\n",
    "* Bi-variate Analysis\n",
    "* Missing values treatment\n",
    "* Outlier treatment\n",
    "* Variable transformation\n",
    "* Variable creation"
   ]
  },
  {
   "cell_type": "markdown",
   "id": "f2dfaf61",
   "metadata": {
    "papermill": {
     "duration": 0.015268,
     "end_time": "2022-11-30T19:44:29.027682",
     "exception": false,
     "start_time": "2022-11-30T19:44:29.012414",
     "status": "completed"
    },
    "tags": []
   },
   "source": [
    "### 1. Veriable Identication"
   ]
  },
  {
   "cell_type": "code",
   "execution_count": 15,
   "id": "99cf73b0",
   "metadata": {
    "execution": {
     "iopub.execute_input": "2022-11-30T19:44:29.063319Z",
     "iopub.status.busy": "2022-11-30T19:44:29.062874Z",
     "iopub.status.idle": "2022-11-30T19:44:29.104234Z",
     "shell.execute_reply": "2022-11-30T19:44:29.102148Z"
    },
    "papermill": {
     "duration": 0.063961,
     "end_time": "2022-11-30T19:44:29.107789",
     "exception": false,
     "start_time": "2022-11-30T19:44:29.043828",
     "status": "completed"
    },
    "tags": []
   },
   "outputs": [
    {
     "name": "stdout",
     "output_type": "stream",
     "text": [
      "Numeric Data : \n",
      "\n"
     ]
    },
    {
     "data": {
      "text/html": [
       "<div>\n",
       "<style scoped>\n",
       "    .dataframe tbody tr th:only-of-type {\n",
       "        vertical-align: middle;\n",
       "    }\n",
       "\n",
       "    .dataframe tbody tr th {\n",
       "        vertical-align: top;\n",
       "    }\n",
       "\n",
       "    .dataframe thead th {\n",
       "        text-align: right;\n",
       "    }\n",
       "</style>\n",
       "<table border=\"1\" class=\"dataframe\">\n",
       "  <thead>\n",
       "    <tr style=\"text-align: right;\">\n",
       "      <th></th>\n",
       "      <th>Item_Weight</th>\n",
       "      <th>Item_Visibility</th>\n",
       "      <th>Item_MRP</th>\n",
       "      <th>Outlet_Establishment_Year</th>\n",
       "      <th>Item_Outlet_Sales</th>\n",
       "    </tr>\n",
       "  </thead>\n",
       "  <tbody>\n",
       "    <tr>\n",
       "      <th>count</th>\n",
       "      <td>14204.000000</td>\n",
       "      <td>14204.000000</td>\n",
       "      <td>14204.000000</td>\n",
       "      <td>14204.000000</td>\n",
       "      <td>8523.000000</td>\n",
       "    </tr>\n",
       "    <tr>\n",
       "      <th>mean</th>\n",
       "      <td>12.792854</td>\n",
       "      <td>0.065953</td>\n",
       "      <td>141.004977</td>\n",
       "      <td>1997.830681</td>\n",
       "      <td>2181.288914</td>\n",
       "    </tr>\n",
       "    <tr>\n",
       "      <th>std</th>\n",
       "      <td>4.234226</td>\n",
       "      <td>0.051459</td>\n",
       "      <td>62.086938</td>\n",
       "      <td>8.371664</td>\n",
       "      <td>1706.499616</td>\n",
       "    </tr>\n",
       "    <tr>\n",
       "      <th>min</th>\n",
       "      <td>4.555000</td>\n",
       "      <td>0.000000</td>\n",
       "      <td>31.290000</td>\n",
       "      <td>1985.000000</td>\n",
       "      <td>33.290000</td>\n",
       "    </tr>\n",
       "    <tr>\n",
       "      <th>25%</th>\n",
       "      <td>9.300000</td>\n",
       "      <td>0.027036</td>\n",
       "      <td>94.012000</td>\n",
       "      <td>1987.000000</td>\n",
       "      <td>834.247400</td>\n",
       "    </tr>\n",
       "    <tr>\n",
       "      <th>50%</th>\n",
       "      <td>12.792854</td>\n",
       "      <td>0.054021</td>\n",
       "      <td>142.247000</td>\n",
       "      <td>1999.000000</td>\n",
       "      <td>1794.331000</td>\n",
       "    </tr>\n",
       "    <tr>\n",
       "      <th>75%</th>\n",
       "      <td>16.000000</td>\n",
       "      <td>0.094037</td>\n",
       "      <td>185.855600</td>\n",
       "      <td>2004.000000</td>\n",
       "      <td>3101.296400</td>\n",
       "    </tr>\n",
       "    <tr>\n",
       "      <th>max</th>\n",
       "      <td>21.350000</td>\n",
       "      <td>0.328391</td>\n",
       "      <td>266.888400</td>\n",
       "      <td>2009.000000</td>\n",
       "      <td>13086.964800</td>\n",
       "    </tr>\n",
       "  </tbody>\n",
       "</table>\n",
       "</div>"
      ],
      "text/plain": [
       "        Item_Weight  Item_Visibility      Item_MRP  Outlet_Establishment_Year  \\\n",
       "count  14204.000000     14204.000000  14204.000000               14204.000000   \n",
       "mean      12.792854         0.065953    141.004977                1997.830681   \n",
       "std        4.234226         0.051459     62.086938                   8.371664   \n",
       "min        4.555000         0.000000     31.290000                1985.000000   \n",
       "25%        9.300000         0.027036     94.012000                1987.000000   \n",
       "50%       12.792854         0.054021    142.247000                1999.000000   \n",
       "75%       16.000000         0.094037    185.855600                2004.000000   \n",
       "max       21.350000         0.328391    266.888400                2009.000000   \n",
       "\n",
       "       Item_Outlet_Sales  \n",
       "count        8523.000000  \n",
       "mean         2181.288914  \n",
       "std          1706.499616  \n",
       "min            33.290000  \n",
       "25%           834.247400  \n",
       "50%          1794.331000  \n",
       "75%          3101.296400  \n",
       "max         13086.964800  "
      ]
     },
     "execution_count": 15,
     "metadata": {},
     "output_type": "execute_result"
    }
   ],
   "source": [
    "# Numericals\n",
    "num_df = data.select_dtypes('number')\n",
    "print('Numeric Data : \\n')\n",
    "num_df.describe()"
   ]
  },
  {
   "cell_type": "code",
   "execution_count": 16,
   "id": "3fc472d7",
   "metadata": {
    "execution": {
     "iopub.execute_input": "2022-11-30T19:44:29.144812Z",
     "iopub.status.busy": "2022-11-30T19:44:29.144384Z",
     "iopub.status.idle": "2022-11-30T19:44:29.191762Z",
     "shell.execute_reply": "2022-11-30T19:44:29.190080Z"
    },
    "papermill": {
     "duration": 0.070063,
     "end_time": "2022-11-30T19:44:29.195001",
     "exception": false,
     "start_time": "2022-11-30T19:44:29.124938",
     "status": "completed"
    },
    "tags": []
   },
   "outputs": [
    {
     "data": {
      "text/html": [
       "<div>\n",
       "<style scoped>\n",
       "    .dataframe tbody tr th:only-of-type {\n",
       "        vertical-align: middle;\n",
       "    }\n",
       "\n",
       "    .dataframe tbody tr th {\n",
       "        vertical-align: top;\n",
       "    }\n",
       "\n",
       "    .dataframe thead th {\n",
       "        text-align: right;\n",
       "    }\n",
       "</style>\n",
       "<table border=\"1\" class=\"dataframe\">\n",
       "  <thead>\n",
       "    <tr style=\"text-align: right;\">\n",
       "      <th></th>\n",
       "      <th>Item_Identifier</th>\n",
       "      <th>Item_Fat_Content</th>\n",
       "      <th>Item_Type</th>\n",
       "      <th>Outlet_Identifier</th>\n",
       "      <th>Outlet_Size</th>\n",
       "      <th>Outlet_Location_Type</th>\n",
       "      <th>Outlet_Type</th>\n",
       "      <th>source</th>\n",
       "    </tr>\n",
       "  </thead>\n",
       "  <tbody>\n",
       "    <tr>\n",
       "      <th>count</th>\n",
       "      <td>14204</td>\n",
       "      <td>14204</td>\n",
       "      <td>14204</td>\n",
       "      <td>14204</td>\n",
       "      <td>14204</td>\n",
       "      <td>14204</td>\n",
       "      <td>14204</td>\n",
       "      <td>14204</td>\n",
       "    </tr>\n",
       "    <tr>\n",
       "      <th>unique</th>\n",
       "      <td>1559</td>\n",
       "      <td>5</td>\n",
       "      <td>16</td>\n",
       "      <td>10</td>\n",
       "      <td>3</td>\n",
       "      <td>3</td>\n",
       "      <td>4</td>\n",
       "      <td>2</td>\n",
       "    </tr>\n",
       "    <tr>\n",
       "      <th>top</th>\n",
       "      <td>FDU15</td>\n",
       "      <td>Low Fat</td>\n",
       "      <td>Fruits and Vegetables</td>\n",
       "      <td>OUT027</td>\n",
       "      <td>Medium</td>\n",
       "      <td>Tier 3</td>\n",
       "      <td>Supermarket Type1</td>\n",
       "      <td>train</td>\n",
       "    </tr>\n",
       "    <tr>\n",
       "      <th>freq</th>\n",
       "      <td>10</td>\n",
       "      <td>8485</td>\n",
       "      <td>2013</td>\n",
       "      <td>1559</td>\n",
       "      <td>8671</td>\n",
       "      <td>5583</td>\n",
       "      <td>9294</td>\n",
       "      <td>8523</td>\n",
       "    </tr>\n",
       "  </tbody>\n",
       "</table>\n",
       "</div>"
      ],
      "text/plain": [
       "       Item_Identifier Item_Fat_Content              Item_Type  \\\n",
       "count            14204            14204                  14204   \n",
       "unique            1559                5                     16   \n",
       "top              FDU15          Low Fat  Fruits and Vegetables   \n",
       "freq                10             8485                   2013   \n",
       "\n",
       "       Outlet_Identifier Outlet_Size Outlet_Location_Type        Outlet_Type  \\\n",
       "count              14204       14204                14204              14204   \n",
       "unique                10           3                    3                  4   \n",
       "top               OUT027      Medium               Tier 3  Supermarket Type1   \n",
       "freq                1559        8671                 5583               9294   \n",
       "\n",
       "       source  \n",
       "count   14204  \n",
       "unique      2  \n",
       "top     train  \n",
       "freq     8523  "
      ]
     },
     "execution_count": 16,
     "metadata": {},
     "output_type": "execute_result"
    }
   ],
   "source": [
    "# Categorial \n",
    "cat_df = data.select_dtypes('object')\n",
    "cat_df.describe()"
   ]
  },
  {
   "cell_type": "code",
   "execution_count": 17,
   "id": "3cfc5bdd",
   "metadata": {
    "execution": {
     "iopub.execute_input": "2022-11-30T19:44:29.231873Z",
     "iopub.status.busy": "2022-11-30T19:44:29.231429Z",
     "iopub.status.idle": "2022-11-30T19:44:29.260858Z",
     "shell.execute_reply": "2022-11-30T19:44:29.259416Z"
    },
    "papermill": {
     "duration": 0.052512,
     "end_time": "2022-11-30T19:44:29.265122",
     "exception": false,
     "start_time": "2022-11-30T19:44:29.212610",
     "status": "completed"
    },
    "tags": []
   },
   "outputs": [
    {
     "name": "stdout",
     "output_type": "stream",
     "text": [
      "\n",
      "Frequency of Categories for varible Item_Fat_Content\n",
      "\n",
      "Total Categories:  5 \n",
      " Low Fat    8485\n",
      "Regular    4824\n",
      "LF          522\n",
      "reg         195\n",
      "low fat     178\n",
      "Name: Item_Fat_Content, dtype: int64\n",
      "\n",
      "Frequency of Categories for varible Item_Type\n",
      "\n",
      "Total Categories:  16 \n",
      " Fruits and Vegetables    2013\n",
      "Snack Foods              1989\n",
      "Household                1548\n",
      "Frozen Foods             1426\n",
      "Dairy                    1136\n",
      "Baking Goods             1086\n",
      "Canned                   1084\n",
      "Health and Hygiene        858\n",
      "Meat                      736\n",
      "Soft Drinks               726\n",
      "Breads                    416\n",
      "Hard Drinks               362\n",
      "Others                    280\n",
      "Starchy Foods             269\n",
      "Breakfast                 186\n",
      "Seafood                    89\n",
      "Name: Item_Type, dtype: int64\n",
      "\n",
      "Frequency of Categories for varible Outlet_Identifier\n",
      "\n",
      "Total Categories:  10 \n",
      " OUT027    1559\n",
      "OUT013    1553\n",
      "OUT049    1550\n",
      "OUT046    1550\n",
      "OUT035    1550\n",
      "OUT045    1548\n",
      "OUT018    1546\n",
      "OUT017    1543\n",
      "OUT010     925\n",
      "OUT019     880\n",
      "Name: Outlet_Identifier, dtype: int64\n",
      "\n",
      "Frequency of Categories for varible Outlet_Size\n",
      "\n",
      "Total Categories:  3 \n",
      " Medium    8671\n",
      "Small     3980\n",
      "High      1553\n",
      "Name: Outlet_Size, dtype: int64\n",
      "\n",
      "Frequency of Categories for varible Outlet_Location_Type\n",
      "\n",
      "Total Categories:  3 \n",
      " Tier 3    5583\n",
      "Tier 2    4641\n",
      "Tier 1    3980\n",
      "Name: Outlet_Location_Type, dtype: int64\n",
      "\n",
      "Frequency of Categories for varible Outlet_Type\n",
      "\n",
      "Total Categories:  4 \n",
      " Supermarket Type1    9294\n",
      "Grocery Store        1805\n",
      "Supermarket Type3    1559\n",
      "Supermarket Type2    1546\n",
      "Name: Outlet_Type, dtype: int64\n",
      "\n",
      "Frequency of Categories for varible source\n",
      "\n",
      "Total Categories:  2 \n",
      " train    8523\n",
      "test     5681\n",
      "Name: source, dtype: int64\n"
     ]
    }
   ],
   "source": [
    "# Lets Deal with catgorial Data First     \n",
    "for col in cat_df.columns:\n",
    "    if(col != 'Item_Identifier'):\n",
    "        print('\\nFrequency of Categories for varible %s'%col)\n",
    "        print('\\nTotal Categories: ', len(cat_df[col].value_counts()), '\\n', cat_df[col].value_counts())\n",
    "        "
   ]
  },
  {
   "cell_type": "markdown",
   "id": "0cf5f473",
   "metadata": {
    "execution": {
     "iopub.execute_input": "2022-11-29T09:23:54.561223Z",
     "iopub.status.busy": "2022-11-29T09:23:54.560806Z",
     "iopub.status.idle": "2022-11-29T09:23:54.570128Z",
     "shell.execute_reply": "2022-11-29T09:23:54.568724Z",
     "shell.execute_reply.started": "2022-11-29T09:23:54.561186Z"
    },
    "papermill": {
     "duration": 0.016498,
     "end_time": "2022-11-30T19:44:29.298585",
     "exception": false,
     "start_time": "2022-11-30T19:44:29.282087",
     "status": "completed"
    },
    "tags": []
   },
   "source": [
    "* **Item_Fat_Content**: We have **reapted** values in , lets replace them\n",
    "* **Item_Type**: We have categories of **items**, that can be shrink\n",
    "* **Outlet_Type**: We have Store **type2**,and **type3**, that can be combined\n"
   ]
  },
  {
   "cell_type": "code",
   "execution_count": 18,
   "id": "2bf835ec",
   "metadata": {
    "execution": {
     "iopub.execute_input": "2022-11-30T19:44:29.334149Z",
     "iopub.status.busy": "2022-11-30T19:44:29.333742Z",
     "iopub.status.idle": "2022-11-30T19:44:29.352935Z",
     "shell.execute_reply": "2022-11-30T19:44:29.351073Z"
    },
    "papermill": {
     "duration": 0.040891,
     "end_time": "2022-11-30T19:44:29.355834",
     "exception": false,
     "start_time": "2022-11-30T19:44:29.314943",
     "status": "completed"
    },
    "tags": []
   },
   "outputs": [
    {
     "data": {
      "text/plain": [
       "Low Fat    9185\n",
       "Regular    5019\n",
       "Name: Item_Fat_Content, dtype: int64"
      ]
     },
     "execution_count": 18,
     "metadata": {},
     "output_type": "execute_result"
    }
   ],
   "source": [
    "# Replace reapted values in Item_Fat_Content\n",
    "data['Item_Fat_Content'] = data.Item_Fat_Content.replace(['LF', 'low fat', 'reg'],\n",
    "                                                              ['Low Fat','Low Fat', 'Regular'])\n",
    "data.Item_Fat_Content.value_counts()"
   ]
  },
  {
   "cell_type": "markdown",
   "id": "fdaafcc1",
   "metadata": {
    "papermill": {
     "duration": 0.018686,
     "end_time": "2022-11-30T19:44:29.393246",
     "exception": false,
     "start_time": "2022-11-30T19:44:29.374560",
     "status": "completed"
    },
    "tags": []
   },
   "source": [
    "Combine Item_Type, as we have 16 catgories, but when you see **Item_identifier ID**, It has first two charachters defining the item type, these are **FD**, **DR**, **NC** means food, Drinks, Non-Consumables.\n",
    "lets convert Item_Type into these 3 categories"
   ]
  },
  {
   "cell_type": "code",
   "execution_count": 19,
   "id": "753c688b",
   "metadata": {
    "execution": {
     "iopub.execute_input": "2022-11-30T19:44:29.431817Z",
     "iopub.status.busy": "2022-11-30T19:44:29.431304Z",
     "iopub.status.idle": "2022-11-30T19:44:29.459325Z",
     "shell.execute_reply": "2022-11-30T19:44:29.458120Z"
    },
    "papermill": {
     "duration": 0.050201,
     "end_time": "2022-11-30T19:44:29.462118",
     "exception": false,
     "start_time": "2022-11-30T19:44:29.411917",
     "status": "completed"
    },
    "tags": []
   },
   "outputs": [
    {
     "data": {
      "text/plain": [
       "Food              10201\n",
       "Non-Consumable     2686\n",
       "Drinks             1317\n",
       "Name: Item_Type_Combined, dtype: int64"
      ]
     },
     "execution_count": 19,
     "metadata": {},
     "output_type": "execute_result"
    }
   ],
   "source": [
    "# Combine Item_Type, and create new category\n",
    "data['Item_Type_Combined'] = data.Item_Identifier.apply(lambda x:x[0:2])\n",
    "data['Item_Type_Combined'] = data['Item_Type_Combined'].replace(['FD','DR','NC'],\n",
    "                                                                   ['Food','Drinks', 'Non-Consumable']) \n",
    "data.Item_Type_Combined.value_counts()"
   ]
  },
  {
   "cell_type": "markdown",
   "id": "c8f2ef28",
   "metadata": {
    "papermill": {
     "duration": 0.017739,
     "end_time": "2022-11-30T19:44:29.497849",
     "exception": false,
     "start_time": "2022-11-30T19:44:29.480110",
     "status": "completed"
    },
    "tags": []
   },
   "source": [
    "We have Store Types, **type2** and **Type3**, we can combine them, but is it good?\n",
    "lets check their sales, if both have opprox similier sales, we can combine them"
   ]
  },
  {
   "cell_type": "code",
   "execution_count": 20,
   "id": "ddc59468",
   "metadata": {
    "execution": {
     "iopub.execute_input": "2022-11-30T19:44:29.537839Z",
     "iopub.status.busy": "2022-11-30T19:44:29.537410Z",
     "iopub.status.idle": "2022-11-30T19:44:29.570064Z",
     "shell.execute_reply": "2022-11-30T19:44:29.568417Z"
    },
    "papermill": {
     "duration": 0.05655,
     "end_time": "2022-11-30T19:44:29.572836",
     "exception": false,
     "start_time": "2022-11-30T19:44:29.516286",
     "status": "completed"
    },
    "tags": []
   },
   "outputs": [
    {
     "data": {
      "text/html": [
       "<div>\n",
       "<style scoped>\n",
       "    .dataframe tbody tr th:only-of-type {\n",
       "        vertical-align: middle;\n",
       "    }\n",
       "\n",
       "    .dataframe tbody tr th {\n",
       "        vertical-align: top;\n",
       "    }\n",
       "\n",
       "    .dataframe thead th {\n",
       "        text-align: right;\n",
       "    }\n",
       "</style>\n",
       "<table border=\"1\" class=\"dataframe\">\n",
       "  <thead>\n",
       "    <tr style=\"text-align: right;\">\n",
       "      <th></th>\n",
       "      <th>Item_Outlet_Sales</th>\n",
       "    </tr>\n",
       "    <tr>\n",
       "      <th>Outlet_Type</th>\n",
       "      <th></th>\n",
       "    </tr>\n",
       "  </thead>\n",
       "  <tbody>\n",
       "    <tr>\n",
       "      <th>Grocery Store</th>\n",
       "      <td>339.828500</td>\n",
       "    </tr>\n",
       "    <tr>\n",
       "      <th>Supermarket Type1</th>\n",
       "      <td>2316.181148</td>\n",
       "    </tr>\n",
       "    <tr>\n",
       "      <th>Supermarket Type2</th>\n",
       "      <td>1995.498739</td>\n",
       "    </tr>\n",
       "    <tr>\n",
       "      <th>Supermarket Type3</th>\n",
       "      <td>3694.038558</td>\n",
       "    </tr>\n",
       "  </tbody>\n",
       "</table>\n",
       "</div>"
      ],
      "text/plain": [
       "                   Item_Outlet_Sales\n",
       "Outlet_Type                         \n",
       "Grocery Store             339.828500\n",
       "Supermarket Type1        2316.181148\n",
       "Supermarket Type2        1995.498739\n",
       "Supermarket Type3        3694.038558"
      ]
     },
     "execution_count": 20,
     "metadata": {},
     "output_type": "execute_result"
    }
   ],
   "source": [
    "data.pivot_table(values='Item_Outlet_Sales', index='Outlet_Type')"
   ]
  },
  {
   "cell_type": "markdown",
   "id": "dfaeaf83",
   "metadata": {
    "papermill": {
     "duration": 0.019019,
     "end_time": "2022-11-30T19:44:29.609797",
     "exception": false,
     "start_time": "2022-11-30T19:44:29.590778",
     "status": "completed"
    },
    "tags": []
   },
   "source": [
    "There is a huge difference in sales, so not good idea to combine them"
   ]
  },
  {
   "cell_type": "code",
   "execution_count": 21,
   "id": "0af8c4c2",
   "metadata": {
    "execution": {
     "iopub.execute_input": "2022-11-30T19:44:29.649429Z",
     "iopub.status.busy": "2022-11-30T19:44:29.648455Z",
     "iopub.status.idle": "2022-11-30T19:44:29.685035Z",
     "shell.execute_reply": "2022-11-30T19:44:29.683318Z"
    },
    "papermill": {
     "duration": 0.061477,
     "end_time": "2022-11-30T19:44:29.688779",
     "exception": false,
     "start_time": "2022-11-30T19:44:29.627302",
     "status": "completed"
    },
    "tags": []
   },
   "outputs": [
    {
     "data": {
      "text/html": [
       "<div>\n",
       "<style scoped>\n",
       "    .dataframe tbody tr th:only-of-type {\n",
       "        vertical-align: middle;\n",
       "    }\n",
       "\n",
       "    .dataframe tbody tr th {\n",
       "        vertical-align: top;\n",
       "    }\n",
       "\n",
       "    .dataframe thead th {\n",
       "        text-align: right;\n",
       "    }\n",
       "</style>\n",
       "<table border=\"1\" class=\"dataframe\">\n",
       "  <thead>\n",
       "    <tr style=\"text-align: right;\">\n",
       "      <th></th>\n",
       "      <th>Item_Weight</th>\n",
       "      <th>Item_Visibility</th>\n",
       "      <th>Item_MRP</th>\n",
       "      <th>Outlet_Establishment_Year</th>\n",
       "      <th>Item_Outlet_Sales</th>\n",
       "    </tr>\n",
       "  </thead>\n",
       "  <tbody>\n",
       "    <tr>\n",
       "      <th>count</th>\n",
       "      <td>14204.000000</td>\n",
       "      <td>14204.000000</td>\n",
       "      <td>14204.000000</td>\n",
       "      <td>14204.000000</td>\n",
       "      <td>8523.000000</td>\n",
       "    </tr>\n",
       "    <tr>\n",
       "      <th>mean</th>\n",
       "      <td>12.792854</td>\n",
       "      <td>0.065953</td>\n",
       "      <td>141.004977</td>\n",
       "      <td>1997.830681</td>\n",
       "      <td>2181.288914</td>\n",
       "    </tr>\n",
       "    <tr>\n",
       "      <th>std</th>\n",
       "      <td>4.234226</td>\n",
       "      <td>0.051459</td>\n",
       "      <td>62.086938</td>\n",
       "      <td>8.371664</td>\n",
       "      <td>1706.499616</td>\n",
       "    </tr>\n",
       "    <tr>\n",
       "      <th>min</th>\n",
       "      <td>4.555000</td>\n",
       "      <td>0.000000</td>\n",
       "      <td>31.290000</td>\n",
       "      <td>1985.000000</td>\n",
       "      <td>33.290000</td>\n",
       "    </tr>\n",
       "    <tr>\n",
       "      <th>25%</th>\n",
       "      <td>9.300000</td>\n",
       "      <td>0.027036</td>\n",
       "      <td>94.012000</td>\n",
       "      <td>1987.000000</td>\n",
       "      <td>834.247400</td>\n",
       "    </tr>\n",
       "    <tr>\n",
       "      <th>50%</th>\n",
       "      <td>12.792854</td>\n",
       "      <td>0.054021</td>\n",
       "      <td>142.247000</td>\n",
       "      <td>1999.000000</td>\n",
       "      <td>1794.331000</td>\n",
       "    </tr>\n",
       "    <tr>\n",
       "      <th>75%</th>\n",
       "      <td>16.000000</td>\n",
       "      <td>0.094037</td>\n",
       "      <td>185.855600</td>\n",
       "      <td>2004.000000</td>\n",
       "      <td>3101.296400</td>\n",
       "    </tr>\n",
       "    <tr>\n",
       "      <th>max</th>\n",
       "      <td>21.350000</td>\n",
       "      <td>0.328391</td>\n",
       "      <td>266.888400</td>\n",
       "      <td>2009.000000</td>\n",
       "      <td>13086.964800</td>\n",
       "    </tr>\n",
       "  </tbody>\n",
       "</table>\n",
       "</div>"
      ],
      "text/plain": [
       "        Item_Weight  Item_Visibility      Item_MRP  Outlet_Establishment_Year  \\\n",
       "count  14204.000000     14204.000000  14204.000000               14204.000000   \n",
       "mean      12.792854         0.065953    141.004977                1997.830681   \n",
       "std        4.234226         0.051459     62.086938                   8.371664   \n",
       "min        4.555000         0.000000     31.290000                1985.000000   \n",
       "25%        9.300000         0.027036     94.012000                1987.000000   \n",
       "50%       12.792854         0.054021    142.247000                1999.000000   \n",
       "75%       16.000000         0.094037    185.855600                2004.000000   \n",
       "max       21.350000         0.328391    266.888400                2009.000000   \n",
       "\n",
       "       Item_Outlet_Sales  \n",
       "count        8523.000000  \n",
       "mean         2181.288914  \n",
       "std          1706.499616  \n",
       "min            33.290000  \n",
       "25%           834.247400  \n",
       "50%          1794.331000  \n",
       "75%          3101.296400  \n",
       "max         13086.964800  "
      ]
     },
     "execution_count": 21,
     "metadata": {},
     "output_type": "execute_result"
    }
   ],
   "source": [
    "# Lets deal with Numerical Data\n",
    "num_df.describe()"
   ]
  },
  {
   "cell_type": "markdown",
   "id": "f73b0a22",
   "metadata": {
    "papermill": {
     "duration": 0.019296,
     "end_time": "2022-11-30T19:44:29.726019",
     "exception": false,
     "start_time": "2022-11-30T19:44:29.706723",
     "status": "completed"
    },
    "tags": []
   },
   "source": [
    "* **Item_Visibility**: it has min **0** value, which makes no sense\n",
    "* **Outlet_Establishment_Year**: Its better to address how old store is\n"
   ]
  },
  {
   "cell_type": "code",
   "execution_count": 22,
   "id": "76d691a9",
   "metadata": {
    "execution": {
     "iopub.execute_input": "2022-11-30T19:44:29.764181Z",
     "iopub.status.busy": "2022-11-30T19:44:29.763486Z",
     "iopub.status.idle": "2022-11-30T19:44:29.773730Z",
     "shell.execute_reply": "2022-11-30T19:44:29.772530Z"
    },
    "papermill": {
     "duration": 0.031955,
     "end_time": "2022-11-30T19:44:29.776194",
     "exception": false,
     "start_time": "2022-11-30T19:44:29.744239",
     "status": "completed"
    },
    "tags": []
   },
   "outputs": [
    {
     "data": {
      "text/plain": [
       "0        14\n",
       "1         4\n",
       "2        14\n",
       "3        15\n",
       "4        26\n",
       "         ..\n",
       "14199    16\n",
       "14200     4\n",
       "14201    11\n",
       "14202     6\n",
       "14203    11\n",
       "Name: Oultet_Age, Length: 14204, dtype: int64"
      ]
     },
     "execution_count": 22,
     "metadata": {},
     "output_type": "execute_result"
    }
   ],
   "source": [
    "# change Establishment_Year to Outlet_Age\n",
    "data['Oultet_Age'] = 2013 - data['Outlet_Establishment_Year']\n",
    "data['Oultet_Age']"
   ]
  },
  {
   "cell_type": "code",
   "execution_count": 23,
   "id": "f8720c26",
   "metadata": {
    "execution": {
     "iopub.execute_input": "2022-11-30T19:44:29.813801Z",
     "iopub.status.busy": "2022-11-30T19:44:29.812995Z",
     "iopub.status.idle": "2022-11-30T19:44:29.933053Z",
     "shell.execute_reply": "2022-11-30T19:44:29.931295Z"
    },
    "papermill": {
     "duration": 0.142724,
     "end_time": "2022-11-30T19:44:29.936179",
     "exception": false,
     "start_time": "2022-11-30T19:44:29.793455",
     "status": "completed"
    },
    "tags": []
   },
   "outputs": [
    {
     "name": "stdout",
     "output_type": "stream",
     "text": [
      "Missing Values in Item_Visibility:  879\n",
      "Missing values after filling:  0\n"
     ]
    }
   ],
   "source": [
    "# Lets consider 0 as missing value in Item_visibility\n",
    "print('Missing Values in Item_Visibility: ', len(data[num_df['Item_Visibility'] == 0]))\n",
    "miss_values = (data['Item_Visibility'] == 0)\n",
    "item_vis_avg = data.pivot_table(values='Item_Visibility', index ='Item_Identifier')\n",
    "\n",
    "data.loc[miss_values, 'Item_Visibility'] = data.loc[miss_values, 'Item_Identifier'].apply(lambda x:item_vis_avg.loc[x])\n",
    "print('Missing values after filling: ' , sum(data['Item_Visibility'] == 0))"
   ]
  },
  {
   "cell_type": "code",
   "execution_count": 24,
   "id": "f0d15384",
   "metadata": {
    "execution": {
     "iopub.execute_input": "2022-11-30T19:44:29.973344Z",
     "iopub.status.busy": "2022-11-30T19:44:29.972941Z",
     "iopub.status.idle": "2022-11-30T19:44:29.994971Z",
     "shell.execute_reply": "2022-11-30T19:44:29.993742Z"
    },
    "papermill": {
     "duration": 0.043987,
     "end_time": "2022-11-30T19:44:29.997856",
     "exception": false,
     "start_time": "2022-11-30T19:44:29.953869",
     "status": "completed"
    },
    "tags": []
   },
   "outputs": [
    {
     "data": {
      "text/html": [
       "<div>\n",
       "<style scoped>\n",
       "    .dataframe tbody tr th:only-of-type {\n",
       "        vertical-align: middle;\n",
       "    }\n",
       "\n",
       "    .dataframe tbody tr th {\n",
       "        vertical-align: top;\n",
       "    }\n",
       "\n",
       "    .dataframe thead th {\n",
       "        text-align: right;\n",
       "    }\n",
       "</style>\n",
       "<table border=\"1\" class=\"dataframe\">\n",
       "  <thead>\n",
       "    <tr style=\"text-align: right;\">\n",
       "      <th></th>\n",
       "      <th>Item_Identifier</th>\n",
       "      <th>Item_Weight</th>\n",
       "      <th>Item_Fat_Content</th>\n",
       "      <th>Item_Visibility</th>\n",
       "      <th>Item_Type</th>\n",
       "      <th>Item_MRP</th>\n",
       "      <th>Outlet_Identifier</th>\n",
       "      <th>Outlet_Establishment_Year</th>\n",
       "      <th>Outlet_Size</th>\n",
       "      <th>Outlet_Location_Type</th>\n",
       "      <th>Outlet_Type</th>\n",
       "      <th>Item_Outlet_Sales</th>\n",
       "      <th>source</th>\n",
       "      <th>Item_Type_Combined</th>\n",
       "      <th>Oultet_Age</th>\n",
       "    </tr>\n",
       "  </thead>\n",
       "  <tbody>\n",
       "    <tr>\n",
       "      <th>0</th>\n",
       "      <td>FDA15</td>\n",
       "      <td>9.30</td>\n",
       "      <td>Low Fat</td>\n",
       "      <td>0.016047</td>\n",
       "      <td>Dairy</td>\n",
       "      <td>249.8092</td>\n",
       "      <td>OUT049</td>\n",
       "      <td>1999</td>\n",
       "      <td>Medium</td>\n",
       "      <td>Tier 1</td>\n",
       "      <td>Supermarket Type1</td>\n",
       "      <td>3735.1380</td>\n",
       "      <td>train</td>\n",
       "      <td>Food</td>\n",
       "      <td>14</td>\n",
       "    </tr>\n",
       "    <tr>\n",
       "      <th>1</th>\n",
       "      <td>DRC01</td>\n",
       "      <td>5.92</td>\n",
       "      <td>Regular</td>\n",
       "      <td>0.019278</td>\n",
       "      <td>Soft Drinks</td>\n",
       "      <td>48.2692</td>\n",
       "      <td>OUT018</td>\n",
       "      <td>2009</td>\n",
       "      <td>Medium</td>\n",
       "      <td>Tier 3</td>\n",
       "      <td>Supermarket Type2</td>\n",
       "      <td>443.4228</td>\n",
       "      <td>train</td>\n",
       "      <td>Drinks</td>\n",
       "      <td>4</td>\n",
       "    </tr>\n",
       "    <tr>\n",
       "      <th>2</th>\n",
       "      <td>FDN15</td>\n",
       "      <td>17.50</td>\n",
       "      <td>Low Fat</td>\n",
       "      <td>0.016760</td>\n",
       "      <td>Meat</td>\n",
       "      <td>141.6180</td>\n",
       "      <td>OUT049</td>\n",
       "      <td>1999</td>\n",
       "      <td>Medium</td>\n",
       "      <td>Tier 1</td>\n",
       "      <td>Supermarket Type1</td>\n",
       "      <td>2097.2700</td>\n",
       "      <td>train</td>\n",
       "      <td>Food</td>\n",
       "      <td>14</td>\n",
       "    </tr>\n",
       "    <tr>\n",
       "      <th>3</th>\n",
       "      <td>FDX07</td>\n",
       "      <td>19.20</td>\n",
       "      <td>Regular</td>\n",
       "      <td>0.017834</td>\n",
       "      <td>Fruits and Vegetables</td>\n",
       "      <td>182.0950</td>\n",
       "      <td>OUT010</td>\n",
       "      <td>1998</td>\n",
       "      <td>Medium</td>\n",
       "      <td>Tier 3</td>\n",
       "      <td>Grocery Store</td>\n",
       "      <td>732.3800</td>\n",
       "      <td>train</td>\n",
       "      <td>Food</td>\n",
       "      <td>15</td>\n",
       "    </tr>\n",
       "    <tr>\n",
       "      <th>4</th>\n",
       "      <td>NCD19</td>\n",
       "      <td>8.93</td>\n",
       "      <td>Low Fat</td>\n",
       "      <td>0.009780</td>\n",
       "      <td>Household</td>\n",
       "      <td>53.8614</td>\n",
       "      <td>OUT013</td>\n",
       "      <td>1987</td>\n",
       "      <td>High</td>\n",
       "      <td>Tier 3</td>\n",
       "      <td>Supermarket Type1</td>\n",
       "      <td>994.7052</td>\n",
       "      <td>train</td>\n",
       "      <td>Non-Consumable</td>\n",
       "      <td>26</td>\n",
       "    </tr>\n",
       "  </tbody>\n",
       "</table>\n",
       "</div>"
      ],
      "text/plain": [
       "  Item_Identifier  Item_Weight Item_Fat_Content  Item_Visibility  \\\n",
       "0           FDA15         9.30          Low Fat         0.016047   \n",
       "1           DRC01         5.92          Regular         0.019278   \n",
       "2           FDN15        17.50          Low Fat         0.016760   \n",
       "3           FDX07        19.20          Regular         0.017834   \n",
       "4           NCD19         8.93          Low Fat         0.009780   \n",
       "\n",
       "               Item_Type  Item_MRP Outlet_Identifier  \\\n",
       "0                  Dairy  249.8092            OUT049   \n",
       "1            Soft Drinks   48.2692            OUT018   \n",
       "2                   Meat  141.6180            OUT049   \n",
       "3  Fruits and Vegetables  182.0950            OUT010   \n",
       "4              Household   53.8614            OUT013   \n",
       "\n",
       "   Outlet_Establishment_Year Outlet_Size Outlet_Location_Type  \\\n",
       "0                       1999      Medium               Tier 1   \n",
       "1                       2009      Medium               Tier 3   \n",
       "2                       1999      Medium               Tier 1   \n",
       "3                       1998      Medium               Tier 3   \n",
       "4                       1987        High               Tier 3   \n",
       "\n",
       "         Outlet_Type  Item_Outlet_Sales source Item_Type_Combined  Oultet_Age  \n",
       "0  Supermarket Type1          3735.1380  train               Food          14  \n",
       "1  Supermarket Type2           443.4228  train             Drinks           4  \n",
       "2  Supermarket Type1          2097.2700  train               Food          14  \n",
       "3      Grocery Store           732.3800  train               Food          15  \n",
       "4  Supermarket Type1           994.7052  train     Non-Consumable          26  "
      ]
     },
     "execution_count": 24,
     "metadata": {},
     "output_type": "execute_result"
    }
   ],
   "source": [
    "data.head()"
   ]
  },
  {
   "cell_type": "code",
   "execution_count": 25,
   "id": "88f2ee8a",
   "metadata": {
    "execution": {
     "iopub.execute_input": "2022-11-30T19:44:30.038071Z",
     "iopub.status.busy": "2022-11-30T19:44:30.037651Z",
     "iopub.status.idle": "2022-11-30T19:44:30.061433Z",
     "shell.execute_reply": "2022-11-30T19:44:30.058964Z"
    },
    "papermill": {
     "duration": 0.048762,
     "end_time": "2022-11-30T19:44:30.064763",
     "exception": false,
     "start_time": "2022-11-30T19:44:30.016001",
     "status": "completed"
    },
    "tags": []
   },
   "outputs": [
    {
     "name": "stdout",
     "output_type": "stream",
     "text": [
      "<class 'pandas.core.frame.DataFrame'>\n",
      "Int64Index: 8523 entries, 0 to 8522\n",
      "Data columns (total 12 columns):\n",
      " #   Column                Non-Null Count  Dtype  \n",
      "---  ------                --------------  -----  \n",
      " 0   Item_Identifier       8523 non-null   object \n",
      " 1   Item_Weight           8523 non-null   float64\n",
      " 2   Item_Fat_Content      8523 non-null   object \n",
      " 3   Item_Visibility       8523 non-null   float64\n",
      " 4   Item_MRP              8523 non-null   float64\n",
      " 5   Outlet_Identifier     8523 non-null   object \n",
      " 6   Outlet_Size           8523 non-null   object \n",
      " 7   Outlet_Location_Type  8523 non-null   object \n",
      " 8   Outlet_Type           8523 non-null   object \n",
      " 9   Item_Outlet_Sales     8523 non-null   float64\n",
      " 10  Item_Type_Combined    8523 non-null   object \n",
      " 11  Oultet_Age            8523 non-null   int64  \n",
      "dtypes: float64(4), int64(1), object(7)\n",
      "memory usage: 865.6+ KB\n"
     ]
    }
   ],
   "source": [
    "# Lets drop Unnecessery Columns\n",
    "train_df = data[data['source'] == 'train']\n",
    "train_df = train_df.drop(['Outlet_Establishment_Year', 'Item_Type', 'source'], axis=1)\n",
    "train_df.info()"
   ]
  },
  {
   "cell_type": "markdown",
   "id": "a172ba34",
   "metadata": {
    "papermill": {
     "duration": 0.018524,
     "end_time": "2022-11-30T19:44:30.103646",
     "exception": false,
     "start_time": "2022-11-30T19:44:30.085122",
     "status": "completed"
    },
    "tags": []
   },
   "source": [
    "# Data Visualization"
   ]
  },
  {
   "cell_type": "markdown",
   "id": "eae29c8a",
   "metadata": {
    "execution": {
     "iopub.execute_input": "2022-11-30T15:10:06.262883Z",
     "iopub.status.busy": "2022-11-30T15:10:06.262381Z",
     "iopub.status.idle": "2022-11-30T15:10:06.270804Z",
     "shell.execute_reply": "2022-11-30T15:10:06.269594Z",
     "shell.execute_reply.started": "2022-11-30T15:10:06.262848Z"
    },
    "papermill": {
     "duration": 0.017871,
     "end_time": "2022-11-30T19:44:30.141551",
     "exception": false,
     "start_time": "2022-11-30T19:44:30.123680",
     "status": "completed"
    },
    "tags": []
   },
   "source": [
    "#### Univariate Plots\n",
    "lets look at the countplots for categorial data"
   ]
  },
  {
   "cell_type": "code",
   "execution_count": 26,
   "id": "55a3d90c",
   "metadata": {
    "execution": {
     "iopub.execute_input": "2022-11-30T19:44:30.180684Z",
     "iopub.status.busy": "2022-11-30T19:44:30.180180Z",
     "iopub.status.idle": "2022-11-30T19:44:30.380029Z",
     "shell.execute_reply": "2022-11-30T19:44:30.378752Z"
    },
    "papermill": {
     "duration": 0.223683,
     "end_time": "2022-11-30T19:44:30.383377",
     "exception": false,
     "start_time": "2022-11-30T19:44:30.159694",
     "status": "completed"
    },
    "tags": []
   },
   "outputs": [
    {
     "data": {
      "image/png": "[encoded data removed]",
      "text/plain": [
       "<Figure size 432x288 with 1 Axes>"
      ]
     },
     "metadata": {
      "needs_background": "light"
     },
     "output_type": "display_data"
    }
   ],
   "source": [
    "# Categorial Data\n",
    "['Item_Identifier', 'Item_Fat_Content', 'Outlet_Identifier', 'Outlet_Size',\n",
    "'Outlet_Location_Type', 'Outlet_Type', 'Item_Type_Combined' ]\n",
    "\n",
    "# CountPlot for Item_Fat_Content\n",
    "plt.figure(figsize=(6,4))\n",
    "sns.countplot(data=train_df, x='Item_Fat_Content')\n",
    "plt.xlabel('Item Fat Content', fontsize=15)\n",
    "plt.show()"
   ]
  },
  {
   "cell_type": "code",
   "execution_count": 27,
   "id": "d59c5676",
   "metadata": {
    "execution": {
     "iopub.execute_input": "2022-11-30T19:44:30.423060Z",
     "iopub.status.busy": "2022-11-30T19:44:30.422615Z",
     "iopub.status.idle": "2022-11-30T19:44:30.628896Z",
     "shell.execute_reply": "2022-11-30T19:44:30.627528Z"
    },
    "papermill": {
     "duration": 0.229622,
     "end_time": "2022-11-30T19:44:30.631750",
     "exception": false,
     "start_time": "2022-11-30T19:44:30.402128",
     "status": "completed"
    },
    "tags": []
   },
   "outputs": [
    {
     "data": {
      "image/png": "[encoded data removed]",
      "text/plain": [
       "<Figure size 432x288 with 1 Axes>"
      ]
     },
     "metadata": {
      "needs_background": "light"
     },
     "output_type": "display_data"
    }
   ],
   "source": [
    "#  CountPlot for Item_Type_Combined\n",
    "plt.figure(figsize=(6,4))\n",
    "sns.countplot(data=train_df, x='Item_Type_Combined')\n",
    "plt.xlabel('Item Category', fontsize=15)\n",
    "plt.show()"
   ]
  },
  {
   "cell_type": "code",
   "execution_count": 28,
   "id": "a114ff94",
   "metadata": {
    "execution": {
     "iopub.execute_input": "2022-11-30T19:44:30.673411Z",
     "iopub.status.busy": "2022-11-30T19:44:30.672977Z",
     "iopub.status.idle": "2022-11-30T19:44:30.925469Z",
     "shell.execute_reply": "2022-11-30T19:44:30.923858Z"
    },
    "papermill": {
     "duration": 0.277778,
     "end_time": "2022-11-30T19:44:30.928964",
     "exception": false,
     "start_time": "2022-11-30T19:44:30.651186",
     "status": "completed"
    },
    "tags": []
   },
   "outputs": [
    {
     "data": {
      "image/png": "[encoded data removed]",
      "text/plain": [
       "<Figure size 1080x288 with 1 Axes>"
      ]
     },
     "metadata": {
      "needs_background": "light"
     },
     "output_type": "display_data"
    }
   ],
   "source": [
    "# CountPlot for Outlet_Identifier\n",
    "plt.figure(figsize=(15,4))\n",
    "sns.countplot(data=train_df, x='Outlet_Identifier', palette='winter')\n",
    "plt.xlabel('Stores', fontsize=15)\n",
    "plt.show()"
   ]
  },
  {
   "cell_type": "code",
   "execution_count": 29,
   "id": "23a416a5",
   "metadata": {
    "execution": {
     "iopub.execute_input": "2022-11-30T19:44:30.972231Z",
     "iopub.status.busy": "2022-11-30T19:44:30.971786Z",
     "iopub.status.idle": "2022-11-30T19:44:31.166132Z",
     "shell.execute_reply": "2022-11-30T19:44:31.164444Z"
    },
    "papermill": {
     "duration": 0.219812,
     "end_time": "2022-11-30T19:44:31.169241",
     "exception": false,
     "start_time": "2022-11-30T19:44:30.949429",
     "status": "completed"
    },
    "tags": []
   },
   "outputs": [
    {
     "data": {
      "image/png": "[encoded data removed]",
      "text/plain": [
       "<Figure size 432x288 with 1 Axes>"
      ]
     },
     "metadata": {
      "needs_background": "light"
     },
     "output_type": "display_data"
    }
   ],
   "source": [
    "# CountPlot for Outlet_Size\n",
    "plt.figure(figsize=(6,4))\n",
    "sns.countplot(data=train_df, x='Outlet_Size')\n",
    "plt.xlabel('Store Size', fontsize=15)\n",
    "plt.show()"
   ]
  },
  {
   "cell_type": "code",
   "execution_count": 30,
   "id": "b03203ba",
   "metadata": {
    "execution": {
     "iopub.execute_input": "2022-11-30T19:44:31.211302Z",
     "iopub.status.busy": "2022-11-30T19:44:31.210594Z",
     "iopub.status.idle": "2022-11-30T19:44:31.429628Z",
     "shell.execute_reply": "2022-11-30T19:44:31.428013Z"
    },
    "papermill": {
     "duration": 0.244969,
     "end_time": "2022-11-30T19:44:31.433255",
     "exception": false,
     "start_time": "2022-11-30T19:44:31.188286",
     "status": "completed"
    },
    "tags": []
   },
   "outputs": [
    {
     "data": {
      "image/png": "[encoded data removed]",
      "text/plain": [
       "<Figure size 720x288 with 1 Axes>"
      ]
     },
     "metadata": {
      "needs_background": "light"
     },
     "output_type": "display_data"
    }
   ],
   "source": [
    "# CountPlot for Outlet_Location_Type\n",
    "plt.figure(figsize=(10,4))\n",
    "sns.countplot(data=train_df, x='Outlet_Location_Type')\n",
    "plt.xlabel('Store Location Type', fontsize=15)\n",
    "plt.show()"
   ]
  },
  {
   "cell_type": "code",
   "execution_count": 31,
   "id": "023ecdeb",
   "metadata": {
    "execution": {
     "iopub.execute_input": "2022-11-30T19:44:31.480512Z",
     "iopub.status.busy": "2022-11-30T19:44:31.479688Z",
     "iopub.status.idle": "2022-11-30T19:44:31.706551Z",
     "shell.execute_reply": "2022-11-30T19:44:31.705329Z"
    },
    "papermill": {
     "duration": 0.254194,
     "end_time": "2022-11-30T19:44:31.709168",
     "exception": false,
     "start_time": "2022-11-30T19:44:31.454974",
     "status": "completed"
    },
    "tags": []
   },
   "outputs": [
    {
     "data": {
      "image/png": "[encoded data removed]",
      "text/plain": [
       "<Figure size 720x504 with 1 Axes>"
      ]
     },
     "metadata": {
      "needs_background": "light"
     },
     "output_type": "display_data"
    }
   ],
   "source": [
    "# CountPlot for Outlet_Type\n",
    "plt.figure(figsize=(10,7))\n",
    "sns.countplot(data=train_df, x='Outlet_Type')\n",
    "plt.xlabel('Store Type', fontsize=15)\n",
    "plt.show()"
   ]
  },
  {
   "cell_type": "markdown",
   "id": "edf481c4",
   "metadata": {
    "papermill": {
     "duration": 0.019647,
     "end_time": "2022-11-30T19:44:31.749006",
     "exception": false,
     "start_time": "2022-11-30T19:44:31.729359",
     "status": "completed"
    },
    "tags": []
   },
   "source": [
    "### Realizations\n",
    "* **Item_Fat_Content**: Most Items sold are **low Fat**. \n",
    "* **Item_Type_Combined**: Most Sold Item cateogory is food, distictly **fruits & veg**, **food snacks** are popular.\n",
    "* **Outlet_Identifier**: Sold items are ditributed evenly amoung all stores, execpt **OUT010** and **OUT019**.\n",
    "* **Outlet_Size**: Bigmart Stores are mostly in **medium size** in this data.\n",
    "* **Outlet_Location_Type**: Most comon type of location is **Tier3**\n",
    "* **Outlet_Type**: By a wide mergin Most Store Types are **SuperMarket Type1**."
   ]
  },
  {
   "cell_type": "code",
   "execution_count": 32,
   "id": "b1a744c3",
   "metadata": {
    "execution": {
     "iopub.execute_input": "2022-11-30T19:44:31.790710Z",
     "iopub.status.busy": "2022-11-30T19:44:31.789492Z",
     "iopub.status.idle": "2022-11-30T19:44:32.015057Z",
     "shell.execute_reply": "2022-11-30T19:44:32.013446Z"
    },
    "papermill": {
     "duration": 0.250022,
     "end_time": "2022-11-30T19:44:32.018147",
     "exception": false,
     "start_time": "2022-11-30T19:44:31.768125",
     "status": "completed"
    },
    "tags": []
   },
   "outputs": [
    {
     "data": {
      "image/png": "[encoded data removed]",
      "text/plain": [
       "<Figure size 432x288 with 1 Axes>"
      ]
     },
     "metadata": {
      "needs_background": "light"
     },
     "output_type": "display_data"
    }
   ],
   "source": [
    "# For Numerical Data\n",
    "\n",
    "# HistPlot for Outlet_Age\n",
    "plt.hist(x=train_df['Oultet_Age'], )\n",
    "plt.title('Store Age')\n",
    "plt.show()"
   ]
  },
  {
   "cell_type": "markdown",
   "id": "5582542c",
   "metadata": {
    "papermill": {
     "duration": 0.021537,
     "end_time": "2022-11-30T19:44:32.059603",
     "exception": false,
     "start_time": "2022-11-30T19:44:32.038066",
     "status": "completed"
    },
    "tags": []
   },
   "source": [
    "#### Relizations\n",
    "* **Outlet_Age**: Most Common **Outlets** are 35 year's old."
   ]
  },
  {
   "cell_type": "markdown",
   "id": "298e26a2",
   "metadata": {
    "papermill": {
     "duration": 0.018953,
     "end_time": "2022-11-30T19:44:32.097997",
     "exception": false,
     "start_time": "2022-11-30T19:44:32.079044",
     "status": "completed"
    },
    "tags": []
   },
   "source": [
    "### Multivariate plots For Numeric.\n",
    "> Let's check following relationships\n",
    "* **Sales per Item_MRP**\n",
    "* **Sales per Item_Visibility**\n",
    "* **Sales per Item_Weight**\n",
    "\n"
   ]
  },
  {
   "cell_type": "code",
   "execution_count": 33,
   "id": "e978422e",
   "metadata": {
    "execution": {
     "iopub.execute_input": "2022-11-30T19:44:32.140309Z",
     "iopub.status.busy": "2022-11-30T19:44:32.139876Z",
     "iopub.status.idle": "2022-11-30T19:44:32.405572Z",
     "shell.execute_reply": "2022-11-30T19:44:32.404436Z"
    },
    "papermill": {
     "duration": 0.290938,
     "end_time": "2022-11-30T19:44:32.408592",
     "exception": false,
     "start_time": "2022-11-30T19:44:32.117654",
     "status": "completed"
    },
    "tags": []
   },
   "outputs": [
    {
     "data": {
      "image/png": "[encoded data removed]",
      "text/plain": [
       "<Figure size 432x288 with 1 Axes>"
      ]
     },
     "metadata": {
      "needs_background": "light"
     },
     "output_type": "display_data"
    }
   ],
   "source": [
    "# ScatterPlot for Sales per Item_Visibilty\n",
    "plt.scatter(train_df['Item_Visibility'], train_df['Item_Outlet_Sales'])\n",
    "plt.title('Sales based on Item Visibilty')\n",
    "plt.xlabel('Item_Visibility')\n",
    "plt.ylabel('Item_Outlet_Sales')\n",
    "plt.show()"
   ]
  },
  {
   "cell_type": "code",
   "execution_count": 34,
   "id": "563e4857",
   "metadata": {
    "execution": {
     "iopub.execute_input": "2022-11-30T19:44:32.453212Z",
     "iopub.status.busy": "2022-11-30T19:44:32.452428Z",
     "iopub.status.idle": "2022-11-30T19:44:32.709128Z",
     "shell.execute_reply": "2022-11-30T19:44:32.708141Z"
    },
    "papermill": {
     "duration": 0.283082,
     "end_time": "2022-11-30T19:44:32.711682",
     "exception": false,
     "start_time": "2022-11-30T19:44:32.428600",
     "status": "completed"
    },
    "tags": []
   },
   "outputs": [
    {
     "data": {
      "image/png": "[encoded data removed]",
      "text/plain": [
       "<Figure size 432x288 with 1 Axes>"
      ]
     },
     "metadata": {
      "needs_background": "light"
     },
     "output_type": "display_data"
    }
   ],
   "source": [
    "# ScatterPlot for Sales per Item_Weight\n",
    "plt.scatter(train_df['Item_Weight'], train_df['Item_Outlet_Sales'])\n",
    "plt.title('Sales based on Item Weight')\n",
    "plt.xlabel('Item_Weight')\n",
    "plt.ylabel('Item_Outlet_Sales')\n",
    "plt.show()"
   ]
  },
  {
   "cell_type": "code",
   "execution_count": 35,
   "id": "57125e7d",
   "metadata": {
    "execution": {
     "iopub.execute_input": "2022-11-30T19:44:32.756795Z",
     "iopub.status.busy": "2022-11-30T19:44:32.755990Z",
     "iopub.status.idle": "2022-11-30T19:44:33.011796Z",
     "shell.execute_reply": "2022-11-30T19:44:33.010743Z"
    },
    "papermill": {
     "duration": 0.280683,
     "end_time": "2022-11-30T19:44:33.014487",
     "exception": false,
     "start_time": "2022-11-30T19:44:32.733804",
     "status": "completed"
    },
    "tags": []
   },
   "outputs": [
    {
     "data": {
      "image/png": "[encoded data removed]",
      "text/plain": [
       "<Figure size 432x288 with 1 Axes>"
      ]
     },
     "metadata": {
      "needs_background": "light"
     },
     "output_type": "display_data"
    }
   ],
   "source": [
    "# ScatterPlot for Sales per Item_MRP\n",
    "plt.scatter(train_df['Item_MRP'], train_df['Item_Outlet_Sales'])\n",
    "plt.title('Sales based on Item MRP')\n",
    "plt.xlabel('Item_MRP')\n",
    "plt.ylabel('Item_Outlet_Sales')\n",
    "plt.show()"
   ]
  },
  {
   "cell_type": "markdown",
   "id": "28d89f79",
   "metadata": {
    "papermill": {
     "duration": 0.022808,
     "end_time": "2022-11-30T19:44:33.059788",
     "exception": false,
     "start_time": "2022-11-30T19:44:33.036980",
     "status": "completed"
    },
    "tags": []
   },
   "source": [
    "#### Realizations\n",
    "* **Item_Visibility**: Not a particular Pattern, Data is very spreaded.\n",
    "* **Item_Weight**: Not a particular Pattern, Data is very spreaded.\n",
    "* **Item_MRP**: Items with higer **MRP** Sales tends to sell better."
   ]
  },
  {
   "cell_type": "markdown",
   "id": "a19bd6f7",
   "metadata": {
    "execution": {
     "iopub.execute_input": "2022-11-30T16:41:50.502459Z",
     "iopub.status.busy": "2022-11-30T16:41:50.501411Z",
     "iopub.status.idle": "2022-11-30T16:41:50.510917Z",
     "shell.execute_reply": "2022-11-30T16:41:50.509288Z",
     "shell.execute_reply.started": "2022-11-30T16:41:50.502415Z"
    },
    "papermill": {
     "duration": 0.020723,
     "end_time": "2022-11-30T19:44:33.102555",
     "exception": false,
     "start_time": "2022-11-30T19:44:33.081832",
     "status": "completed"
    },
    "tags": []
   },
   "source": [
    "#### Multivariate plots For Categorial.\n",
    "> Let's check following relationships\n",
    "* **Sales per Item_Type_Combined**\n",
    "* **Sales per Outlet_Identifier**\n",
    "* **Sales per Outlet_Type**\n",
    "* **Sales per Outlet_Size**\n",
    "* **Sales per Outlet_Location_Type**\n"
   ]
  },
  {
   "cell_type": "code",
   "execution_count": 36,
   "id": "7a2acca7",
   "metadata": {
    "execution": {
     "iopub.execute_input": "2022-11-30T19:44:33.146880Z",
     "iopub.status.busy": "2022-11-30T19:44:33.145882Z",
     "iopub.status.idle": "2022-11-30T19:44:33.547812Z",
     "shell.execute_reply": "2022-11-30T19:44:33.546711Z"
    },
    "papermill": {
     "duration": 0.427368,
     "end_time": "2022-11-30T19:44:33.550544",
     "exception": false,
     "start_time": "2022-11-30T19:44:33.123176",
     "status": "completed"
    },
    "tags": []
   },
   "outputs": [
    {
     "data": {
      "image/png": "[encoded data removed]",
      "text/plain": [
       "<Figure size 720x288 with 1 Axes>"
      ]
     },
     "metadata": {
      "needs_background": "light"
     },
     "output_type": "display_data"
    }
   ],
   "source": [
    "# BarPlot for Sales per Item_Type_Combined\n",
    "plt.figure(figsize=(10,4))\n",
    "sns.barplot(data=train_df,x='Item_Type_Combined', y='Item_Outlet_Sales')\n",
    "plt.title('Sales based on Item Category')\n",
    "plt.xlabel('Item Category ')\n",
    "plt.ylabel('Sales')\n",
    "plt.legend()\n",
    "plt.show()"
   ]
  },
  {
   "cell_type": "code",
   "execution_count": 37,
   "id": "fd3593e4",
   "metadata": {
    "execution": {
     "iopub.execute_input": "2022-11-30T19:44:33.596758Z",
     "iopub.status.busy": "2022-11-30T19:44:33.595986Z",
     "iopub.status.idle": "2022-11-30T19:44:34.233054Z",
     "shell.execute_reply": "2022-11-30T19:44:34.230880Z"
    },
    "papermill": {
     "duration": 0.663189,
     "end_time": "2022-11-30T19:44:34.236485",
     "exception": false,
     "start_time": "2022-11-30T19:44:33.573296",
     "status": "completed"
    },
    "tags": []
   },
   "outputs": [
    {
     "data": {
      "image/png": "[encoded data removed]",
      "text/plain": [
       "<Figure size 720x288 with 1 Axes>"
      ]
     },
     "metadata": {
      "needs_background": "light"
     },
     "output_type": "display_data"
    }
   ],
   "source": [
    "# BarPlot for Sales per Outlet_Identifier\n",
    "plt.figure(figsize=(10,4))\n",
    "sns.barplot(data=train_df,x='Outlet_Identifier', y='Item_Outlet_Sales')\n",
    "plt.title('Sales based on Store')\n",
    "plt.xlabel('Store  ')\n",
    "plt.ylabel('Sales')\n",
    "plt.legend()\n",
    "plt.show()"
   ]
  },
  {
   "cell_type": "code",
   "execution_count": 38,
   "id": "48e8e178",
   "metadata": {
    "execution": {
     "iopub.execute_input": "2022-11-30T19:44:34.282169Z",
     "iopub.status.busy": "2022-11-30T19:44:34.281704Z",
     "iopub.status.idle": "2022-11-30T19:44:34.725869Z",
     "shell.execute_reply": "2022-11-30T19:44:34.724303Z"
    },
    "papermill": {
     "duration": 0.471183,
     "end_time": "2022-11-30T19:44:34.729266",
     "exception": false,
     "start_time": "2022-11-30T19:44:34.258083",
     "status": "completed"
    },
    "tags": []
   },
   "outputs": [
    {
     "data": {
      "image/png": "[encoded data removed]",
      "text/plain": [
       "<Figure size 576x360 with 1 Axes>"
      ]
     },
     "metadata": {
      "needs_background": "light"
     },
     "output_type": "display_data"
    }
   ],
   "source": [
    "# BarPlot for Sales per Outlet_Type\n",
    "plt.figure(figsize=(8,5))\n",
    "sns.barplot(data=train_df,x='Outlet_Type', y='Item_Outlet_Sales')\n",
    "plt.title('Sales based on Store Type')\n",
    "plt.xlabel('Store Type')\n",
    "plt.ylabel('Sales')\n",
    "plt.legend()\n",
    "plt.show()"
   ]
  },
  {
   "cell_type": "code",
   "execution_count": 39,
   "id": "0c807ea7",
   "metadata": {
    "execution": {
     "iopub.execute_input": "2022-11-30T19:44:34.777349Z",
     "iopub.status.busy": "2022-11-30T19:44:34.776900Z",
     "iopub.status.idle": "2022-11-30T19:44:35.174451Z",
     "shell.execute_reply": "2022-11-30T19:44:35.171971Z"
    },
    "papermill": {
     "duration": 0.424702,
     "end_time": "2022-11-30T19:44:35.177291",
     "exception": false,
     "start_time": "2022-11-30T19:44:34.752589",
     "status": "completed"
    },
    "tags": []
   },
   "outputs": [
    {
     "data": {
      "image/png": "[encoded data removed]",
      "text/plain": [
       "<Figure size 576x288 with 1 Axes>"
      ]
     },
     "metadata": {
      "needs_background": "light"
     },
     "output_type": "display_data"
    }
   ],
   "source": [
    "# BarPlot for Sales per Outlet_Size\n",
    "plt.figure(figsize=(8,4))\n",
    "sns.barplot(data=train_df,x='Outlet_Size', y='Item_Outlet_Sales')\n",
    "plt.title('Sales based on Store Size')\n",
    "plt.xlabel('Store Sie')\n",
    "plt.ylabel('Sales')\n",
    "plt.legend()\n",
    "plt.show()"
   ]
  },
  {
   "cell_type": "code",
   "execution_count": 40,
   "id": "8919c290",
   "metadata": {
    "execution": {
     "iopub.execute_input": "2022-11-30T19:44:35.228720Z",
     "iopub.status.busy": "2022-11-30T19:44:35.227875Z",
     "iopub.status.idle": "2022-11-30T19:44:35.803300Z",
     "shell.execute_reply": "2022-11-30T19:44:35.801470Z"
    },
    "papermill": {
     "duration": 0.604971,
     "end_time": "2022-11-30T19:44:35.807148",
     "exception": false,
     "start_time": "2022-11-30T19:44:35.202177",
     "status": "completed"
    },
    "tags": []
   },
   "outputs": [
    {
     "data": {
      "image/png": "[encoded data removed]",
      "text/plain": [
       "<Figure size 720x288 with 1 Axes>"
      ]
     },
     "metadata": {
      "needs_background": "light"
     },
     "output_type": "display_data"
    }
   ],
   "source": [
    "# BarPlot for Sales per Outlet_Location_Type\n",
    "plt.figure(figsize=(10,4))\n",
    "sns.barplot(data=train_df,x='Outlet_Location_Type', y='Item_Outlet_Sales')\n",
    "plt.title('Sales based on Store location type ')\n",
    "plt.xlabel('Store location type')\n",
    "plt.ylabel('Sales')\n",
    "plt.legend()\n",
    "plt.show()"
   ]
  },
  {
   "cell_type": "markdown",
   "id": "3b855622",
   "metadata": {
    "papermill": {
     "duration": 0.021539,
     "end_time": "2022-11-30T19:44:35.851268",
     "exception": false,
     "start_time": "2022-11-30T19:44:35.829729",
     "status": "completed"
    },
    "tags": []
   },
   "source": [
    "### Realizations:\n",
    "* **Item_Type_Combined**: Based on Categories, **Food** has most Sells, But difference is very small.\n",
    "* **Outlet_Identifier**: **Outlet027** has most profitable, and **Outlet019** and **Outlet010** has least Sells. \n",
    "* **Outlet_Type**: Most Sells are through **SuperMarket Type3** surprisingly not **Type1**.\n",
    "* **Outlet_Size**: Sells are even in  **Medium** and **High** size Stores.\n",
    "* **Outlet_Location_Type**: Most sells are through **Tier3** and **Tier2**, **Tier2** is slightly higher."
   ]
  },
  {
   "cell_type": "markdown",
   "id": "9e4c0988",
   "metadata": {
    "execution": {
     "iopub.execute_input": "2022-11-30T19:22:30.799002Z",
     "iopub.status.busy": "2022-11-30T19:22:30.798622Z",
     "iopub.status.idle": "2022-11-30T19:22:30.806913Z",
     "shell.execute_reply": "2022-11-30T19:22:30.805328Z",
     "shell.execute_reply.started": "2022-11-30T19:22:30.798969Z"
    },
    "papermill": {
     "duration": 0.022538,
     "end_time": "2022-11-30T19:44:35.895715",
     "exception": false,
     "start_time": "2022-11-30T19:44:35.873177",
     "status": "completed"
    },
    "tags": []
   },
   "source": [
    "### Correlation Matrix"
   ]
  },
  {
   "cell_type": "code",
   "execution_count": 41,
   "id": "4c3228c7",
   "metadata": {
    "execution": {
     "iopub.execute_input": "2022-11-30T19:44:35.942082Z",
     "iopub.status.busy": "2022-11-30T19:44:35.941669Z",
     "iopub.status.idle": "2022-11-30T19:44:36.275709Z",
     "shell.execute_reply": "2022-11-30T19:44:36.274038Z"
    },
    "papermill": {
     "duration": 0.361052,
     "end_time": "2022-11-30T19:44:36.278692",
     "exception": false,
     "start_time": "2022-11-30T19:44:35.917640",
     "status": "completed"
    },
    "tags": []
   },
   "outputs": [
    {
     "data": {
      "text/plain": [
       "<AxesSubplot:>"
      ]
     },
     "execution_count": 41,
     "metadata": {},
     "output_type": "execute_result"
    },
    {
     "data": {
      "image/png": "[encoded data removed]",
      "text/plain": [
       "<Figure size 432x288 with 2 Axes>"
      ]
     },
     "metadata": {
      "needs_background": "light"
     },
     "output_type": "display_data"
    }
   ],
   "source": [
    "# Correlation Matrix\n",
    "sns.heatmap(train_df.corr(), cmap='rocket')\n"
   ]
  },
  {
   "cell_type": "markdown",
   "id": "ed98ed54",
   "metadata": {
    "papermill": {
     "duration": 0.024325,
     "end_time": "2022-11-30T19:44:36.328092",
     "exception": false,
     "start_time": "2022-11-30T19:44:36.303767",
     "status": "completed"
    },
    "tags": []
   },
   "source": [
    "* We can see **Item_Outlet_Sales** is highly correlated with **Item_MRP**"
   ]
  }
 ],
 "metadata": {
  "kernelspec": {
   "display_name": "Python 3",
   "language": "python",
   "name": "python3"
  },
  "language_info": {
   "codemirror_mode": {
    "name": "ipython",
    "version": 3
   },
   "file_extension": ".py",
   "mimetype": "text/x-python",
   "name": "python",
   "nbconvert_exporter": "python",
   "pygments_lexer": "ipython3",
   "version": "3.7.12"
  },
  "papermill": {
   "default_parameters": {},
   "duration": 22.31613,
   "end_time": "2022-11-30T19:44:37.376605",
   "environment_variables": {},
   "exception": null,
   "input_path": "__notebook__.ipynb",
   "output_path": "__notebook__.ipynb",
   "parameters": {},
   "start_time": "2022-11-30T19:44:15.060475",
   "version": "2.3.4"
  }
 },
 "nbformat": 4,
 "nbformat_minor": 5
}
